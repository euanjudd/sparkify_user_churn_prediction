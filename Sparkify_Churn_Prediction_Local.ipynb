{
 "cells": [
  {
   "cell_type": "code",
   "execution_count": 1,
   "metadata": {},
   "outputs": [],
   "source": [
    "from pyspark.sql import SparkSession, DataFrame\n",
    "from pyspark.ml import Pipeline\n",
    "from pyspark.sql.functions import when, col, count, from_unixtime, date_format, regexp_replace, datediff, lag, to_date, unix_timestamp, coalesce, lit, first, avg, sum, min, max, countDistinct, stddev, lead, expr, monotonically_increasing_id\n",
    "from pyspark.sql import functions as F\n",
    "from pyspark.ml.feature import VectorAssembler, StringIndexer, OneHotEncoder, StandardScaler\n",
    "from pyspark.sql.window import Window\n",
    "from pyspark.ml.classification import LogisticRegression, RandomForestClassifier, DecisionTreeClassifier, GBTClassifier, NaiveBayes, LinearSVC\n",
    "from pyspark.ml.evaluation import BinaryClassificationEvaluator, MulticlassClassificationEvaluator\n"
   ]
  },
  {
   "cell_type": "markdown",
   "metadata": {},
   "source": [
    "## Create a spark session"
   ]
  },
  {
   "cell_type": "code",
   "execution_count": 2,
   "metadata": {},
   "outputs": [
    {
     "name": "stderr",
     "output_type": "stream",
     "text": [
      "Setting default log level to \"WARN\".\n",
      "To adjust logging level use sc.setLogLevel(newLevel). For SparkR, use setLogLevel(newLevel).\n",
      "24/06/04 03:10:26 WARN NativeCodeLoader: Unable to load native-hadoop library for your platform... using builtin-java classes where applicable\n"
     ]
    }
   ],
   "source": [
    "spark = SparkSession.builder \\\n",
    "    .appName(\"Sparkify Data Analysis\") \\\n",
    "    .getOrCreate()"
   ]
  },
  {
   "cell_type": "markdown",
   "metadata": {},
   "source": [
    "# Read and show data"
   ]
  },
  {
   "cell_type": "code",
   "execution_count": 3,
   "metadata": {},
   "outputs": [
    {
     "name": "stderr",
     "output_type": "stream",
     "text": [
      "                                                                                \r"
     ]
    },
    {
     "name": "stdout",
     "output_type": "stream",
     "text": [
      "+--------------------+----------+---------+------+-------------+---------+----------+-----+--------------------+------+--------+-------------+---------+--------------------+------+-------------+--------------------+-------+\n",
      "|              artist|      auth|firstName|gender|itemInSession| lastName|    length|level|            location|method|    page| registration|sessionId|                song|status|           ts|           userAgent| userId|\n",
      "+--------------------+----------+---------+------+-------------+---------+----------+-----+--------------------+------+--------+-------------+---------+--------------------+------+-------------+--------------------+-------+\n",
      "|           Popol Vuh| Logged In|    Shlok|     M|          278|  Johnson| 524.32934| paid|Dallas-Fort Worth...|   PUT|NextSong|1533734541000|    22683|Ich mache einen S...|   200|1538352001000|\"Mozilla/5.0 (Win...|1749042|\n",
      "|         Los Bunkers| Logged In|  Vianney|     F|            9|   Miller| 238.39302| paid|San Francisco-Oak...|   PUT|NextSong|1537500318000|    20836|         MiÃÂ©ntele|   200|1538352002000|\"Mozilla/5.0 (Mac...|1563081|\n",
      "|                Lush| Logged In|     Vina|     F|          109|   Bailey| 140.35546| paid|            Hilo, HI|   PUT|NextSong|1536414505000|     4593|           Baby Talk|   200|1538352002000|Mozilla/5.0 (Maci...|1697168|\n",
      "|Barry Tuckwell/Ac...| Logged In|   Andres|     M|           71|    Foley| 277.15873| paid|       Watertown, SD|   PUT|NextSong|1534386660000|     6370|Horn Concerto No....|   200|1538352003000|\"Mozilla/5.0 (Mac...|1222580|\n",
      "|                 Yes| Logged In|  Aaliyah|     F|           21|  Ramirez|1121.25342| paid|Baltimore-Columbi...|   PUT|NextSong|1537381415000|    22316|Close To The Edge...|   200|1538352003000|\"Mozilla/5.0 (Win...|1714398|\n",
      "|                MGMT| Logged In|     Ryan|     M|            8| Williams| 229.25016| paid|Cape Coral-Fort M...|   PUT|NextSong|1537602560000|    23924|       Electric Feel|   200|1538352004000|\"Mozilla/5.0 (Win...|1010522|\n",
      "|   Animal Collective| Logged In|    Isaac|     M|            6|    Brown|  313.5473| free|          Kokomo, IN|   PUT|NextSong|1536563853000|     1746|              Bluish|   200|1538352005000|Mozilla/5.0 (Wind...|1475659|\n",
      "|              Eminem| Logged In| Jonathan|     M|           29|   Martin|  250.8273| free|New York-Newark-J...|   PUT|NextSong|1538069376000|    22483|         Mockingbird|   200|1538352006000|\"Mozilla/5.0 (Win...|1465194|\n",
      "|         Leona Lewis| Logged In| Jennifer|     F|            0|  Shelton| 203.88526| free|      Pittsburgh, PA|   PUT|NextSong|1536455539000|    25128|          Forgive Me|   200|1538352006000|\"Mozilla/5.0 (Win...|1558463|\n",
      "|     The Cranberries| Logged In|  Michael|     M|           13|    Riley| 183.87546| paid|Albany-Schenectad...|   PUT|NextSong|1533220062000|     3992|         The Concept|   200|1538352006000|\"Mozilla/5.0 (Win...|1605667|\n",
      "|        Mariah Carey| Logged In|    Azari|     M|           37|   Hansen|  265.9522| free|    Martinsville, VA|   PUT|NextSong|1534393835000|    14642|Anytime You Need ...|   200|1538352006000|\"Mozilla/5.0 (X11...|1385500|\n",
      "|Johnny Cash with ...| Logged In|    Riley|     F|          300|Hernandez| 199.81016| paid|         Reading, PA|   PUT|NextSong|1537618545000|    14853|   Nine Pound Hammer|   200|1538352006000|\"Mozilla/5.0 (Mac...|1032628|\n",
      "|            Gorillaz| Logged In|    Brian|     M|           73|    Allen| 131.91791| free|San Diego-Carlsba...|   PUT|NextSong|1537868758000|     2526|Don't Get Lost In...|   200|1538352007000|\"Mozilla/5.0 (Mac...|1901081|\n",
      "|     Los Prisioneros| Logged In|  Brayden|     M|           95|Armstrong| 248.78975| paid|Dallas-Fort Worth...|   PUT|NextSong|1534635513000|    23917|   La Voz De Los '80|   200|1538352007000|\"Mozilla/5.0 (Win...|1611729|\n",
      "|   The White Stripes| Logged In|   Brooke|     F|            6|    Kirby| 126.40608| paid|Los Angeles-Long ...|   PUT|NextSong|1531817572000|    14085|          Good To Me|   200|1538352008000|\"Mozilla/5.0 (Win...|1497881|\n",
      "|   Brigitte Fontaine| Logged In|  Caitlin|     F|          117|  Barnett| 355.57832| free|Philadelphia-Camd...|   PUT|NextSong|1528964849000|     2303|Ah Que La Vie Est...|   200|1538352008000|\"Mozilla/5.0 (Mac...|1413952|\n",
      "|      Alien Ant Farm| Logged In|   Aminah|     F|            8|    Payne|  204.7473| free|Virginia Beach-No...|   PUT|NextSong|1536761240000|    19434|                Wish|   200|1538352008000|Mozilla/5.0 (X11;...|1585800|\n",
      "|                null|Logged Out|     null|  null|           87|     null|      null| paid|                null|   GET|    Home|         null|     8615|                null|   200|1538352008000|                null|1261737|\n",
      "|                null| Logged In|  Valarie|     F|          206|    Moore|      null| paid|Los Angeles-Long ...|   GET|    Home|1537790336000|     2948|                null|   200|1538352008000|\"Mozilla/5.0 (Win...|1009070|\n",
      "|          Dan Mangan| Logged In|    Hanna|     F|           15|   Peters| 293.85098| free|Boston-Cambridge-...|   PUT|NextSong|1534217490000|     7804|Some Place To Com...|   200|1538352010000|\"Mozilla/5.0 (Win...|1041334|\n",
      "+--------------------+----------+---------+------+-------------+---------+----------+-----+--------------------+------+--------+-------------+---------+--------------------+------+-------------+--------------------+-------+\n",
      "only showing top 20 rows\n",
      "\n"
     ]
    }
   ],
   "source": [
    "# Path to your JSON file\n",
    "json_path = \"/app/data/sparkify_event_data.json\"\n",
    "\n",
    "# Read the JSON data into a DataFrame\n",
    "df_full = spark.read.json(json_path)\n",
    "# df_full.show()"
   ]
  },
  {
   "cell_type": "markdown",
   "metadata": {},
   "source": [
    "## Subset (balanced classes)\n",
    "- Use a subset of the data for cleaning, feature engineering and model selection.\n",
    "- An even number of userId's were selected for churning users (visited page==\"Cancellation Confirmation\" at least once) and users who never churn.\n",
    "- All sessionId's were selected for each of these selected userId's."
   ]
  },
  {
   "cell_type": "code",
   "execution_count": 12,
   "metadata": {},
   "outputs": [
    {
     "name": "stderr",
     "output_type": "stream",
     "text": [
      "                                                                                \r"
     ]
    },
    {
     "name": "stdout",
     "output_type": "stream",
     "text": [
      "+-------+--------------------+---------+---------+------+-------------+---------+---------+-----+--------------------+------+---------------+-------------+---------+--------------------+------+-------------+--------------------+\n",
      "| userId|              artist|     auth|firstName|gender|itemInSession| lastName|   length|level|            location|method|           page| registration|sessionId|                song|status|           ts|           userAgent|\n",
      "+-------+--------------------+---------+---------+------+-------------+---------+---------+-----+--------------------+------+---------------+-------------+---------+--------------------+------+-------------+--------------------+\n",
      "|1032628|Johnny Cash with ...|Logged In|    Riley|     F|          300|Hernandez|199.81016| paid|         Reading, PA|   PUT|       NextSong|1537618545000|    14853|   Nine Pound Hammer|   200|1538352006000|\"Mozilla/5.0 (Mac...|\n",
      "|1274097|Florence + The Ma...|Logged In|  Aaliyah|     F|          187|    Bauer|290.48118| paid|Atlanta-Sandy Spr...|   PUT|       NextSong|1537668511000|    23258|Rabbit Heart (Rai...|   200|1538352065000|\"Mozilla/5.0 (Win...|\n",
      "|1023234|            Galliano|Logged In|  Delaney|     F|           99|    Kelly|229.14567| free|Philadelphia-Camd...|   PUT|       NextSong|1537787873000|    22547|    Totally Together|   200|1538352078000|Mozilla/5.0 (Wind...|\n",
      "|1277353|          Nick Drake|Logged In|  Brayden|     M|            6|   Martin|124.62975| free|Spokane-Spokane V...|   PUT|       NextSong|1535789345000|    22698|           Pink Moon|   200|1538352085000|Mozilla/5.0 (Maci...|\n",
      "|1000353|         Morgan Page|Logged In|   Phoebe|     F|           42|Frederick|174.34077| paid|   Wichita Falls, TX|   PUT|       NextSong|1525261059000|    18819|         Coming Home|   200|1538352110000|\"Mozilla/5.0 (Win...|\n",
      "|1023234|                null|Logged In|  Delaney|     F|          100|    Kelly|     null| free|Philadelphia-Camd...|   PUT|Add to Playlist|1537787873000|    22547|                null|   200|1538352119000|Mozilla/5.0 (Wind...|\n",
      "|1681525|    MC 900 Ft. Jesus|Logged In|    Aiden|     M|           13|   Dunlap|331.31057| free|   Memphis, TN-MS-AR|   PUT|       NextSong|1534041903000|     4685|     The City Sleeps|   200|1538352139000|\"Mozilla/5.0 (Mac...|\n",
      "|1032628|           Rammstein|Logged In|    Riley|     F|          301|Hernandez|188.57751| paid|         Reading, PA|   PUT|       NextSong|1537618545000|    14853|          Feuer Frei|   200|1538352205000|\"Mozilla/5.0 (Mac...|\n",
      "|1277353|             Fonseca|Logged In|  Brayden|     M|            7|   Martin|239.25506| free|Spokane-Spokane V...|   PUT|       NextSong|1535789345000|    22698|         Hace Tiempo|   200|1538352209000|Mozilla/5.0 (Maci...|\n",
      "|1487256|        Ricky Martin|Logged In|  Anthony|     M|          144|    Jones| 309.4722| paid|      Great Bend, KS|   PUT|       NextSong|1534936699000|     8274|              Vuelve|   200|1538352234000|\"Mozilla/5.0 (Win...|\n",
      "|1015607|                null|Logged In|  Trystin|     M|           42|  Gardner|     null| free|Miami-Fort Lauder...|   GET|           Home|1537184709000|     6317|                null|   200|1538352270000|\"Mozilla/5.0 (Mac...|\n",
      "|1015607|                null|Logged In|  Trystin|     M|           43|  Gardner|     null| free|Miami-Fort Lauder...|   PUT|         Logout|1537184709000|     6317|                null|   307|1538352271000|\"Mozilla/5.0 (Mac...|\n",
      "|1000353|           Toy Dolls|Logged In|   Phoebe|     F|           43|Frederick|153.20771| paid|   Wichita Falls, TX|   PUT|       NextSong|1525261059000|    18819|         Idle Gossip|   200|1538352284000|\"Mozilla/5.0 (Win...|\n",
      "|1023234|             Mr Oizo|Logged In|  Delaney|     F|          101|    Kelly|326.47791| free|Philadelphia-Camd...|   PUT|       NextSong|1537787873000|    22547|               m-Seq|   200|1538352307000|Mozilla/5.0 (Wind...|\n",
      "|1487256|                null|Logged In|  Anthony|     M|          145|    Jones|     null| paid|      Great Bend, KS|   PUT|Add to Playlist|1534936699000|     8274|                null|   200|1538352320000|\"Mozilla/5.0 (Win...|\n",
      "|1274097|    Dick And Dee Dee|Logged In|  Aaliyah|     F|          188|    Bauer|135.96689| paid|Atlanta-Sandy Spr...|   PUT|       NextSong|1537668511000|    23258| The Mountain's High|   200|1538352355000|\"Mozilla/5.0 (Win...|\n",
      "|1032628|       Kings Of Leon|Logged In|    Riley|     F|          302|Hernandez|201.79546| paid|         Reading, PA|   PUT|       NextSong|1537618545000|    14853|             Revelry|   200|1538352393000|\"Mozilla/5.0 (Mac...|\n",
      "|1032628|                null|Logged In|    Riley|     F|          303|Hernandez|     null| paid|         Reading, PA|   PUT|      Thumbs Up|1537618545000|    14853|                null|   307|1538352394000|\"Mozilla/5.0 (Mac...|\n",
      "|1000353|       Easton Corbin|Logged In|   Phoebe|     F|           44|Frederick|245.15873| paid|   Wichita Falls, TX|   PUT|       NextSong|1525261059000|    18819|I Can't Love You ...|   200|1538352437000|\"Mozilla/5.0 (Win...|\n",
      "|1000353|                null|Logged In|   Phoebe|     F|           45|Frederick|     null| paid|   Wichita Falls, TX|   PUT|      Thumbs Up|1525261059000|    18819|                null|   307|1538352438000|\"Mozilla/5.0 (Win...|\n",
      "+-------+--------------------+---------+---------+------+-------------+---------+---------+-----+--------------------+------+---------------+-------------+---------+--------------------+------+-------------+--------------------+\n",
      "only showing top 20 rows\n",
      "\n"
     ]
    },
    {
     "name": "stderr",
     "output_type": "stream",
     "text": [
      "[Stage 197:===================================================>   (17 + 1) / 18]\r"
     ]
    },
    {
     "name": "stdout",
     "output_type": "stream",
     "text": [
      "Total sampled records: 23030\n"
     ]
    },
    {
     "name": "stderr",
     "output_type": "stream",
     "text": [
      "                                                                                \r"
     ]
    }
   ],
   "source": [
    "users_per_class = 10\n",
    "\n",
    "# Find users with at least one 'Cancellation Confirmation'\n",
    "users_with_cancellation = df_full \\\n",
    "    .filter(df_full.page == \"Cancellation Confirmation\") \\\n",
    "    .select(\"userId\") \\\n",
    "    .distinct() \\\n",
    "    .limit(users_per_class)\n",
    "\n",
    "# Find users without 'Cancellation Confirmation'\n",
    "users_without_cancellation = df_full \\\n",
    "    .groupBy(\"userId\") \\\n",
    "    .agg(F.collect_set(\"page\").alias(\"pages\")) \\\n",
    "    .filter(~F.array_contains(F.col(\"pages\"), \"Cancellation Confirmation\")) \\\n",
    "    .select(\"userId\") \\\n",
    "    .limit(users_per_class)\n",
    "\n",
    "# Combine the two DataFrames\n",
    "combined_users = users_with_cancellation.union(users_without_cancellation).distinct()\n",
    "\n",
    "# Join with the original DataFrame to get all rows for these users\n",
    "full_data_for_relevant_users = df_full.join(combined_users, \"userId\", \"inner\")\n",
    "\n",
    "# Sort by timestamp or any other column if needed\n",
    "df_balanced_subset = full_data_for_relevant_users.orderBy(\"ts\")\n",
    "df_balanced_subset.show()\n",
    "print(\"Total sampled records:\", df_balanced_subset.count())"
   ]
  },
  {
   "cell_type": "markdown",
   "metadata": {},
   "source": [
    "## Subset (imbalanced classes)"
   ]
  },
  {
   "cell_type": "code",
   "execution_count": 10,
   "metadata": {},
   "outputs": [
    {
     "name": "stderr",
     "output_type": "stream",
     "text": [
      "[Stage 148:===================================================>   (17 + 1) / 18]\r"
     ]
    },
    {
     "name": "stdout",
     "output_type": "stream",
     "text": [
      "Total sampled records: 471880\n"
     ]
    },
    {
     "name": "stderr",
     "output_type": "stream",
     "text": [
      "                                                                                \r"
     ]
    }
   ],
   "source": [
    "# # Sample 10% of the data randomly without replacement\n",
    "# fraction = 0.1\n",
    "# df_imbalanced_subset = df_full.sample(False, fraction)\n",
    "# print(\"Total sampled records:\", df_imbalanced_subset.count())"
   ]
  },
  {
   "cell_type": "markdown",
   "metadata": {},
   "source": [
    "## Print data schema"
   ]
  },
  {
   "cell_type": "code",
   "execution_count": 5,
   "metadata": {},
   "outputs": [
    {
     "name": "stdout",
     "output_type": "stream",
     "text": [
      "root\n",
      " |-- artist: string (nullable = true)\n",
      " |-- auth: string (nullable = true)\n",
      " |-- firstName: string (nullable = true)\n",
      " |-- gender: string (nullable = true)\n",
      " |-- itemInSession: long (nullable = true)\n",
      " |-- lastName: string (nullable = true)\n",
      " |-- length: double (nullable = true)\n",
      " |-- level: string (nullable = true)\n",
      " |-- location: string (nullable = true)\n",
      " |-- method: string (nullable = true)\n",
      " |-- page: string (nullable = true)\n",
      " |-- registration: long (nullable = true)\n",
      " |-- sessionId: long (nullable = true)\n",
      " |-- song: string (nullable = true)\n",
      " |-- status: long (nullable = true)\n",
      " |-- ts: long (nullable = true)\n",
      " |-- userAgent: string (nullable = true)\n",
      " |-- userId: string (nullable = true)\n",
      "\n"
     ]
    },
    {
     "name": "stderr",
     "output_type": "stream",
     "text": [
      "[Stage 2:=====================================================>   (17 + 1) / 18]\r"
     ]
    },
    {
     "name": "stdout",
     "output_type": "stream",
     "text": [
      "Total sampled records: 94150\n"
     ]
    },
    {
     "name": "stderr",
     "output_type": "stream",
     "text": [
      "                                                                                \r"
     ]
    }
   ],
   "source": [
    "df_balanced_subset.printSchema()\n",
    "print(\"Total sampled records:\", df_balanced_subset.count())"
   ]
  },
  {
   "cell_type": "markdown",
   "metadata": {},
   "source": [
    "## Frequency of values in categorical columns"
   ]
  },
  {
   "cell_type": "code",
   "execution_count": 6,
   "metadata": {},
   "outputs": [
    {
     "name": "stderr",
     "output_type": "stream",
     "text": [
      "                                                                                \r"
     ]
    },
    {
     "name": "stdout",
     "output_type": "stream",
     "text": [
      "+----------+-----+\n",
      "|auth      |count|\n",
      "+----------+-----+\n",
      "|Logged In |91153|\n",
      "|Logged Out|2976 |\n",
      "|Cancelled |14   |\n",
      "|Guest     |7    |\n",
      "+----------+-----+\n",
      "\n"
     ]
    },
    {
     "name": "stderr",
     "output_type": "stream",
     "text": [
      "                                                                                \r"
     ]
    },
    {
     "name": "stdout",
     "output_type": "stream",
     "text": [
      "+------+-----+\n",
      "|gender|count|\n",
      "+------+-----+\n",
      "|M     |47934|\n",
      "|F     |43233|\n",
      "|null  |2983 |\n",
      "+------+-----+\n",
      "\n"
     ]
    },
    {
     "name": "stderr",
     "output_type": "stream",
     "text": [
      "                                                                                \r"
     ]
    },
    {
     "name": "stdout",
     "output_type": "stream",
     "text": [
      "+-----+-----+\n",
      "|level|count|\n",
      "+-----+-----+\n",
      "|paid |65380|\n",
      "|free |28770|\n",
      "+-----+-----+\n",
      "\n"
     ]
    },
    {
     "name": "stderr",
     "output_type": "stream",
     "text": [
      "                                                                                \r"
     ]
    },
    {
     "name": "stdout",
     "output_type": "stream",
     "text": [
      "+------+-----+\n",
      "|method|count|\n",
      "+------+-----+\n",
      "|PUT   |84902|\n",
      "|GET   |9248 |\n",
      "+------+-----+\n",
      "\n"
     ]
    },
    {
     "name": "stderr",
     "output_type": "stream",
     "text": [
      "                                                                                \r"
     ]
    },
    {
     "name": "stdout",
     "output_type": "stream",
     "text": [
      "+-------------------------+-----+\n",
      "|page                     |count|\n",
      "+-------------------------+-----+\n",
      "|NextSong                 |74523|\n",
      "|Home                     |5026 |\n",
      "|Thumbs Up                |3681 |\n",
      "|Add to Playlist          |2137 |\n",
      "|Roll Advert              |1718 |\n",
      "|Add Friend               |1375 |\n",
      "|Login                    |1139 |\n",
      "|Logout                   |1090 |\n",
      "|Thumbs Down              |760  |\n",
      "|Help                     |631  |\n",
      "|Downgrade                |594  |\n",
      "|Settings                 |550  |\n",
      "|About                    |357  |\n",
      "|Upgrade                  |270  |\n",
      "|Save Settings            |107  |\n",
      "|Error                    |86   |\n",
      "|Submit Upgrade           |63   |\n",
      "|Cancellation Confirmation|14   |\n",
      "|Submit Downgrade         |14   |\n",
      "|Cancel                   |13   |\n",
      "|Register                 |2    |\n",
      "+-------------------------+-----+\n",
      "\n"
     ]
    },
    {
     "name": "stderr",
     "output_type": "stream",
     "text": [
      "                                                                                \r"
     ]
    },
    {
     "name": "stdout",
     "output_type": "stream",
     "text": [
      "+------+-----+\n",
      "|status|count|\n",
      "+------+-----+\n",
      "|200   |85822|\n",
      "|307   |8242 |\n",
      "|404   |86   |\n",
      "+------+-----+\n",
      "\n"
     ]
    },
    {
     "name": "stderr",
     "output_type": "stream",
     "text": [
      "[Stage 44:====================================================>   (17 + 1) / 18]\r"
     ]
    },
    {
     "name": "stdout",
     "output_type": "stream",
     "text": [
      "+-----------------------------------------------------------------------------------------------------------------------------------------------+-----+\n",
      "|userAgent                                                                                                                                      |count|\n",
      "+-----------------------------------------------------------------------------------------------------------------------------------------------+-----+\n",
      "|\"Mozilla/5.0 (Windows NT 6.1; WOW64) AppleWebKit/537.36 (KHTML, like Gecko) Chrome/36.0.1985.143 Safari/537.36\"                                |8711 |\n",
      "|Mozilla/5.0 (Windows NT 6.1; WOW64; rv:31.0) Gecko/20100101 Firefox/31.0                                                                       |6940 |\n",
      "|\"Mozilla/5.0 (Windows NT 6.1; WOW64) AppleWebKit/537.36 (KHTML, like Gecko) Chrome/36.0.1985.125 Safari/537.36\"                                |5617 |\n",
      "|\"Mozilla/5.0 (Macintosh; Intel Mac OS X 10_9_4) AppleWebKit/537.36 (KHTML, like Gecko) Chrome/36.0.1985.143 Safari/537.36\"                     |5573 |\n",
      "|\"Mozilla/5.0 (Macintosh; Intel Mac OS X 10_9_4) AppleWebKit/537.78.2 (KHTML, like Gecko) Version/7.0.6 Safari/537.78.2\"                        |4986 |\n",
      "|\"Mozilla/5.0 (Macintosh; Intel Mac OS X 10_9_4) AppleWebKit/537.36 (KHTML, like Gecko) Chrome/36.0.1985.125 Safari/537.36\"                     |4410 |\n",
      "|\"Mozilla/5.0 (Macintosh; Intel Mac OS X 10_9_4) AppleWebKit/537.77.4 (KHTML, like Gecko) Version/7.0.5 Safari/537.77.4\"                        |4358 |\n",
      "|Mozilla/5.0 (Macintosh; Intel Mac OS X 10.9; rv:31.0) Gecko/20100101 Firefox/31.0                                                              |3950 |\n",
      "|\"Mozilla/5.0 (Macintosh; Intel Mac OS X 10_9_4) AppleWebKit/537.36 (KHTML, like Gecko) Chrome/37.0.2062.94 Safari/537.36\"                      |3694 |\n",
      "|\"Mozilla/5.0 (Windows NT 6.3; WOW64) AppleWebKit/537.36 (KHTML, like Gecko) Chrome/36.0.1985.143 Safari/537.36\"                                |3208 |\n",
      "|null                                                                                                                                           |2983 |\n",
      "|\"Mozilla/5.0 (Windows NT 6.3; WOW64) AppleWebKit/537.36 (KHTML, like Gecko) Chrome/36.0.1985.125 Safari/537.36\"                                |2185 |\n",
      "|Mozilla/5.0 (Windows NT 6.1; WOW64; Trident/7.0; rv:11.0) like Gecko                                                                           |2098 |\n",
      "|\"Mozilla/5.0 (iPhone; CPU iPhone OS 7_1_2 like Mac OS X) AppleWebKit/537.51.2 (KHTML, like Gecko) Version/7.0 Mobile/11D257 Safari/9537.53\"    |2051 |\n",
      "|Mozilla/5.0 (Windows NT 6.3; WOW64; rv:31.0) Gecko/20100101 Firefox/31.0                                                                       |1981 |\n",
      "|\"Mozilla/5.0 (Windows NT 6.1) AppleWebKit/537.36 (KHTML, like Gecko) Chrome/36.0.1985.143 Safari/537.36\"                                       |1715 |\n",
      "|Mozilla/5.0 (X11; Ubuntu; Linux x86_64; rv:31.0) Gecko/20100101 Firefox/31.0                                                                   |1419 |\n",
      "|Mozilla/5.0 (Windows NT 6.1; rv:31.0) Gecko/20100101 Firefox/31.0                                                                              |1195 |\n",
      "|\"Mozilla/5.0 (iPad; CPU OS 7_1_2 like Mac OS X) AppleWebKit/537.51.2 (KHTML, like Gecko) Version/7.0 Mobile/11D257 Safari/9537.53\"             |1081 |\n",
      "|\"Mozilla/5.0 (Windows NT 6.1) AppleWebKit/537.36 (KHTML, like Gecko) Chrome/36.0.1985.125 Safari/537.36\"                                       |1065 |\n",
      "|\"Mozilla/5.0 (X11; Linux x86_64) AppleWebKit/537.36 (KHTML, like Gecko) Chrome/36.0.1985.143 Safari/537.36\"                                    |878  |\n",
      "|\"Mozilla/5.0 (X11; Linux x86_64) AppleWebKit/537.36 (KHTML, like Gecko) Chrome/36.0.1985.125 Safari/537.36\"                                    |831  |\n",
      "|\"Mozilla/5.0 (Windows NT 6.1; WOW64) AppleWebKit/537.36 (KHTML, like Gecko) Chrome/37.0.2062.103 Safari/537.36\"                                |789  |\n",
      "|Mozilla/5.0 (Windows NT 5.1; rv:31.0) Gecko/20100101 Firefox/31.0                                                                              |755  |\n",
      "|Mozilla/5.0 (Windows NT 6.3; WOW64; Trident/7.0; rv:11.0) like Gecko                                                                           |719  |\n",
      "|\"Mozilla/5.0 (iPhone; CPU iPhone OS 7_1_1 like Mac OS X) AppleWebKit/537.51.2 (KHTML, like Gecko) Version/7.0 Mobile/11D201 Safari/9537.53\"    |651  |\n",
      "|\"Mozilla/5.0 (Windows NT 6.1; WOW64) AppleWebKit/537.36 (KHTML, like Gecko) Chrome/37.0.2062.94 Safari/537.36\"                                 |650  |\n",
      "|\"Mozilla/5.0 (Windows NT 6.2; WOW64) AppleWebKit/537.36 (KHTML, like Gecko) Chrome/36.0.1985.143 Safari/537.36\"                                |640  |\n",
      "|\"Mozilla/5.0 (Macintosh; Intel Mac OS X 10_9_3) AppleWebKit/537.36 (KHTML, like Gecko) Chrome/36.0.1985.125 Safari/537.36\"                     |598  |\n",
      "|\"Mozilla/5.0 (Macintosh; Intel Mac OS X 10_6_8) AppleWebKit/534.59.10 (KHTML, like Gecko) Version/5.1.9 Safari/534.59.10\"                      |596  |\n",
      "|\"Mozilla/5.0 (X11; Linux x86_64) AppleWebKit/537.36 (KHTML, like Gecko) Ubuntu Chromium/36.0.1985.125 Chrome/36.0.1985.125 Safari/537.36\"      |564  |\n",
      "|Mozilla/5.0 (Windows NT 6.2; WOW64; rv:31.0) Gecko/20100101 Firefox/31.0                                                                       |550  |\n",
      "|Mozilla/5.0 (Macintosh; Intel Mac OS X 10.8; rv:31.0) Gecko/20100101 Firefox/31.0                                                              |548  |\n",
      "|Mozilla/5.0 (X11; Linux x86_64; rv:31.0) Gecko/20100101 Firefox/31.0                                                                           |509  |\n",
      "|Mozilla/5.0 (Windows NT 6.1; WOW64; rv:30.0) Gecko/20100101 Firefox/30.0                                                                       |498  |\n",
      "|\"Mozilla/5.0 (Windows NT 6.2; WOW64) AppleWebKit/537.36 (KHTML, like Gecko) Chrome/36.0.1985.125 Safari/537.36\"                                |490  |\n",
      "|\"Mozilla/5.0 (Macintosh; Intel Mac OS X 10_10) AppleWebKit/600.1.8 (KHTML, like Gecko) Version/8.0 Safari/600.1.8\"                             |473  |\n",
      "|\"Mozilla/5.0 (Windows NT 5.1) AppleWebKit/537.36 (KHTML, like Gecko) Chrome/36.0.1985.143 Safari/537.36\"                                       |470  |\n",
      "|Mozilla/5.0 (Macintosh; Intel Mac OS X 10.6; rv:31.0) Gecko/20100101 Firefox/31.0                                                              |455  |\n",
      "|Mozilla/5.0 (compatible; MSIE 10.0; Windows NT 6.1; WOW64; Trident/6.0)                                                                        |453  |\n",
      "|\"Mozilla/5.0 (Macintosh; Intel Mac OS X 10_8_5) AppleWebKit/537.36 (KHTML, like Gecko) Chrome/36.0.1985.125 Safari/537.36\"                     |439  |\n",
      "|\"Mozilla/5.0 (Macintosh; Intel Mac OS X 10_8_5) AppleWebKit/537.36 (KHTML, like Gecko) Chrome/36.0.1985.143 Safari/537.36\"                     |434  |\n",
      "|\"Mozilla/5.0 (Macintosh; Intel Mac OS X 10_9_3) AppleWebKit/537.36 (KHTML, like Gecko) Chrome/37.0.2062.94 Safari/537.36\"                      |420  |\n",
      "|\"Mozilla/5.0 (Windows NT 6.1; WOW64) AppleWebKit/537.36 (KHTML, like Gecko) Chrome/37.0.2062.102 Safari/537.36\"                                |412  |\n",
      "|Mozilla/5.0 (compatible; MSIE 9.0; Windows NT 6.1; WOW64; Trident/5.0)                                                                         |406  |\n",
      "|\"Mozilla/5.0 (X11; Linux x86_64) AppleWebKit/537.36 (KHTML, like Gecko) Chrome/37.0.2062.94 Safari/537.36\"                                     |402  |\n",
      "|\"Mozilla/5.0 (Macintosh; Intel Mac OS X 10_9_2) AppleWebKit/537.36 (KHTML, like Gecko) Chrome/36.0.1985.143 Safari/537.36\"                     |401  |\n",
      "|\"Mozilla/5.0 (Windows NT 5.1) AppleWebKit/537.36 (KHTML, like Gecko) Chrome/36.0.1985.125 Safari/537.36\"                                       |384  |\n",
      "|\"Mozilla/5.0 (Macintosh; Intel Mac OS X 10_10) AppleWebKit/538.46 (KHTML, like Gecko) Version/8.0 Safari/538.46\"                               |366  |\n",
      "|\"Mozilla/5.0 (Macintosh; Intel Mac OS X 10_9_3) AppleWebKit/537.36 (KHTML, like Gecko) Chrome/36.0.1985.143 Safari/537.36\"                     |359  |\n",
      "|\"Mozilla/5.0 (Macintosh; Intel Mac OS X 10_9_2) AppleWebKit/537.36 (KHTML, like Gecko) Chrome/36.0.1985.125 Safari/537.36\"                     |358  |\n",
      "|\"Mozilla/5.0 (Windows NT 6.3; WOW64) AppleWebKit/537.36 (KHTML, like Gecko) Chrome/37.0.2062.94 Safari/537.36\"                                 |343  |\n",
      "|Mozilla/5.0 (Windows NT 6.1; Trident/7.0; rv:11.0) like Gecko                                                                                  |339  |\n",
      "|\"Mozilla/5.0 (Macintosh; Intel Mac OS X 10_9_2) AppleWebKit/537.36 (KHTML, like Gecko) Chrome/37.0.2062.94 Safari/537.36\"                      |335  |\n",
      "|Mozilla/5.0 (Macintosh; Intel Mac OS X 10.7; rv:31.0) Gecko/20100101 Firefox/31.0                                                              |326  |\n",
      "|\"Mozilla/5.0 (X11; Linux x86_64) AppleWebKit/537.36 (KHTML, like Gecko) Chrome/35.0.1916.153 Safari/537.36\"                                    |326  |\n",
      "|\"Mozilla/5.0 (Macintosh; Intel Mac OS X 10_9_4) AppleWebKit/537.36 (KHTML, like Gecko) Chrome/35.0.1916.153 Safari/537.36\"                     |297  |\n",
      "|Mozilla/5.0 (Windows NT 6.1; WOW64; rv:32.0) Gecko/20100101 Firefox/32.0                                                                       |294  |\n",
      "|\"Mozilla/5.0 (iPad; CPU OS 7_1_1 like Mac OS X) AppleWebKit/537.51.2 (KHTML, like Gecko) Version/7.0 Mobile/11D201 Safari/9537.53\"             |291  |\n",
      "|\"Mozilla/5.0 (Macintosh; Intel Mac OS X 10_8_5) AppleWebKit/537.77.4 (KHTML, like Gecko) Version/6.1.5 Safari/537.77.4\"                        |276  |\n",
      "|\"Mozilla/5.0 (Windows NT 6.1; WOW64) AppleWebKit/537.36 (KHTML, like Gecko) Chrome/35.0.1916.153 Safari/537.36\"                                |276  |\n",
      "|\"Mozilla/5.0 (Macintosh; Intel Mac OS X 10_10_0) AppleWebKit/537.36 (KHTML, like Gecko) Chrome/36.0.1985.125 Safari/537.36\"                    |272  |\n",
      "|\"Mozilla/5.0 (iPhone; CPU iPhone OS 7_1 like Mac OS X) AppleWebKit/537.51.2 (KHTML, like Gecko) Version/7.0 Mobile/11D167 Safari/9537.53\"      |267  |\n",
      "|Mozilla/5.0 (X11; Ubuntu; Linux x86_64; rv:30.0) Gecko/20100101 Firefox/30.0                                                                   |266  |\n",
      "|Mozilla/5.0 (X11; Ubuntu; Linux i686; rv:31.0) Gecko/20100101 Firefox/31.0                                                                     |264  |\n",
      "|\"Mozilla/5.0 (iPhone; CPU iPhone OS 7_1_2 like Mac OS X) AppleWebKit/537.51.1 (KHTML, like Gecko) GSA/4.1.0.31802 Mobile/11D257 Safari/9537.53\"|259  |\n",
      "|Mozilla/5.0 (Windows NT 6.1; WOW64; rv:24.0) Gecko/20100101 Firefox/24.0                                                                       |254  |\n",
      "|\"Mozilla/5.0 (Macintosh; Intel Mac OS X 10_10_0) AppleWebKit/537.36 (KHTML, like Gecko) Chrome/37.0.2062.94 Safari/537.36\"                     |248  |\n",
      "|\"Mozilla/5.0 (Macintosh; Intel Mac OS X 10_7_5) AppleWebKit/537.77.4 (KHTML, like Gecko) Version/6.1.5 Safari/537.77.4\"                        |247  |\n",
      "|\"Mozilla/5.0 (Macintosh; Intel Mac OS X 10_7_5) AppleWebKit/537.36 (KHTML, like Gecko) Chrome/36.0.1985.143 Safari/537.36\"                     |244  |\n",
      "|\"Mozilla/5.0 (Macintosh; Intel Mac OS X 10_7_5) AppleWebKit/537.36 (KHTML, like Gecko) Chrome/36.0.1985.125 Safari/537.36\"                     |240  |\n",
      "|\"Mozilla/5.0 (Macintosh; Intel Mac OS X 10_9_3) AppleWebKit/537.75.14 (KHTML, like Gecko) Version/7.0.3 Safari/537.75.14\"                      |240  |\n",
      "|\"Mozilla/5.0 (Macintosh; Intel Mac OS X 10_10_0) AppleWebKit/537.36 (KHTML, like Gecko) Chrome/36.0.1985.143 Safari/537.36\"                    |230  |\n",
      "|\"Mozilla/5.0 (Macintosh; Intel Mac OS X 10_9_2) AppleWebKit/537.75.14 (KHTML, like Gecko) Version/7.0.3 Safari/537.75.14\"                      |226  |\n",
      "|\"Mozilla/5.0 (Macintosh; Intel Mac OS X 10_9_2) AppleWebKit/537.74.9 (KHTML, like Gecko) Version/7.0.2 Safari/537.74.9\"                        |225  |\n",
      "|Mozilla/5.0 (Macintosh; Intel Mac OS X 10.9; rv:30.0) Gecko/20100101 Firefox/30.0                                                              |222  |\n",
      "|\"Mozilla/5.0 (X11; Linux x86_64) AppleWebKit/537.36 (KHTML, like Gecko) Ubuntu Chromium/34.0.1847.116 Chrome/34.0.1847.116 Safari/537.36\"      |210  |\n",
      "|Mozilla/5.0 (compatible; MSIE 9.0; Windows NT 6.1; Trident/5.0)                                                                                |199  |\n",
      "|Mozilla/5.0 (Windows NT 6.1; WOW64; rv:29.0) Gecko/20100101 Firefox/29.0                                                                       |182  |\n",
      "|\"Mozilla/5.0 (Macintosh; Intel Mac OS X 10_8_5) AppleWebKit/537.36 (KHTML, like Gecko) Chrome/37.0.2062.94 Safari/537.36\"                      |177  |\n",
      "|Mozilla/5.0 (Windows NT 6.0; rv:31.0) Gecko/20100101 Firefox/31.0                                                                              |168  |\n",
      "|Mozilla/5.0 (compatible; MSIE 10.0; Windows NT 6.2; WOW64; Trident/6.0)                                                                        |162  |\n",
      "|\"Mozilla/5.0 (Macintosh; Intel Mac OS X 10_7_5) AppleWebKit/537.78.2 (KHTML, like Gecko) Version/6.1.6 Safari/537.78.2\"                        |155  |\n",
      "|\"Mozilla/5.0 (Macintosh; Intel Mac OS X 10_9_3) AppleWebKit/537.76.4 (KHTML, like Gecko) Version/7.0.4 Safari/537.76.4\"                        |146  |\n",
      "|\"Mozilla/5.0 (Macintosh; Intel Mac OS X 10_6_8) AppleWebKit/537.36 (KHTML, like Gecko) Chrome/36.0.1985.143 Safari/537.36\"                     |116  |\n",
      "|\"Mozilla/5.0 (Macintosh; Intel Mac OS X 10_10) AppleWebKit/600.1.3 (KHTML, like Gecko) Version/8.0 Safari/600.1.3\"                             |110  |\n",
      "+-----------------------------------------------------------------------------------------------------------------------------------------------+-----+\n",
      "\n"
     ]
    },
    {
     "name": "stderr",
     "output_type": "stream",
     "text": [
      "                                                                                \r"
     ]
    }
   ],
   "source": [
    "for column in ['auth', 'gender', 'level', 'method', 'page', 'status', 'userAgent']:\n",
    "    df_balanced_subset.groupBy(column).count().orderBy(col(\"count\").desc()).show(df_imbalanced_subset.count(), truncate=False)"
   ]
  },
  {
   "cell_type": "markdown",
   "metadata": {},
   "source": [
    "# Check columns for null values"
   ]
  },
  {
   "cell_type": "code",
   "execution_count": null,
   "metadata": {},
   "outputs": [],
   "source": [
    "# check for null values\n",
    "null_counts = [count(when(col(c).isNull(), c)).alias(c) for c in df_balanced_subset.columns]\n",
    "df_nulls = df_balanced_subset.agg(*null_counts)\n",
    "df_nulls.show()"
   ]
  },
  {
   "cell_type": "markdown",
   "metadata": {},
   "source": [
    "# Clean data\n",
    "- Drop features that are not needed.\n",
    "- Deal with null values.\n",
    "- Exclude customers that have never been in the paid tier."
   ]
  },
  {
   "cell_type": "code",
   "execution_count": 28,
   "metadata": {},
   "outputs": [],
   "source": [
    "def data_cleaning(input_df: DataFrame) -> DataFrame:\n",
    "\n",
    "    # Remove unnecessary columns and columns that are too high dimensional to be both OneHotEncoded and useful.\n",
    "    cleaned_df = input_df.drop(\"auth\", \"firstName\", \"lastName\", \"method\", \"artist\", \"location\")\n",
    "    \n",
    "    # Only keep OS information from 'userAgent'\n",
    "    cleaned_df = cleaned_df.withColumn('userAgent', \n",
    "                   when(col('userAgent').contains('Mac'), 'Mac')\n",
    "                   .when(col('userAgent').contains('Windows'), 'Windows')\n",
    "                   .when(col('userAgent').contains('Linux'), 'Linux')\n",
    "                   .otherwise('Other'))\n",
    "    \n",
    "    # Fill null values as the absence of a value can sometimes be predictive.\n",
    "    fill_values = {\n",
    "        \"gender\": \"Missing\",\n",
    "        \"userAgent\": \"Missing\",\n",
    "        \"length\": 0\n",
    "    }\n",
    "    cleaned_df = cleaned_df.na.fill(fill_values)\n",
    "\n",
    "    # Remove the small number of users that do not have \"registration\" data.\n",
    "    cleaned_df = cleaned_df.filter(col(\"registration\").isNotNull())\n",
    "\n",
    "    ## Keep non-null and users who have been on the paid tier at least once. We are only interested in the churn of paid users.\n",
    "    paid_users_filter = (col(\"level\") == 'paid') & col(\"userId\").isNotNull()\n",
    "    df_paid_users = cleaned_df.filter(paid_users_filter).select(\"userId\").distinct()\n",
    "\n",
    "    result_df = cleaned_df.join(df_paid_users, on=\"userId\", how=\"inner\")\n",
    "\n",
    "    return result_df\n",
    "\n"
   ]
  },
  {
   "cell_type": "markdown",
   "metadata": {},
   "source": [
    "# Feature Engineering\n",
    "- Aggrigate session data as session level data and statistics is likely more useful, e.g. interval between sessions, average session length and song count, etc."
   ]
  },
  {
   "cell_type": "code",
   "execution_count": 48,
   "metadata": {},
   "outputs": [],
   "source": [
    "def aggregate_session_data(input_df: DataFrame) -> DataFrame:\n",
    "    return input_df.groupBy(\"sessionId\").agg(\n",
    "        first(\"gender\").alias(\"gender\"),\n",
    "        max(\"itemInSession\").alias(\"itemInSession\"),\n",
    "        sum(\"length\").alias(\"length\"),\n",
    "        first(\"level\").alias(\"level\"),\n",
    "        first(\"registration\").alias(\"registration\"),\n",
    "        min(\"ts\").alias(\"ts\"),\n",
    "        first(\"userAgent\").alias(\"userAgent\"),\n",
    "        first(\"userId\").alias(\"userId\"),\n",
    "        count(when(col(\"song\").isNotNull(), True)).alias(\"numberOfSongs\")\n",
    "    )\n",
    "\n",
    "def add_user_session_stats(input_df: DataFrame) -> DataFrame:\n",
    "    user_session_stats = input_df.groupBy(\"userId\").agg(\n",
    "        avg(\"length\").alias(\"avg_session_length\"),\n",
    "        countDistinct(\"sessionId\").alias(\"total_sessions\"),\n",
    "        avg(\"numberOfSongs\").alias(\"avg_songs_per_session\")\n",
    "    )\n",
    "    return input_df.join(user_session_stats, \"userId\")\n",
    "\n",
    "def calculate_deviation_features(input_df: DataFrame) -> DataFrame:\n",
    "    return input_df.withColumn(\"deviation_from_avg_length\", col(\"length\") - col(\"avg_session_length\"))\\\n",
    "             .withColumn(\"deviation_from_avg_songs\", col(\"numberOfSongs\") - col(\"avg_songs_per_session\"))\n",
    "\n",
    "def pivot_page_and_status_counts(input_df: DataFrame) -> DataFrame:\n",
    "    page_counts = input_df.groupBy(\"sessionId\").pivot(\"page\").count().na.fill(0)\n",
    "    status_counts = input_df.groupBy(\"sessionId\").pivot(\"status\").count().na.fill(0)\n",
    "    return page_counts, status_counts\n",
    "\n",
    "def add_human_readable_dates(input_df: DataFrame) -> DataFrame:\n",
    "    return input_df.withColumn('registration_date', from_unixtime(col('registration') / 1000).cast('timestamp'))\\\n",
    "             .withColumn('activity_date', from_unixtime(col('ts') / 1000).cast('timestamp'))\\\n",
    "             .drop(\"ts\", \"registration\")\n",
    "\n",
    "def calculate_tenure_and_recency(input_df: DataFrame) -> DataFrame:\n",
    "    user_window = Window.partitionBy(\"userId\").orderBy(\"activity_date\")\n",
    "    input_df = input_df.withColumn('tenure', datediff(to_date(col('activity_date')), to_date(col('registration_date'))))\n",
    "    input_df = input_df.withColumn('previous_activity_date', lag('activity_date').over(user_window))\n",
    "    input_df = input_df.withColumn('activity_recency', (unix_timestamp('activity_date') - unix_timestamp('previous_activity_date')) / 60)\n",
    "    input_df = input_df.drop('previous_activity_date')\n",
    "    return input_df.withColumn('activity_recency', coalesce(col('activity_recency'), lit(0)))\n",
    "\n",
    "def calculate_session_interval_stats(input_df: DataFrame) -> DataFrame:\n",
    "    return input_df.groupBy(\"userId\").agg(\n",
    "        avg(when(col(\"activity_recency\") != 0, col(\"activity_recency\"))).alias(\"avg_session_interval\"),\n",
    "        stddev(when(col(\"activity_recency\") != 0, col(\"activity_recency\"))).alias(\"stddev_session_interval\")\n",
    "    )\n",
    "\n",
    "def replace_nulls_with_global_stats(input_df: DataFrame, global_avg_interval: float) -> DataFrame:\n",
    "    return input_df.na.fill({\n",
    "        'avg_session_interval': global_avg_interval,\n",
    "        'stddev_session_interval': 0\n",
    "    })\n",
    "\n",
    "def normalize_length(input_df: DataFrame) -> DataFrame:\n",
    "    return input_df.withColumn(\n",
    "        \"normalized_length\",\n",
    "        when(col(\"avg_session_length\") == 0, 0)  # Replace zero division with 0\n",
    "        .otherwise(col(\"length\") / col(\"avg_session_length\"))\n",
    "    ).na.fill({\"normalized_length\": 0})\n",
    "\n",
    "def feature_engineering(input_df: DataFrame) -> DataFrame:\n",
    "    # Aggregate session data\n",
    "    grouped_df = aggregate_session_data(input_df)\n",
    "    \n",
    "    # Add user session statistics: (1) average session length per user, (2) total sessions per user, (3) average number of songs per session per user.\n",
    "    grouped_df = add_user_session_stats(grouped_df)\n",
    "    \n",
    "    # Calculate deviation features for each session: deviation from the users average for (1) the session length and (2) the number of songs.\n",
    "    grouped_df = calculate_deviation_features(grouped_df)\n",
    "    \n",
    "    # Pivot 'page' and 'status' column counts. Each category has a column containing the count of visits to that page per session.\n",
    "    page_counts, status_counts = pivot_page_and_status_counts(input_df)\n",
    "    grouped_df = grouped_df.join(page_counts, on=\"sessionId\", how=\"left\")\n",
    "    grouped_df = grouped_df.join(status_counts, on=\"sessionId\", how=\"left\")\n",
    "\n",
    "    # Drop 'Cancel' as it is essentially equivilant to 'Cancellation Confirmation' and could cause data leakage.\n",
    "    grouped_df = grouped_df.drop(\"Cancel\")\n",
    "    \n",
    "    # Add human-readable dates\n",
    "    tenure_df = add_human_readable_dates(grouped_df)\n",
    "    \n",
    "    # Calculate tenure and activity recency\n",
    "    tenure_df = calculate_tenure_and_recency(tenure_df)\n",
    "    \n",
    "    # Calculate session interval statistics\n",
    "    session_interval_stats = calculate_session_interval_stats(tenure_df)\n",
    "    intervals_df = tenure_df.join(session_interval_stats, on=\"userId\", how=\"left\")\n",
    "    \n",
    "    # Calculate global average interval for users with more than one session\n",
    "    global_avg_interval = tenure_df.filter(col(\"total_sessions\") > 1).agg(\n",
    "        {'activity_recency': 'avg'}\n",
    "    ).collect()[0][0]\n",
    "    \n",
    "    # Replace nulls with global stats\n",
    "    intervals_df = replace_nulls_with_global_stats(intervals_df, global_avg_interval)\n",
    "    \n",
    "    # Normalize session lengths\n",
    "    result_df = normalize_length(intervals_df)\n",
    "    \n",
    "    return result_df"
   ]
  },
  {
   "cell_type": "code",
   "execution_count": 45,
   "metadata": {},
   "outputs": [
    {
     "name": "stderr",
     "output_type": "stream",
     "text": [
      "                                                                                \r"
     ]
    },
    {
     "name": "stdout",
     "output_type": "stream",
     "text": [
      "+-------+---------+------+-------------+------------------+-----+---------+-------------+------------------+--------------+---------------------+-------------------------+------------------------+-----+----------+---------------+-------------------------+---------+-----+----+----+------+--------+-----------+-------------+--------+----------------+--------------+-----------+---------+-------+---+---+---+-------------------+-------------------+------+------------------+--------------------+-----------------------+-------------------+\n",
      "| userId|sessionId|gender|itemInSession|            length|level|userAgent|numberOfSongs|avg_session_length|total_sessions|avg_songs_per_session|deviation_from_avg_length|deviation_from_avg_songs|About|Add Friend|Add to Playlist|Cancellation Confirmation|Downgrade|Error|Help|Home|Logout|NextSong|Roll Advert|Save Settings|Settings|Submit Downgrade|Submit Upgrade|Thumbs Down|Thumbs Up|Upgrade|200|307|404|  registration_date|      activity_date|tenure|  activity_recency|avg_session_interval|stddev_session_interval|  normalized_length|\n",
      "+-------+---------+------+-------------+------------------+-----+---------+-------------+------------------+--------------+---------------------+-------------------------+------------------------+-----+----------+---------------+-------------------------+---------+-----+----+----+------+--------+-----------+-------------+--------+----------------+--------------+-----------+---------+-------+---+---+---+-------------------+-------------------+------+------------------+--------------------+-----------------------+-------------------+\n",
      "|1000353|    18819|     F|          141|18886.052479999995| paid|  Windows|           75|11791.590596666667|             3|   48.333333333333336|        7094.461883333328|      26.666666666666664|    0|         3|              0|                        0|        3|    0|   1|   5|     1|      75|          0|            1|       1|               0|             0|          1|        6|      0| 85| 12|  0|2018-05-02 11:37:39|2018-10-01 00:01:50|   152|               0.0|            1458.375|     339.82373392523505| 1.6016543591107075|\n",
      "|1000353|    25907|     F|           43|        6985.83549| paid|  Windows|           28|11791.590596666667|             3|   48.333333333333336|      -4805.7551066666665|     -20.333333333333336|    0|         3|              0|                        0|        1|    0|   0|   3|     2|      28|          0|            0|       0|               0|             0|          2|        1|      0| 32|  8|  0|2018-05-02 11:37:39|2018-10-02 04:20:30|   153|1698.6666666666667|            1458.375|     339.82373392523505| 0.5924421673845094|\n",
      "|1000353|    31025|     F|           54|        9502.88382| paid|  Windows|           42|11791.590596666667|             3|   48.333333333333336|       -2288.706776666668|      -6.333333333333336|    0|         1|              1|                        0|        0|    0|   1|   2|     2|      42|          0|            0|       0|               0|             0|          0|        3|      0| 46|  6|  0|2018-05-02 11:37:39|2018-10-03 00:38:35|   154|1218.0833333333333|            1458.375|     339.82373392523505| 0.8059034735047826|\n",
      "|1001129|    16790|     M|           41| 8641.054239999998| paid|      Mac|           37|12723.629666666666|             3|                 51.0|       -4082.575426666668|                   -14.0|    0|         0|              1|                        0|        1|    0|   0|   1|     0|      37|          0|            0|       0|               0|             0|          1|        1|      0| 40|  2|  0|2018-08-25 10:13:19|2018-10-02 01:28:58|    38|               0.0|             2407.55|     102.41263214185174| 0.6791343717459657|\n",
      "|1001129|    30538|     M|           24|        5149.11747| paid|      Mac|           20|12723.629666666666|             3|                 51.0|       -7574.512196666666|                   -31.0|    0|         0|              1|                        0|        0|    0|   0|   1|     0|      20|          0|            0|       0|               0|             0|          0|        3|      0| 22|  3|  0|2018-08-25 10:13:19|2018-10-03 16:24:06|    39| 2335.133333333333|             2407.55|     102.41263214185174| 0.4046893539733906|\n",
      "|1001129|    38362|     M|          118| 24380.71729000001| paid|      Mac|           96|12723.629666666666|             3|                 51.0|       11657.087623333346|                    45.0|    0|         1|              5|                        0|        0|    0|   0|   3|     2|      96|          0|            0|       0|               0|             0|          2|        3|      0|104|  8|  0|2018-08-25 10:13:19|2018-10-05 09:44:04|    41|2479.9666666666667|             2407.55|     102.41263214185174| 1.9161762742806445|\n",
      "|1001607|    11506|     F|          205| 42655.53015999997| paid|      Mac|          172| 22256.18940714285|             7|    88.42857142857143|       20399.340752857122|       83.57142857142857|    0|        11|              4|                        0|        1|    0|   0|   8|     1|     172|          0|            0|       0|               0|             1|          1|        3|      1|186| 17|  0|2018-09-20 06:26:48|2018-10-02 19:41:35|    12|               0.0|   2265.613888888889|     1733.2106202528898| 1.9165693362723721|\n",
      "|1001607|    36208|     F|           44| 9139.391730000001| paid|      Mac|           38| 22256.18940714285|             7|    88.42857142857143|       -13116.79767714285|      -50.42857142857143|    0|         0|              2|                        0|        1|    0|   0|   1|     0|      38|          0|            0|       0|               0|             0|          0|        3|      0| 42|  3|  0|2018-09-20 06:26:48|2018-10-03 16:30:25|    13|1248.8333333333333|   2265.613888888889|     1733.2106202528898|  0.410644947470964|\n",
      "|1001607|    38682|     F|          125|27960.508849999984| paid|      Mac|          102| 22256.18940714285|             7|    88.42857142857143|        5704.319442857133|       13.57142857142857|    1|         3|              4|                        0|        3|    0|   1|   3|     0|     102|          0|            1|       1|               0|             0|          0|        7|      0|115| 11|  0|2018-09-20 06:26:48|2018-10-04 08:07:10|    14|            936.75|   2265.613888888889|     1733.2106202528898| 1.2563026104112145|\n",
      "|1001607|    42772|     F|          238|51732.727129999985| paid|      Mac|          204| 22256.18940714285|             7|    88.42857142857143|       29476.537722857134|      115.57142857142857|    0|         1|              1|                        0|        1|    0|   1|   6|     5|     204|          0|            0|       1|               0|             0|          3|        8|      0|214| 17|  0|2018-09-20 06:26:48|2018-10-05 18:58:11|    15| 2091.016666666667|   2265.613888888889|     1733.2106202528898| 2.3244197909906807|\n",
      "|1001607|    50431|     F|           21|        3240.27492| paid|      Mac|           13| 22256.18940714285|             7|    88.42857142857143|       -19015.91448714285|      -75.42857142857143|    0|         1|              1|                        0|        0|    0|   0|   1|     1|      13|          0|            0|       0|               0|             0|          0|        1|      0| 15|  3|  0|2018-09-20 06:26:48|2018-10-09 16:59:15|    19| 5641.066666666667|   2265.613888888889|     1733.2106202528898|0.14558983394345457|\n",
      "|1001607|    62382|     F|           92|16365.448339999999| free|      Mac|           68| 22256.18940714285|             7|    88.42857142857143|      -5890.7410671428515|      -20.42857142857143|    0|         1|              2|                        0|        2|    0|   0|   4|     1|      68|          1|            0|       1|               1|             0|          0|        6|      0| 78|  9|  0|2018-09-20 06:26:48|2018-10-10 15:53:18|    20|           1374.05|   2265.613888888889|     1733.2106202528898| 0.7353212196669978|\n",
      "|1001607|    67605|     F|           22|4699.4447199999995| free|      Mac|           22| 22256.18940714285|             7|    88.42857142857143|       -17556.74468714285|      -66.42857142857143|    0|         1|              0|                        0|        0|    0|   0|   0|     0|      22|          0|            0|       0|               0|             0|          0|        0|      0| 22|  1|  0|2018-09-20 06:26:48|2018-10-12 06:15:16|    22|2301.9666666666667|   2265.613888888889|     1733.2106202528898|0.21115226124431571|\n",
      "|1001759|     7365|     M|           72|       14269.80598| paid|  Windows|           57|14269.805980000005|             1|                 57.0|     -5.45696821063756...|                     0.0|    0|         0|              1|                        0|        0|    0|   0|   4|     0|      57|          3|            0|       1|               0|             1|          1|        4|      1| 67|  6|  0|2018-09-19 17:08:33|2018-10-11 08:48:21|    22|               0.0|   2078.838194444444|                    0.0| 0.9999999999999997|\n",
      "|1002185|    25097|     F|           88|19582.006789999996| paid|  Windows|           75|27099.096838333342|             6|                107.5|       -7517.090048333346|                   -32.5|    0|         1|              1|                        0|        1|    0|   1|   3|     0|      75|          0|            0|       0|               0|             0|          2|        5|      0| 81|  8|  0|2018-09-24 04:06:43|2018-10-01 22:47:48|     7|               0.0|   3881.783333333333|     2692.9108771664005| 0.7226073587183186|\n",
      "|1002185|    30622|     F|          121| 26861.14288000001| paid|  Windows|          108|27099.096838333342|             6|                107.5|      -237.95395833333168|                     0.5|    0|         3|              1|                        0|        0|    0|   1|   2|     0|     108|          0|            1|       1|               0|             0|          0|        5|      0|113|  9|  0|2018-09-24 04:06:43|2018-10-03 03:05:48|     9|            1698.0|   3881.783333333333|     2692.9108771664005| 0.9912191184911842|\n",
      "|1002185|    36745|     F|          182| 40181.32407000001| paid|  Windows|          155|27099.096838333342|             6|                107.5|       13082.227231666668|                    47.5|    0|         4|              2|                        0|        1|    0|   0|   7|     1|     155|          0|            0|       0|               0|             0|          0|       11|      0|165| 16|  0|2018-09-24 04:06:43|2018-10-04 07:57:37|    10|1731.8166666666666|   3881.783333333333|     2692.9108771664005| 1.4827551010172801|\n",
      "|1002185|    43536|     F|           56|11120.071019999998| paid|  Windows|           45|27099.096838333342|             6|                107.5|      -15979.025818333344|                   -62.5|    0|         0|              3|                        0|        1|    0|   0|   2|     1|      45|          0|            0|       0|               0|             0|          1|        2|      0| 51|  4|  0|2018-09-24 04:06:43|2018-10-06 04:03:48|    12|2646.1833333333334|   3881.783333333333|     2692.9108771664005|0.41034839966585057|\n",
      "|1002185|    50235|     F|          194|       42045.96598| paid|  Windows|          165|27099.096838333342|             6|                107.5|       14946.869141666659|                    57.5|    0|         3|              7|                        0|        2|    0|   3|   4|     1|     165|          0|            0|       0|               0|             0|          1|        7|      0|181| 12|  0|2018-09-24 04:06:43|2018-10-11 14:06:06|    17|            7802.3|   3881.783333333333|     2692.9108771664005| 1.5515633687290784|\n",
      "|1002185|    73132|     F|          107|       22804.07029| paid|  Windows|           97|27099.096838333342|             6|                107.5|       -4295.026548333342|                   -10.5|    0|         0|              1|                        0|        0|    0|   0|   2|     2|      97|          0|            0|       0|               0|             0|          1|        2|      0|100|  5|  0|2018-09-24 04:06:43|2018-10-15 10:16:43|    21| 5530.616666666667|   3881.783333333333|     2692.9108771664005| 0.8415066533782867|\n",
      "+-------+---------+------+-------------+------------------+-----+---------+-------------+------------------+--------------+---------------------+-------------------------+------------------------+-----+----------+---------------+-------------------------+---------+-----+----+----+------+--------+-----------+-------------+--------+----------------+--------------+-----------+---------+-------+---+---+---+-------------------+-------------------+------+------------------+--------------------+-----------------------+-------------------+\n",
      "only showing top 20 rows\n",
      "\n"
     ]
    }
   ],
   "source": [
    "cleaned_df = data_cleaning(df_balanced_subset)\n",
    "\n",
    "engineered_df = feature_engineering(cleaned_df)\n",
    "\n",
    "engineered_df.show()"
   ]
  },
  {
   "cell_type": "markdown",
   "metadata": {},
   "source": [
    "# Check for null values after feature engineering"
   ]
  },
  {
   "cell_type": "code",
   "execution_count": 23,
   "metadata": {},
   "outputs": [
    {
     "name": "stderr",
     "output_type": "stream",
     "text": [
      "                                                                                \r"
     ]
    },
    {
     "name": "stdout",
     "output_type": "stream",
     "text": [
      "+------+---------+------+-------------+------+-----+---------+-------------+------------------+--------------+---------------------+-------------------------+------------------------+-----+----------+---------------+------+-------------------------+---------+-----+----+----+------+--------+-----------+-------------+--------+----------------+--------------+-----------+---------+-------+---+---+---+-----------------+-------------+------+----------------+--------------------+-----------------------+-----------------+\n",
      "|userId|sessionId|gender|itemInSession|length|level|userAgent|numberOfSongs|avg_session_length|total_sessions|avg_songs_per_session|deviation_from_avg_length|deviation_from_avg_songs|About|Add Friend|Add to Playlist|Cancel|Cancellation Confirmation|Downgrade|Error|Help|Home|Logout|NextSong|Roll Advert|Save Settings|Settings|Submit Downgrade|Submit Upgrade|Thumbs Down|Thumbs Up|Upgrade|200|307|404|registration_date|activity_date|tenure|activity_recency|avg_session_interval|stddev_session_interval|normalized_length|\n",
      "+------+---------+------+-------------+------+-----+---------+-------------+------------------+--------------+---------------------+-------------------------+------------------------+-----+----------+---------------+------+-------------------------+---------+-----+----+----+------+--------+-----------+-------------+--------+----------------+--------------+-----------+---------+-------+---+---+---+-----------------+-------------+------+----------------+--------------------+-----------------------+-----------------+\n",
      "|     0|        0|     0|            0|     0|    0|        0|            0|                 0|             0|                    0|                        0|                       0|    0|         0|              0|     0|                        0|        0|    0|   0|   0|     0|       0|          0|            0|       0|               0|             0|          0|        0|      0|  0|  0|  0|                0|            0|     0|               0|                   0|                      0|                0|\n",
      "+------+---------+------+-------------+------+-----+---------+-------------+------------------+--------------+---------------------+-------------------------+------------------------+-----+----------+---------------+------+-------------------------+---------+-----+----+----+------+--------+-----------+-------------+--------+----------------+--------------+-----------+---------+-------+---+---+---+-----------------+-------------+------+----------------+--------------------+-----------------------+-----------------+\n",
      "\n"
     ]
    }
   ],
   "source": [
    "null_counts = [count(when(col(c).isNull(), c)).alias(c) for c in engineered_df.columns]\n",
    "df_nulls = engineered_df.agg(*null_counts)\n",
    "df_nulls.show()"
   ]
  },
  {
   "cell_type": "markdown",
   "metadata": {},
   "source": [
    "# Check churned user sessions"
   ]
  },
  {
   "cell_type": "code",
   "execution_count": 38,
   "metadata": {},
   "outputs": [
    {
     "name": "stderr",
     "output_type": "stream",
     "text": [
      "                                                                                \r"
     ]
    },
    {
     "name": "stdout",
     "output_type": "stream",
     "text": [
      "+---------+-------+------+-------------+------------------+-----+---------+-------------+------------------+--------------+---------------------+-------------------------+------------------------+-----+----------+---------------+-------------------------+---------+-----+----+----+------+--------+-----------+-------------+--------+----------------+--------------+-----------+---------+-------+---+---+---+-------------------+-------------------+------+-----------------+--------------------+-----------------------+-------------------+-------+------+-------------+------------------+-----+---------+-------------+------------------+--------------+---------------------+-------------------------+------------------------+-----+----------+---------------+-------------------------+---------+-----+----+----+------+--------+-----------+-------------+--------+----------------+--------------+-----------+---------+-------+---+---+---+-------------------+-------------------+------+-----------------+--------------------+-----------------------+-------------------+\n",
      "|sessionId| userId|gender|itemInSession|            length|level|userAgent|numberOfSongs|avg_session_length|total_sessions|avg_songs_per_session|deviation_from_avg_length|deviation_from_avg_songs|About|Add Friend|Add to Playlist|Cancellation Confirmation|Downgrade|Error|Help|Home|Logout|NextSong|Roll Advert|Save Settings|Settings|Submit Downgrade|Submit Upgrade|Thumbs Down|Thumbs Up|Upgrade|200|307|404|  registration_date|      activity_date|tenure| activity_recency|avg_session_interval|stddev_session_interval|  normalized_length| userId|gender|itemInSession|            length|level|userAgent|numberOfSongs|avg_session_length|total_sessions|avg_songs_per_session|deviation_from_avg_length|deviation_from_avg_songs|About|Add Friend|Add to Playlist|Cancellation Confirmation|Downgrade|Error|Help|Home|Logout|NextSong|Roll Advert|Save Settings|Settings|Submit Downgrade|Submit Upgrade|Thumbs Down|Thumbs Up|Upgrade|200|307|404|  registration_date|      activity_date|tenure| activity_recency|avg_session_interval|stddev_session_interval|  normalized_length|\n",
      "+---------+-------+------+-------------+------------------+-----+---------+-------------+------------------+--------------+---------------------+-------------------------+------------------------+-----+----------+---------------+-------------------------+---------+-----+----+----+------+--------+-----------+-------------+--------+----------------+--------------+-----------+---------+-------+---+---+---+-------------------+-------------------+------+-----------------+--------------------+-----------------------+-------------------+-------+------+-------------+------------------+-----+---------+-------------+------------------+--------------+---------------------+-------------------------+------------------------+-----+----------+---------------+-------------------------+---------+-----+----+----+------+--------+-----------+-------------+--------+----------------+--------------+-----------+---------+-------+---+---+---+-------------------+-------------------+------+-----------------+--------------------+-----------------------+-------------------+\n",
      "|    30516|1183628|     M|            6|         781.58187| paid|      Mac|            4| 8052.613670000002|             3|   31.666666666666668|       -7271.031800000002|     -27.666666666666668|    0|         0|              0|                        1|        1|    0|   0|   0|     0|       4|          0|            0|       0|               0|             0|          0|        0|      0|  6|  1|  0|2018-09-28 11:17:51|2018-10-02 14:35:41|     4|            803.2|  1110.8916666666667|      435.1417280291815|0.09705940232943025|1183628|     M|            6|         781.58187| paid|      Mac|            4| 8052.613670000002|             3|   31.666666666666668|       -7271.031800000002|     -27.666666666666668|    0|         0|              0|                        1|        1|    0|   0|   0|     0|       4|          0|            0|       0|               0|             0|          0|        0|      0|  6|  1|  0|2018-09-28 11:17:51|2018-10-02 14:35:41|     4|            803.2|  1110.8916666666667|      435.1417280291815|0.09705940232943025|\n",
      "|    19761|1467284|     F|          163| 28618.73148999999| paid|  Windows|          126| 28618.73149000001|             1|                126.0|     -1.81898940354585...|                     0.0|    0|         2|              3|                        1|        1|    0|   2|   5|     2|     126|          0|            0|       2|               0|             0|          1|       12|      0|140| 18|  0|2018-09-28 20:28:33|2018-10-01 02:44:56|     3|              0.0|   2078.838194444444|                    0.0| 0.9999999999999993|1467284|     F|          163| 28618.73148999999| paid|  Windows|          126| 28618.73149000001|             1|                126.0|     -1.81898940354585...|                     0.0|    0|         2|              3|                        1|        1|    0|   2|   5|     2|     126|          0|            0|       2|               0|             0|          1|       12|      0|140| 18|  0|2018-09-28 20:28:33|2018-10-01 02:44:56|     3|              0.0|   2078.838194444444|                    0.0| 0.9999999999999993|\n",
      "|    21967|1867101|     M|          167|30697.633449999994| paid|  Windows|          128|30697.633450000005|             1|                128.0|     -1.09139364212751...|                     0.0|    0|         2|              6|                        1|        2|    0|   0|   5|     3|     128|          0|            0|       0|               0|             0|          2|        9|      0|142| 17|  0|2018-08-28 10:25:24|2018-10-01 23:01:58|    34|              0.0|   2078.838194444444|                    0.0| 0.9999999999999997|1867101|     M|          167|30697.633449999994| paid|  Windows|          128|30697.633450000005|             1|                128.0|     -1.09139364212751...|                     0.0|    0|         2|              6|                        1|        2|    0|   0|   5|     3|     128|          0|            0|       0|               0|             0|          2|        9|      0|142| 17|  0|2018-08-28 10:25:24|2018-10-01 23:01:58|    34|              0.0|   2078.838194444444|                    0.0| 0.9999999999999997|\n",
      "|    24264|1304075|     M|          435| 88422.68455999994| paid|  Windows|          352| 88422.68455999997|             1|                352.0|     -2.91038304567337...|                     0.0|    0|        14|             10|                        1|        5|    1|   0|  15|     4|     352|          1|            0|       3|               0|             1|          5|       12|      1|388| 37|  1|2018-07-26 20:44:32|2018-10-01 00:50:49|    67|              0.0|   2078.838194444444|                    0.0| 0.9999999999999997|1304075|     M|          435| 88422.68455999994| paid|  Windows|          352| 88422.68455999997|             1|                352.0|     -2.91038304567337...|                     0.0|    0|        14|             10|                        1|        5|    1|   0|  15|     4|     352|          1|            0|       3|               0|             1|          5|       12|      1|388| 37|  1|2018-07-26 20:44:32|2018-10-01 00:50:49|    67|              0.0|   2078.838194444444|                    0.0| 0.9999999999999997|\n",
      "|     1046|1528396|     F|          153|35037.271590000004| paid|  Windows|          141| 35037.27158999998|             1|                141.0|     2.182787284255027...|                     0.0|    1|         0|              2|                        1|        1|    0|   0|   1|     0|     141|          0|            0|       0|               0|             0|          3|        3|      0|147|  7|  0|2018-09-18 20:20:25|2018-10-01 19:23:43|    13|              0.0|   2078.838194444444|                    0.0| 1.0000000000000007|1528396|     F|          153|35037.271590000004| paid|  Windows|          141| 35037.27158999998|             1|                141.0|     2.182787284255027...|                     0.0|    1|         0|              2|                        1|        1|    0|   0|   1|     0|     141|          0|            0|       0|               0|             0|          3|        3|      0|147|  7|  0|2018-09-18 20:20:25|2018-10-01 19:23:43|    13|              0.0|   2078.838194444444|                    0.0| 1.0000000000000007|\n",
      "|    24588|1768454|     M|           32|        5662.44879| paid|  Windows|           22|        5662.44879|             1|                 22.0|                      0.0|                     0.0|    0|         1|              1|                        1|        2|    0|   0|   2|     0|      22|          0|            0|       0|               0|             0|          0|        3|      0| 28|  5|  0|2018-09-11 16:39:45|2018-10-01 00:37:45|    20|              0.0|   2078.838194444444|                    0.0|                1.0|1768454|     M|           32|        5662.44879| paid|  Windows|           22|        5662.44879|             1|                 22.0|                      0.0|                     0.0|    0|         1|              1|                        1|        2|    0|   0|   2|     0|      22|          0|            0|       0|               0|             0|          0|        3|      0| 28|  5|  0|2018-09-11 16:39:45|2018-10-01 00:37:45|    20|              0.0|   2078.838194444444|                    0.0|                1.0|\n",
      "|     6816|1714714|     F|           79|15332.725280000004| paid|      Mac|           64|15332.725279999995|             1|                 64.0|     9.094947017729282...|                     0.0|    1|         0|              0|                        1|        3|    0|   1|   7|     0|      64|          0|            0|       0|               0|             0|          0|        2|      0| 77|  3|  0|2018-09-30 22:59:16|2018-10-01 05:11:59|     1|              0.0|   2078.838194444444|                    0.0| 1.0000000000000007|1714714|     F|           79|15332.725280000004| paid|      Mac|           64|15332.725279999995|             1|                 64.0|     9.094947017729282...|                     0.0|    1|         0|              0|                        1|        3|    0|   1|   7|     0|      64|          0|            0|       0|               0|             0|          0|        2|      0| 77|  3|  0|2018-09-30 22:59:16|2018-10-01 05:11:59|     1|              0.0|   2078.838194444444|                    0.0| 1.0000000000000007|\n",
      "|     8274|1487256|     M|          340| 40226.56578999999| paid|  Windows|          160|       40226.56579|             1|                160.0|     -7.27595761418342...|                     0.0|    1|         4|              9|                        1|        2|    1|   1|   4|     2|     160|          1|            0|       2|               0|             0|          1|        2|      0|181| 10|  1|2018-08-22 11:18:19|2018-10-01 00:03:54|    40|              0.0|   2078.838194444444|                    0.0| 0.9999999999999998|1487256|     M|          340| 40226.56578999999| paid|  Windows|          160|       40226.56579|             1|                160.0|     -7.27595761418342...|                     0.0|    1|         4|              9|                        1|        2|    1|   1|   4|     2|     160|          1|            0|       2|               0|             0|          1|        2|      0|181| 10|  1|2018-08-22 11:18:19|2018-10-01 00:03:54|    40|              0.0|   2078.838194444444|                    0.0| 0.9999999999999998|\n",
      "|      537|1444244|     M|          175|       33017.40727| paid|      Mac|          137| 33017.40727000002|             1|                137.0|     -1.45519152283668...|                     0.0|    0|         2|              3|                        1|        4|    0|   0|   8|     4|     137|          0|            0|       1|               0|             0|          0|        7|      0|154| 14|  0|2018-08-31 23:13:59|2018-10-01 12:27:38|    31|              0.0|   2078.838194444444|                    0.0| 0.9999999999999996|1444244|     M|          175|       33017.40727| paid|      Mac|          137| 33017.40727000002|             1|                137.0|     -1.45519152283668...|                     0.0|    0|         2|              3|                        1|        4|    0|   0|   8|     4|     137|          0|            0|       1|               0|             0|          0|        7|      0|154| 14|  0|2018-08-31 23:13:59|2018-10-01 12:27:38|    31|              0.0|   2078.838194444444|                    0.0| 0.9999999999999996|\n",
      "|    24567|1362621|     M|            5|         683.59701| paid|  Windows|            3|         683.59701|             1|                  3.0|                      0.0|                     0.0|    0|         0|              0|                        1|        1|    0|   0|   0|     0|       3|          0|            0|       0|               0|             0|          0|        0|      0|  5|  1|  0|2018-09-19 17:15:26|2018-10-01 05:35:23|    12|              0.0|   2078.838194444444|                    0.0|                1.0|1362621|     M|            5|         683.59701| paid|  Windows|            3|         683.59701|             1|                  3.0|                      0.0|                     0.0|    0|         0|              0|                        1|        1|    0|   0|   0|     0|       3|          0|            0|       0|               0|             0|          0|        0|      0|  5|  1|  0|2018-09-19 17:15:26|2018-10-01 05:35:23|    12|              0.0|   2078.838194444444|                    0.0|                1.0|\n",
      "|    22200|1917216|     F|           41|        6970.71012| paid|      Mac|           29|        6970.71012|             1|                 29.0|                      0.0|                     0.0|    0|         0|              1|                        1|        0|    0|   0|   3|     1|      29|          0|            0|       1|               0|             1|          0|        0|      1| 36|  3|  0|2018-09-27 21:51:09|2018-10-01 19:57:08|     4|              0.0|   2078.838194444444|                    0.0|                1.0|1917216|     F|           41|        6970.71012| paid|      Mac|           29|        6970.71012|             1|                 29.0|                      0.0|                     0.0|    0|         0|              1|                        1|        0|    0|   0|   3|     1|      29|          0|            0|       1|               0|             1|          0|        0|      1| 36|  3|  0|2018-09-27 21:51:09|2018-10-01 19:57:08|     4|              0.0|   2078.838194444444|                    0.0|                1.0|\n",
      "|    26509|1985954|     F|           35| 8477.503840000001| paid|      Mac|           32| 5041.715235000001|             2|                 19.5|       3435.7886050000006|                    12.5|    0|         0|              1|                        1|        1|    0|   0|   0|     0|      32|          0|            0|       0|               0|             0|          0|        0|      0| 35|  1|  0|2018-07-03 17:08:46|2018-10-01 11:46:08|    90|           182.05|              182.05|                    0.0| 1.6814721666841623|1985954|     F|           35| 8477.503840000001| paid|      Mac|           32| 5041.715235000001|             2|                 19.5|       3435.7886050000006|                    12.5|    0|         0|              1|                        1|        1|    0|   0|   0|     0|      32|          0|            0|       0|               0|             0|          0|        0|      0| 35|  1|  0|2018-07-03 17:08:46|2018-10-01 11:46:08|    90|           182.05|              182.05|                    0.0| 1.6814721666841623|\n",
      "|    28549|1228206|     F|          231| 44533.20643999998| paid|  Windows|          184|23688.980685000002|             2|                 98.5|       20844.225754999978|                    85.5|    0|         1|              6|                        1|        2|    0|   0|   7|     4|     184|          3|            0|       1|               0|             1|          1|        7|      1|205| 15|  0|2018-09-30 03:30:23|2018-10-01 18:31:34|     1|            185.1|               185.1|                    0.0| 1.8799123116427994|1228206|     F|          231| 44533.20643999998| paid|  Windows|          184|23688.980685000002|             2|                 98.5|       20844.225754999978|                    85.5|    0|         1|              6|                        1|        2|    0|   0|   7|     4|     184|          3|            0|       1|               0|             1|          1|        7|      1|205| 15|  0|2018-09-30 03:30:23|2018-10-01 18:31:34|     1|            185.1|               185.1|                    0.0| 1.8799123116427994|\n",
      "|    25942|1348935|     M|           11|        2289.42004| paid|  Windows|            8|2927.2241700000004|             2|                 11.5|       -637.8041300000004|                    -3.5|    0|         0|              1|                        1|        1|    0|   0|   0|     0|       8|          0|            0|       0|               0|             0|          0|        0|      0| 11|  1|  0|2018-08-22 10:12:19|2018-10-02 01:41:34|    41|           1271.1|              1271.1|                    0.0| 0.7821129872673878|1348935|     M|           11|        2289.42004| paid|  Windows|            8|2927.2241700000004|             2|                 11.5|       -637.8041300000004|                    -3.5|    0|         0|              1|                        1|        1|    0|   0|   0|     0|       8|          0|            0|       0|               0|             0|          0|        0|      0| 11|  1|  0|2018-08-22 10:12:19|2018-10-02 01:41:34|    41|           1271.1|              1271.1|                    0.0| 0.7821129872673878|\n",
      "|    25033|1015368|     M|          113|25183.329049999997| paid|      Mac|           97|25183.329049999997|             1|                 97.0|                      0.0|                     0.0|    0|         0|              2|                        1|        2|    0|   1|   3|     1|      97|          0|            0|       1|               0|             0|          0|        3|      0|107|  5|  0|2018-07-11 23:33:01|2018-10-01 02:04:13|    82|              0.0|   2078.838194444444|                    0.0|                1.0|1015368|     M|          113|25183.329049999997| paid|      Mac|           97|25183.329049999997|             1|                 97.0|                      0.0|                     0.0|    0|         0|              2|                        1|        2|    0|   1|   3|     1|      97|          0|            0|       1|               0|             0|          0|        3|      0|107|  5|  0|2018-07-11 23:33:01|2018-10-01 02:04:13|    82|              0.0|   2078.838194444444|                    0.0|                1.0|\n",
      "|     5069|1119142|     M|          132|       26787.08528| paid|      Mac|          109|       26787.08528|             1|                109.0|                      0.0|                     0.0|    0|         2|              3|                        1|        2|    0|   0|   5|     1|     109|          0|            0|       0|               0|             0|          0|        6|      0|120| 10|  0|2018-06-27 13:09:39|2018-10-01 07:53:13|    96|              0.0|   2078.838194444444|                    0.0|                1.0|1119142|     M|          132|       26787.08528| paid|      Mac|          109|       26787.08528|             1|                109.0|                      0.0|                     0.0|    0|         2|              3|                        1|        2|    0|   0|   5|     1|     109|          0|            0|       0|               0|             0|          0|        6|      0|120| 10|  0|2018-06-27 13:09:39|2018-10-01 07:53:13|    96|              0.0|   2078.838194444444|                    0.0|                1.0|\n",
      "|    27684|1808681|     M|           50|       11395.79349| paid|  Windows|           45|11811.131703333333|             3|                 45.0|      -415.33821333333253|                     0.0|    1|         1|              0|                        1|        1|    0|   0|   0|     0|      45|          1|            0|       0|               0|             0|          0|        0|      0| 49|  2|  0|2018-06-07 06:01:22|2018-10-01 18:25:28|   116|522.7333333333333|  365.26666666666665|     222.69149562168337| 0.9648350197283706|1808681|     M|           50|       11395.79349| paid|  Windows|           45|11811.131703333333|             3|                 45.0|      -415.33821333333253|                     0.0|    1|         1|              0|                        1|        1|    0|   0|   0|     0|      45|          1|            0|       0|               0|             0|          0|        0|      0| 49|  2|  0|2018-06-07 06:01:22|2018-10-01 18:25:28|   116|522.7333333333333|  365.26666666666665|     222.69149562168337| 0.9648350197283706|\n",
      "|    22411|1640021|     F|          104|19847.250539999997| paid|  Windows|           83|       19847.25054|             1|                 83.0|     -3.63797880709171...|                     0.0|    0|         1|              2|                        1|        3|    0|   0|   4|     0|      83|          0|            1|       1|               0|             1|          0|        4|      1| 95|  8|  0|2018-08-21 19:13:37|2018-10-01 14:56:34|    41|              0.0|   2078.838194444444|                    0.0| 0.9999999999999998|1640021|     F|          104|19847.250539999997| paid|  Windows|           83|       19847.25054|             1|                 83.0|     -3.63797880709171...|                     0.0|    0|         1|              2|                        1|        3|    0|   0|   4|     0|      83|          0|            1|       1|               0|             1|          0|        4|      1| 95|  8|  0|2018-08-21 19:13:37|2018-10-01 14:56:34|    41|              0.0|   2078.838194444444|                    0.0| 0.9999999999999998|\n",
      "|    24849|1668865|     F|           71|13277.128619999996| paid|  Windows|           53|13277.128620000001|             1|                 53.0|     -5.45696821063756...|                     0.0|    0|         1|              1|                        1|        1|    0|   0|   4|     1|      53|          1|            0|       0|               0|             1|          0|        2|      3| 64|  6|  0|2018-07-09 16:55:48|2018-10-02 13:31:49|    85|              0.0|   2078.838194444444|                    0.0| 0.9999999999999996|1668865|     F|           71|13277.128619999996| paid|  Windows|           53|13277.128620000001|             1|                 53.0|     -5.45696821063756...|                     0.0|    0|         1|              1|                        1|        1|    0|   0|   4|     1|      53|          1|            0|       0|               0|             1|          0|        2|      3| 64|  6|  0|2018-07-09 16:55:48|2018-10-02 13:31:49|    85|              0.0|   2078.838194444444|                    0.0| 0.9999999999999996|\n",
      "|    22883|1191242|     M|           27| 4979.581410000001| paid|  Windows|           23| 4979.581409999999|             1|                 23.0|     1.818989403545856...|                     0.0|    0|         0|              0|                        1|        0|    0|   0|   0|     0|      23|          0|            0|       1|               0|             0|          0|        2|      0| 25|  3|  0|2018-09-06 23:35:49|2018-10-01 10:08:19|    25|              0.0|   2078.838194444444|                    0.0| 1.0000000000000004|1191242|     M|           27| 4979.581410000001| paid|  Windows|           23| 4979.581409999999|             1|                 23.0|     1.818989403545856...|                     0.0|    0|         0|              0|                        1|        0|    0|   0|   0|     0|      23|          0|            0|       1|               0|             0|          0|        2|      0| 25|  3|  0|2018-09-06 23:35:49|2018-10-01 10:08:19|    25|              0.0|   2078.838194444444|                    0.0| 1.0000000000000004|\n",
      "+---------+-------+------+-------------+------------------+-----+---------+-------------+------------------+--------------+---------------------+-------------------------+------------------------+-----+----------+---------------+-------------------------+---------+-----+----+----+------+--------+-----------+-------------+--------+----------------+--------------+-----------+---------+-------+---+---+---+-------------------+-------------------+------+-----------------+--------------------+-----------------------+-------------------+-------+------+-------------+------------------+-----+---------+-------------+------------------+--------------+---------------------+-------------------------+------------------------+-----+----------+---------------+-------------------------+---------+-----+----+----+------+--------+-----------+-------------+--------+----------------+--------------+-----------+---------+-------+---+---+---+-------------------+-------------------+------+-----------------+--------------------+-----------------------+-------------------+\n",
      "only showing top 20 rows\n",
      "\n"
     ]
    }
   ],
   "source": [
    "chruned_users = engineered_df.filter(col(\"Cancellation Confirmation\") > 0)\n",
    "\n",
    "df_chruned = engineered_df.join(chruned_users, on=\"sessionId\", how=\"inner\")\n",
    "\n",
    "df_chruned.show()"
   ]
  },
  {
   "cell_type": "markdown",
   "metadata": {},
   "source": [
    "## Adjust the churn labels so that the 3 sessions leading up to the actual churn are marked as churn=1\n",
    "- For a given user, the churn column 'Cancellation Confirmation' is 1 for the session that the user churns and 0 for all other sessions. \n",
    "- Churn needs to be predicted ahead of time so preventative measures can be taken.\n",
    "- There is likely a behavioural change that occurs ahead of time that can be used to predict churn. \n",
    "- Here, the 3 sessions leading up to the actual churn date are also labeled as churn for each user."
   ]
  },
  {
   "cell_type": "code",
   "execution_count": 43,
   "metadata": {},
   "outputs": [],
   "source": [
    "def adjust_churn_labels(input_df: DataFrame) -> DataFrame:\n",
    "    # Rename churn column\n",
    "    churn_df = input_df.withColumnRenamed(\"Cancellation Confirmation\", \"churn\")\n",
    "\n",
    "    # Create a window partitioned by userId and ordered descending by activity_date\n",
    "    user_window = Window.partitionBy(\"userId\").orderBy(col(\"activity_date\").desc())\n",
    "\n",
    "    # Assuming df has a 'churn' column marked 1 at the actual churn session\n",
    "    churn_df = churn_df.withColumn(\"label_1\", lead(\"churn\", 1).over(user_window))\n",
    "    churn_df = churn_df.withColumn(\"label_2\", lead(\"churn\", 2).over(user_window))\n",
    "    churn_df = churn_df.withColumn(\"label_3\", lead(\"churn\", 3).over(user_window))\n",
    "\n",
    "    # Use coalesce to treat nulls as 0 in the churn calculation\n",
    "    churn_df = churn_df.withColumn(\"churn\", when(\n",
    "        (col(\"churn\") == 1) | \n",
    "        (coalesce(col(\"label_1\"), lit(0)) == 1) | \n",
    "        (coalesce(col(\"label_2\"), lit(0)) == 1) | \n",
    "        (coalesce(col(\"label_3\"), lit(0)) == 1),\n",
    "        1\n",
    "    ).otherwise(0))\n",
    "\n",
    "    # Clean up temporary columns\n",
    "    result_df = churn_df.drop(\"label_1\", \"label_2\", \"label_3\")\n",
    "\n",
    "    return result_df"
   ]
  },
  {
   "cell_type": "markdown",
   "metadata": {},
   "source": [
    "## Check user 1808681 has churn=1 for the last 3 sessions before churn"
   ]
  },
  {
   "cell_type": "code",
   "execution_count": 47,
   "metadata": {},
   "outputs": [
    {
     "name": "stderr",
     "output_type": "stream",
     "text": [
      "[Stage 2017:===================================================>  (17 + 1) / 18]\r"
     ]
    },
    {
     "name": "stdout",
     "output_type": "stream",
     "text": [
      "+-------+---------+------+-------------+------------------+-----+---------+-------------+------------------+--------------+---------------------+-------------------------+------------------------+-----+----------+---------------+-----+---------+-----+----+----+------+--------+-----------+-------------+--------+----------------+--------------+-----------+---------+-------+---+---+---+-------------------+-------------------+------+-----------------+--------------------+-----------------------+------------------+\n",
      "| userId|sessionId|gender|itemInSession|            length|level|userAgent|numberOfSongs|avg_session_length|total_sessions|avg_songs_per_session|deviation_from_avg_length|deviation_from_avg_songs|About|Add Friend|Add to Playlist|churn|Downgrade|Error|Help|Home|Logout|NextSong|Roll Advert|Save Settings|Settings|Submit Downgrade|Submit Upgrade|Thumbs Down|Thumbs Up|Upgrade|200|307|404|  registration_date|      activity_date|tenure| activity_recency|avg_session_interval|stddev_session_interval| normalized_length|\n",
      "+-------+---------+------+-------------+------------------+-----+---------+-------------+------------------+--------------+---------------------+-------------------------+------------------------+-----+----------+---------------+-----+---------+-----+----+----+------+--------+-----------+-------------+--------+----------------+--------------+-----------+---------+-------+---+---+---+-------------------+-------------------+------+-----------------+--------------------+-----------------------+------------------+\n",
      "|1808681|    27684|     M|           50|       11395.79349| paid|  Windows|           45|11811.131703333333|             3|                 45.0|      -415.33821333333253|                     0.0|    1|         1|              0|    1|        1|    0|   0|   0|     0|      45|          1|            0|       0|               0|             0|          0|        0|      0| 49|  2|  0|2018-06-07 06:01:22|2018-10-01 18:25:28|   116|522.7333333333333|  365.26666666666665|     222.69149562168337|0.9648350197283706|\n",
      "|1808681|    26304|     M|           83|       18551.87025| paid|  Windows|           70|11811.131703333333|             3|                 45.0|        6740.738546666667|                    25.0|    0|         1|              3|    0|        0|    0|   0|   5|     0|      70|          0|            0|       1|               0|             0|          1|        3|      0| 79|  5|  0|2018-06-07 06:01:22|2018-10-01 09:42:44|   116|            207.8|  365.26666666666665|     222.69149562168337| 1.570710641111918|\n",
      "|1808681|    24399|     M|           28|5485.7313699999995| paid|  Windows|           20|11811.131703333333|             3|                 45.0|       -6325.400333333333|                   -25.0|    0|         1|              1|    0|        0|    0|   0|   2|     0|      20|          1|            0|       0|               0|             1|          0|        2|      1| 25|  4|  0|2018-06-07 06:01:22|2018-10-01 06:14:56|   116|              0.0|  365.26666666666665|     222.69149562168337|0.4644543391597114|\n",
      "+-------+---------+------+-------------+------------------+-----+---------+-------------+------------------+--------------+---------------------+-------------------------+------------------------+-----+----------+---------------+-----+---------+-----+----+----+------+--------+-----------+-------------+--------+----------------+--------------+-----------+---------+-------+---+---+---+-------------------+-------------------+------+-----------------+--------------------+-----------------------+------------------+\n",
      "\n"
     ]
    },
    {
     "name": "stderr",
     "output_type": "stream",
     "text": [
      "                                                                                \r"
     ]
    }
   ],
   "source": [
    "labelled_df = adjust_churn_labels(engineered_df)\n",
    "churn_df_check = labelled_df.filter(labelled_df.userId == 1808681)\n",
    "churn_df_check.show()"
   ]
  },
  {
   "cell_type": "markdown",
   "metadata": {},
   "source": [
    "## One-hot encoding\n",
    "Convert categorical variables into numerical formats"
   ]
  },
  {
   "cell_type": "code",
   "execution_count": 52,
   "metadata": {},
   "outputs": [],
   "source": [
    "def encode_categorical_columns(input_df: DataFrame) -> DataFrame:\n",
    "\n",
    "    categorical_columns = [\"gender\", \"level\", \"userAgent\"]\n",
    "\n",
    "    # Generate the names of the indexed and encoded columns\n",
    "    index_columns = [col + \"Index\" for col in categorical_columns]\n",
    "    vec_columns = [col + \"Vec\" for col in categorical_columns]\n",
    "    \n",
    "    # Indexing all categorical columns\n",
    "    indexer = StringIndexer(inputCols=categorical_columns, outputCols=index_columns)\n",
    "    indexed_df = indexer.fit(input_df).transform(input_df)\n",
    "    \n",
    "    # Applying OneHotEncoder\n",
    "    encoder = OneHotEncoder(inputCols=index_columns, outputCols=vec_columns, dropLast=False)\n",
    "    ohe_df = encoder.fit(indexed_df).transform(indexed_df)\n",
    "    \n",
    "    # Dropping original and indexed columns\n",
    "    all_cols_to_drop = categorical_columns + index_columns\n",
    "    ohe_df = ohe_df.drop(*all_cols_to_drop)\n",
    "    \n",
    "    return ohe_df"
   ]
  },
  {
   "cell_type": "markdown",
   "metadata": {},
   "source": [
    "## Train-Test Split:\n",
    "- Ensure that users in the training set do not appear in the test set. This prevents leakage and ensures that the model can generalise to entirely new users."
   ]
  },
  {
   "cell_type": "code",
   "execution_count": 51,
   "metadata": {},
   "outputs": [],
   "source": [
    "from typing import Tuple\n",
    "def stratified_split_churn_data(input_df: DataFrame, churn_column: str = \"churn\", train_fraction: float = 0.8, seed: int = 42) -> Tuple[DataFrame, DataFrame]:\n",
    "    # Ensure users who have churn=1 in at least one session are only included in the churned_users data\n",
    "    user_churn_status = input_df.groupBy(\"userId\").agg(max(churn_column).alias(churn_column))\n",
    "    \n",
    "    # Split into churned and non-churned DataFrames\n",
    "    churned_users = user_churn_status.filter(col(churn_column) == 1).select(\"userId\")\n",
    "    non_churned_users = user_churn_status.filter(col(churn_column) == 0).select(\"userId\")\n",
    "    \n",
    "    # Perform stratified split for both churned and non-churned users\n",
    "    train_churned, test_churned = churned_users.randomSplit([train_fraction, 1.0 - train_fraction], seed=seed)\n",
    "    train_non_churned, test_non_churned = non_churned_users.randomSplit([train_fraction, 1.0 - train_fraction], seed=seed)\n",
    "    \n",
    "    # Combine training and testing datasets\n",
    "    train_users = train_churned.union(train_non_churned)\n",
    "    test_users = test_churned.union(test_non_churned)\n",
    "    \n",
    "    # Join back to the original data\n",
    "    train_df = input_df.join(train_users, [\"userId\"], \"inner\")\n",
    "    test_df = input_df.join(test_users, [\"userId\"], \"inner\")\n",
    "    \n",
    "    return train_df, test_df\n"
   ]
  },
  {
   "cell_type": "code",
   "execution_count": 53,
   "metadata": {},
   "outputs": [],
   "source": [
    "def custom_stratified_cross_val(df_scv: DataFrame, k: int, seed: int = 42):\n",
    "    # Mark users as churned if any of their sessions are marked as churned\n",
    "    user_churn_status = df_scv.groupBy(\"userId\").agg(max(\"churn\").alias(\"churn\"))\n",
    "    \n",
    "    # Split users into churned and non-churned\n",
    "    churned_users = user_churn_status.filter(col(\"churn\") == 1).select(\"userId\")\n",
    "    non_churned_users = user_churn_status.filter(col(\"churn\") == 0).select(\"userId\")\n",
    "    \n",
    "    # Assign each user to a fold\n",
    "    churned_users = churned_users.withColumn('fold', (monotonically_increasing_id() % k))\n",
    "    non_churned_users = non_churned_users.withColumn('fold', (monotonically_increasing_id() % k))\n",
    "    \n",
    "    # Union and join back to the original data\n",
    "    users_fold = churned_users.union(non_churned_users)\n",
    "    df_scv = df_scv.join(users_fold, on='userId', how='inner')\n",
    "    \n",
    "    # Generate folds\n",
    "    folds = [df_scv.filter(col('fold') == i).drop('fold') for i in range(k)]\n",
    "    \n",
    "    return folds\n"
   ]
  },
  {
   "cell_type": "markdown",
   "metadata": {},
   "source": [
    "## Training\n",
    "### Data\n",
    "- There is a class imbalance in the original dataset where the positive class, churn=1, is underrepresented.\n",
    "- The initial split into train and test data keeps the same class ratio as the original dataset.\n",
    "### Training data\n",
    "- Oversampling churn=1 and undersampling churn=0 could be used to improve performance (e.g. SMOTEEN).\n",
    "- Use models that can handle class imbalance better, e.g. Random Forests or XGBoost which focuses on samples that are difficult to classify (i.e. minority classes)\n",
    "### Test data\n",
    "- Test data should reflect the true distribution of classes to ensure the model’s performance metrics are realistic when using real-world data.\n",
    "### Metrics\n",
    "- Accuracy is misleading for imbalanced datasets. Evaluate using Precision, Recall, F1-Score, ROC-AUC, and Precision-Recall curves. \n",
    "### Models\n",
    "- Some algorithms have ways of dealing with class imbalance (e.g. Naive Bayes, XGBoost) while some dont (e.g. Logistic Regression).\n",
    "- Multiple algorithms will be tested using default hyperparameters to see which deals with this dataset best. \n",
    "- Methods such as SMOTEEN maybe used if necessary.\n",
    "- Using the best performing algorithm, feature dimensionality reduction will be used (e.g recursive feature elimination or using feature importance)\n",
    "- Using the best subset of features, hyperparameter tuning using gridsearch will be conducted.\n",
    "- The final model will be tested on the test data.\n",
    "### Deliverable\n",
    "- We want to save money by identifying a user who is about to churn under the assumption that it is more costly to obtain a new user than retain an existing user.\n",
    "- A balance will need to be met between correctly predicting a user will churn (TPR) and incorrectly predicting they will churn when they wont (FPR) as TPR and FPR go up and down together.\n",
    "- We will estimate how much money will be saved at each TPR threshold on the ROC curve to balance TPR and FPR."
   ]
  },
  {
   "cell_type": "code",
   "execution_count": 54,
   "metadata": {},
   "outputs": [
    {
     "name": "stderr",
     "output_type": "stream",
     "text": [
      "                                                                                \r"
     ]
    }
   ],
   "source": [
    "cleaned_df = data_cleaning(df_balanced_subset)\n",
    "\n",
    "engineered_df = feature_engineering(cleaned_df)\n",
    "\n",
    "labelled_df = adjust_churn_labels(engineered_df)\n",
    "\n",
    "encoded_df = encode_categorical_columns(labelled_df)\n",
    "\n",
    "train_df, test_df = stratified_split_churn_data(encoded_df)\n",
    "\n",
    "folds = custom_stratified_cross_val(train_df, k=2)"
   ]
  },
  {
   "cell_type": "markdown",
   "metadata": {},
   "source": [
    "## Model Selection\n",
    "- Compare: Logistic Regression, Random Forest, Decision Trees, Gradient Boosted Trees, Naive Bayes, Support Vecotor Machine.\n",
    "- Select model with highest average ROC-AUC using stratified K-fold cross-valudation. ROC-AUC evaluates how well the model can distinguish classes and is good when dealing with imbalanced datasets."
   ]
  },
  {
   "cell_type": "code",
   "execution_count": 46,
   "metadata": {},
   "outputs": [
    {
     "name": "stderr",
     "output_type": "stream",
     "text": [
      "                                                                                \r"
     ]
    },
    {
     "name": "stdout",
     "output_type": "stream",
     "text": [
      "LogisticRegression fold=0 auc=0.705993840322198 f1=0.8967554351417433\n"
     ]
    },
    {
     "name": "stderr",
     "output_type": "stream",
     "text": [
      "                                                                                \r"
     ]
    },
    {
     "name": "stdout",
     "output_type": "stream",
     "text": [
      "LogisticRegression fold=1 auc=0.5112481857764886 f1=0.8708222126560484\n"
     ]
    },
    {
     "name": "stderr",
     "output_type": "stream",
     "text": [
      "                                                                                \r"
     ]
    },
    {
     "name": "stdout",
     "output_type": "stream",
     "text": [
      "RandomForestClassifier fold=0 auc=0.49834162520729686 f1=0.8604562008817329\n"
     ]
    },
    {
     "name": "stderr",
     "output_type": "stream",
     "text": [
      "                                                                                \r"
     ]
    },
    {
     "name": "stdout",
     "output_type": "stream",
     "text": [
      "RandomForestClassifier fold=1 auc=0.6362481857764877 f1=0.8960994560994563\n",
      "Results for LogisticRegression:\n",
      "  Average AUC: 0.6086210130493432\n",
      "  Average F1 Score: 0.8837888238988958\n",
      "Results for RandomForestClassifier:\n",
      "  Average AUC: 0.5672949054918923\n",
      "  Average F1 Score: 0.8782778284905945\n"
     ]
    }
   ],
   "source": [
    "# Feature processing stages\n",
    "assembler = VectorAssembler(\n",
    "    inputCols=[col for col in train_df.columns if col not in [\"userId\", \"sessionId\", \"churn\", \"registration_date\", \"activity_date\"]],\n",
    "    outputCol=\"features_unscaled\")\n",
    "\n",
    "scaler = StandardScaler(inputCol=\"features_unscaled\", outputCol=\"features\", withStd=True, withMean=True)\n",
    "\n",
    "classifiers = {\n",
    "    \"LogisticRegression\": LogisticRegression(featuresCol='features', labelCol='churn'),\n",
    "    # \"RandomForestClassifier\": RandomForestClassifier(featuresCol='features', labelCol='churn'),\n",
    "    # \"DecisionTreeClassifier\": DecisionTreeClassifier(featuresCol='features', labelCol='churn'),\n",
    "    # \"GradientBoostedTrees\": GBTClassifier(featuresCol='features', labelCol='churn'),\n",
    "    # \"NaiveBayes\": NaiveBayes(featuresCol='features', labelCol='churn'),\n",
    "    # \"SupportVectorMachine\": LinearSVC(featuresCol='features', labelCol='churn')\n",
    "}\n",
    "\n",
    "# Evaluation metrics\n",
    "auc_evaluator = BinaryClassificationEvaluator(labelCol='churn', metricName='areaUnderROC')\n",
    "f1_evaluator = MulticlassClassificationEvaluator(labelCol='churn', metricName='f1')\n",
    "\n",
    "results = {}\n",
    "\n",
    "# Perform cross-validation for each classifier\n",
    "for name, classifier in classifiers.items():\n",
    "    pipeline = Pipeline(stages=[assembler, scaler, classifier])\n",
    "    auc_metrics = []\n",
    "    f1_metrics = []\n",
    "    \n",
    "    for i in range(len(folds)):\n",
    "        cv_train = [folds[j] for j in range(len(folds)) if j != i]\n",
    "        cv_test = folds[i]\n",
    "        \n",
    "        # Combine training folds\n",
    "        cv_train_df = cv_train[0]\n",
    "        for fold in cv_train[1:]:\n",
    "            cv_train_df = cv_train_df.union(fold)\n",
    "        \n",
    "        # Fit the pipeline on the training set\n",
    "        model = pipeline.fit(cv_train_df)\n",
    "        \n",
    "        # Make predictions on the test set\n",
    "        predictions = model.transform(cv_test)\n",
    "        \n",
    "        # Evaluate the model\n",
    "        auc = auc_evaluator.evaluate(predictions)\n",
    "        f1 = f1_evaluator.evaluate(predictions)\n",
    "        \n",
    "        # Store metrics\n",
    "        auc_metrics.append(auc)\n",
    "        f1_metrics.append(f1)\n",
    "\n",
    "        print(f\"{name} fold={i} auc={auc} f1={f1}\")\n",
    "    \n",
    "    # Calculate average metrics\n",
    "    average_auc = __builtins__.sum(auc_metrics) / len(auc_metrics)\n",
    "    average_f1 = __builtins__.sum(f1_metrics) / len(f1_metrics)\n",
    "    \n",
    "    # Store results\n",
    "    results[name] = {\n",
    "        \"Average AUC\": average_auc,\n",
    "        \"Average F1 Score\": average_f1\n",
    "    }\n",
    "\n",
    "# Print results\n",
    "for model_name, metrics in results.items():\n",
    "    print(f\"Results for {model_name}:\")\n",
    "    for metric_name, value in metrics.items():\n",
    "        print(f\"  {metric_name}: {value}\")"
   ]
  }
 ],
 "metadata": {
  "kernelspec": {
   "display_name": "Python 3",
   "language": "python",
   "name": "python3"
  },
  "language_info": {
   "codemirror_mode": {
    "name": "ipython",
    "version": 3
   },
   "file_extension": ".py",
   "mimetype": "text/x-python",
   "name": "python",
   "nbconvert_exporter": "python",
   "pygments_lexer": "ipython3",
   "version": "3.10.6"
  }
 },
 "nbformat": 4,
 "nbformat_minor": 2
}
