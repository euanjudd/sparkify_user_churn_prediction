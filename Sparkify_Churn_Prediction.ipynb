{
 "cells": [
  {
   "cell_type": "code",
   "execution_count": 183,
   "metadata": {},
   "outputs": [],
   "source": [
    "from pyspark.sql import SparkSession\n",
    "from pyspark.ml import Pipeline\n",
    "from pyspark.sql.functions import when, col, count, from_unixtime, date_format, regexp_replace, datediff, lag, to_date, unix_timestamp, coalesce, lit, first, avg, sum, min, max, countDistinct, stddev, lead, expr\n",
    "from pyspark.ml.feature import VectorAssembler, StringIndexer, OneHotEncoder, StandardScaler\n",
    "from pyspark.sql.window import Window\n"
   ]
  },
  {
   "cell_type": "markdown",
   "metadata": {},
   "source": [
    "## Create a spark session"
   ]
  },
  {
   "cell_type": "code",
   "execution_count": 150,
   "metadata": {},
   "outputs": [],
   "source": [
    "spark = SparkSession.builder \\\n",
    "    .appName(\"Sparkify Data Analysis\") \\\n",
    "    .getOrCreate()"
   ]
  },
  {
   "cell_type": "markdown",
   "metadata": {},
   "source": [
    "# Read and show data"
   ]
  },
  {
   "cell_type": "code",
   "execution_count": 151,
   "metadata": {},
   "outputs": [
    {
     "name": "stderr",
     "output_type": "stream",
     "text": [
      "[Stage 1802:===================================================>  (17 + 1) / 18]\r"
     ]
    },
    {
     "name": "stdout",
     "output_type": "stream",
     "text": [
      "+--------------+----------+---------+------+-------------+----------+---------+-----+--------------------+------+---------------+-------------+---------+--------------------+------+-------------+--------------------+-------+\n",
      "|        artist|      auth|firstName|gender|itemInSession|  lastName|   length|level|            location|method|           page| registration|sessionId|                song|status|           ts|           userAgent| userId|\n",
      "+--------------+----------+---------+------+-------------+----------+---------+-----+--------------------+------+---------------+-------------+---------+--------------------+------+-------------+--------------------+-------+\n",
      "|          null| Logged In|Salvatore|     M|           34|   Huffman|     null| free|Washington-Arling...|   GET|           Home|1537382061000|    10220|                null|   200|1538352022000|Mozilla/5.0 (X11;...|1240184|\n",
      "|   Beto Cuevas| Logged In|     Vinh|     M|            6|     Riley|368.37832| free|        Richmond, VA|   PUT|       NextSong|1534058647000|    20604|      Manana (Album)|   200|1538352088000|\"Mozilla/5.0 (X11...|1660139|\n",
      "|    Billy Dean| Logged In| Scarlett|     F|            7|     Moore|200.28036| free|McAllen-Edinburg-...|   PUT|       NextSong|1533784785000|    20911|If There Hadn't B...|   200|1538352098000|Mozilla/5.0 (Wind...|1217900|\n",
      "|         Ok Go| Logged In|  Lyllian|     F|           17|    Henson|179.85261| paid|    Williamsport, PA|   PUT|       NextSong|1537067154000|    13073|  Here It Goes Again|   200|1538352102000|\"Mozilla/5.0 (Win...|1456236|\n",
      "|  Toni Braxton| Logged In| Ladarius|     M|           12|    Walker|296.82893| free|San Francisco-Oak...|   PUT|       NextSong|1536380587000|    24226|You Mean The Worl...|   200|1538352116000|Mozilla/5.0 (Wind...|1993639|\n",
      "|   Soda Stereo| Logged In|     Finn|     M|          110|Washington|388.98893| paid|  Chattanooga, TN-GA|   PUT|       NextSong|1537598715000|    23131|      Hombre Al Agua|   200|1538352163000|\"Mozilla/5.0 (Mac...|1567145|\n",
      "|    Trey Songz| Logged In|    Mason|     M|           80|    Ritter|  225.802| free|New York-Newark-J...|   PUT|       NextSong|1535299362000|     1190|Cheat On You (Alb...|   200|1538352180000|\"Mozilla/5.0 (Mac...|1055054|\n",
      "|     Babe Ruth| Logged In|     Gage|     M|          194|  Marshall|235.96363| paid|         Findlay, OH|   PUT|       NextSong|1533063730000|     3616|Broken Cloud (199...|   200|1538352193000|Mozilla/5.0 (Maci...|1372969|\n",
      "|          null|Logged Out|     null|  null|            0|      null|     null| free|                null|   PUT|          Login|         null|    23471|                null|   307|1538352259000|                null|1261737|\n",
      "|Modern Talking| Logged In|   Thomas|     M|          146| Gutierrez|213.39383| paid|    Jacksonville, FL|   PUT|       NextSong|1532012740000|    14269|     Sexy Sexy Lover|   200|1538352278000|Mozilla/5.0 (Wind...|1031277|\n",
      "|           OTT| Logged In|Alexander|     M|           84|    Walter|441.83465| paid|Boston-Cambridge-...|   PUT|       NextSong|1537163880000|     1775|   Splitting An Atom|   200|1538352337000|\"Mozilla/5.0 (Win...|1004888|\n",
      "|Carmen Consoli| Logged In|    Oscar|     M|          149|     Brown| 288.7571| paid|Phoenix-Mesa-Scot...|   PUT|       NextSong|1537149747000|     5971|      Piccolo Cesare|   200|1538352346000|Mozilla/5.0 (Maci...|1604150|\n",
      "|       Bacilos| Logged In|  Taevion|     M|           36|  Guerrero|238.99383| paid|          Tupelo, MS|   PUT|       NextSong|1536338134000|    22164|     Solo un segundo|   200|1538352393000|\"Mozilla/5.0 (Win...|1272059|\n",
      "|  Muddy Waters| Logged In| Jennifer|     F|            2|   Shelton| 165.3024| free|      Pittsburgh, PA|   PUT|       NextSong|1536455539000|    25128| Got My Mojo Working|   200|1538352429000|\"Mozilla/5.0 (Win...|1558463|\n",
      "|    Luke Bryan| Logged In|   Justin|     M|            8|     Brown|238.28853| free|         Greeley, CO|   PUT|       NextSong|1538021914000|    23364|                Do I|   200|1538352477000|\"Mozilla/5.0 (Mac...|1243631|\n",
      "|          Rush| Logged In| Penelope|     F|           32|    Nguyen|296.80281| free|       Asheville, NC|   PUT|       NextSong|1535363856000|    11873|Distant Early War...|   200|1538352510000|\"Mozilla/5.0 (Mac...|1786875|\n",
      "|    Kool Savas| Logged In|   Jaeden|     M|          220|     Woods| 77.94893| paid|Miami-Fort Lauder...|   PUT|       NextSong|1528492321000|     7157| Keiner auÃÂer uns|   200|1538352535000|\"Mozilla/5.0 (Mac...|1141231|\n",
      "|Postal Service| Logged In|  Anthony|     M|          146|     Jones|300.53832| paid|      Great Bend, KS|   PUT|       NextSong|1534936699000|     8274|We Will Become Si...|   200|1538352543000|\"Mozilla/5.0 (Win...|1487256|\n",
      "|          null| Logged In|   Haylee|     F|           43|   Barnett|     null| paid|      Pittsburgh, PA|   PUT|Add to Playlist|1533811258000|    24605|                null|   200|1538352592000|\"Mozilla/5.0 (Win...|1874716|\n",
      "|          null| Logged In| Gabriela|     F|           20|        Ho|     null| free|Riverside-San Ber...|   PUT|      Thumbs Up|1532036668000|     3598|                null|   307|1538352623000|\"Mozilla/5.0 (Mac...|1851656|\n",
      "+--------------+----------+---------+------+-------------+----------+---------+-----+--------------------+------+---------------+-------------+---------+--------------------+------+-------------+--------------------+-------+\n",
      "only showing top 20 rows\n",
      "\n"
     ]
    },
    {
     "name": "stderr",
     "output_type": "stream",
     "text": [
      "                                                                                \r"
     ]
    }
   ],
   "source": [
    "# Path to your JSON file\n",
    "json_path = \"/app/data/sparkify_event_data.json\"\n",
    "\n",
    "# Read the JSON data into a DataFrame\n",
    "df_full = spark.read.json(json_path)\n",
    "\n",
    "# Sample 10% of the data randomly without replacement\n",
    "fraction = 0.02\n",
    "df = df_full.sample(False, fraction)\n",
    "\n",
    "# Use the sampled data for quick tests or analysis\n",
    "df.show()"
   ]
  },
  {
   "cell_type": "markdown",
   "metadata": {},
   "source": [
    "## Print data schema"
   ]
  },
  {
   "cell_type": "code",
   "execution_count": 152,
   "metadata": {},
   "outputs": [
    {
     "name": "stdout",
     "output_type": "stream",
     "text": [
      "root\n",
      " |-- artist: string (nullable = true)\n",
      " |-- auth: string (nullable = true)\n",
      " |-- firstName: string (nullable = true)\n",
      " |-- gender: string (nullable = true)\n",
      " |-- itemInSession: long (nullable = true)\n",
      " |-- lastName: string (nullable = true)\n",
      " |-- length: double (nullable = true)\n",
      " |-- level: string (nullable = true)\n",
      " |-- location: string (nullable = true)\n",
      " |-- method: string (nullable = true)\n",
      " |-- page: string (nullable = true)\n",
      " |-- registration: long (nullable = true)\n",
      " |-- sessionId: long (nullable = true)\n",
      " |-- song: string (nullable = true)\n",
      " |-- status: long (nullable = true)\n",
      " |-- ts: long (nullable = true)\n",
      " |-- userAgent: string (nullable = true)\n",
      " |-- userId: string (nullable = true)\n",
      "\n"
     ]
    },
    {
     "name": "stderr",
     "output_type": "stream",
     "text": [
      "[Stage 1804:===================================================>  (17 + 1) / 18]\r"
     ]
    },
    {
     "name": "stdout",
     "output_type": "stream",
     "text": [
      "Total sampled records: 94411\n"
     ]
    },
    {
     "name": "stderr",
     "output_type": "stream",
     "text": [
      "                                                                                \r"
     ]
    }
   ],
   "source": [
    "df.printSchema()\n",
    "print(\"Total sampled records:\", df.count())"
   ]
  },
  {
   "cell_type": "markdown",
   "metadata": {},
   "source": [
    "## Frequency of values in categorical columns"
   ]
  },
  {
   "cell_type": "code",
   "execution_count": 153,
   "metadata": {},
   "outputs": [
    {
     "name": "stderr",
     "output_type": "stream",
     "text": [
      "                                                                                \r"
     ]
    },
    {
     "name": "stdout",
     "output_type": "stream",
     "text": [
      "+----------+-----+\n",
      "|auth      |count|\n",
      "+----------+-----+\n",
      "|Logged In |91476|\n",
      "|Logged Out|2911 |\n",
      "|Cancelled |12   |\n",
      "|Guest     |12   |\n",
      "+----------+-----+\n",
      "\n"
     ]
    },
    {
     "name": "stderr",
     "output_type": "stream",
     "text": [
      "                                                                                \r"
     ]
    },
    {
     "name": "stdout",
     "output_type": "stream",
     "text": [
      "+------+-----+\n",
      "|gender|count|\n",
      "+------+-----+\n",
      "|M     |48019|\n",
      "|F     |43469|\n",
      "|null  |2923 |\n",
      "+------+-----+\n",
      "\n"
     ]
    },
    {
     "name": "stderr",
     "output_type": "stream",
     "text": [
      "                                                                                \r"
     ]
    },
    {
     "name": "stdout",
     "output_type": "stream",
     "text": [
      "+-----+-----+\n",
      "|level|count|\n",
      "+-----+-----+\n",
      "|paid |65477|\n",
      "|free |28934|\n",
      "+-----+-----+\n",
      "\n"
     ]
    },
    {
     "name": "stderr",
     "output_type": "stream",
     "text": [
      "                                                                                \r"
     ]
    },
    {
     "name": "stdout",
     "output_type": "stream",
     "text": [
      "+------+-----+\n",
      "|method|count|\n",
      "+------+-----+\n",
      "|PUT   |85268|\n",
      "|GET   |9143 |\n",
      "+------+-----+\n",
      "\n"
     ]
    },
    {
     "name": "stderr",
     "output_type": "stream",
     "text": [
      "                                                                                \r"
     ]
    },
    {
     "name": "stdout",
     "output_type": "stream",
     "text": [
      "+-------------------------+-----+\n",
      "|page                     |count|\n",
      "+-------------------------+-----+\n",
      "|NextSong                 |74750|\n",
      "|Home                     |5089 |\n",
      "|Thumbs Up                |3820 |\n",
      "|Add to Playlist          |2087 |\n",
      "|Roll Advert              |1712 |\n",
      "|Add Friend               |1364 |\n",
      "|Logout                   |1120 |\n",
      "|Login                    |1106 |\n",
      "|Thumbs Down              |779  |\n",
      "|Downgrade                |642  |\n",
      "|Help                     |519  |\n",
      "|Settings                 |501  |\n",
      "|About                    |316  |\n",
      "|Upgrade                  |265  |\n",
      "|Save Settings            |112  |\n",
      "|Error                    |86   |\n",
      "|Submit Upgrade           |83   |\n",
      "|Submit Downgrade         |30   |\n",
      "|Cancel                   |16   |\n",
      "|Cancellation Confirmation|12   |\n",
      "|Register                 |1    |\n",
      "|Submit Registration      |1    |\n",
      "+-------------------------+-----+\n",
      "\n"
     ]
    },
    {
     "name": "stderr",
     "output_type": "stream",
     "text": [
      "                                                                                \r"
     ]
    },
    {
     "name": "stdout",
     "output_type": "stream",
     "text": [
      "+------+-----+\n",
      "|status|count|\n",
      "+------+-----+\n",
      "|200   |85894|\n",
      "|307   |8431 |\n",
      "|404   |86   |\n",
      "+------+-----+\n",
      "\n"
     ]
    },
    {
     "name": "stderr",
     "output_type": "stream",
     "text": [
      "[Stage 1846:===================================================>  (17 + 1) / 18]\r"
     ]
    },
    {
     "name": "stdout",
     "output_type": "stream",
     "text": [
      "+-----------------------------------------------------------------------------------------------------------------------------------------------+-----+\n",
      "|userAgent                                                                                                                                      |count|\n",
      "+-----------------------------------------------------------------------------------------------------------------------------------------------+-----+\n",
      "|\"Mozilla/5.0 (Windows NT 6.1; WOW64) AppleWebKit/537.36 (KHTML, like Gecko) Chrome/36.0.1985.143 Safari/537.36\"                                |8734 |\n",
      "|Mozilla/5.0 (Windows NT 6.1; WOW64; rv:31.0) Gecko/20100101 Firefox/31.0                                                                       |6869 |\n",
      "|\"Mozilla/5.0 (Windows NT 6.1; WOW64) AppleWebKit/537.36 (KHTML, like Gecko) Chrome/36.0.1985.125 Safari/537.36\"                                |5578 |\n",
      "|\"Mozilla/5.0 (Macintosh; Intel Mac OS X 10_9_4) AppleWebKit/537.36 (KHTML, like Gecko) Chrome/36.0.1985.143 Safari/537.36\"                     |5538 |\n",
      "|\"Mozilla/5.0 (Macintosh; Intel Mac OS X 10_9_4) AppleWebKit/537.78.2 (KHTML, like Gecko) Version/7.0.6 Safari/537.78.2\"                        |5009 |\n",
      "|\"Mozilla/5.0 (Macintosh; Intel Mac OS X 10_9_4) AppleWebKit/537.36 (KHTML, like Gecko) Chrome/36.0.1985.125 Safari/537.36\"                     |4472 |\n",
      "|\"Mozilla/5.0 (Macintosh; Intel Mac OS X 10_9_4) AppleWebKit/537.77.4 (KHTML, like Gecko) Version/7.0.5 Safari/537.77.4\"                        |4300 |\n",
      "|Mozilla/5.0 (Macintosh; Intel Mac OS X 10.9; rv:31.0) Gecko/20100101 Firefox/31.0                                                              |3961 |\n",
      "|\"Mozilla/5.0 (Macintosh; Intel Mac OS X 10_9_4) AppleWebKit/537.36 (KHTML, like Gecko) Chrome/37.0.2062.94 Safari/537.36\"                      |3764 |\n",
      "|\"Mozilla/5.0 (Windows NT 6.3; WOW64) AppleWebKit/537.36 (KHTML, like Gecko) Chrome/36.0.1985.143 Safari/537.36\"                                |3109 |\n",
      "|null                                                                                                                                           |2923 |\n",
      "|\"Mozilla/5.0 (Windows NT 6.3; WOW64) AppleWebKit/537.36 (KHTML, like Gecko) Chrome/36.0.1985.125 Safari/537.36\"                                |2203 |\n",
      "|\"Mozilla/5.0 (iPhone; CPU iPhone OS 7_1_2 like Mac OS X) AppleWebKit/537.51.2 (KHTML, like Gecko) Version/7.0 Mobile/11D257 Safari/9537.53\"    |2081 |\n",
      "|Mozilla/5.0 (Windows NT 6.1; WOW64; Trident/7.0; rv:11.0) like Gecko                                                                           |2074 |\n",
      "|Mozilla/5.0 (Windows NT 6.3; WOW64; rv:31.0) Gecko/20100101 Firefox/31.0                                                                       |2027 |\n",
      "|\"Mozilla/5.0 (Windows NT 6.1) AppleWebKit/537.36 (KHTML, like Gecko) Chrome/36.0.1985.143 Safari/537.36\"                                       |1762 |\n",
      "|Mozilla/5.0 (X11; Ubuntu; Linux x86_64; rv:31.0) Gecko/20100101 Firefox/31.0                                                                   |1465 |\n",
      "|Mozilla/5.0 (Windows NT 6.1; rv:31.0) Gecko/20100101 Firefox/31.0                                                                              |1178 |\n",
      "|\"Mozilla/5.0 (iPad; CPU OS 7_1_2 like Mac OS X) AppleWebKit/537.51.2 (KHTML, like Gecko) Version/7.0 Mobile/11D257 Safari/9537.53\"             |1152 |\n",
      "|\"Mozilla/5.0 (Windows NT 6.1) AppleWebKit/537.36 (KHTML, like Gecko) Chrome/36.0.1985.125 Safari/537.36\"                                       |1107 |\n",
      "|\"Mozilla/5.0 (X11; Linux x86_64) AppleWebKit/537.36 (KHTML, like Gecko) Chrome/36.0.1985.125 Safari/537.36\"                                    |906  |\n",
      "|\"Mozilla/5.0 (Windows NT 6.1; WOW64) AppleWebKit/537.36 (KHTML, like Gecko) Chrome/37.0.2062.103 Safari/537.36\"                                |833  |\n",
      "|\"Mozilla/5.0 (X11; Linux x86_64) AppleWebKit/537.36 (KHTML, like Gecko) Chrome/36.0.1985.143 Safari/537.36\"                                    |813  |\n",
      "|Mozilla/5.0 (Windows NT 5.1; rv:31.0) Gecko/20100101 Firefox/31.0                                                                              |802  |\n",
      "|Mozilla/5.0 (Windows NT 6.3; WOW64; Trident/7.0; rv:11.0) like Gecko                                                                           |785  |\n",
      "|\"Mozilla/5.0 (iPhone; CPU iPhone OS 7_1_1 like Mac OS X) AppleWebKit/537.51.2 (KHTML, like Gecko) Version/7.0 Mobile/11D201 Safari/9537.53\"    |688  |\n",
      "|\"Mozilla/5.0 (Windows NT 6.1; WOW64) AppleWebKit/537.36 (KHTML, like Gecko) Chrome/37.0.2062.94 Safari/537.36\"                                 |599  |\n",
      "|\"Mozilla/5.0 (Macintosh; Intel Mac OS X 10_9_3) AppleWebKit/537.36 (KHTML, like Gecko) Chrome/36.0.1985.125 Safari/537.36\"                     |595  |\n",
      "|\"Mozilla/5.0 (Macintosh; Intel Mac OS X 10_6_8) AppleWebKit/534.59.10 (KHTML, like Gecko) Version/5.1.9 Safari/534.59.10\"                      |583  |\n",
      "|\"Mozilla/5.0 (X11; Linux x86_64) AppleWebKit/537.36 (KHTML, like Gecko) Ubuntu Chromium/36.0.1985.125 Chrome/36.0.1985.125 Safari/537.36\"      |572  |\n",
      "|Mozilla/5.0 (Windows NT 6.2; WOW64; rv:31.0) Gecko/20100101 Firefox/31.0                                                                       |563  |\n",
      "|Mozilla/5.0 (Windows NT 6.1; WOW64; rv:30.0) Gecko/20100101 Firefox/30.0                                                                       |560  |\n",
      "|\"Mozilla/5.0 (Windows NT 6.2; WOW64) AppleWebKit/537.36 (KHTML, like Gecko) Chrome/36.0.1985.143 Safari/537.36\"                                |553  |\n",
      "|\"Mozilla/5.0 (Windows NT 6.2; WOW64) AppleWebKit/537.36 (KHTML, like Gecko) Chrome/36.0.1985.125 Safari/537.36\"                                |533  |\n",
      "|Mozilla/5.0 (Macintosh; Intel Mac OS X 10.8; rv:31.0) Gecko/20100101 Firefox/31.0                                                              |522  |\n",
      "|Mozilla/5.0 (X11; Linux x86_64; rv:31.0) Gecko/20100101 Firefox/31.0                                                                           |507  |\n",
      "|\"Mozilla/5.0 (Windows NT 5.1) AppleWebKit/537.36 (KHTML, like Gecko) Chrome/36.0.1985.143 Safari/537.36\"                                       |465  |\n",
      "|\"Mozilla/5.0 (Macintosh; Intel Mac OS X 10_10) AppleWebKit/600.1.8 (KHTML, like Gecko) Version/8.0 Safari/600.1.8\"                             |463  |\n",
      "|Mozilla/5.0 (compatible; MSIE 10.0; Windows NT 6.1; WOW64; Trident/6.0)                                                                        |457  |\n",
      "|\"Mozilla/5.0 (Macintosh; Intel Mac OS X 10_8_5) AppleWebKit/537.36 (KHTML, like Gecko) Chrome/36.0.1985.125 Safari/537.36\"                     |454  |\n",
      "|\"Mozilla/5.0 (Macintosh; Intel Mac OS X 10_8_5) AppleWebKit/537.36 (KHTML, like Gecko) Chrome/36.0.1985.143 Safari/537.36\"                     |448  |\n",
      "|\"Mozilla/5.0 (Windows NT 6.1; WOW64) AppleWebKit/537.36 (KHTML, like Gecko) Chrome/37.0.2062.102 Safari/537.36\"                                |447  |\n",
      "|Mozilla/5.0 (Macintosh; Intel Mac OS X 10.6; rv:31.0) Gecko/20100101 Firefox/31.0                                                              |418  |\n",
      "|\"Mozilla/5.0 (Windows NT 5.1) AppleWebKit/537.36 (KHTML, like Gecko) Chrome/36.0.1985.125 Safari/537.36\"                                       |417  |\n",
      "|\"Mozilla/5.0 (Macintosh; Intel Mac OS X 10_9_2) AppleWebKit/537.36 (KHTML, like Gecko) Chrome/36.0.1985.143 Safari/537.36\"                     |414  |\n",
      "|Mozilla/5.0 (compatible; MSIE 9.0; Windows NT 6.1; WOW64; Trident/5.0)                                                                         |406  |\n",
      "|\"Mozilla/5.0 (X11; Linux x86_64) AppleWebKit/537.36 (KHTML, like Gecko) Chrome/37.0.2062.94 Safari/537.36\"                                     |398  |\n",
      "|\"Mozilla/5.0 (Macintosh; Intel Mac OS X 10_9_3) AppleWebKit/537.36 (KHTML, like Gecko) Chrome/37.0.2062.94 Safari/537.36\"                      |387  |\n",
      "|\"Mozilla/5.0 (Macintosh; Intel Mac OS X 10_9_2) AppleWebKit/537.36 (KHTML, like Gecko) Chrome/36.0.1985.125 Safari/537.36\"                     |353  |\n",
      "|\"Mozilla/5.0 (Macintosh; Intel Mac OS X 10_9_2) AppleWebKit/537.36 (KHTML, like Gecko) Chrome/37.0.2062.94 Safari/537.36\"                      |347  |\n",
      "|\"Mozilla/5.0 (Macintosh; Intel Mac OS X 10_9_3) AppleWebKit/537.36 (KHTML, like Gecko) Chrome/36.0.1985.143 Safari/537.36\"                     |341  |\n",
      "|Mozilla/5.0 (Windows NT 6.1; Trident/7.0; rv:11.0) like Gecko                                                                                  |340  |\n",
      "|\"Mozilla/5.0 (X11; Linux x86_64) AppleWebKit/537.36 (KHTML, like Gecko) Chrome/35.0.1916.153 Safari/537.36\"                                    |332  |\n",
      "|Mozilla/5.0 (Macintosh; Intel Mac OS X 10.7; rv:31.0) Gecko/20100101 Firefox/31.0                                                              |331  |\n",
      "|\"Mozilla/5.0 (Windows NT 6.3; WOW64) AppleWebKit/537.36 (KHTML, like Gecko) Chrome/37.0.2062.94 Safari/537.36\"                                 |317  |\n",
      "|\"Mozilla/5.0 (Macintosh; Intel Mac OS X 10_10) AppleWebKit/538.46 (KHTML, like Gecko) Version/8.0 Safari/538.46\"                               |317  |\n",
      "|Mozilla/5.0 (Windows NT 6.1; WOW64; rv:32.0) Gecko/20100101 Firefox/32.0                                                                       |312  |\n",
      "|\"Mozilla/5.0 (Macintosh; Intel Mac OS X 10_8_5) AppleWebKit/537.77.4 (KHTML, like Gecko) Version/6.1.5 Safari/537.77.4\"                        |307  |\n",
      "|\"Mozilla/5.0 (Macintosh; Intel Mac OS X 10_9_4) AppleWebKit/537.36 (KHTML, like Gecko) Chrome/35.0.1916.153 Safari/537.36\"                     |300  |\n",
      "|\"Mozilla/5.0 (iPad; CPU OS 7_1_1 like Mac OS X) AppleWebKit/537.51.2 (KHTML, like Gecko) Version/7.0 Mobile/11D201 Safari/9537.53\"             |296  |\n",
      "|\"Mozilla/5.0 (Macintosh; Intel Mac OS X 10_10_0) AppleWebKit/537.36 (KHTML, like Gecko) Chrome/36.0.1985.125 Safari/537.36\"                    |294  |\n",
      "|\"Mozilla/5.0 (Windows NT 6.1; WOW64) AppleWebKit/537.36 (KHTML, like Gecko) Chrome/35.0.1916.153 Safari/537.36\"                                |283  |\n",
      "|\"Mozilla/5.0 (Macintosh; Intel Mac OS X 10_9_3) AppleWebKit/537.75.14 (KHTML, like Gecko) Version/7.0.3 Safari/537.75.14\"                      |283  |\n",
      "|\"Mozilla/5.0 (iPhone; CPU iPhone OS 7_1 like Mac OS X) AppleWebKit/537.51.2 (KHTML, like Gecko) Version/7.0 Mobile/11D167 Safari/9537.53\"      |263  |\n",
      "|Mozilla/5.0 (X11; Ubuntu; Linux x86_64; rv:30.0) Gecko/20100101 Firefox/30.0                                                                   |257  |\n",
      "|\"Mozilla/5.0 (Macintosh; Intel Mac OS X 10_10_0) AppleWebKit/537.36 (KHTML, like Gecko) Chrome/37.0.2062.94 Safari/537.36\"                     |249  |\n",
      "|Mozilla/5.0 (compatible; MSIE 9.0; Windows NT 6.1; Trident/5.0)                                                                                |247  |\n",
      "|\"Mozilla/5.0 (Macintosh; Intel Mac OS X 10_7_5) AppleWebKit/537.77.4 (KHTML, like Gecko) Version/6.1.5 Safari/537.77.4\"                        |245  |\n",
      "|Mozilla/5.0 (Windows NT 6.1; WOW64; rv:24.0) Gecko/20100101 Firefox/24.0                                                                       |245  |\n",
      "|\"Mozilla/5.0 (Macintosh; Intel Mac OS X 10_10_0) AppleWebKit/537.36 (KHTML, like Gecko) Chrome/36.0.1985.143 Safari/537.36\"                    |231  |\n",
      "|Mozilla/5.0 (X11; Ubuntu; Linux i686; rv:31.0) Gecko/20100101 Firefox/31.0                                                                     |229  |\n",
      "|\"Mozilla/5.0 (Macintosh; Intel Mac OS X 10_9_2) AppleWebKit/537.75.14 (KHTML, like Gecko) Version/7.0.3 Safari/537.75.14\"                      |228  |\n",
      "|\"Mozilla/5.0 (X11; Linux x86_64) AppleWebKit/537.36 (KHTML, like Gecko) Ubuntu Chromium/34.0.1847.116 Chrome/34.0.1847.116 Safari/537.36\"      |225  |\n",
      "|\"Mozilla/5.0 (Macintosh; Intel Mac OS X 10_9_2) AppleWebKit/537.74.9 (KHTML, like Gecko) Version/7.0.2 Safari/537.74.9\"                        |222  |\n",
      "|\"Mozilla/5.0 (Macintosh; Intel Mac OS X 10_7_5) AppleWebKit/537.36 (KHTML, like Gecko) Chrome/36.0.1985.143 Safari/537.36\"                     |221  |\n",
      "|\"Mozilla/5.0 (iPhone; CPU iPhone OS 7_1_2 like Mac OS X) AppleWebKit/537.51.1 (KHTML, like Gecko) GSA/4.1.0.31802 Mobile/11D257 Safari/9537.53\"|212  |\n",
      "|Mozilla/5.0 (Macintosh; Intel Mac OS X 10.9; rv:30.0) Gecko/20100101 Firefox/30.0                                                              |204  |\n",
      "|\"Mozilla/5.0 (Macintosh; Intel Mac OS X 10_8_5) AppleWebKit/537.36 (KHTML, like Gecko) Chrome/37.0.2062.94 Safari/537.36\"                      |200  |\n",
      "|\"Mozilla/5.0 (Macintosh; Intel Mac OS X 10_7_5) AppleWebKit/537.36 (KHTML, like Gecko) Chrome/36.0.1985.125 Safari/537.36\"                     |196  |\n",
      "|\"Mozilla/5.0 (Macintosh; Intel Mac OS X 10_9_3) AppleWebKit/537.76.4 (KHTML, like Gecko) Version/7.0.4 Safari/537.76.4\"                        |181  |\n",
      "|Mozilla/5.0 (compatible; MSIE 10.0; Windows NT 6.2; WOW64; Trident/6.0)                                                                        |177  |\n",
      "|\"Mozilla/5.0 (Macintosh; Intel Mac OS X 10_7_5) AppleWebKit/537.78.2 (KHTML, like Gecko) Version/6.1.6 Safari/537.78.2\"                        |176  |\n",
      "|Mozilla/5.0 (Windows NT 6.1; WOW64; rv:29.0) Gecko/20100101 Firefox/29.0                                                                       |174  |\n",
      "|Mozilla/5.0 (Windows NT 6.0; rv:31.0) Gecko/20100101 Firefox/31.0                                                                              |165  |\n",
      "|\"Mozilla/5.0 (Macintosh; Intel Mac OS X 10_6_8) AppleWebKit/537.36 (KHTML, like Gecko) Chrome/36.0.1985.143 Safari/537.36\"                     |111  |\n",
      "|\"Mozilla/5.0 (Macintosh; Intel Mac OS X 10_10) AppleWebKit/600.1.3 (KHTML, like Gecko) Version/8.0 Safari/600.1.3\"                             |106  |\n",
      "+-----------------------------------------------------------------------------------------------------------------------------------------------+-----+\n",
      "\n"
     ]
    },
    {
     "name": "stderr",
     "output_type": "stream",
     "text": [
      "                                                                                \r"
     ]
    }
   ],
   "source": [
    "for column in ['auth', 'gender', 'level', 'method', 'page', 'status', 'userAgent']:\n",
    "    df.groupBy(column).count().orderBy(col(\"count\").desc()).show(df.count(), truncate=False)"
   ]
  },
  {
   "cell_type": "markdown",
   "metadata": {},
   "source": [
    "## Only keep OS information from 'userAgent'"
   ]
  },
  {
   "cell_type": "code",
   "execution_count": 154,
   "metadata": {},
   "outputs": [],
   "source": [
    "df = df.withColumn('userAgent', \n",
    "                   when(col('userAgent').contains('Mac'), 'Mac')\n",
    "                   .when(col('userAgent').contains('Windows'), 'Windows')\n",
    "                   .when(col('userAgent').contains('Linux'), 'Linux')\n",
    "                   .otherwise('Other'))"
   ]
  },
  {
   "cell_type": "markdown",
   "metadata": {},
   "source": [
    "## Remove unnecessary columns\n",
    "- Both 'auth' and 'page' contain churn (cancelled) data. The only additional info 'auth' provides is whether a user is logged in or out. \n",
    "- The \"firstName\" and \"lastName\" are removed to maintain user privacy. \n",
    "- HTTP 'method' is unlikely to impact churn.\n",
    "- 'artist' and 'song' are too high dimensional. Song will be removed later so avg songs per session can be calculated.\n",
    "- 'location' is also too high domensional, either remove it or create clusters. We will do the former for simplicity."
   ]
  },
  {
   "cell_type": "code",
   "execution_count": 155,
   "metadata": {},
   "outputs": [],
   "source": [
    "df = df.drop(\"auth\", \"firstName\", \"lastName\", \"method\", \"artist\", \"location\")"
   ]
  },
  {
   "cell_type": "markdown",
   "metadata": {},
   "source": [
    "# Exploratory Data Analysis & Cleaning"
   ]
  },
  {
   "cell_type": "code",
   "execution_count": 156,
   "metadata": {},
   "outputs": [],
   "source": [
    "# Register DataFrame as SQL temporary view\n",
    "df.createOrReplaceTempView(\"data\")"
   ]
  },
  {
   "cell_type": "markdown",
   "metadata": {},
   "source": [
    "## Data Exploration: Null values\n",
    "Print the number of null values in each column."
   ]
  },
  {
   "cell_type": "code",
   "execution_count": 157,
   "metadata": {},
   "outputs": [
    {
     "name": "stderr",
     "output_type": "stream",
     "text": [
      "[Stage 1849:===================================================>  (17 + 1) / 18]\r"
     ]
    },
    {
     "name": "stdout",
     "output_type": "stream",
     "text": [
      "+----------+------------+-------------------+------------+-----------+----------+------------------+---------------+------------+--------+---------------+------------+\n",
      "|total_rows|gender_nulls|itemInSession_nulls|length_nulls|level_nulls|page_nulls|registration_nulls|sessionId_nulls|status_nulls|ts_nulls|userAgent_nulls|userId_nulls|\n",
      "+----------+------------+-------------------+------------+-----------+----------+------------------+---------------+------------+--------+---------------+------------+\n",
      "|     94411|        2923|                  0|       19661|          0|         0|              2923|              0|           0|       0|              0|           0|\n",
      "+----------+------------+-------------------+------------+-----------+----------+------------------+---------------+------------+--------+---------------+------------+\n",
      "\n"
     ]
    },
    {
     "name": "stderr",
     "output_type": "stream",
     "text": [
      "                                                                                \r"
     ]
    }
   ],
   "source": [
    "null_counts = spark.sql(\"\"\"\n",
    "SELECT \n",
    "    COUNT(*) AS total_rows,\n",
    "    SUM(CASE WHEN gender IS NULL THEN 1 ELSE 0 END) AS gender_nulls,\n",
    "    SUM(CASE WHEN itemInSession IS NULL THEN 1 ELSE 0 END) AS itemInSession_nulls,\n",
    "    SUM(CASE WHEN length IS NULL THEN 1 ELSE 0 END) AS length_nulls,\n",
    "    SUM(CASE WHEN level IS NULL THEN 1 ELSE 0 END) AS level_nulls,\n",
    "    SUM(CASE WHEN page IS NULL THEN 1 ELSE 0 END) AS page_nulls,\n",
    "    SUM(CASE WHEN registration IS NULL THEN 1 ELSE 0 END) AS registration_nulls,\n",
    "    SUM(CASE WHEN sessionId IS NULL THEN 1 ELSE 0 END) AS sessionId_nulls,\n",
    "    SUM(CASE WHEN status IS NULL THEN 1 ELSE 0 END) AS status_nulls,\n",
    "    SUM(CASE WHEN ts IS NULL THEN 1 ELSE 0 END) AS ts_nulls,\n",
    "    SUM(CASE WHEN userAgent IS NULL THEN 1 ELSE 0 END) AS userAgent_nulls,\n",
    "    SUM(CASE WHEN userId IS NULL THEN 1 ELSE 0 END) AS userId_nulls\n",
    "FROM data\n",
    "\"\"\")\n",
    "null_counts.show()\n"
   ]
  },
  {
   "cell_type": "markdown",
   "metadata": {},
   "source": [
    "# Fill missing values\n",
    "Having missing data itself can sometimes be predictive so we will fill the null values to indicate they were missing."
   ]
  },
  {
   "cell_type": "code",
   "execution_count": 158,
   "metadata": {},
   "outputs": [],
   "source": [
    "filled_df = df.na.fill({\n",
    "    \"gender\": \"Missing\",\n",
    "    \"userAgent\": \"Missing\",\n",
    "    \"length\": 0\n",
    "})\n",
    "filled_df.createOrReplaceTempView(\"filled_data\")"
   ]
  },
  {
   "cell_type": "markdown",
   "metadata": {},
   "source": [
    "## Data Cleaning: Non-null and paid users only\n",
    "- Remove all users where userID is null. \n",
    "- Remove all users who are on the free tier and never upgrade but keep all data for users who were on the paid tier at least once. While free tier users can churn by not using the platform anymore, the behaviour may be different between users who are not willing to pay and who have paid at least once. We are also only interested in the churn of paid subscribers."
   ]
  },
  {
   "cell_type": "code",
   "execution_count": 159,
   "metadata": {},
   "outputs": [
    {
     "name": "stderr",
     "output_type": "stream",
     "text": [
      "                                                                                \r"
     ]
    },
    {
     "name": "stdout",
     "output_type": "stream",
     "text": [
      "+-------+-------------+---------+-----+---------------+-------------+---------+--------------------+------+-------------+---------+-------+\n",
      "| gender|itemInSession|   length|level|           page| registration|sessionId|                song|status|           ts|userAgent| userId|\n",
      "+-------+-------------+---------+-----+---------------+-------------+---------+--------------------+------+-------------+---------+-------+\n",
      "|      M|           34|      0.0| free|           Home|1537382061000|    10220|                null|   200|1538352022000|    Linux|1240184|\n",
      "|      F|           17|179.85261| paid|       NextSong|1537067154000|    13073|  Here It Goes Again|   200|1538352102000|  Windows|1456236|\n",
      "|      M|           12|296.82893| free|       NextSong|1536380587000|    24226|You Mean The Worl...|   200|1538352116000|  Windows|1993639|\n",
      "|      M|          110|388.98893| paid|       NextSong|1537598715000|    23131|      Hombre Al Agua|   200|1538352163000|      Mac|1567145|\n",
      "|      M|          194|235.96363| paid|       NextSong|1533063730000|     3616|Broken Cloud (199...|   200|1538352193000|      Mac|1372969|\n",
      "|Missing|            0|      0.0| free|          Login|         null|    23471|                null|   307|1538352259000|    Other|1261737|\n",
      "|      M|          146|213.39383| paid|       NextSong|1532012740000|    14269|     Sexy Sexy Lover|   200|1538352278000|  Windows|1031277|\n",
      "|      M|           84|441.83465| paid|       NextSong|1537163880000|     1775|   Splitting An Atom|   200|1538352337000|  Windows|1004888|\n",
      "|      M|          149| 288.7571| paid|       NextSong|1537149747000|     5971|      Piccolo Cesare|   200|1538352346000|      Mac|1604150|\n",
      "|      M|           36|238.99383| paid|       NextSong|1536338134000|    22164|     Solo un segundo|   200|1538352393000|  Windows|1272059|\n",
      "|      F|           32|296.80281| free|       NextSong|1535363856000|    11873|Distant Early War...|   200|1538352510000|      Mac|1786875|\n",
      "|      M|          220| 77.94893| paid|       NextSong|1528492321000|     7157| Keiner auÃÂer uns|   200|1538352535000|      Mac|1141231|\n",
      "|      M|          146|300.53832| paid|       NextSong|1534936699000|     8274|We Will Become Si...|   200|1538352543000|  Windows|1487256|\n",
      "|      F|           43|      0.0| paid|Add to Playlist|1533811258000|    24605|                null|   200|1538352592000|  Windows|1874716|\n",
      "|      F|           20|      0.0| free|      Thumbs Up|1532036668000|     3598|                null|   307|1538352623000|      Mac|1851656|\n",
      "|      M|          116|447.58159| paid|       NextSong|1536514306000|    23827| I Can't Help Myself|   200|1538352626000|  Windows|1036042|\n",
      "|      F|            6| 303.5424| paid|       NextSong|1533890420000|     9838|          Miss World|   200|1538352662000|  Windows|1694987|\n",
      "|      M|          127|      0.0| paid|           Help|1536350937000|    23686|                null|   200|1538352702000|  Windows|1759311|\n",
      "|      F|          196|264.35873| paid|       NextSong|1520997320000|     6776|    Never Let You Go|   200|1538352715000|      Mac|1872648|\n",
      "|      M|            9|195.49995| paid|       NextSong|1536319956000|    23454|               Birth|   200|1538352720000|    Linux|1435418|\n",
      "+-------+-------------+---------+-----+---------------+-------------+---------+--------------------+------+-------------+---------+-------+\n",
      "only showing top 20 rows\n",
      "\n"
     ]
    },
    {
     "name": "stderr",
     "output_type": "stream",
     "text": [
      "[Stage 1859:===================================================>  (17 + 1) / 18]\r"
     ]
    },
    {
     "name": "stdout",
     "output_type": "stream",
     "text": [
      "Total sampled records: 77375\n"
     ]
    },
    {
     "name": "stderr",
     "output_type": "stream",
     "text": [
      "                                                                                \r"
     ]
    }
   ],
   "source": [
    "paid_users = spark.sql(\"\"\"\n",
    "WITH PaidUsers AS (\n",
    "    SELECT DISTINCT userId\n",
    "    FROM filled_data\n",
    "    WHERE userId IS NOT NULL AND level = 'paid'\n",
    ")\n",
    "SELECT filled_data.*\n",
    "FROM filled_data\n",
    "JOIN PaidUsers\n",
    "ON filled_data.userId = PaidUsers.userId\n",
    "\"\"\")\n",
    "\n",
    "paid_users.createOrReplaceTempView(\"paid_users_data\")\n",
    "\n",
    "paid_users.show()\n",
    "print(\"Total sampled records:\", paid_users.count())"
   ]
  },
  {
   "cell_type": "markdown",
   "metadata": {},
   "source": [
    "## Filter out rows where 'registration' is null\n",
    "'registration' is null for a small number of users."
   ]
  },
  {
   "cell_type": "code",
   "execution_count": 160,
   "metadata": {},
   "outputs": [],
   "source": [
    "paid_users = paid_users.filter(col(\"registration\").isNotNull())"
   ]
  },
  {
   "cell_type": "markdown",
   "metadata": {},
   "source": [
    "## Create Target (Churn) Labels\n",
    "Flag users who have a session where page==“Cancellation Confirmation”"
   ]
  },
  {
   "cell_type": "code",
   "execution_count": 161,
   "metadata": {},
   "outputs": [],
   "source": [
    "# # Flag the specific churn event\n",
    "# paid_users = paid_users.withColumn(\"is_churn\", when(col(\"page\") == \"Cancellation Confirmation\", 1).otherwise(0))\n",
    "\n",
    "# # Propagate churn label across all records for each user\n",
    "# windowSpec = Window.partitionBy(\"userId\")\n",
    "# paid_users = paid_users.withColumn(\"churn\", max(\"is_churn\").over(windowSpec))\n",
    "\n",
    "# paid_users = paid_users.drop('is_churn')\n",
    "# paid_users.show()\n"
   ]
  },
  {
   "cell_type": "markdown",
   "metadata": {},
   "source": [
    "## Aggrigate sessionID\n",
    "Useful information maybe total session length, total items in a session, count of each page visited, etc."
   ]
  },
  {
   "cell_type": "code",
   "execution_count": 162,
   "metadata": {},
   "outputs": [
    {
     "name": "stderr",
     "output_type": "stream",
     "text": [
      "[Stage 1865:===================================================>  (17 + 1) / 18]\r"
     ]
    },
    {
     "name": "stdout",
     "output_type": "stream",
     "text": [
      "+---------+------+-------------+------+-----+-------------+-------------+---------+-------+-------------+\n",
      "|sessionId|gender|itemInSession|length|level| registration|           ts|userAgent| userId|numberOfSongs|\n",
      "+---------+------+-------------+------+-----+-------------+-------------+---------+-------+-------------+\n",
      "|        9|     M|          324|  1580| paid|1538159495000|1538967916000|      Mac|1693371|            5|\n",
      "|       51|     F|          158|   764| paid|1534613601000|1538356702000|  Windows|1796037|            2|\n",
      "|       57|     M|           20|   351| free|1537956751000|1538429468000|  Windows|1763093|            1|\n",
      "|       95|     F|           18|   926| paid|1537149749000|1538516508000|      Mac|1916668|            2|\n",
      "|      111|     M|          199|   609| free|1536032681000|1538681284000|  Windows|1144920|            2|\n",
      "|      116|     F|           81|  1037| free|1537142824000|1538501694000|  Windows|1895009|            4|\n",
      "|      139|     F|           25|   714| free|1536642109000|1538406568000|  Windows|1381561|            2|\n",
      "|      142|     F|           33|   304| free|1534255113000|1538406785000|      Mac|1132164|            1|\n",
      "|      158|     M|           51|   640| free|1509854193000|1538518223000|  Windows|1888150|            3|\n",
      "|      179|     M|           70|   241| paid|1535096179000|1539171077000|  Windows|1343125|            1|\n",
      "|      219|     F|          287|  1556| paid|1535108734000|1538546155000|      Mac|1518089|            6|\n",
      "|      235|     M|          108|   202| paid|1529995579000|1538391619000|  Windows|1038423|            1|\n",
      "|      253|     M|            2|   152| paid|1536396483000|1539123285000|      Mac|1300791|            1|\n",
      "|      254|     M|          302|  1832| paid|1537836974000|1538566807000|      Mac|1538560|            8|\n",
      "|      257|     M|          254|   496| paid|1538188752000|1538530112000|  Windows|1638393|            2|\n",
      "|      278|     F|          224|  1377| paid|1523464964000|1538928436000|      Mac|1341329|            6|\n",
      "|      287|     M|           33|     0| paid|1522793334000|1538366155000|      Mac|1782550|            0|\n",
      "|      294|     F|           45|    78| paid|1536830078000|1538448310000|      Mac|1117708|            1|\n",
      "|      304|     M|           34|   179| paid|1529954711000|1538447586000|  Windows|1693787|            1|\n",
      "|      328|     F|          391|  1268| paid|1537417271000|1538525478000|  Windows|1792790|            6|\n",
      "+---------+------+-------------+------+-----+-------------+-------------+---------+-------+-------------+\n",
      "only showing top 20 rows\n",
      "\n"
     ]
    },
    {
     "name": "stderr",
     "output_type": "stream",
     "text": [
      "                                                                                \r"
     ]
    }
   ],
   "source": [
    "df_grouped = paid_users.groupBy(\"sessionId\").agg(\n",
    "    first(\"gender\").alias(\"gender\"),\n",
    "    max(\"itemInSession\").alias(\"itemInSession\"),\n",
    "    sum(\"length\").alias(\"length\"),\n",
    "    first(\"level\").alias(\"level\"),\n",
    "    first(\"registration\").alias(\"registration\"),\n",
    "    min(\"ts\").alias(\"ts\"),\n",
    "    first(\"userAgent\").alias(\"userAgent\"),\n",
    "    first(\"userId\").alias(\"userId\"),\n",
    "    # first(\"churn\").alias(\"churn\"),\n",
    "    count(when(col(\"song\").isNotNull(), True)).alias(\"numberOfSongs\")\n",
    ")\n",
    "\n",
    "# Convert total_length to integer\n",
    "df_grouped = df_grouped.withColumn('length', col('length').cast('integer'))\n",
    "\n",
    "df_grouped.show()"
   ]
  },
  {
   "cell_type": "markdown",
   "metadata": {},
   "source": [
    "## Add features\n",
    "- Average session length & deviation from average.\n",
    "- Total number of sessions\n",
    "- Average songs per session & deviation from average.\n"
   ]
  },
  {
   "cell_type": "code",
   "execution_count": 163,
   "metadata": {},
   "outputs": [
    {
     "name": "stderr",
     "output_type": "stream",
     "text": [
      "                                                                                \r"
     ]
    },
    {
     "name": "stdout",
     "output_type": "stream",
     "text": [
      "+-------+---------+------+-------------+------+-----+-------------+-------------+---------+-------------+------------------+--------------+---------------------+-------------------------+------------------------+\n",
      "| userId|sessionId|gender|itemInSession|length|level| registration|           ts|userAgent|numberOfSongs|avg_session_length|total_sessions|avg_songs_per_session|deviation_from_avg_length|deviation_from_avg_songs|\n",
      "+-------+---------+------+-------------+------+-----+-------------+-------------+---------+-------------+------------------+--------------+---------------------+-------------------------+------------------------+\n",
      "|1358765|      391|     M|           53|   202| free|1531826529000|1538366868000|      Mac|            1|               231|             2|                  1.0|                      -29|                     0.0|\n",
      "|1358765|    69417|     M|           13|   260| paid|1531826529000|1539345791000|      Mac|            1|               231|             2|                  1.0|                       29|                     0.0|\n",
      "|1528396|     1046|     F|            4|   386| paid|1537302025000|1538422796000|  Windows|            1|               386|             1|                  1.0|                        0|                     0.0|\n",
      "|1396135|     1615|     F|           27|   195| paid|1532867081000|1538522539000|  Windows|            1|               467|             2|                  2.0|                     -272|                    -1.0|\n",
      "|1396135|    35048|     F|          160|   739| paid|1532867081000|1538696350000|  Windows|            3|               467|             2|                  2.0|                      272|                     1.0|\n",
      "|1500901|    63435|     M|           27|   422| paid|1536367391000|1539541265000|  Windows|            2|               345|             5|                  1.4|                       77|      0.6000000000000001|\n",
      "|1500901|    27054|     M|           44|   201| paid|1536367391000|1538658499000|  Windows|            1|               345|             5|                  1.4|                     -144|     -0.3999999999999999|\n",
      "|1500901|     2873|     M|          186|   501| paid|1536367391000|1538389891000|  Windows|            1|               345|             5|                  1.4|                      156|     -0.3999999999999999|\n",
      "|1500901|    48034|     M|           31|   365| paid|1536367391000|1539119371000|  Windows|            2|               345|             5|                  1.4|                       20|      0.6000000000000001|\n",
      "|1500901|    42522|     M|           21|   237| paid|1536367391000|1538758839000|  Windows|            1|               345|             5|                  1.4|                     -108|     -0.3999999999999999|\n",
      "|1338783|    57850|     F|           79|   608| paid|1537789139000|1539377199000|      Mac|            2|               409|             4|                 1.75|                      199|                    0.25|\n",
      "|1338783|    29218|     F|           41|   396| free|1537789139000|1538681615000|      Mac|            2|               409|             4|                 1.75|                      -13|                    0.25|\n",
      "|1338783|     3902|     F|           55|   173| free|1537789139000|1538427250000|      Mac|            1|               409|             4|                 1.75|                     -236|                   -0.75|\n",
      "|1338783|    44078|     F|            7|   461| paid|1537789139000|1538758290000|      Mac|            2|               409|             4|                 1.75|                       52|                    0.25|\n",
      "|1083324|    46675|     M|          258|  1977| paid|1530667839000|1538864501000|      Mac|            8|               576|             5|                  2.4|                     1401|                     5.6|\n",
      "|1083324|    43169|     M|           48|   289| paid|1530667839000|1538729516000|      Mac|            1|               576|             5|                  2.4|                     -287|                    -1.4|\n",
      "|1083324|    34454|     M|           66|   293| paid|1530667839000|1538668221000|      Mac|            1|               576|             5|                  2.4|                     -283|                    -1.4|\n",
      "|1083324|    32994|     M|           29|   142| paid|1530667839000|1538514972000|      Mac|            1|               576|             5|                  2.4|                     -434|                    -1.4|\n",
      "|1083324|     6013|     M|           66|   181| free|1530667839000|1538383966000|      Mac|            1|               576|             5|                  2.4|                     -395|                    -1.4|\n",
      "|1578670|    76410|     F|          181|  1045| paid|1532216009000|1539392012000|  Windows|            4|               460|             3|                  2.0|                      585|                     2.0|\n",
      "+-------+---------+------+-------------+------+-----+-------------+-------------+---------+-------------+------------------+--------------+---------------------+-------------------------+------------------------+\n",
      "only showing top 20 rows\n",
      "\n"
     ]
    }
   ],
   "source": [
    "# Calculate total length and number of sessions for average calculation\n",
    "user_session_stats = df_grouped.groupBy(\"userId\").agg(\n",
    "    avg(\"length\").cast('integer').alias(\"avg_session_length\"),\n",
    "    countDistinct(\"sessionId\").alias(\"total_sessions\"),\n",
    "    avg(\"numberOfSongs\").alias(\"avg_songs_per_session\")\n",
    ")\n",
    "\n",
    "# Join back to the main DataFrame\n",
    "df_grouped_fe = df_grouped.join(user_session_stats, \"userId\")\n",
    "\n",
    "df_grouped_fe = df_grouped_fe.withColumn(\"deviation_from_avg_length\",\n",
    "                                   col(\"length\") - col(\"avg_session_length\"))\n",
    "df_grouped_fe = df_grouped_fe.withColumn(\"deviation_from_avg_songs\",\n",
    "                                   col(\"numberOfSongs\") - col(\"avg_songs_per_session\"))\n",
    "\n",
    "df_grouped_fe.show()"
   ]
  },
  {
   "cell_type": "markdown",
   "metadata": {},
   "source": [
    "## Create new column for each page and status"
   ]
  },
  {
   "cell_type": "code",
   "execution_count": 164,
   "metadata": {},
   "outputs": [
    {
     "name": "stderr",
     "output_type": "stream",
     "text": [
      "                                                                                \r"
     ]
    }
   ],
   "source": [
    "# Pivot for the page column\n",
    "page_counts = paid_users.groupBy(\"sessionId\").pivot(\"page\").count().na.fill(0)\n",
    "\n",
    "# Pivot for the status column\n",
    "status_counts = paid_users.groupBy(\"sessionId\").pivot(\"status\").count().na.fill(0)\n"
   ]
  },
  {
   "cell_type": "markdown",
   "metadata": {},
   "source": [
    "## Check that “Submit Downgrade” does not directly lead to cancellations"
   ]
  },
  {
   "cell_type": "code",
   "execution_count": 165,
   "metadata": {},
   "outputs": [
    {
     "name": "stderr",
     "output_type": "stream",
     "text": [
      "[Stage 1905:===================================================>  (17 + 1) / 18]\r"
     ]
    },
    {
     "name": "stdout",
     "output_type": "stream",
     "text": [
      "+----------------------+----------------+\n",
      "|Count of Cancellations|Total Downgrades|\n",
      "+----------------------+----------------+\n",
      "|                     0|              30|\n",
      "+----------------------+----------------+\n",
      "\n"
     ]
    },
    {
     "name": "stderr",
     "output_type": "stream",
     "text": [
      "                                                                                \r"
     ]
    }
   ],
   "source": [
    "# Filter to include only sessions with at least one 'Submit Downgrade'\n",
    "downgrade_to_cancel = page_counts.filter(col(\"Submit Downgrade\") > 0)\n",
    "\n",
    "# Group by sessionId, and count the number of 'Cancellation Confirmation'\n",
    "downgrade_to_cancel = downgrade_to_cancel.groupBy(\"sessionId\").agg(\n",
    "    sum(when(col(\"Cancellation Confirmation\") > 0, 1).otherwise(0)).alias(\"Cancellation Occurred\")\n",
    ")\n",
    "\n",
    "# Calculate the total number of cancellations and the total number of sessions with downgrades\n",
    "downgrade_to_cancel_summary = downgrade_to_cancel.select(\n",
    "    count(when(col(\"Cancellation Occurred\") > 0, True)).alias(\"Count of Cancellations\"),\n",
    "    count(\"*\").alias(\"Total Downgrades\")\n",
    ")\n",
    "\n",
    "# Show the results\n",
    "downgrade_to_cancel_summary.show()\n"
   ]
  },
  {
   "cell_type": "markdown",
   "metadata": {},
   "source": [
    "## Join page and status with the original dataset"
   ]
  },
  {
   "cell_type": "code",
   "execution_count": 166,
   "metadata": {},
   "outputs": [
    {
     "name": "stderr",
     "output_type": "stream",
     "text": [
      "[Stage 1926:=============================================>        (15 + 3) / 18]\r"
     ]
    },
    {
     "name": "stdout",
     "output_type": "stream",
     "text": [
      "+---------+-------+------+-------------+------+-----+-------------+-------------+---------+-------------+------------------+--------------+---------------------+-------------------------+------------------------+-----+----------+---------------+------+-------------------------+---------+-----+----+----+------+--------+-----------+-------------+--------+----------------+--------------+-----------+---------+-------+---+---+---+\n",
      "|sessionId| userId|gender|itemInSession|length|level| registration|           ts|userAgent|numberOfSongs|avg_session_length|total_sessions|avg_songs_per_session|deviation_from_avg_length|deviation_from_avg_songs|About|Add Friend|Add to Playlist|Cancel|Cancellation Confirmation|Downgrade|Error|Help|Home|Logout|NextSong|Roll Advert|Save Settings|Settings|Submit Downgrade|Submit Upgrade|Thumbs Down|Thumbs Up|Upgrade|200|307|404|\n",
      "+---------+-------+------+-------------+------+-----+-------------+-------------+---------+-------------+------------------+--------------+---------------------+-------------------------+------------------------+-----+----------+---------------+------+-------------------------+---------+-----+----+----+------+--------+-----------+-------------+--------+----------------+--------------+-----------+---------+-------+---+---+---+\n",
      "|      391|1358765|     M|           53|   202| free|1531826529000|1538366868000|      Mac|            1|               231|             2|                  1.0|                      -29|                     0.0|    0|         0|              0|     0|                        0|        0|    0|   0|   0|     0|       1|          0|            0|       0|               0|             0|          0|        0|      0|  1|  0|  0|\n",
      "|    69417|1358765|     M|           13|   260| paid|1531826529000|1539345791000|      Mac|            1|               231|             2|                  1.0|                       29|                     0.0|    0|         0|              0|     0|                        0|        0|    0|   0|   0|     0|       1|          0|            0|       0|               0|             0|          0|        0|      0|  1|  0|  0|\n",
      "|     1046|1528396|     F|            4|   386| paid|1537302025000|1538422796000|  Windows|            1|               386|             1|                  1.0|                        0|                     0.0|    0|         0|              0|     0|                        0|        0|    0|   0|   0|     0|       1|          0|            0|       0|               0|             0|          0|        0|      0|  1|  0|  0|\n",
      "|     1615|1396135|     F|           27|   195| paid|1532867081000|1538522539000|  Windows|            1|               467|             2|                  2.0|                     -272|                    -1.0|    0|         0|              0|     0|                        0|        0|    0|   0|   0|     0|       1|          0|            0|       0|               0|             0|          0|        0|      0|  1|  0|  0|\n",
      "|    35048|1396135|     F|          160|   739| paid|1532867081000|1538696350000|  Windows|            3|               467|             2|                  2.0|                      272|                     1.0|    0|         1|              0|     0|                        0|        0|    0|   0|   0|     0|       3|          0|            0|       0|               0|             0|          0|        0|      0|  3|  1|  0|\n",
      "|    63435|1500901|     M|           27|   422| paid|1536367391000|1539541265000|  Windows|            2|               345|             5|                  1.4|                       77|      0.6000000000000001|    0|         0|              0|     0|                        0|        0|    0|   0|   0|     0|       2|          0|            0|       0|               0|             0|          0|        0|      0|  2|  0|  0|\n",
      "|    27054|1500901|     M|           44|   201| paid|1536367391000|1538658499000|  Windows|            1|               345|             5|                  1.4|                     -144|     -0.3999999999999999|    0|         0|              0|     0|                        0|        0|    0|   0|   0|     0|       1|          0|            0|       0|               0|             0|          0|        0|      0|  1|  0|  0|\n",
      "|     2873|1500901|     M|          186|   501| paid|1536367391000|1538389891000|  Windows|            1|               345|             5|                  1.4|                      156|     -0.3999999999999999|    0|         1|              0|     0|                        0|        0|    0|   0|   0|     0|       1|          0|            0|       0|               0|             0|          0|        0|      0|  1|  1|  0|\n",
      "|    48034|1500901|     M|           31|   365| paid|1536367391000|1539119371000|  Windows|            2|               345|             5|                  1.4|                       20|      0.6000000000000001|    0|         0|              0|     0|                        0|        0|    0|   0|   0|     0|       2|          0|            0|       0|               0|             0|          0|        0|      0|  2|  0|  0|\n",
      "|    42522|1500901|     M|           21|   237| paid|1536367391000|1538758839000|  Windows|            1|               345|             5|                  1.4|                     -108|     -0.3999999999999999|    0|         0|              0|     0|                        0|        0|    0|   0|   0|     0|       1|          0|            0|       0|               0|             0|          0|        0|      0|  1|  0|  0|\n",
      "|    57850|1338783|     F|           79|   608| paid|1537789139000|1539377199000|      Mac|            2|               409|             4|                 1.75|                      199|                    0.25|    0|         0|              0|     0|                        0|        0|    0|   0|   0|     0|       2|          0|            0|       0|               0|             0|          1|        0|      0|  2|  1|  0|\n",
      "|    29218|1338783|     F|           41|   396| free|1537789139000|1538681615000|      Mac|            2|               409|             4|                 1.75|                      -13|                    0.25|    0|         0|              0|     0|                        0|        0|    0|   0|   0|     0|       2|          0|            0|       0|               0|             0|          0|        0|      0|  2|  0|  0|\n",
      "|     3902|1338783|     F|           55|   173| free|1537789139000|1538427250000|      Mac|            1|               409|             4|                 1.75|                     -236|                   -0.75|    0|         0|              0|     0|                        0|        0|    0|   0|   0|     0|       1|          0|            0|       0|               0|             0|          0|        0|      0|  1|  0|  0|\n",
      "|    44078|1338783|     F|            7|   461| paid|1537789139000|1538758290000|      Mac|            2|               409|             4|                 1.75|                       52|                    0.25|    0|         0|              0|     0|                        0|        0|    0|   0|   0|     0|       2|          0|            0|       0|               0|             0|          0|        0|      0|  2|  0|  0|\n",
      "|    46675|1083324|     M|          258|  1977| paid|1530667839000|1538864501000|      Mac|            8|               576|             5|                  2.4|                     1401|                     5.6|    0|         0|              0|     0|                        0|        0|    0|   0|   0|     0|       8|          0|            0|       0|               0|             0|          0|        0|      0|  8|  0|  0|\n",
      "|    43169|1083324|     M|           48|   289| paid|1530667839000|1538729516000|      Mac|            1|               576|             5|                  2.4|                     -287|                    -1.4|    0|         0|              0|     0|                        0|        0|    0|   0|   1|     0|       1|          0|            0|       0|               0|             0|          0|        0|      0|  2|  0|  0|\n",
      "|    34454|1083324|     M|           66|   293| paid|1530667839000|1538668221000|      Mac|            1|               576|             5|                  2.4|                     -283|                    -1.4|    0|         0|              0|     0|                        0|        0|    0|   0|   0|     0|       1|          0|            0|       0|               0|             0|          0|        0|      0|  1|  0|  0|\n",
      "|    32994|1083324|     M|           29|   142| paid|1530667839000|1538514972000|      Mac|            1|               576|             5|                  2.4|                     -434|                    -1.4|    0|         0|              0|     0|                        0|        0|    0|   0|   0|     0|       1|          0|            0|       0|               0|             0|          0|        0|      0|  1|  0|  0|\n",
      "|     6013|1083324|     M|           66|   181| free|1530667839000|1538383966000|      Mac|            1|               576|             5|                  2.4|                     -395|                    -1.4|    0|         0|              0|     0|                        0|        0|    0|   0|   0|     0|       1|          0|            0|       0|               0|             0|          0|        0|      1|  2|  0|  0|\n",
      "|    76410|1578670|     F|          181|  1045| paid|1532216009000|1539392012000|  Windows|            4|               460|             3|                  2.0|                      585|                     2.0|    0|         0|              0|     0|                        0|        0|    0|   0|   0|     0|       4|          0|            0|       0|               0|             0|          1|        1|      0|  4|  2|  0|\n",
      "+---------+-------+------+-------------+------+-----+-------------+-------------+---------+-------------+------------------+--------------+---------------------+-------------------------+------------------------+-----+----------+---------------+------+-------------------------+---------+-----+----+----+------+--------+-----------+-------------+--------+----------------+--------------+-----------+---------+-------+---+---+---+\n",
      "only showing top 20 rows\n",
      "\n"
     ]
    },
    {
     "name": "stderr",
     "output_type": "stream",
     "text": [
      "                                                                                \r"
     ]
    }
   ],
   "source": [
    "# page_counts = page_counts.drop('Cancellation Confirmation')\n",
    "\n",
    "# Join page counts\n",
    "df_grouped_all = df_grouped_fe.join(page_counts, on=\"sessionId\", how=\"left\")\n",
    "\n",
    "# Join status counts\n",
    "df_grouped_all = df_grouped_all.join(status_counts, on=\"sessionId\", how=\"left\")\n",
    "\n",
    "\n",
    "df_grouped_all.show()"
   ]
  },
  {
   "cell_type": "markdown",
   "metadata": {},
   "source": [
    "## Convert UNIX timestamps to readable format\n",
    "Also do time-based analysis to understand usage patterns over time."
   ]
  },
  {
   "cell_type": "code",
   "execution_count": 167,
   "metadata": {},
   "outputs": [
    {
     "name": "stderr",
     "output_type": "stream",
     "text": [
      "[Stage 1950:==========================================>           (14 + 4) / 18]\r"
     ]
    },
    {
     "name": "stdout",
     "output_type": "stream",
     "text": [
      "+---------+-------+------+-------------+------+-----+---------+-------------+------------------+--------------+---------------------+-------------------------+------------------------+-----+----------+---------------+------+-------------------------+---------+-----+----+----+------+--------+-----------+-------------+--------+----------------+--------------+-----------+---------+-------+---+---+---+-------------------+-------------------+------+----------------+\n",
      "|sessionId| userId|gender|itemInSession|length|level|userAgent|numberOfSongs|avg_session_length|total_sessions|avg_songs_per_session|deviation_from_avg_length|deviation_from_avg_songs|About|Add Friend|Add to Playlist|Cancel|Cancellation Confirmation|Downgrade|Error|Help|Home|Logout|NextSong|Roll Advert|Save Settings|Settings|Submit Downgrade|Submit Upgrade|Thumbs Down|Thumbs Up|Upgrade|200|307|404|  registration_date|      activity_date|tenure|activity_recency|\n",
      "+---------+-------+------+-------------+------+-----+---------+-------------+------------------+--------------+---------------------+-------------------------+------------------------+-----+----------+---------------+------+-------------------------+---------+-----+----+----+------+--------+-----------+-------------+--------+----------------+--------------+-----------+---------+-------+---+---+---+-------------------+-------------------+------+----------------+\n",
      "|    31688|1000025|     M|          483|  1033| free|  Windows|            4|              1041|             5|                  4.2|                       -8|    -0.20000000000000018|    0|         0|              0|     0|                        0|        0|    0|   0|   1|     0|       4|          0|            0|       0|               0|             0|          0|        0|      0|  5|  0|  0|2018-07-10 09:30:08|2018-10-02 19:33:09|    84|               0|\n",
      "|    39243|1000025|     M|          157|  2274| paid|  Windows|            8|              1041|             5|                  4.2|                     1233|                     3.8|    0|         0|              0|     0|                        0|        0|    0|   0|   1|     0|       8|          0|            0|       0|               0|             0|          0|        1|      0|  9|  1|  0|2018-07-10 09:30:08|2018-10-04 01:43:55|    86|            1810|\n",
      "|    51998|1000025|     M|           85|   830| paid|  Windows|            3|              1041|             5|                  4.2|                     -211|     -1.2000000000000002|    0|         0|              0|     0|                        0|        0|    0|   0|   0|     0|       3|          0|            0|       0|               0|             0|          0|        0|      0|  3|  0|  0|2018-07-10 09:30:08|2018-10-07 16:34:50|    89|            5210|\n",
      "|    60612|1000025|     M|          146|   919| paid|  Windows|            5|              1041|             5|                  4.2|                     -122|      0.7999999999999998|    0|         0|              0|     0|                        0|        0|    0|   0|   1|     0|       5|          0|            0|       0|               0|             0|          0|        0|      0|  6|  0|  0|2018-07-10 09:30:08|2018-10-10 00:32:37|    92|            3357|\n",
      "|    69552|1000025|     M|           65|   152| paid|  Windows|            1|              1041|             5|                  4.2|                     -889|                    -3.2|    0|         0|              0|     0|                        0|        0|    0|   0|   0|     0|       1|          0|            0|       0|               0|             0|          0|        0|      0|  1|  0|  0|2018-07-10 09:30:08|2018-10-11 22:38:38|    93|            2766|\n",
      "|     6761|1000083|     M|            8|   231| free|  Windows|            1|               263|             7|   1.1428571428571428|                      -32|     -0.1428571428571428|    0|         0|              0|     0|                        0|        0|    0|   0|   0|     0|       1|          0|            0|       0|               0|             0|          0|        0|      0|  1|  0|  0|2018-09-07 18:01:49|2018-10-01 06:06:07|    24|               0|\n",
      "|    31703|1000083|     M|           25|   185| free|  Windows|            1|               263|             7|   1.1428571428571428|                      -78|     -0.1428571428571428|    0|         0|              0|     0|                        0|        0|    0|   0|   0|     0|       1|          0|            0|       0|               0|             0|          0|        0|      0|  1|  0|  0|2018-09-07 18:01:49|2018-10-02 15:37:07|    25|            2011|\n",
      "|    37154|1000083|     M|            9|   181| free|  Windows|            1|               263|             7|   1.1428571428571428|                      -82|     -0.1428571428571428|    0|         0|              0|     0|                        0|        0|    0|   0|   0|     0|       1|          1|            0|       0|               0|             0|          0|        0|      0|  2|  0|  0|2018-09-07 18:01:49|2018-10-04 05:58:56|    27|            2301|\n",
      "|    41028|1000083|     M|          161|   216| free|  Windows|            1|               263|             7|   1.1428571428571428|                      -47|     -0.1428571428571428|    0|         0|              0|     0|                        0|        0|    0|   0|   2|     0|       1|          0|            0|       0|               0|             0|          0|        1|      0|  3|  1|  0|2018-09-07 18:01:49|2018-10-08 22:13:56|    31|            6735|\n",
      "|    60037|1000083|     M|           24|   352| paid|  Windows|            2|               263|             7|   1.1428571428571428|                       89|      0.8571428571428572|    0|         0|              0|     0|                        0|        0|    0|   0|   0|     0|       2|          0|            0|       0|               0|             0|          0|        0|      0|  2|  0|  0|2018-09-07 18:01:49|2018-10-09 07:50:34|    32|             576|\n",
      "|    60636|1000083|     M|           30|   401| paid|  Windows|            1|               263|             7|   1.1428571428571428|                      138|     -0.1428571428571428|    0|         0|              0|     0|                        0|        0|    0|   0|   0|     0|       1|          0|            0|       0|               0|             0|          0|        0|      0|  1|  0|  0|2018-09-07 18:01:49|2018-10-10 00:45:58|    33|            1015|\n",
      "|    72494|1000083|     M|           33|   278| paid|  Windows|            1|               263|             7|   1.1428571428571428|                       15|     -0.1428571428571428|    0|         0|              0|     0|                        0|        0|    0|   0|   0|     0|       1|          0|            0|       0|               0|             0|          0|        0|      0|  1|  0|  0|2018-09-07 18:01:49|2018-10-12 03:17:15|    35|            3031|\n",
      "|     7584|1000214|     M|           50|   349| paid|  Windows|            1|               234|             3|                  1.0|                      115|                     0.0|    0|         0|              0|     0|                        0|        0|    0|   0|   0|     0|       1|          0|            0|       0|               0|             0|          0|        0|      0|  1|  0|  0|2018-09-18 00:37:57|2018-10-03 13:24:01|    15|               0|\n",
      "|    48617|1000214|     M|           74|   201| paid|  Windows|            1|               234|             3|                  1.0|                      -33|                     0.0|    0|         0|              0|     0|                        0|        0|    0|   0|   0|     0|       1|          0|            0|       0|               0|             0|          0|        1|      0|  1|  1|  0|2018-09-18 00:37:57|2018-10-06 07:54:30|    18|            3990|\n",
      "|    83781|1000214|     M|           38|   154| free|  Windows|            1|               234|             3|                  1.0|                      -80|                     0.0|    0|         1|              0|     0|                        0|        0|    0|   0|   0|     0|       1|          0|            0|       0|               0|             0|          0|        0|      0|  1|  1|  0|2018-09-18 00:37:57|2018-10-15 13:21:52|    27|           13287|\n",
      "|    37655|1000248|     F|          422|  2496| paid|  Windows|            9|              2496|             1|                  9.0|                        0|                     0.0|    0|         1|              0|     0|                        0|        0|    0|   0|   1|     1|       9|          0|            0|       0|               0|             0|          0|        0|      0| 10|  2|  0|2018-08-19 23:56:14|2018-10-11 22:56:39|    53|               0|\n",
      "|    18819|1000353|     F|           68|   251| paid|  Windows|            1|               251|             1|                  1.0|                        0|                     0.0|    0|         0|              0|     0|                        0|        0|    0|   0|   0|     0|       1|          0|            0|       0|               0|             0|          0|        0|      0|  1|  0|  0|2018-05-02 11:37:39|2018-10-01 01:36:42|   152|               0|\n",
      "|    26783|1000407|     M|          178|   975| paid|  Windows|            4|               763|             3|                  3.0|                      212|                     1.0|    0|         0|              0|     0|                        0|        0|    0|   0|   0|     0|       4|          0|            0|       0|               0|             0|          0|        0|      0|  4|  0|  0|2018-09-19 12:11:24|2018-10-02 21:18:11|    13|               0|\n",
      "|    36255|1000407|     M|           94|   760| paid|  Windows|            3|               763|             3|                  3.0|                       -3|                     0.0|    0|         0|              0|     0|                        0|        0|    0|   0|   0|     0|       3|          0|            0|       0|               0|             0|          0|        0|      0|  3|  0|  0|2018-09-19 12:11:24|2018-10-10 16:29:15|    21|           11231|\n",
      "|    67668|1000407|     M|           78|   554| paid|  Windows|            2|               763|             3|                  3.0|                     -209|                    -1.0|    0|         0|              0|     0|                        0|        0|    0|   0|   0|     0|       2|          0|            0|       0|               0|             0|          0|        0|      0|  2|  0|  0|2018-09-19 12:11:24|2018-10-12 11:28:15|    23|            2579|\n",
      "+---------+-------+------+-------------+------+-----+---------+-------------+------------------+--------------+---------------------+-------------------------+------------------------+-----+----------+---------------+------+-------------------------+---------+-----+----+----+------+--------+-----------+-------------+--------+----------------+--------------+-----------+---------+-------+---+---+---+-------------------+-------------------+------+----------------+\n",
      "only showing top 20 rows\n",
      "\n"
     ]
    },
    {
     "name": "stderr",
     "output_type": "stream",
     "text": [
      "                                                                                \r"
     ]
    }
   ],
   "source": [
    "# Make date format human-readable \n",
    "df_tenure = df_grouped_all.withColumn('registration_date', from_unixtime(col('registration') / 1000).cast('timestamp'))\n",
    "df_tenure = df_tenure.withColumn('activity_date', from_unixtime(col('ts') / 1000).cast('timestamp'))\n",
    "df_tenure = df_tenure.drop(\"ts\", \"registration\")\n",
    "\n",
    "user_window = Window.partitionBy(\"userId\").orderBy(\"activity_date\")\n",
    "\n",
    "# Calculate tenure in days\n",
    "df_tenure = df_tenure.withColumn('tenure', datediff(to_date(col('activity_date')), to_date(col('registration_date'))))\n",
    "\n",
    "# Calculate activity recency in minutes\n",
    "df_tenure = df_tenure.withColumn('previous_activity_date', lag('activity_date').over(user_window))\n",
    "df_tenure = df_tenure.withColumn('activity_recency', (unix_timestamp('activity_date') - unix_timestamp('previous_activity_date')) / 60)\n",
    "\n",
    "# Convert activity_recency to integer\n",
    "df_tenure = df_tenure.withColumn('activity_recency', col('activity_recency').cast('integer'))\n",
    "\n",
    "# Replace nulls with 0\n",
    "df_tenure = df_tenure.withColumn('activity_recency', coalesce(col('activity_recency'), lit(0)))\n",
    "\n",
    "df_tenure = df_tenure.drop('previous_activity_date')\n",
    "\n",
    "df_tenure.show()"
   ]
  },
  {
   "cell_type": "markdown",
   "metadata": {},
   "source": [
    "## Adjust the churn labels so that the 3 sessions leading up to the actual churn are marked as churn=1\n",
    "- For a given user, the churn column 'Cancellation Confirmation' is 1 for the session that the user churns and 0 for all other sessions. \n",
    "- Churn needs to be predicted ahead of time so preventative measures can be taken.\n",
    "- There is likely a behavioural change that occurs ahead of time that can be used to predict churn. \n",
    "- Here, the 3 sessions leading up to the actual churn date are also labeled as churn for each user."
   ]
  },
  {
   "cell_type": "code",
   "execution_count": 177,
   "metadata": {},
   "outputs": [
    {
     "name": "stderr",
     "output_type": "stream",
     "text": [
      "                                                                                \r"
     ]
    },
    {
     "name": "stdout",
     "output_type": "stream",
     "text": [
      "+---------+-------+------+-------------+------+-----+---------+-------------+------------------+--------------+---------------------+-------------------------+------------------------+-----+----------+---------------+------+-----+---------+-----+----+----+------+--------+-----------+-------------+--------+----------------+--------------+-----------+---------+-------+---+---+---+-------------------+-------------------+------+----------------+\n",
      "|sessionId| userId|gender|itemInSession|length|level|userAgent|numberOfSongs|avg_session_length|total_sessions|avg_songs_per_session|deviation_from_avg_length|deviation_from_avg_songs|About|Add Friend|Add to Playlist|Cancel|churn|Downgrade|Error|Help|Home|Logout|NextSong|Roll Advert|Save Settings|Settings|Submit Downgrade|Submit Upgrade|Thumbs Down|Thumbs Up|Upgrade|200|307|404|  registration_date|      activity_date|tenure|activity_recency|\n",
      "+---------+-------+------+-------------+------+-----+---------+-------------+------------------+--------------+---------------------+-------------------------+------------------------+-----+----------+---------------+------+-----+---------+-----+----+----+------+--------+-----------+-------------+--------+----------------+--------------+-----------+---------+-------+---+---+---+-------------------+-------------------+------+----------------+\n",
      "|    31688|1000025|     M|          483|  1033| free|  Windows|            4|              1041|             5|                  4.2|                       -8|    -0.20000000000000018|    0|         0|              0|     0|    0|        0|    0|   0|   1|     0|       4|          0|            0|       0|               0|             0|          0|        0|      0|  5|  0|  0|2018-07-10 09:30:08|2018-10-02 19:33:09|    84|               0|\n",
      "|    39243|1000025|     M|          157|  2274| paid|  Windows|            8|              1041|             5|                  4.2|                     1233|                     3.8|    0|         0|              0|     0|    0|        0|    0|   0|   1|     0|       8|          0|            0|       0|               0|             0|          0|        1|      0|  9|  1|  0|2018-07-10 09:30:08|2018-10-04 01:43:55|    86|            1810|\n",
      "|    51998|1000025|     M|           85|   830| paid|  Windows|            3|              1041|             5|                  4.2|                     -211|     -1.2000000000000002|    0|         0|              0|     0|    0|        0|    0|   0|   0|     0|       3|          0|            0|       0|               0|             0|          0|        0|      0|  3|  0|  0|2018-07-10 09:30:08|2018-10-07 16:34:50|    89|            5210|\n",
      "|    60612|1000025|     M|          146|   919| paid|  Windows|            5|              1041|             5|                  4.2|                     -122|      0.7999999999999998|    0|         0|              0|     0|    0|        0|    0|   0|   1|     0|       5|          0|            0|       0|               0|             0|          0|        0|      0|  6|  0|  0|2018-07-10 09:30:08|2018-10-10 00:32:37|    92|            3357|\n",
      "|    69552|1000025|     M|           65|   152| paid|  Windows|            1|              1041|             5|                  4.2|                     -889|                    -3.2|    0|         0|              0|     0|    0|        0|    0|   0|   0|     0|       1|          0|            0|       0|               0|             0|          0|        0|      0|  1|  0|  0|2018-07-10 09:30:08|2018-10-11 22:38:38|    93|            2766|\n",
      "|     6761|1000083|     M|            8|   231| free|  Windows|            1|               263|             7|   1.1428571428571428|                      -32|     -0.1428571428571428|    0|         0|              0|     0|    0|        0|    0|   0|   0|     0|       1|          0|            0|       0|               0|             0|          0|        0|      0|  1|  0|  0|2018-09-07 18:01:49|2018-10-01 06:06:07|    24|               0|\n",
      "|    31703|1000083|     M|           25|   185| free|  Windows|            1|               263|             7|   1.1428571428571428|                      -78|     -0.1428571428571428|    0|         0|              0|     0|    0|        0|    0|   0|   0|     0|       1|          0|            0|       0|               0|             0|          0|        0|      0|  1|  0|  0|2018-09-07 18:01:49|2018-10-02 15:37:07|    25|            2011|\n",
      "|    37154|1000083|     M|            9|   181| free|  Windows|            1|               263|             7|   1.1428571428571428|                      -82|     -0.1428571428571428|    0|         0|              0|     0|    0|        0|    0|   0|   0|     0|       1|          1|            0|       0|               0|             0|          0|        0|      0|  2|  0|  0|2018-09-07 18:01:49|2018-10-04 05:58:56|    27|            2301|\n",
      "|    41028|1000083|     M|          161|   216| free|  Windows|            1|               263|             7|   1.1428571428571428|                      -47|     -0.1428571428571428|    0|         0|              0|     0|    0|        0|    0|   0|   2|     0|       1|          0|            0|       0|               0|             0|          0|        1|      0|  3|  1|  0|2018-09-07 18:01:49|2018-10-08 22:13:56|    31|            6735|\n",
      "|    60037|1000083|     M|           24|   352| paid|  Windows|            2|               263|             7|   1.1428571428571428|                       89|      0.8571428571428572|    0|         0|              0|     0|    0|        0|    0|   0|   0|     0|       2|          0|            0|       0|               0|             0|          0|        0|      0|  2|  0|  0|2018-09-07 18:01:49|2018-10-09 07:50:34|    32|             576|\n",
      "|    60636|1000083|     M|           30|   401| paid|  Windows|            1|               263|             7|   1.1428571428571428|                      138|     -0.1428571428571428|    0|         0|              0|     0|    0|        0|    0|   0|   0|     0|       1|          0|            0|       0|               0|             0|          0|        0|      0|  1|  0|  0|2018-09-07 18:01:49|2018-10-10 00:45:58|    33|            1015|\n",
      "|    72494|1000083|     M|           33|   278| paid|  Windows|            1|               263|             7|   1.1428571428571428|                       15|     -0.1428571428571428|    0|         0|              0|     0|    0|        0|    0|   0|   0|     0|       1|          0|            0|       0|               0|             0|          0|        0|      0|  1|  0|  0|2018-09-07 18:01:49|2018-10-12 03:17:15|    35|            3031|\n",
      "|     7584|1000214|     M|           50|   349| paid|  Windows|            1|               234|             3|                  1.0|                      115|                     0.0|    0|         0|              0|     0|    0|        0|    0|   0|   0|     0|       1|          0|            0|       0|               0|             0|          0|        0|      0|  1|  0|  0|2018-09-18 00:37:57|2018-10-03 13:24:01|    15|               0|\n",
      "|    48617|1000214|     M|           74|   201| paid|  Windows|            1|               234|             3|                  1.0|                      -33|                     0.0|    0|         0|              0|     0|    0|        0|    0|   0|   0|     0|       1|          0|            0|       0|               0|             0|          0|        1|      0|  1|  1|  0|2018-09-18 00:37:57|2018-10-06 07:54:30|    18|            3990|\n",
      "|    83781|1000214|     M|           38|   154| free|  Windows|            1|               234|             3|                  1.0|                      -80|                     0.0|    0|         1|              0|     0|    0|        0|    0|   0|   0|     0|       1|          0|            0|       0|               0|             0|          0|        0|      0|  1|  1|  0|2018-09-18 00:37:57|2018-10-15 13:21:52|    27|           13287|\n",
      "|    37655|1000248|     F|          422|  2496| paid|  Windows|            9|              2496|             1|                  9.0|                        0|                     0.0|    0|         1|              0|     0|    0|        0|    0|   0|   1|     1|       9|          0|            0|       0|               0|             0|          0|        0|      0| 10|  2|  0|2018-08-19 23:56:14|2018-10-11 22:56:39|    53|               0|\n",
      "|    18819|1000353|     F|           68|   251| paid|  Windows|            1|               251|             1|                  1.0|                        0|                     0.0|    0|         0|              0|     0|    0|        0|    0|   0|   0|     0|       1|          0|            0|       0|               0|             0|          0|        0|      0|  1|  0|  0|2018-05-02 11:37:39|2018-10-01 01:36:42|   152|               0|\n",
      "|    26783|1000407|     M|          178|   975| paid|  Windows|            4|               763|             3|                  3.0|                      212|                     1.0|    0|         0|              0|     0|    0|        0|    0|   0|   0|     0|       4|          0|            0|       0|               0|             0|          0|        0|      0|  4|  0|  0|2018-09-19 12:11:24|2018-10-02 21:18:11|    13|               0|\n",
      "|    36255|1000407|     M|           94|   760| paid|  Windows|            3|               763|             3|                  3.0|                       -3|                     0.0|    0|         0|              0|     0|    0|        0|    0|   0|   0|     0|       3|          0|            0|       0|               0|             0|          0|        0|      0|  3|  0|  0|2018-09-19 12:11:24|2018-10-10 16:29:15|    21|           11231|\n",
      "|    67668|1000407|     M|           78|   554| paid|  Windows|            2|               763|             3|                  3.0|                     -209|                    -1.0|    0|         0|              0|     0|    0|        0|    0|   0|   0|     0|       2|          0|            0|       0|               0|             0|          0|        0|      0|  2|  0|  0|2018-09-19 12:11:24|2018-10-12 11:28:15|    23|            2579|\n",
      "+---------+-------+------+-------------+------+-----+---------+-------------+------------------+--------------+---------------------+-------------------------+------------------------+-----+----------+---------------+------+-----+---------+-----+----+----+------+--------+-----------+-------------+--------+----------------+--------------+-----------+---------+-------+---+---+---+-------------------+-------------------+------+----------------+\n",
      "only showing top 20 rows\n",
      "\n"
     ]
    }
   ],
   "source": [
    "# Rename churn column\n",
    "df_churn = df_tenure.withColumnRenamed(\"Cancellation Confirmation\", \"churn\")\n",
    "\n",
    "# Create a window partitioned by userId and ordered descending by activity_date\n",
    "windowDesc = Window.partitionBy(\"userId\").orderBy(col(\"activity_date\").desc())\n",
    "\n",
    "# Assuming df has a 'churn' column marked 1 at the actual churn session\n",
    "df_churn = df_churn.withColumn(\"label_1\", lead(\"churn\", 1).over(user_window))\n",
    "df_churn = df_churn.withColumn(\"label_2\", lead(\"churn\", 2).over(user_window))\n",
    "df_churn = df_churn.withColumn(\"label_3\", lead(\"churn\", 3).over(user_window))\n",
    "\n",
    "# Use coalesce to treat nulls as 0 in the churn calculation\n",
    "df_churn = df_churn.withColumn(\"churn\", when(\n",
    "    (col(\"churn\") == 1) | \n",
    "    (coalesce(col(\"label_1\"), lit(0)) == 1) | \n",
    "    (coalesce(col(\"label_2\"), lit(0)) == 1) | \n",
    "    (coalesce(col(\"label_3\"), lit(0)) == 1),\n",
    "    1\n",
    ").otherwise(0))\n",
    "\n",
    "# Clean up temporary columns\n",
    "df_churn = df_churn.drop(\"label_1\", \"label_2\", \"label_3\")\n",
    "\n",
    "df_churn.show()"
   ]
  },
  {
   "cell_type": "markdown",
   "metadata": {},
   "source": [
    "## Check user 1121796 has churn=1 for the last 3 sessions before churn"
   ]
  },
  {
   "cell_type": "code",
   "execution_count": 178,
   "metadata": {},
   "outputs": [
    {
     "name": "stderr",
     "output_type": "stream",
     "text": [
      "                                                                                \r"
     ]
    },
    {
     "name": "stdout",
     "output_type": "stream",
     "text": [
      "+---------+-------+------+-------------+------+-----+---------+-------------+------------------+--------------+---------------------+-------------------------+------------------------+-----+----------+---------------+------+-----+---------+-----+----+----+------+--------+-----------+-------------+--------+----------------+--------------+-----------+---------+-------+---+---+---+-------------------+-------------------+------+----------------+\n",
      "|sessionId| userId|gender|itemInSession|length|level|userAgent|numberOfSongs|avg_session_length|total_sessions|avg_songs_per_session|deviation_from_avg_length|deviation_from_avg_songs|About|Add Friend|Add to Playlist|Cancel|churn|Downgrade|Error|Help|Home|Logout|NextSong|Roll Advert|Save Settings|Settings|Submit Downgrade|Submit Upgrade|Thumbs Down|Thumbs Up|Upgrade|200|307|404|  registration_date|      activity_date|tenure|activity_recency|\n",
      "+---------+-------+------+-------------+------+-----+---------+-------------+------------------+--------------+---------------------+-------------------------+------------------------+-----+----------+---------------+------+-----+---------+-----+----+----+------+--------+-----------+-------------+--------+----------------+--------------+-----------+---------+-------+---+---+---+-------------------+-------------------+------+----------------+\n",
      "|    25225|1121796|     M|           26|   236| free|  Windows|            1|               514|            12|   1.9166666666666667|                     -278|     -0.9166666666666667|    0|         0|              0|     0|    0|        0|    0|   0|   0|     0|       1|          0|            0|       0|               0|             0|          0|        0|      0|  1|  0|  0|2018-09-17 03:27:58|2018-10-01 08:20:13|    14|               0|\n",
      "|    26463|1121796|     M|           37|   864| free|  Windows|            3|               514|            12|   1.9166666666666667|                      350|      1.0833333333333333|    0|         0|              0|     0|    0|        0|    0|   0|   0|     0|       3|          0|            0|       0|               0|             0|          0|        0|      0|  3|  0|  0|2018-09-17 03:27:58|2018-10-01 14:19:37|    14|             359|\n",
      "|    28188|1121796|     M|          211|   675| free|  Windows|            3|               514|            12|   1.9166666666666667|                      161|      1.0833333333333333|    0|         0|              0|     0|    0|        0|    0|   0|   0|     0|       3|          0|            0|       0|               0|             0|          0|        0|      1|  4|  0|  0|2018-09-17 03:27:58|2018-10-02 03:44:18|    15|             804|\n",
      "|    32399|1121796|     M|           16|   239| free|  Windows|            1|               514|            12|   1.9166666666666667|                     -275|     -0.9166666666666667|    0|         0|              0|     0|    0|        0|    0|   0|   0|     0|       1|          0|            0|       0|               0|             0|          0|        0|      0|  1|  0|  0|2018-09-17 03:27:58|2018-10-02 20:37:24|    15|            1013|\n",
      "|    38116|1121796|     M|            9|   348| free|  Windows|            1|               514|            12|   1.9166666666666667|                     -166|     -0.9166666666666667|    0|         0|              0|     0|    0|        0|    0|   0|   0|     0|       1|          0|            0|       0|               0|             0|          0|        0|      0|  1|  0|  0|2018-09-17 03:27:58|2018-10-03 17:12:11|    16|            1234|\n",
      "|    39495|1121796|     M|           10|   552| free|  Windows|            2|               514|            12|   1.9166666666666667|                       38|     0.08333333333333326|    0|         0|              0|     0|    0|        0|    0|   0|   0|     0|       2|          0|            0|       0|               0|             0|          0|        0|      0|  2|  0|  0|2018-09-17 03:27:58|2018-10-04 05:24:42|    17|             732|\n",
      "|    40991|1121796|     M|           38|   655| free|  Windows|            1|               514|            12|   1.9166666666666667|                      141|     -0.9166666666666667|    0|         0|              0|     0|    0|        0|    0|   0|   1|     0|       1|          0|            0|       0|               0|             0|          0|        0|      0|  2|  0|  0|2018-09-17 03:27:58|2018-10-04 11:33:52|    17|             369|\n",
      "|    42321|1121796|     M|           38|   603| free|  Windows|            3|               514|            12|   1.9166666666666667|                       89|      1.0833333333333333|    0|         0|              0|     0|    0|        0|    0|   0|   0|     0|       3|          0|            0|       0|               0|             0|          0|        0|      0|  3|  0|  0|2018-09-17 03:27:58|2018-10-04 21:26:52|    17|             593|\n",
      "|    47478|1121796|     M|           44|   408| free|  Windows|            2|               514|            12|   1.9166666666666667|                     -106|     0.08333333333333326|    0|         0|              0|     0|    1|        0|    0|   0|   0|     0|       2|          0|            0|       0|               0|             0|          0|        0|      0|  2|  0|  0|2018-09-17 03:27:58|2018-10-05 19:49:04|    18|            1342|\n",
      "|    52247|1121796|     M|          137|   440| free|  Windows|            2|               514|            12|   1.9166666666666667|                      -74|     0.08333333333333326|    0|         0|              0|     0|    1|        0|    0|   0|   0|     0|       2|          1|            0|       0|               0|             0|          0|        0|      0|  3|  0|  0|2018-09-17 03:27:58|2018-10-07 13:50:02|    20|            2520|\n",
      "|    54286|1121796|     M|           51|   763| free|  Windows|            2|               514|            12|   1.9166666666666667|                      249|     0.08333333333333326|    0|         0|              0|     0|    1|        0|    0|   0|   0|     0|       2|          0|            0|       0|               0|             0|          0|        0|      0|  2|  0|  0|2018-09-17 03:27:58|2018-10-08 04:23:23|    21|             873|\n",
      "|    58307|1121796|     M|          248|   387| paid|  Windows|            2|               514|            12|   1.9166666666666667|                     -127|     0.08333333333333326|    0|         0|              0|     0|    1|        0|    0|   0|   1|     0|       2|          0|            0|       0|               0|             0|          0|        0|      0|  4|  0|  0|2018-09-17 03:27:58|2018-10-09 07:21:59|    22|            1618|\n",
      "+---------+-------+------+-------------+------+-----+---------+-------------+------------------+--------------+---------------------+-------------------------+------------------------+-----+----------+---------------+------+-----+---------+-----+----+----+------+--------+-----------+-------------+--------+----------------+--------------+-----------+---------+-------+---+---+---+-------------------+-------------------+------+----------------+\n",
      "\n"
     ]
    },
    {
     "name": "stderr",
     "output_type": "stream",
     "text": [
      "                                                                                \r"
     ]
    }
   ],
   "source": [
    "df_churn_check = df_churn.filter(df_churn.userId == 1121796)\n",
    "df_churn_check.show()"
   ]
  },
  {
   "cell_type": "markdown",
   "metadata": {},
   "source": [
    "## One-hot encoding\n",
    "Convert categorical variables into numerical formats"
   ]
  },
  {
   "cell_type": "code",
   "execution_count": 180,
   "metadata": {},
   "outputs": [
    {
     "name": "stderr",
     "output_type": "stream",
     "text": [
      "[Stage 2204:==========================================>           (14 + 4) / 18]\r"
     ]
    },
    {
     "name": "stdout",
     "output_type": "stream",
     "text": [
      "+---------+-------+-------------+------+-------------+------------------+--------------+---------------------+-------------------------+------------------------+-----+----------+---------------+------+-----+---------+-----+----+----+------+--------+-----------+-------------+--------+----------------+--------------+-----------+---------+-------+---+---+---+-------------------+-------------------+------+----------------+-------------+-------------+-------------+\n",
      "|sessionId| userId|itemInSession|length|numberOfSongs|avg_session_length|total_sessions|avg_songs_per_session|deviation_from_avg_length|deviation_from_avg_songs|About|Add Friend|Add to Playlist|Cancel|churn|Downgrade|Error|Help|Home|Logout|NextSong|Roll Advert|Save Settings|Settings|Submit Downgrade|Submit Upgrade|Thumbs Down|Thumbs Up|Upgrade|200|307|404|  registration_date|      activity_date|tenure|activity_recency|    genderVec|     levelVec| userAgentVec|\n",
      "+---------+-------+-------------+------+-------------+------------------+--------------+---------------------+-------------------------+------------------------+-----+----------+---------------+------+-----+---------+-----+----+----+------+--------+-----------+-------------+--------+----------------+--------------+-----------+---------+-------+---+---+---+-------------------+-------------------+------+----------------+-------------+-------------+-------------+\n",
      "|    31688|1000025|          483|  1033|            4|              1041|             5|                  4.2|                       -8|    -0.20000000000000018|    0|         0|              0|     0|    0|        0|    0|   0|   1|     0|       4|          0|            0|       0|               0|             0|          0|        0|      0|  5|  0|  0|2018-07-10 09:30:08|2018-10-02 19:33:09|    84|               0|(2,[0],[1.0])|(2,[1],[1.0])|(3,[0],[1.0])|\n",
      "|    39243|1000025|          157|  2274|            8|              1041|             5|                  4.2|                     1233|                     3.8|    0|         0|              0|     0|    0|        0|    0|   0|   1|     0|       8|          0|            0|       0|               0|             0|          0|        1|      0|  9|  1|  0|2018-07-10 09:30:08|2018-10-04 01:43:55|    86|            1810|(2,[0],[1.0])|(2,[0],[1.0])|(3,[0],[1.0])|\n",
      "|    51998|1000025|           85|   830|            3|              1041|             5|                  4.2|                     -211|     -1.2000000000000002|    0|         0|              0|     0|    0|        0|    0|   0|   0|     0|       3|          0|            0|       0|               0|             0|          0|        0|      0|  3|  0|  0|2018-07-10 09:30:08|2018-10-07 16:34:50|    89|            5210|(2,[0],[1.0])|(2,[0],[1.0])|(3,[0],[1.0])|\n",
      "|    60612|1000025|          146|   919|            5|              1041|             5|                  4.2|                     -122|      0.7999999999999998|    0|         0|              0|     0|    0|        0|    0|   0|   1|     0|       5|          0|            0|       0|               0|             0|          0|        0|      0|  6|  0|  0|2018-07-10 09:30:08|2018-10-10 00:32:37|    92|            3357|(2,[0],[1.0])|(2,[0],[1.0])|(3,[0],[1.0])|\n",
      "|    69552|1000025|           65|   152|            1|              1041|             5|                  4.2|                     -889|                    -3.2|    0|         0|              0|     0|    0|        0|    0|   0|   0|     0|       1|          0|            0|       0|               0|             0|          0|        0|      0|  1|  0|  0|2018-07-10 09:30:08|2018-10-11 22:38:38|    93|            2766|(2,[0],[1.0])|(2,[0],[1.0])|(3,[0],[1.0])|\n",
      "|     6761|1000083|            8|   231|            1|               263|             7|   1.1428571428571428|                      -32|     -0.1428571428571428|    0|         0|              0|     0|    0|        0|    0|   0|   0|     0|       1|          0|            0|       0|               0|             0|          0|        0|      0|  1|  0|  0|2018-09-07 18:01:49|2018-10-01 06:06:07|    24|               0|(2,[0],[1.0])|(2,[1],[1.0])|(3,[0],[1.0])|\n",
      "|    31703|1000083|           25|   185|            1|               263|             7|   1.1428571428571428|                      -78|     -0.1428571428571428|    0|         0|              0|     0|    0|        0|    0|   0|   0|     0|       1|          0|            0|       0|               0|             0|          0|        0|      0|  1|  0|  0|2018-09-07 18:01:49|2018-10-02 15:37:07|    25|            2011|(2,[0],[1.0])|(2,[1],[1.0])|(3,[0],[1.0])|\n",
      "|    37154|1000083|            9|   181|            1|               263|             7|   1.1428571428571428|                      -82|     -0.1428571428571428|    0|         0|              0|     0|    0|        0|    0|   0|   0|     0|       1|          1|            0|       0|               0|             0|          0|        0|      0|  2|  0|  0|2018-09-07 18:01:49|2018-10-04 05:58:56|    27|            2301|(2,[0],[1.0])|(2,[1],[1.0])|(3,[0],[1.0])|\n",
      "|    41028|1000083|          161|   216|            1|               263|             7|   1.1428571428571428|                      -47|     -0.1428571428571428|    0|         0|              0|     0|    0|        0|    0|   0|   2|     0|       1|          0|            0|       0|               0|             0|          0|        1|      0|  3|  1|  0|2018-09-07 18:01:49|2018-10-08 22:13:56|    31|            6735|(2,[0],[1.0])|(2,[1],[1.0])|(3,[0],[1.0])|\n",
      "|    60037|1000083|           24|   352|            2|               263|             7|   1.1428571428571428|                       89|      0.8571428571428572|    0|         0|              0|     0|    0|        0|    0|   0|   0|     0|       2|          0|            0|       0|               0|             0|          0|        0|      0|  2|  0|  0|2018-09-07 18:01:49|2018-10-09 07:50:34|    32|             576|(2,[0],[1.0])|(2,[0],[1.0])|(3,[0],[1.0])|\n",
      "|    60636|1000083|           30|   401|            1|               263|             7|   1.1428571428571428|                      138|     -0.1428571428571428|    0|         0|              0|     0|    0|        0|    0|   0|   0|     0|       1|          0|            0|       0|               0|             0|          0|        0|      0|  1|  0|  0|2018-09-07 18:01:49|2018-10-10 00:45:58|    33|            1015|(2,[0],[1.0])|(2,[0],[1.0])|(3,[0],[1.0])|\n",
      "|    72494|1000083|           33|   278|            1|               263|             7|   1.1428571428571428|                       15|     -0.1428571428571428|    0|         0|              0|     0|    0|        0|    0|   0|   0|     0|       1|          0|            0|       0|               0|             0|          0|        0|      0|  1|  0|  0|2018-09-07 18:01:49|2018-10-12 03:17:15|    35|            3031|(2,[0],[1.0])|(2,[0],[1.0])|(3,[0],[1.0])|\n",
      "|     7584|1000214|           50|   349|            1|               234|             3|                  1.0|                      115|                     0.0|    0|         0|              0|     0|    0|        0|    0|   0|   0|     0|       1|          0|            0|       0|               0|             0|          0|        0|      0|  1|  0|  0|2018-09-18 00:37:57|2018-10-03 13:24:01|    15|               0|(2,[0],[1.0])|(2,[0],[1.0])|(3,[0],[1.0])|\n",
      "|    48617|1000214|           74|   201|            1|               234|             3|                  1.0|                      -33|                     0.0|    0|         0|              0|     0|    0|        0|    0|   0|   0|     0|       1|          0|            0|       0|               0|             0|          0|        1|      0|  1|  1|  0|2018-09-18 00:37:57|2018-10-06 07:54:30|    18|            3990|(2,[0],[1.0])|(2,[0],[1.0])|(3,[0],[1.0])|\n",
      "|    83781|1000214|           38|   154|            1|               234|             3|                  1.0|                      -80|                     0.0|    0|         1|              0|     0|    0|        0|    0|   0|   0|     0|       1|          0|            0|       0|               0|             0|          0|        0|      0|  1|  1|  0|2018-09-18 00:37:57|2018-10-15 13:21:52|    27|           13287|(2,[0],[1.0])|(2,[1],[1.0])|(3,[0],[1.0])|\n",
      "|    37655|1000248|          422|  2496|            9|              2496|             1|                  9.0|                        0|                     0.0|    0|         1|              0|     0|    0|        0|    0|   0|   1|     1|       9|          0|            0|       0|               0|             0|          0|        0|      0| 10|  2|  0|2018-08-19 23:56:14|2018-10-11 22:56:39|    53|               0|(2,[1],[1.0])|(2,[0],[1.0])|(3,[0],[1.0])|\n",
      "|    18819|1000353|           68|   251|            1|               251|             1|                  1.0|                        0|                     0.0|    0|         0|              0|     0|    0|        0|    0|   0|   0|     0|       1|          0|            0|       0|               0|             0|          0|        0|      0|  1|  0|  0|2018-05-02 11:37:39|2018-10-01 01:36:42|   152|               0|(2,[1],[1.0])|(2,[0],[1.0])|(3,[0],[1.0])|\n",
      "|    26783|1000407|          178|   975|            4|               763|             3|                  3.0|                      212|                     1.0|    0|         0|              0|     0|    0|        0|    0|   0|   0|     0|       4|          0|            0|       0|               0|             0|          0|        0|      0|  4|  0|  0|2018-09-19 12:11:24|2018-10-02 21:18:11|    13|               0|(2,[0],[1.0])|(2,[0],[1.0])|(3,[0],[1.0])|\n",
      "|    36255|1000407|           94|   760|            3|               763|             3|                  3.0|                       -3|                     0.0|    0|         0|              0|     0|    0|        0|    0|   0|   0|     0|       3|          0|            0|       0|               0|             0|          0|        0|      0|  3|  0|  0|2018-09-19 12:11:24|2018-10-10 16:29:15|    21|           11231|(2,[0],[1.0])|(2,[0],[1.0])|(3,[0],[1.0])|\n",
      "|    67668|1000407|           78|   554|            2|               763|             3|                  3.0|                     -209|                    -1.0|    0|         0|              0|     0|    0|        0|    0|   0|   0|     0|       2|          0|            0|       0|               0|             0|          0|        0|      0|  2|  0|  0|2018-09-19 12:11:24|2018-10-12 11:28:15|    23|            2579|(2,[0],[1.0])|(2,[0],[1.0])|(3,[0],[1.0])|\n",
      "+---------+-------+-------------+------+-------------+------------------+--------------+---------------------+-------------------------+------------------------+-----+----------+---------------+------+-----+---------+-----+----+----+------+--------+-----------+-------------+--------+----------------+--------------+-----------+---------+-------+---+---+---+-------------------+-------------------+------+----------------+-------------+-------------+-------------+\n",
      "only showing top 20 rows\n",
      "\n"
     ]
    },
    {
     "name": "stderr",
     "output_type": "stream",
     "text": [
      "                                                                                \r"
     ]
    }
   ],
   "source": [
    "# Indexing all categorical columns first\n",
    "origCols = [ \"gender\", \"level\", \"userAgent\"]\n",
    "indexCols = [\"genderIndex\", \"levelIndex\", \"userAgentIndex\"]\n",
    "vecCols=[\"genderVec\", \"levelVec\", \"userAgentVec\"]\n",
    "indexer = StringIndexer(inputCols=origCols, outputCols=indexCols)\n",
    "df_indexed = indexer.fit(df_churn).transform(df_churn)\n",
    "\n",
    "# Applying OneHotEncoder\n",
    "encoder = OneHotEncoder(inputCols=indexCols, outputCols=vecCols, dropLast=False)\n",
    "df_encoded = encoder.fit(df_indexed).transform(df_indexed)\n",
    "\n",
    "allColsToDrop = origCols + indexCols\n",
    "df_encoded = df_encoded.drop(*allColsToDrop)\n",
    "\n",
    "df_encoded.show()"
   ]
  },
  {
   "cell_type": "markdown",
   "metadata": {},
   "source": [
    "## Average Session Interval and Its Standard Deviation\n",
    "- Low average interval between sessions can be a sign that a user enjoys the platform and a low standard deviation shows consistency.\n",
    "- The first entry in activity_recency is zero so this will be ignored. \n",
    "- Users with only one session result in null for the avg and std. The avg is replaces with the global average and std with 0."
   ]
  },
  {
   "cell_type": "code",
   "execution_count": 181,
   "metadata": {},
   "outputs": [
    {
     "name": "stderr",
     "output_type": "stream",
     "text": [
      "                                                                                \r"
     ]
    },
    {
     "name": "stdout",
     "output_type": "stream",
     "text": [
      "+-------+---------+-------------+------+-------------+------------------+--------------+---------------------+-------------------------+------------------------+-----+----------+---------------+------+-----+---------+-----+----+----+------+--------+-----------+-------------+--------+----------------+--------------+-----------+---------+-------+---+---+---+-------------------+-------------------+------+----------------+-------------+-------------+-------------+--------------------+-----------------------+\n",
      "| userId|sessionId|itemInSession|length|numberOfSongs|avg_session_length|total_sessions|avg_songs_per_session|deviation_from_avg_length|deviation_from_avg_songs|About|Add Friend|Add to Playlist|Cancel|churn|Downgrade|Error|Help|Home|Logout|NextSong|Roll Advert|Save Settings|Settings|Submit Downgrade|Submit Upgrade|Thumbs Down|Thumbs Up|Upgrade|200|307|404|  registration_date|      activity_date|tenure|activity_recency|    genderVec|     levelVec| userAgentVec|avg_session_interval|stddev_session_interval|\n",
      "+-------+---------+-------------+------+-------------+------------------+--------------+---------------------+-------------------------+------------------------+-----+----------+---------------+------+-----+---------+-----+----+----+------+--------+-----------+-------------+--------+----------------+--------------+-----------+---------+-------+---+---+---+-------------------+-------------------+------+----------------+-------------+-------------+-------------+--------------------+-----------------------+\n",
      "|1000025|    31688|          483|  1033|            4|              1041|             5|                  4.2|                       -8|    -0.20000000000000018|    0|         0|              0|     0|    0|        0|    0|   0|   1|     0|       4|          0|            0|       0|               0|             0|          0|        0|      0|  5|  0|  0|2018-07-10 09:30:08|2018-10-02 19:33:09|    84|               0|(2,[0],[1.0])|(2,[1],[1.0])|(3,[0],[1.0])|             3285.75|     1432.4562529678408|\n",
      "|1000025|    39243|          157|  2274|            8|              1041|             5|                  4.2|                     1233|                     3.8|    0|         0|              0|     0|    0|        0|    0|   0|   1|     0|       8|          0|            0|       0|               0|             0|          0|        1|      0|  9|  1|  0|2018-07-10 09:30:08|2018-10-04 01:43:55|    86|            1810|(2,[0],[1.0])|(2,[0],[1.0])|(3,[0],[1.0])|             3285.75|     1432.4562529678408|\n",
      "|1000025|    51998|           85|   830|            3|              1041|             5|                  4.2|                     -211|     -1.2000000000000002|    0|         0|              0|     0|    0|        0|    0|   0|   0|     0|       3|          0|            0|       0|               0|             0|          0|        0|      0|  3|  0|  0|2018-07-10 09:30:08|2018-10-07 16:34:50|    89|            5210|(2,[0],[1.0])|(2,[0],[1.0])|(3,[0],[1.0])|             3285.75|     1432.4562529678408|\n",
      "|1000025|    60612|          146|   919|            5|              1041|             5|                  4.2|                     -122|      0.7999999999999998|    0|         0|              0|     0|    0|        0|    0|   0|   1|     0|       5|          0|            0|       0|               0|             0|          0|        0|      0|  6|  0|  0|2018-07-10 09:30:08|2018-10-10 00:32:37|    92|            3357|(2,[0],[1.0])|(2,[0],[1.0])|(3,[0],[1.0])|             3285.75|     1432.4562529678408|\n",
      "|1000025|    69552|           65|   152|            1|              1041|             5|                  4.2|                     -889|                    -3.2|    0|         0|              0|     0|    0|        0|    0|   0|   0|     0|       1|          0|            0|       0|               0|             0|          0|        0|      0|  1|  0|  0|2018-07-10 09:30:08|2018-10-11 22:38:38|    93|            2766|(2,[0],[1.0])|(2,[0],[1.0])|(3,[0],[1.0])|             3285.75|     1432.4562529678408|\n",
      "|1000083|     6761|            8|   231|            1|               263|             7|   1.1428571428571428|                      -32|     -0.1428571428571428|    0|         0|              0|     0|    0|        0|    0|   0|   0|     0|       1|          0|            0|       0|               0|             0|          0|        0|      0|  1|  0|  0|2018-09-07 18:01:49|2018-10-01 06:06:07|    24|               0|(2,[0],[1.0])|(2,[1],[1.0])|(3,[0],[1.0])|              2611.5|     2205.8248117200965|\n",
      "|1000083|    31703|           25|   185|            1|               263|             7|   1.1428571428571428|                      -78|     -0.1428571428571428|    0|         0|              0|     0|    0|        0|    0|   0|   0|     0|       1|          0|            0|       0|               0|             0|          0|        0|      0|  1|  0|  0|2018-09-07 18:01:49|2018-10-02 15:37:07|    25|            2011|(2,[0],[1.0])|(2,[1],[1.0])|(3,[0],[1.0])|              2611.5|     2205.8248117200965|\n",
      "|1000083|    37154|            9|   181|            1|               263|             7|   1.1428571428571428|                      -82|     -0.1428571428571428|    0|         0|              0|     0|    0|        0|    0|   0|   0|     0|       1|          1|            0|       0|               0|             0|          0|        0|      0|  2|  0|  0|2018-09-07 18:01:49|2018-10-04 05:58:56|    27|            2301|(2,[0],[1.0])|(2,[1],[1.0])|(3,[0],[1.0])|              2611.5|     2205.8248117200965|\n",
      "|1000083|    41028|          161|   216|            1|               263|             7|   1.1428571428571428|                      -47|     -0.1428571428571428|    0|         0|              0|     0|    0|        0|    0|   0|   2|     0|       1|          0|            0|       0|               0|             0|          0|        1|      0|  3|  1|  0|2018-09-07 18:01:49|2018-10-08 22:13:56|    31|            6735|(2,[0],[1.0])|(2,[1],[1.0])|(3,[0],[1.0])|              2611.5|     2205.8248117200965|\n",
      "|1000083|    60037|           24|   352|            2|               263|             7|   1.1428571428571428|                       89|      0.8571428571428572|    0|         0|              0|     0|    0|        0|    0|   0|   0|     0|       2|          0|            0|       0|               0|             0|          0|        0|      0|  2|  0|  0|2018-09-07 18:01:49|2018-10-09 07:50:34|    32|             576|(2,[0],[1.0])|(2,[0],[1.0])|(3,[0],[1.0])|              2611.5|     2205.8248117200965|\n",
      "|1000083|    60636|           30|   401|            1|               263|             7|   1.1428571428571428|                      138|     -0.1428571428571428|    0|         0|              0|     0|    0|        0|    0|   0|   0|     0|       1|          0|            0|       0|               0|             0|          0|        0|      0|  1|  0|  0|2018-09-07 18:01:49|2018-10-10 00:45:58|    33|            1015|(2,[0],[1.0])|(2,[0],[1.0])|(3,[0],[1.0])|              2611.5|     2205.8248117200965|\n",
      "|1000083|    72494|           33|   278|            1|               263|             7|   1.1428571428571428|                       15|     -0.1428571428571428|    0|         0|              0|     0|    0|        0|    0|   0|   0|     0|       1|          0|            0|       0|               0|             0|          0|        0|      0|  1|  0|  0|2018-09-07 18:01:49|2018-10-12 03:17:15|    35|            3031|(2,[0],[1.0])|(2,[0],[1.0])|(3,[0],[1.0])|              2611.5|     2205.8248117200965|\n",
      "|1000214|     7584|           50|   349|            1|               234|             3|                  1.0|                      115|                     0.0|    0|         0|              0|     0|    0|        0|    0|   0|   0|     0|       1|          0|            0|       0|               0|             0|          0|        0|      0|  1|  0|  0|2018-09-18 00:37:57|2018-10-03 13:24:01|    15|               0|(2,[0],[1.0])|(2,[0],[1.0])|(3,[0],[1.0])|              8638.5|      6573.971744691333|\n",
      "|1000214|    48617|           74|   201|            1|               234|             3|                  1.0|                      -33|                     0.0|    0|         0|              0|     0|    0|        0|    0|   0|   0|     0|       1|          0|            0|       0|               0|             0|          0|        1|      0|  1|  1|  0|2018-09-18 00:37:57|2018-10-06 07:54:30|    18|            3990|(2,[0],[1.0])|(2,[0],[1.0])|(3,[0],[1.0])|              8638.5|      6573.971744691333|\n",
      "|1000214|    83781|           38|   154|            1|               234|             3|                  1.0|                      -80|                     0.0|    0|         1|              0|     0|    0|        0|    0|   0|   0|     0|       1|          0|            0|       0|               0|             0|          0|        0|      0|  1|  1|  0|2018-09-18 00:37:57|2018-10-15 13:21:52|    27|           13287|(2,[0],[1.0])|(2,[1],[1.0])|(3,[0],[1.0])|              8638.5|      6573.971744691333|\n",
      "|1000248|    37655|          422|  2496|            9|              2496|             1|                  9.0|                        0|                     0.0|    0|         1|              0|     0|    0|        0|    0|   0|   1|     1|       9|          0|            0|       0|               0|             0|          0|        0|      0| 10|  2|  0|2018-08-19 23:56:14|2018-10-11 22:56:39|    53|               0|(2,[1],[1.0])|(2,[0],[1.0])|(3,[0],[1.0])|  2596.6608967866678|                    0.0|\n",
      "|1000353|    18819|           68|   251|            1|               251|             1|                  1.0|                        0|                     0.0|    0|         0|              0|     0|    0|        0|    0|   0|   0|     0|       1|          0|            0|       0|               0|             0|          0|        0|      0|  1|  0|  0|2018-05-02 11:37:39|2018-10-01 01:36:42|   152|               0|(2,[1],[1.0])|(2,[0],[1.0])|(3,[0],[1.0])|  2596.6608967866678|                    0.0|\n",
      "|1000407|    26783|          178|   975|            4|               763|             3|                  3.0|                      212|                     1.0|    0|         0|              0|     0|    0|        0|    0|   0|   0|     0|       4|          0|            0|       0|               0|             0|          0|        0|      0|  4|  0|  0|2018-09-19 12:11:24|2018-10-02 21:18:11|    13|               0|(2,[0],[1.0])|(2,[0],[1.0])|(3,[0],[1.0])|              6905.0|      6117.887870826009|\n",
      "|1000407|    36255|           94|   760|            3|               763|             3|                  3.0|                       -3|                     0.0|    0|         0|              0|     0|    0|        0|    0|   0|   0|     0|       3|          0|            0|       0|               0|             0|          0|        0|      0|  3|  0|  0|2018-09-19 12:11:24|2018-10-10 16:29:15|    21|           11231|(2,[0],[1.0])|(2,[0],[1.0])|(3,[0],[1.0])|              6905.0|      6117.887870826009|\n",
      "|1000407|    67668|           78|   554|            2|               763|             3|                  3.0|                     -209|                    -1.0|    0|         0|              0|     0|    0|        0|    0|   0|   0|     0|       2|          0|            0|       0|               0|             0|          0|        0|      0|  2|  0|  0|2018-09-19 12:11:24|2018-10-12 11:28:15|    23|            2579|(2,[0],[1.0])|(2,[0],[1.0])|(3,[0],[1.0])|              6905.0|      6117.887870826009|\n",
      "+-------+---------+-------------+------+-------------+------------------+--------------+---------------------+-------------------------+------------------------+-----+----------+---------------+------+-----+---------+-----+----+----+------+--------+-----------+-------------+--------+----------------+--------------+-----------+---------+-------+---+---+---+-------------------+-------------------+------+----------------+-------------+-------------+-------------+--------------------+-----------------------+\n",
      "only showing top 20 rows\n",
      "\n"
     ]
    }
   ],
   "source": [
    "# Calculate the average and standard deviation of intervals for each user\n",
    "session_interval_stats = df_encoded.groupBy(\"userId\").agg(\n",
    "    avg(when(col(\"activity_recency\") != 0, col(\"activity_recency\"))).alias(\"avg_session_interval\"),\n",
    "    stddev(when(col(\"activity_recency\") != 0, col(\"activity_recency\"))).alias(\"stddev_session_interval\")\n",
    ")\n",
    "\n",
    "# Join this data back to your main DataFrame\n",
    "df_encoded_fe = df_encoded.join(session_interval_stats, on=\"userId\", how=\"left\")\n",
    "\n",
    "# Calculate the global averages\n",
    "global_avg_interval = df_encoded.filter(col(\"total_sessions\") > 1).agg(\n",
    "    {'activity_recency': 'avg'}\n",
    ").collect()[0][0]\n",
    "\n",
    "# Replace nulls in 'avg_session_interval' with the global average\n",
    "# Replace nulls in 'stddev_session_interval' with 0\n",
    "df_encoded_fe = df_encoded_fe.na.fill({\n",
    "    'avg_session_interval': global_avg_interval,\n",
    "    'stddev_session_interval': 0\n",
    "})\n",
    "\n",
    "df_encoded_fe.show()"
   ]
  },
  {
   "cell_type": "markdown",
   "metadata": {},
   "source": [
    "## Normalise 'length'\n",
    "Normalising 'length' can help identify if a user’s behavior changes significantly from their norm."
   ]
  },
  {
   "cell_type": "code",
   "execution_count": 182,
   "metadata": {},
   "outputs": [
    {
     "name": "stderr",
     "output_type": "stream",
     "text": [
      "                                                                                \r"
     ]
    },
    {
     "name": "stdout",
     "output_type": "stream",
     "text": [
      "+-------+-------------+------+-------------+------------------+--------------+---------------------+-------------------------+------------------------+-----+----------+---------------+------+-----+---------+-----+----+----+------+--------+-----------+-------------+--------+----------------+--------------+-----------+---------+-------+---+---+---+-------------------+-------------------+------+----------------+-------------+-------------+-------------+--------------------+-----------------------+-------------------+\n",
      "| userId|itemInSession|length|numberOfSongs|avg_session_length|total_sessions|avg_songs_per_session|deviation_from_avg_length|deviation_from_avg_songs|About|Add Friend|Add to Playlist|Cancel|churn|Downgrade|Error|Help|Home|Logout|NextSong|Roll Advert|Save Settings|Settings|Submit Downgrade|Submit Upgrade|Thumbs Down|Thumbs Up|Upgrade|200|307|404|  registration_date|      activity_date|tenure|activity_recency|    genderVec|     levelVec| userAgentVec|avg_session_interval|stddev_session_interval|  normalized_length|\n",
      "+-------+-------------+------+-------------+------------------+--------------+---------------------+-------------------------+------------------------+-----+----------+---------------+------+-----+---------+-----+----+----+------+--------+-----------+-------------+--------+----------------+--------------+-----------+---------+-------+---+---+---+-------------------+-------------------+------+----------------+-------------+-------------+-------------+--------------------+-----------------------+-------------------+\n",
      "|1000025|          483|  1033|            4|              1041|             5|                  4.2|                       -8|    -0.20000000000000018|    0|         0|              0|     0|    0|        0|    0|   0|   1|     0|       4|          0|            0|       0|               0|             0|          0|        0|      0|  5|  0|  0|2018-07-10 09:30:08|2018-10-02 19:33:09|    84|               0|(2,[0],[1.0])|(2,[1],[1.0])|(3,[0],[1.0])|             3285.75|     1432.4562529678408| 0.9923150816522575|\n",
      "|1000025|          157|  2274|            8|              1041|             5|                  4.2|                     1233|                     3.8|    0|         0|              0|     0|    0|        0|    0|   0|   1|     0|       8|          0|            0|       0|               0|             0|          0|        1|      0|  9|  1|  0|2018-07-10 09:30:08|2018-10-04 01:43:55|    86|            1810|(2,[0],[1.0])|(2,[0],[1.0])|(3,[0],[1.0])|             3285.75|     1432.4562529678408| 2.1844380403458215|\n",
      "|1000025|           85|   830|            3|              1041|             5|                  4.2|                     -211|     -1.2000000000000002|    0|         0|              0|     0|    0|        0|    0|   0|   0|     0|       3|          0|            0|       0|               0|             0|          0|        0|      0|  3|  0|  0|2018-07-10 09:30:08|2018-10-07 16:34:50|    89|            5210|(2,[0],[1.0])|(2,[0],[1.0])|(3,[0],[1.0])|             3285.75|     1432.4562529678408| 0.7973102785782901|\n",
      "|1000025|          146|   919|            5|              1041|             5|                  4.2|                     -122|      0.7999999999999998|    0|         0|              0|     0|    0|        0|    0|   0|   1|     0|       5|          0|            0|       0|               0|             0|          0|        0|      0|  6|  0|  0|2018-07-10 09:30:08|2018-10-10 00:32:37|    92|            3357|(2,[0],[1.0])|(2,[0],[1.0])|(3,[0],[1.0])|             3285.75|     1432.4562529678408|  0.882804995196926|\n",
      "|1000025|           65|   152|            1|              1041|             5|                  4.2|                     -889|                    -3.2|    0|         0|              0|     0|    0|        0|    0|   0|   0|     0|       1|          0|            0|       0|               0|             0|          0|        0|      0|  1|  0|  0|2018-07-10 09:30:08|2018-10-11 22:38:38|    93|            2766|(2,[0],[1.0])|(2,[0],[1.0])|(3,[0],[1.0])|             3285.75|     1432.4562529678408|0.14601344860710855|\n",
      "|1000083|            8|   231|            1|               263|             7|   1.1428571428571428|                      -32|     -0.1428571428571428|    0|         0|              0|     0|    0|        0|    0|   0|   0|     0|       1|          0|            0|       0|               0|             0|          0|        0|      0|  1|  0|  0|2018-09-07 18:01:49|2018-10-01 06:06:07|    24|               0|(2,[0],[1.0])|(2,[1],[1.0])|(3,[0],[1.0])|              2611.5|     2205.8248117200965| 0.8783269961977186|\n",
      "|1000083|           25|   185|            1|               263|             7|   1.1428571428571428|                      -78|     -0.1428571428571428|    0|         0|              0|     0|    0|        0|    0|   0|   0|     0|       1|          0|            0|       0|               0|             0|          0|        0|      0|  1|  0|  0|2018-09-07 18:01:49|2018-10-02 15:37:07|    25|            2011|(2,[0],[1.0])|(2,[1],[1.0])|(3,[0],[1.0])|              2611.5|     2205.8248117200965| 0.7034220532319392|\n",
      "|1000083|            9|   181|            1|               263|             7|   1.1428571428571428|                      -82|     -0.1428571428571428|    0|         0|              0|     0|    0|        0|    0|   0|   0|     0|       1|          1|            0|       0|               0|             0|          0|        0|      0|  2|  0|  0|2018-09-07 18:01:49|2018-10-04 05:58:56|    27|            2301|(2,[0],[1.0])|(2,[1],[1.0])|(3,[0],[1.0])|              2611.5|     2205.8248117200965|  0.688212927756654|\n",
      "|1000083|          161|   216|            1|               263|             7|   1.1428571428571428|                      -47|     -0.1428571428571428|    0|         0|              0|     0|    0|        0|    0|   0|   2|     0|       1|          0|            0|       0|               0|             0|          0|        1|      0|  3|  1|  0|2018-09-07 18:01:49|2018-10-08 22:13:56|    31|            6735|(2,[0],[1.0])|(2,[1],[1.0])|(3,[0],[1.0])|              2611.5|     2205.8248117200965| 0.8212927756653993|\n",
      "|1000083|           24|   352|            2|               263|             7|   1.1428571428571428|                       89|      0.8571428571428572|    0|         0|              0|     0|    0|        0|    0|   0|   0|     0|       2|          0|            0|       0|               0|             0|          0|        0|      0|  2|  0|  0|2018-09-07 18:01:49|2018-10-09 07:50:34|    32|             576|(2,[0],[1.0])|(2,[0],[1.0])|(3,[0],[1.0])|              2611.5|     2205.8248117200965|  1.338403041825095|\n",
      "|1000083|           30|   401|            1|               263|             7|   1.1428571428571428|                      138|     -0.1428571428571428|    0|         0|              0|     0|    0|        0|    0|   0|   0|     0|       1|          0|            0|       0|               0|             0|          0|        0|      0|  1|  0|  0|2018-09-07 18:01:49|2018-10-10 00:45:58|    33|            1015|(2,[0],[1.0])|(2,[0],[1.0])|(3,[0],[1.0])|              2611.5|     2205.8248117200965| 1.5247148288973384|\n",
      "|1000083|           33|   278|            1|               263|             7|   1.1428571428571428|                       15|     -0.1428571428571428|    0|         0|              0|     0|    0|        0|    0|   0|   0|     0|       1|          0|            0|       0|               0|             0|          0|        0|      0|  1|  0|  0|2018-09-07 18:01:49|2018-10-12 03:17:15|    35|            3031|(2,[0],[1.0])|(2,[0],[1.0])|(3,[0],[1.0])|              2611.5|     2205.8248117200965| 1.0570342205323193|\n",
      "|1000214|           50|   349|            1|               234|             3|                  1.0|                      115|                     0.0|    0|         0|              0|     0|    0|        0|    0|   0|   0|     0|       1|          0|            0|       0|               0|             0|          0|        0|      0|  1|  0|  0|2018-09-18 00:37:57|2018-10-03 13:24:01|    15|               0|(2,[0],[1.0])|(2,[0],[1.0])|(3,[0],[1.0])|              8638.5|      6573.971744691333| 1.4914529914529915|\n",
      "|1000214|           74|   201|            1|               234|             3|                  1.0|                      -33|                     0.0|    0|         0|              0|     0|    0|        0|    0|   0|   0|     0|       1|          0|            0|       0|               0|             0|          0|        1|      0|  1|  1|  0|2018-09-18 00:37:57|2018-10-06 07:54:30|    18|            3990|(2,[0],[1.0])|(2,[0],[1.0])|(3,[0],[1.0])|              8638.5|      6573.971744691333| 0.8589743589743589|\n",
      "|1000214|           38|   154|            1|               234|             3|                  1.0|                      -80|                     0.0|    0|         1|              0|     0|    0|        0|    0|   0|   0|     0|       1|          0|            0|       0|               0|             0|          0|        0|      0|  1|  1|  0|2018-09-18 00:37:57|2018-10-15 13:21:52|    27|           13287|(2,[0],[1.0])|(2,[1],[1.0])|(3,[0],[1.0])|              8638.5|      6573.971744691333| 0.6581196581196581|\n",
      "|1000248|          422|  2496|            9|              2496|             1|                  9.0|                        0|                     0.0|    0|         1|              0|     0|    0|        0|    0|   0|   1|     1|       9|          0|            0|       0|               0|             0|          0|        0|      0| 10|  2|  0|2018-08-19 23:56:14|2018-10-11 22:56:39|    53|               0|(2,[1],[1.0])|(2,[0],[1.0])|(3,[0],[1.0])|  2596.6608967866678|                    0.0|                1.0|\n",
      "|1000353|           68|   251|            1|               251|             1|                  1.0|                        0|                     0.0|    0|         0|              0|     0|    0|        0|    0|   0|   0|     0|       1|          0|            0|       0|               0|             0|          0|        0|      0|  1|  0|  0|2018-05-02 11:37:39|2018-10-01 01:36:42|   152|               0|(2,[1],[1.0])|(2,[0],[1.0])|(3,[0],[1.0])|  2596.6608967866678|                    0.0|                1.0|\n",
      "|1000407|          178|   975|            4|               763|             3|                  3.0|                      212|                     1.0|    0|         0|              0|     0|    0|        0|    0|   0|   0|     0|       4|          0|            0|       0|               0|             0|          0|        0|      0|  4|  0|  0|2018-09-19 12:11:24|2018-10-02 21:18:11|    13|               0|(2,[0],[1.0])|(2,[0],[1.0])|(3,[0],[1.0])|              6905.0|      6117.887870826009| 1.2778505897771952|\n",
      "|1000407|           94|   760|            3|               763|             3|                  3.0|                       -3|                     0.0|    0|         0|              0|     0|    0|        0|    0|   0|   0|     0|       3|          0|            0|       0|               0|             0|          0|        0|      0|  3|  0|  0|2018-09-19 12:11:24|2018-10-10 16:29:15|    21|           11231|(2,[0],[1.0])|(2,[0],[1.0])|(3,[0],[1.0])|              6905.0|      6117.887870826009| 0.9960681520314548|\n",
      "|1000407|           78|   554|            2|               763|             3|                  3.0|                     -209|                    -1.0|    0|         0|              0|     0|    0|        0|    0|   0|   0|     0|       2|          0|            0|       0|               0|             0|          0|        0|      0|  2|  0|  0|2018-09-19 12:11:24|2018-10-12 11:28:15|    23|            2579|(2,[0],[1.0])|(2,[0],[1.0])|(3,[0],[1.0])|              6905.0|      6117.887870826009| 0.7260812581913499|\n",
      "+-------+-------------+------+-------------+------------------+--------------+---------------------+-------------------------+------------------------+-----+----------+---------------+------+-----+---------+-----+----+----+------+--------+-----------+-------------+--------+----------------+--------------+-----------+---------+-------+---+---+---+-------------------+-------------------+------+----------------+-------------+-------------+-------------+--------------------+-----------------------+-------------------+\n",
      "only showing top 20 rows\n",
      "\n"
     ]
    }
   ],
   "source": [
    "norm_lengths = df_encoded_fe.drop(\"sessionId\")\n",
    "\n",
    "user_window = Window.partitionBy(\"userId\")\n",
    "\n",
    "# Calculate the normalised average session length\n",
    "# norm_lengths = df_encoded_fe.withColumn(\"avg_session_length\", avg(\"length\").over(user_window))\n",
    "norm_lengths = norm_lengths.withColumn(\"normalized_length\", col(\"length\") / col(\"avg_session_length\"))\n",
    "\n",
    "norm_lengths.show()"
   ]
  },
  {
   "cell_type": "markdown",
   "metadata": {},
   "source": [
    "## Feature Scaling\n",
    "\n",
    " models that rely on gradient descent or distance calculations from being skewed by the range of feature values."
   ]
  },
  {
   "cell_type": "markdown",
   "metadata": {},
   "source": [
    "## Train-Test Split:\n",
    "- Ensure that users in the training set do not appear in the test set. This prevents leakage and ensures that the model can generalise to entirely new users."
   ]
  },
  {
   "cell_type": "code",
   "execution_count": 191,
   "metadata": {},
   "outputs": [
    {
     "name": "stderr",
     "output_type": "stream",
     "text": [
      "                                                                                \r"
     ]
    },
    {
     "name": "stdout",
     "output_type": "stream",
     "text": [
      "+-------+-------------+------+-------------+------------------+--------------+---------------------+-------------------------+------------------------+-----+----------+---------------+------+-----+---------+-----+----+----+------+--------+-----------+-------------+--------+----------------+--------------+-----------+---------+-------+---+---+---+-------------------+-------------------+------+----------------+-------------+-------------+-------------+--------------------+-----------------------+-------------------+-----+\n",
      "| userId|itemInSession|length|numberOfSongs|avg_session_length|total_sessions|avg_songs_per_session|deviation_from_avg_length|deviation_from_avg_songs|About|Add Friend|Add to Playlist|Cancel|churn|Downgrade|Error|Help|Home|Logout|NextSong|Roll Advert|Save Settings|Settings|Submit Downgrade|Submit Upgrade|Thumbs Down|Thumbs Up|Upgrade|200|307|404|  registration_date|      activity_date|tenure|activity_recency|    genderVec|     levelVec| userAgentVec|avg_session_interval|stddev_session_interval|  normalized_length|churn|\n",
      "+-------+-------------+------+-------------+------------------+--------------+---------------------+-------------------------+------------------------+-----+----------+---------------+------+-----+---------+-----+----+----+------+--------+-----------+-------------+--------+----------------+--------------+-----------+---------+-------+---+---+---+-------------------+-------------------+------+----------------+-------------+-------------+-------------+--------------------+-----------------------+-------------------+-----+\n",
      "|1000025|          483|  1033|            4|              1041|             5|                  4.2|                       -8|    -0.20000000000000018|    0|         0|              0|     0|    0|        0|    0|   0|   1|     0|       4|          0|            0|       0|               0|             0|          0|        0|      0|  5|  0|  0|2018-07-10 09:30:08|2018-10-02 19:33:09|    84|               0|(2,[0],[1.0])|(2,[1],[1.0])|(3,[0],[1.0])|             3285.75|     1432.4562529678408| 0.9923150816522575|    0|\n",
      "|1000025|          157|  2274|            8|              1041|             5|                  4.2|                     1233|                     3.8|    0|         0|              0|     0|    0|        0|    0|   0|   1|     0|       8|          0|            0|       0|               0|             0|          0|        1|      0|  9|  1|  0|2018-07-10 09:30:08|2018-10-04 01:43:55|    86|            1810|(2,[0],[1.0])|(2,[0],[1.0])|(3,[0],[1.0])|             3285.75|     1432.4562529678408| 2.1844380403458215|    0|\n",
      "|1000025|           85|   830|            3|              1041|             5|                  4.2|                     -211|     -1.2000000000000002|    0|         0|              0|     0|    0|        0|    0|   0|   0|     0|       3|          0|            0|       0|               0|             0|          0|        0|      0|  3|  0|  0|2018-07-10 09:30:08|2018-10-07 16:34:50|    89|            5210|(2,[0],[1.0])|(2,[0],[1.0])|(3,[0],[1.0])|             3285.75|     1432.4562529678408| 0.7973102785782901|    0|\n",
      "|1000025|          146|   919|            5|              1041|             5|                  4.2|                     -122|      0.7999999999999998|    0|         0|              0|     0|    0|        0|    0|   0|   1|     0|       5|          0|            0|       0|               0|             0|          0|        0|      0|  6|  0|  0|2018-07-10 09:30:08|2018-10-10 00:32:37|    92|            3357|(2,[0],[1.0])|(2,[0],[1.0])|(3,[0],[1.0])|             3285.75|     1432.4562529678408|  0.882804995196926|    0|\n",
      "|1000025|           65|   152|            1|              1041|             5|                  4.2|                     -889|                    -3.2|    0|         0|              0|     0|    0|        0|    0|   0|   0|     0|       1|          0|            0|       0|               0|             0|          0|        0|      0|  1|  0|  0|2018-07-10 09:30:08|2018-10-11 22:38:38|    93|            2766|(2,[0],[1.0])|(2,[0],[1.0])|(3,[0],[1.0])|             3285.75|     1432.4562529678408|0.14601344860710855|    0|\n",
      "|1000083|            8|   231|            1|               263|             7|   1.1428571428571428|                      -32|     -0.1428571428571428|    0|         0|              0|     0|    0|        0|    0|   0|   0|     0|       1|          0|            0|       0|               0|             0|          0|        0|      0|  1|  0|  0|2018-09-07 18:01:49|2018-10-01 06:06:07|    24|               0|(2,[0],[1.0])|(2,[1],[1.0])|(3,[0],[1.0])|              2611.5|     2205.8248117200965| 0.8783269961977186|    0|\n",
      "|1000083|           25|   185|            1|               263|             7|   1.1428571428571428|                      -78|     -0.1428571428571428|    0|         0|              0|     0|    0|        0|    0|   0|   0|     0|       1|          0|            0|       0|               0|             0|          0|        0|      0|  1|  0|  0|2018-09-07 18:01:49|2018-10-02 15:37:07|    25|            2011|(2,[0],[1.0])|(2,[1],[1.0])|(3,[0],[1.0])|              2611.5|     2205.8248117200965| 0.7034220532319392|    0|\n",
      "|1000083|            9|   181|            1|               263|             7|   1.1428571428571428|                      -82|     -0.1428571428571428|    0|         0|              0|     0|    0|        0|    0|   0|   0|     0|       1|          1|            0|       0|               0|             0|          0|        0|      0|  2|  0|  0|2018-09-07 18:01:49|2018-10-04 05:58:56|    27|            2301|(2,[0],[1.0])|(2,[1],[1.0])|(3,[0],[1.0])|              2611.5|     2205.8248117200965|  0.688212927756654|    0|\n",
      "|1000083|          161|   216|            1|               263|             7|   1.1428571428571428|                      -47|     -0.1428571428571428|    0|         0|              0|     0|    0|        0|    0|   0|   2|     0|       1|          0|            0|       0|               0|             0|          0|        1|      0|  3|  1|  0|2018-09-07 18:01:49|2018-10-08 22:13:56|    31|            6735|(2,[0],[1.0])|(2,[1],[1.0])|(3,[0],[1.0])|              2611.5|     2205.8248117200965| 0.8212927756653993|    0|\n",
      "|1000083|           24|   352|            2|               263|             7|   1.1428571428571428|                       89|      0.8571428571428572|    0|         0|              0|     0|    0|        0|    0|   0|   0|     0|       2|          0|            0|       0|               0|             0|          0|        0|      0|  2|  0|  0|2018-09-07 18:01:49|2018-10-09 07:50:34|    32|             576|(2,[0],[1.0])|(2,[0],[1.0])|(3,[0],[1.0])|              2611.5|     2205.8248117200965|  1.338403041825095|    0|\n",
      "|1000083|           30|   401|            1|               263|             7|   1.1428571428571428|                      138|     -0.1428571428571428|    0|         0|              0|     0|    0|        0|    0|   0|   0|     0|       1|          0|            0|       0|               0|             0|          0|        0|      0|  1|  0|  0|2018-09-07 18:01:49|2018-10-10 00:45:58|    33|            1015|(2,[0],[1.0])|(2,[0],[1.0])|(3,[0],[1.0])|              2611.5|     2205.8248117200965| 1.5247148288973384|    0|\n",
      "|1000083|           33|   278|            1|               263|             7|   1.1428571428571428|                       15|     -0.1428571428571428|    0|         0|              0|     0|    0|        0|    0|   0|   0|     0|       1|          0|            0|       0|               0|             0|          0|        0|      0|  1|  0|  0|2018-09-07 18:01:49|2018-10-12 03:17:15|    35|            3031|(2,[0],[1.0])|(2,[0],[1.0])|(3,[0],[1.0])|              2611.5|     2205.8248117200965| 1.0570342205323193|    0|\n",
      "|1000248|          422|  2496|            9|              2496|             1|                  9.0|                        0|                     0.0|    0|         1|              0|     0|    0|        0|    0|   0|   1|     1|       9|          0|            0|       0|               0|             0|          0|        0|      0| 10|  2|  0|2018-08-19 23:56:14|2018-10-11 22:56:39|    53|               0|(2,[1],[1.0])|(2,[0],[1.0])|(3,[0],[1.0])|  2596.6608967866678|                    0.0|                1.0|    0|\n",
      "|1000353|           68|   251|            1|               251|             1|                  1.0|                        0|                     0.0|    0|         0|              0|     0|    0|        0|    0|   0|   0|     0|       1|          0|            0|       0|               0|             0|          0|        0|      0|  1|  0|  0|2018-05-02 11:37:39|2018-10-01 01:36:42|   152|               0|(2,[1],[1.0])|(2,[0],[1.0])|(3,[0],[1.0])|  2596.6608967866678|                    0.0|                1.0|    0|\n",
      "|1000407|          178|   975|            4|               763|             3|                  3.0|                      212|                     1.0|    0|         0|              0|     0|    0|        0|    0|   0|   0|     0|       4|          0|            0|       0|               0|             0|          0|        0|      0|  4|  0|  0|2018-09-19 12:11:24|2018-10-02 21:18:11|    13|               0|(2,[0],[1.0])|(2,[0],[1.0])|(3,[0],[1.0])|              6905.0|      6117.887870826009| 1.2778505897771952|    0|\n",
      "|1000407|           94|   760|            3|               763|             3|                  3.0|                       -3|                     0.0|    0|         0|              0|     0|    0|        0|    0|   0|   0|     0|       3|          0|            0|       0|               0|             0|          0|        0|      0|  3|  0|  0|2018-09-19 12:11:24|2018-10-10 16:29:15|    21|           11231|(2,[0],[1.0])|(2,[0],[1.0])|(3,[0],[1.0])|              6905.0|      6117.887870826009| 0.9960681520314548|    0|\n",
      "|1000407|           78|   554|            2|               763|             3|                  3.0|                     -209|                    -1.0|    0|         0|              0|     0|    0|        0|    0|   0|   0|     0|       2|          0|            0|       0|               0|             0|          0|        0|      0|  2|  0|  0|2018-09-19 12:11:24|2018-10-12 11:28:15|    23|            2579|(2,[0],[1.0])|(2,[0],[1.0])|(3,[0],[1.0])|              6905.0|      6117.887870826009| 0.7260812581913499|    0|\n",
      "|1000626|           36|   193|            1|               408|             7|   1.7142857142857142|                     -215|     -0.7142857142857142|    0|         0|              0|     0|    0|        0|    0|   0|   0|     0|       1|          0|            0|       0|               0|             0|          0|        0|      0|  1|  0|  0|2018-09-25 14:19:36|2018-10-04 16:39:24|     9|               0|(2,[0],[1.0])|(2,[0],[1.0])|(3,[0],[1.0])|              2082.5|      1151.440619398152| 0.4730392156862745|    0|\n",
      "|1000626|          149|   706|            3|               408|             7|   1.7142857142857142|                      298|      1.2857142857142858|    0|         0|              0|     0|    0|        0|    0|   0|   0|     0|       3|          0|            0|       0|               0|             0|          0|        0|      0|  3|  0|  0|2018-09-25 14:19:36|2018-10-05 12:11:08|    10|            1171|(2,[0],[1.0])|(2,[0],[1.0])|(3,[0],[1.0])|              2082.5|      1151.440619398152| 1.7303921568627452|    0|\n",
      "|1000626|            6|   494|            1|               408|             7|   1.7142857142857142|                       86|     -0.7142857142857142|    0|         0|              0|     0|    0|        0|    0|   0|   0|     0|       1|          0|            0|       0|               0|             0|          0|        0|      0|  1|  0|  0|2018-09-25 14:19:36|2018-10-06 08:15:38|    11|            1204|(2,[0],[1.0])|(2,[0],[1.0])|(3,[0],[1.0])|              2082.5|      1151.440619398152| 1.2107843137254901|    0|\n",
      "+-------+-------------+------+-------------+------------------+--------------+---------------------+-------------------------+------------------------+-----+----------+---------------+------+-----+---------+-----+----+----+------+--------+-----------+-------------+--------+----------------+--------------+-----------+---------+-------+---+---+---+-------------------+-------------------+------+----------------+-------------+-------------+-------------+--------------------+-----------------------+-------------------+-----+\n",
      "only showing top 20 rows\n",
      "\n"
     ]
    }
   ],
   "source": [
    "# First, ensure all users are distinct and marked as churned or not\n",
    "distinct_users = norm_lengths.select(\"userId\", \"churn\").distinct()\n",
    "\n",
    "# Separate churned and non-churned users\n",
    "churned_users = distinct_users.filter(col(\"churn\") == 1)\n",
    "non_churned_users = distinct_users.filter(col(\"churn\") == 0)\n",
    "\n",
    "# Perform stratified split for both churned and non-churned users\n",
    "train_churned, test_churned = churned_users.randomSplit([0.8, 0.2], seed=42)\n",
    "train_non_churned, test_non_churned = non_churned_users.randomSplit([0.8, 0.2], seed=42)\n",
    "\n",
    "# Combine training and testing datasets\n",
    "train_users = train_churned.union(train_non_churned)\n",
    "test_users = test_churned.union(test_non_churned)\n",
    "\n",
    "# Join back to the original data\n",
    "train_df = norm_lengths.join(train_users, [\"userId\"], \"inner\")\n",
    "test_df = norm_lengths.join(test_users, [\"userId\"], \"inner\")\n",
    "\n",
    "# # Optionally, show some results to verify the distribution and split\n",
    "train_df.show()\n",
    "# test_df.show()"
   ]
  },
  {
   "cell_type": "markdown",
   "metadata": {},
   "source": [
    "## Check that there is no train and test data overlap"
   ]
  },
  {
   "cell_type": "code",
   "execution_count": 192,
   "metadata": {},
   "outputs": [
    {
     "name": "stderr",
     "output_type": "stream",
     "text": [
      "                                                                                \r"
     ]
    },
    {
     "name": "stdout",
     "output_type": "stream",
     "text": [
      "+-------+\n",
      "| userId|\n",
      "+-------+\n",
      "|1241210|\n",
      "+-------+\n",
      "\n"
     ]
    },
    {
     "name": "stderr",
     "output_type": "stream",
     "text": [
      "                                                                                \r"
     ]
    },
    {
     "name": "stdout",
     "output_type": "stream",
     "text": [
      "Number of userIds in both train and test sets: 1\n"
     ]
    }
   ],
   "source": [
    "# Select distinct userIds from both datasets\n",
    "train_user_ids = train_df.select(\"userId\").distinct()\n",
    "test_user_ids = test_df.select(\"userId\").distinct()\n",
    "\n",
    "# Find intersection of userIds in both train and test datasets\n",
    "common_user_ids = train_user_ids.intersect(test_user_ids)\n",
    "\n",
    "# Show the userIds that appear in both the train and test sets\n",
    "common_user_ids.show()\n",
    "\n",
    "# Count the number of common userIds\n",
    "common_count = common_user_ids.count()\n",
    "print(f\"Number of userIds in both train and test sets: {common_count}\")"
   ]
  },
  {
   "cell_type": "markdown",
   "metadata": {},
   "source": [
    "next\n",
    "- balance dataset (equal churn vs not churn samples)\n",
    "- models: train-test split, test different models (ML algs that can handle sparse vectors: Logistic Regression, SVM, NB, Decision Trees)\n",
    "- model hyperparam tuning, feature selection (recursive feature elimination (RFE), model-based importance metrics)\n",
    "- final train\n",
    "- ROC-AUC with diff thresholds"
   ]
  }
 ],
 "metadata": {
  "kernelspec": {
   "display_name": "Python 3",
   "language": "python",
   "name": "python3"
  },
  "language_info": {
   "codemirror_mode": {
    "name": "ipython",
    "version": 3
   },
   "file_extension": ".py",
   "mimetype": "text/x-python",
   "name": "python",
   "nbconvert_exporter": "python",
   "pygments_lexer": "ipython3",
   "version": "3.10.6"
  }
 },
 "nbformat": 4,
 "nbformat_minor": 2
}
