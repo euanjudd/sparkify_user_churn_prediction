{
 "cells": [
  {
   "cell_type": "code",
   "execution_count": 31,
   "metadata": {},
   "outputs": [],
   "source": [
    "from pyspark.sql import SparkSession, DataFrame\n",
    "from pyspark.ml import Pipeline\n",
    "from pyspark.sql.functions import when, col, count, from_unixtime, date_format, regexp_replace, datediff, lag, to_date, unix_timestamp, coalesce, lit, first, avg, sum, min, max, countDistinct, stddev, lead, expr, monotonically_increasing_id\n",
    "from pyspark.ml.feature import VectorAssembler, StringIndexer, OneHotEncoder, StandardScaler\n",
    "from pyspark.sql.window import Window\n",
    "from pyspark.ml.classification import LogisticRegression, RandomForestClassifier, DecisionTreeClassifier, GBTClassifier, NaiveBayes, LinearSVC\n",
    "from pyspark.ml.evaluation import BinaryClassificationEvaluator, MulticlassClassificationEvaluator\n"
   ]
  },
  {
   "cell_type": "markdown",
   "metadata": {},
   "source": [
    "## Create a spark session"
   ]
  },
  {
   "cell_type": "code",
   "execution_count": 3,
   "metadata": {},
   "outputs": [
    {
     "name": "stderr",
     "output_type": "stream",
     "text": [
      "Setting default log level to \"WARN\".\n",
      "To adjust logging level use sc.setLogLevel(newLevel). For SparkR, use setLogLevel(newLevel).\n",
      "24/06/03 07:08:55 WARN NativeCodeLoader: Unable to load native-hadoop library for your platform... using builtin-java classes where applicable\n"
     ]
    }
   ],
   "source": [
    "spark = SparkSession.builder \\\n",
    "    .appName(\"Sparkify Data Analysis\") \\\n",
    "    .getOrCreate()"
   ]
  },
  {
   "cell_type": "markdown",
   "metadata": {},
   "source": [
    "# Read and show data"
   ]
  },
  {
   "cell_type": "code",
   "execution_count": 4,
   "metadata": {},
   "outputs": [
    {
     "name": "stderr",
     "output_type": "stream",
     "text": [
      "                                                                                \r"
     ]
    },
    {
     "name": "stdout",
     "output_type": "stream",
     "text": [
      "+--------------------+---------+---------+------+-------------+---------+---------+-----+--------------------+------+-----------+-------------+---------+--------------------+------+-------------+--------------------+-------+\n",
      "|              artist|     auth|firstName|gender|itemInSession| lastName|   length|level|            location|method|       page| registration|sessionId|                song|status|           ts|           userAgent| userId|\n",
      "+--------------------+---------+---------+------+-------------+---------+---------+-----+--------------------+------+-----------+-------------+---------+--------------------+------+-------------+--------------------+-------+\n",
      "|Barry Tuckwell/Ac...|Logged In|   Andres|     M|           71|    Foley|277.15873| paid|       Watertown, SD|   PUT|   NextSong|1534386660000|     6370|Horn Concerto No....|   200|1538352003000|\"Mozilla/5.0 (Mac...|1222580|\n",
      "|The All-American ...|Logged In|   Joseph|     M|          171|   Harvey|208.29995| paid|Hermiston-Pendlet...|   PUT|   NextSong|1536364639000|    22834|             Believe|   200|1538352035000|\"Mozilla/5.0 (Win...|1467665|\n",
      "|                null|Logged In|   Joseph|     M|          172|   Harvey|     null| paid|Hermiston-Pendlet...|   PUT|  Thumbs Up|1536364639000|    22834|                null|   307|1538352036000|\"Mozilla/5.0 (Win...|1467665|\n",
      "|Benny Benassi Pre...|Logged In|   Austin|     M|            6|  Mueller|285.54404| free|          Toledo, OH|   PUT|   NextSong|1536810432000|    17055|        Satisfaction|   200|1538352116000|Mozilla/5.0 (Wind...|1265455|\n",
      "|      Jets To Brazil|Logged In|   Teodor|     M|           43|    Tapia|313.36444| free|Phoenix-Mesa-Scot...|   PUT|   NextSong|1535276001000|    22726|       Further North|   200|1538352127000|\"Mozilla/5.0 (Mac...|1189576|\n",
      "|               Lifer|Logged In|  Mallory|     F|           94| Martinez|286.53669| paid|    Worcester, MA-CT|   PUT|   NextSong|1537283153000|    10538|          Breathless|   200|1538352135000|\"Mozilla/5.0 (Mac...|1192810|\n",
      "| Stone Temple Pilots|Logged In|    Susan|     F|          225|   Lawson|318.77179| paid|Hartford-West Har...|   PUT|   NextSong|1534915842000|     1225|Lounge Fly (LP Ve...|   200|1538352147000|\"Mozilla/5.0 (Mac...|1720473|\n",
      "|                null|Logged In|  Addison|     F|           32|   Curtis|     null| free|        Richmond, VA|   GET|Roll Advert|1523840846000|    23497|                null|   200|1538352154000|Mozilla/5.0 (Wind...|1433168|\n",
      "|                null|Logged In|  Jackson|     M|            7|    Evans|     null| free|Milwaukee-Waukesh...|   GET|Roll Advert|1522718633000|     2520|                null|   200|1538352164000|\"Mozilla/5.0 (Mac...|1301786|\n",
      "|Eminem / Dr. Dre ...|Logged In| Caroline|     F|           13|   Howell|297.56036| free|          Deming, NM|   PUT|   NextSong|1533697887000|    24745|      Crack A Bottle|   200|1538352166000|Mozilla/5.0 (Wind...|1432486|\n",
      "|    Die Mooskirchner|Logged In| Victoria|     F|           61|    Ochoa|169.29914| paid|Atlanta-Sandy Spr...|   PUT|   NextSong|1534958216000|    10943|   Frisch und g'sund|   200|1538352180000|Mozilla/5.0 (X11;...|1720342|\n",
      "|Florence + The Ma...|Logged In|    Chloe|     F|          144|   Weaver|219.66322| paid|Chicago-Napervill...|   PUT|   NextSong|1536788636000|     1325|Dog Days Are Over...|   200|1538352207000|\"Mozilla/5.0 (Win...|1122089|\n",
      "|       Guns N' Roses|Logged In|    Sahra|     F|          131|   Martin| 184.0322| free|Washington-Arling...|   PUT|   NextSong|1535785302000|    22759|    Live And Let Die|   200|1538352220000|Mozilla/5.0 (Wind...|1545772|\n",
      "|                null|Logged In|    Kaleb|     M|          138|  Manning|     null| free|     Blytheville, AR|   GET|   Settings|1535573182000|    22998|                null|   200|1538352222000|\"Mozilla/5.0 (Win...|1037123|\n",
      "|                null|Logged In|Sebastian|     M|           12| Martinez|     null| free|Indianapolis-Carm...|   GET|       Home|1537641426000|     4756|                null|   200|1538352235000|\"Mozilla/5.0 (Mac...|1101590|\n",
      "|           Ray Boltz|Logged In| Jonathan|     M|           31|   Martin| 355.7873| free|New York-Newark-J...|   PUT|   NextSong|1538069376000|    22483|Thank You (Precio...|   200|1538352256000|\"Mozilla/5.0 (Win...|1465194|\n",
      "|        Taylor Swift|Logged In|    Ethan|     M|          397|  Johnson|213.02812| paid|Lexington-Fayette...|   PUT|   NextSong|1538080987000|    22684|I'm Only Me When ...|   200|1538352287000|\"Mozilla/5.0 (Win...|1843907|\n",
      "|        Three Drives|Logged In|  Greyson|     M|           70|Rodriguez| 411.6371| paid|        Portales, NM|   PUT|   NextSong|1538305156000|     4869|         Greece 2000|   200|1538352326000|\"Mozilla/5.0 (Win...|1355841|\n",
      "|                null|Logged In|   Jayden|     M|           27|    Gross|     null| paid|         Midland, TX|   PUT|Thumbs Down|1536161540000|    21259|                null|   307|1538352332000|\"Mozilla/5.0 (Mac...|1358369|\n",
      "|     Scritti Politti|Logged In|   Adrian|     M|           25|  Rodgers| 286.9024| free|        Americus, GA|   PUT|   NextSong|1537259982000|     7534|           Wood Beez|   200|1538352374000|\"Mozilla/5.0 (Win...|1911021|\n",
      "+--------------------+---------+---------+------+-------------+---------+---------+-----+--------------------+------+-----------+-------------+---------+--------------------+------+-------------+--------------------+-------+\n",
      "only showing top 20 rows\n",
      "\n"
     ]
    }
   ],
   "source": [
    "# Path to your JSON file\n",
    "json_path = \"/app/data/sparkify_event_data.json\"\n",
    "\n",
    "# Read the JSON data into a DataFrame\n",
    "df_full = spark.read.json(json_path)\n",
    "\n",
    "# Sample 10% of the data randomly without replacement\n",
    "fraction = 0.02\n",
    "df = df_full.sample(False, fraction)\n",
    "\n",
    "# Use the sampled data for quick tests or analysis\n",
    "df.show()"
   ]
  },
  {
   "cell_type": "markdown",
   "metadata": {},
   "source": [
    "## Print data schema"
   ]
  },
  {
   "cell_type": "code",
   "execution_count": 5,
   "metadata": {},
   "outputs": [
    {
     "name": "stdout",
     "output_type": "stream",
     "text": [
      "root\n",
      " |-- artist: string (nullable = true)\n",
      " |-- auth: string (nullable = true)\n",
      " |-- firstName: string (nullable = true)\n",
      " |-- gender: string (nullable = true)\n",
      " |-- itemInSession: long (nullable = true)\n",
      " |-- lastName: string (nullable = true)\n",
      " |-- length: double (nullable = true)\n",
      " |-- level: string (nullable = true)\n",
      " |-- location: string (nullable = true)\n",
      " |-- method: string (nullable = true)\n",
      " |-- page: string (nullable = true)\n",
      " |-- registration: long (nullable = true)\n",
      " |-- sessionId: long (nullable = true)\n",
      " |-- song: string (nullable = true)\n",
      " |-- status: long (nullable = true)\n",
      " |-- ts: long (nullable = true)\n",
      " |-- userAgent: string (nullable = true)\n",
      " |-- userId: string (nullable = true)\n",
      "\n"
     ]
    },
    {
     "name": "stderr",
     "output_type": "stream",
     "text": [
      "[Stage 2:=====================================================>   (17 + 1) / 18]\r"
     ]
    },
    {
     "name": "stdout",
     "output_type": "stream",
     "text": [
      "Total sampled records: 94150\n"
     ]
    },
    {
     "name": "stderr",
     "output_type": "stream",
     "text": [
      "                                                                                \r"
     ]
    }
   ],
   "source": [
    "df.printSchema()\n",
    "print(\"Total sampled records:\", df.count())"
   ]
  },
  {
   "cell_type": "markdown",
   "metadata": {},
   "source": [
    "## Frequency of values in categorical columns"
   ]
  },
  {
   "cell_type": "code",
   "execution_count": 6,
   "metadata": {},
   "outputs": [
    {
     "name": "stderr",
     "output_type": "stream",
     "text": [
      "                                                                                \r"
     ]
    },
    {
     "name": "stdout",
     "output_type": "stream",
     "text": [
      "+----------+-----+\n",
      "|auth      |count|\n",
      "+----------+-----+\n",
      "|Logged In |91153|\n",
      "|Logged Out|2976 |\n",
      "|Cancelled |14   |\n",
      "|Guest     |7    |\n",
      "+----------+-----+\n",
      "\n"
     ]
    },
    {
     "name": "stderr",
     "output_type": "stream",
     "text": [
      "                                                                                \r"
     ]
    },
    {
     "name": "stdout",
     "output_type": "stream",
     "text": [
      "+------+-----+\n",
      "|gender|count|\n",
      "+------+-----+\n",
      "|M     |47934|\n",
      "|F     |43233|\n",
      "|null  |2983 |\n",
      "+------+-----+\n",
      "\n"
     ]
    },
    {
     "name": "stderr",
     "output_type": "stream",
     "text": [
      "                                                                                \r"
     ]
    },
    {
     "name": "stdout",
     "output_type": "stream",
     "text": [
      "+-----+-----+\n",
      "|level|count|\n",
      "+-----+-----+\n",
      "|paid |65380|\n",
      "|free |28770|\n",
      "+-----+-----+\n",
      "\n"
     ]
    },
    {
     "name": "stderr",
     "output_type": "stream",
     "text": [
      "                                                                                \r"
     ]
    },
    {
     "name": "stdout",
     "output_type": "stream",
     "text": [
      "+------+-----+\n",
      "|method|count|\n",
      "+------+-----+\n",
      "|PUT   |84902|\n",
      "|GET   |9248 |\n",
      "+------+-----+\n",
      "\n"
     ]
    },
    {
     "name": "stderr",
     "output_type": "stream",
     "text": [
      "                                                                                \r"
     ]
    },
    {
     "name": "stdout",
     "output_type": "stream",
     "text": [
      "+-------------------------+-----+\n",
      "|page                     |count|\n",
      "+-------------------------+-----+\n",
      "|NextSong                 |74523|\n",
      "|Home                     |5026 |\n",
      "|Thumbs Up                |3681 |\n",
      "|Add to Playlist          |2137 |\n",
      "|Roll Advert              |1718 |\n",
      "|Add Friend               |1375 |\n",
      "|Login                    |1139 |\n",
      "|Logout                   |1090 |\n",
      "|Thumbs Down              |760  |\n",
      "|Help                     |631  |\n",
      "|Downgrade                |594  |\n",
      "|Settings                 |550  |\n",
      "|About                    |357  |\n",
      "|Upgrade                  |270  |\n",
      "|Save Settings            |107  |\n",
      "|Error                    |86   |\n",
      "|Submit Upgrade           |63   |\n",
      "|Cancellation Confirmation|14   |\n",
      "|Submit Downgrade         |14   |\n",
      "|Cancel                   |13   |\n",
      "|Register                 |2    |\n",
      "+-------------------------+-----+\n",
      "\n"
     ]
    },
    {
     "name": "stderr",
     "output_type": "stream",
     "text": [
      "                                                                                \r"
     ]
    },
    {
     "name": "stdout",
     "output_type": "stream",
     "text": [
      "+------+-----+\n",
      "|status|count|\n",
      "+------+-----+\n",
      "|200   |85822|\n",
      "|307   |8242 |\n",
      "|404   |86   |\n",
      "+------+-----+\n",
      "\n"
     ]
    },
    {
     "name": "stderr",
     "output_type": "stream",
     "text": [
      "[Stage 44:====================================================>   (17 + 1) / 18]\r"
     ]
    },
    {
     "name": "stdout",
     "output_type": "stream",
     "text": [
      "+-----------------------------------------------------------------------------------------------------------------------------------------------+-----+\n",
      "|userAgent                                                                                                                                      |count|\n",
      "+-----------------------------------------------------------------------------------------------------------------------------------------------+-----+\n",
      "|\"Mozilla/5.0 (Windows NT 6.1; WOW64) AppleWebKit/537.36 (KHTML, like Gecko) Chrome/36.0.1985.143 Safari/537.36\"                                |8711 |\n",
      "|Mozilla/5.0 (Windows NT 6.1; WOW64; rv:31.0) Gecko/20100101 Firefox/31.0                                                                       |6940 |\n",
      "|\"Mozilla/5.0 (Windows NT 6.1; WOW64) AppleWebKit/537.36 (KHTML, like Gecko) Chrome/36.0.1985.125 Safari/537.36\"                                |5617 |\n",
      "|\"Mozilla/5.0 (Macintosh; Intel Mac OS X 10_9_4) AppleWebKit/537.36 (KHTML, like Gecko) Chrome/36.0.1985.143 Safari/537.36\"                     |5573 |\n",
      "|\"Mozilla/5.0 (Macintosh; Intel Mac OS X 10_9_4) AppleWebKit/537.78.2 (KHTML, like Gecko) Version/7.0.6 Safari/537.78.2\"                        |4986 |\n",
      "|\"Mozilla/5.0 (Macintosh; Intel Mac OS X 10_9_4) AppleWebKit/537.36 (KHTML, like Gecko) Chrome/36.0.1985.125 Safari/537.36\"                     |4410 |\n",
      "|\"Mozilla/5.0 (Macintosh; Intel Mac OS X 10_9_4) AppleWebKit/537.77.4 (KHTML, like Gecko) Version/7.0.5 Safari/537.77.4\"                        |4358 |\n",
      "|Mozilla/5.0 (Macintosh; Intel Mac OS X 10.9; rv:31.0) Gecko/20100101 Firefox/31.0                                                              |3950 |\n",
      "|\"Mozilla/5.0 (Macintosh; Intel Mac OS X 10_9_4) AppleWebKit/537.36 (KHTML, like Gecko) Chrome/37.0.2062.94 Safari/537.36\"                      |3694 |\n",
      "|\"Mozilla/5.0 (Windows NT 6.3; WOW64) AppleWebKit/537.36 (KHTML, like Gecko) Chrome/36.0.1985.143 Safari/537.36\"                                |3208 |\n",
      "|null                                                                                                                                           |2983 |\n",
      "|\"Mozilla/5.0 (Windows NT 6.3; WOW64) AppleWebKit/537.36 (KHTML, like Gecko) Chrome/36.0.1985.125 Safari/537.36\"                                |2185 |\n",
      "|Mozilla/5.0 (Windows NT 6.1; WOW64; Trident/7.0; rv:11.0) like Gecko                                                                           |2098 |\n",
      "|\"Mozilla/5.0 (iPhone; CPU iPhone OS 7_1_2 like Mac OS X) AppleWebKit/537.51.2 (KHTML, like Gecko) Version/7.0 Mobile/11D257 Safari/9537.53\"    |2051 |\n",
      "|Mozilla/5.0 (Windows NT 6.3; WOW64; rv:31.0) Gecko/20100101 Firefox/31.0                                                                       |1981 |\n",
      "|\"Mozilla/5.0 (Windows NT 6.1) AppleWebKit/537.36 (KHTML, like Gecko) Chrome/36.0.1985.143 Safari/537.36\"                                       |1715 |\n",
      "|Mozilla/5.0 (X11; Ubuntu; Linux x86_64; rv:31.0) Gecko/20100101 Firefox/31.0                                                                   |1419 |\n",
      "|Mozilla/5.0 (Windows NT 6.1; rv:31.0) Gecko/20100101 Firefox/31.0                                                                              |1195 |\n",
      "|\"Mozilla/5.0 (iPad; CPU OS 7_1_2 like Mac OS X) AppleWebKit/537.51.2 (KHTML, like Gecko) Version/7.0 Mobile/11D257 Safari/9537.53\"             |1081 |\n",
      "|\"Mozilla/5.0 (Windows NT 6.1) AppleWebKit/537.36 (KHTML, like Gecko) Chrome/36.0.1985.125 Safari/537.36\"                                       |1065 |\n",
      "|\"Mozilla/5.0 (X11; Linux x86_64) AppleWebKit/537.36 (KHTML, like Gecko) Chrome/36.0.1985.143 Safari/537.36\"                                    |878  |\n",
      "|\"Mozilla/5.0 (X11; Linux x86_64) AppleWebKit/537.36 (KHTML, like Gecko) Chrome/36.0.1985.125 Safari/537.36\"                                    |831  |\n",
      "|\"Mozilla/5.0 (Windows NT 6.1; WOW64) AppleWebKit/537.36 (KHTML, like Gecko) Chrome/37.0.2062.103 Safari/537.36\"                                |789  |\n",
      "|Mozilla/5.0 (Windows NT 5.1; rv:31.0) Gecko/20100101 Firefox/31.0                                                                              |755  |\n",
      "|Mozilla/5.0 (Windows NT 6.3; WOW64; Trident/7.0; rv:11.0) like Gecko                                                                           |719  |\n",
      "|\"Mozilla/5.0 (iPhone; CPU iPhone OS 7_1_1 like Mac OS X) AppleWebKit/537.51.2 (KHTML, like Gecko) Version/7.0 Mobile/11D201 Safari/9537.53\"    |651  |\n",
      "|\"Mozilla/5.0 (Windows NT 6.1; WOW64) AppleWebKit/537.36 (KHTML, like Gecko) Chrome/37.0.2062.94 Safari/537.36\"                                 |650  |\n",
      "|\"Mozilla/5.0 (Windows NT 6.2; WOW64) AppleWebKit/537.36 (KHTML, like Gecko) Chrome/36.0.1985.143 Safari/537.36\"                                |640  |\n",
      "|\"Mozilla/5.0 (Macintosh; Intel Mac OS X 10_9_3) AppleWebKit/537.36 (KHTML, like Gecko) Chrome/36.0.1985.125 Safari/537.36\"                     |598  |\n",
      "|\"Mozilla/5.0 (Macintosh; Intel Mac OS X 10_6_8) AppleWebKit/534.59.10 (KHTML, like Gecko) Version/5.1.9 Safari/534.59.10\"                      |596  |\n",
      "|\"Mozilla/5.0 (X11; Linux x86_64) AppleWebKit/537.36 (KHTML, like Gecko) Ubuntu Chromium/36.0.1985.125 Chrome/36.0.1985.125 Safari/537.36\"      |564  |\n",
      "|Mozilla/5.0 (Windows NT 6.2; WOW64; rv:31.0) Gecko/20100101 Firefox/31.0                                                                       |550  |\n",
      "|Mozilla/5.0 (Macintosh; Intel Mac OS X 10.8; rv:31.0) Gecko/20100101 Firefox/31.0                                                              |548  |\n",
      "|Mozilla/5.0 (X11; Linux x86_64; rv:31.0) Gecko/20100101 Firefox/31.0                                                                           |509  |\n",
      "|Mozilla/5.0 (Windows NT 6.1; WOW64; rv:30.0) Gecko/20100101 Firefox/30.0                                                                       |498  |\n",
      "|\"Mozilla/5.0 (Windows NT 6.2; WOW64) AppleWebKit/537.36 (KHTML, like Gecko) Chrome/36.0.1985.125 Safari/537.36\"                                |490  |\n",
      "|\"Mozilla/5.0 (Macintosh; Intel Mac OS X 10_10) AppleWebKit/600.1.8 (KHTML, like Gecko) Version/8.0 Safari/600.1.8\"                             |473  |\n",
      "|\"Mozilla/5.0 (Windows NT 5.1) AppleWebKit/537.36 (KHTML, like Gecko) Chrome/36.0.1985.143 Safari/537.36\"                                       |470  |\n",
      "|Mozilla/5.0 (Macintosh; Intel Mac OS X 10.6; rv:31.0) Gecko/20100101 Firefox/31.0                                                              |455  |\n",
      "|Mozilla/5.0 (compatible; MSIE 10.0; Windows NT 6.1; WOW64; Trident/6.0)                                                                        |453  |\n",
      "|\"Mozilla/5.0 (Macintosh; Intel Mac OS X 10_8_5) AppleWebKit/537.36 (KHTML, like Gecko) Chrome/36.0.1985.125 Safari/537.36\"                     |439  |\n",
      "|\"Mozilla/5.0 (Macintosh; Intel Mac OS X 10_8_5) AppleWebKit/537.36 (KHTML, like Gecko) Chrome/36.0.1985.143 Safari/537.36\"                     |434  |\n",
      "|\"Mozilla/5.0 (Macintosh; Intel Mac OS X 10_9_3) AppleWebKit/537.36 (KHTML, like Gecko) Chrome/37.0.2062.94 Safari/537.36\"                      |420  |\n",
      "|\"Mozilla/5.0 (Windows NT 6.1; WOW64) AppleWebKit/537.36 (KHTML, like Gecko) Chrome/37.0.2062.102 Safari/537.36\"                                |412  |\n",
      "|Mozilla/5.0 (compatible; MSIE 9.0; Windows NT 6.1; WOW64; Trident/5.0)                                                                         |406  |\n",
      "|\"Mozilla/5.0 (X11; Linux x86_64) AppleWebKit/537.36 (KHTML, like Gecko) Chrome/37.0.2062.94 Safari/537.36\"                                     |402  |\n",
      "|\"Mozilla/5.0 (Macintosh; Intel Mac OS X 10_9_2) AppleWebKit/537.36 (KHTML, like Gecko) Chrome/36.0.1985.143 Safari/537.36\"                     |401  |\n",
      "|\"Mozilla/5.0 (Windows NT 5.1) AppleWebKit/537.36 (KHTML, like Gecko) Chrome/36.0.1985.125 Safari/537.36\"                                       |384  |\n",
      "|\"Mozilla/5.0 (Macintosh; Intel Mac OS X 10_10) AppleWebKit/538.46 (KHTML, like Gecko) Version/8.0 Safari/538.46\"                               |366  |\n",
      "|\"Mozilla/5.0 (Macintosh; Intel Mac OS X 10_9_3) AppleWebKit/537.36 (KHTML, like Gecko) Chrome/36.0.1985.143 Safari/537.36\"                     |359  |\n",
      "|\"Mozilla/5.0 (Macintosh; Intel Mac OS X 10_9_2) AppleWebKit/537.36 (KHTML, like Gecko) Chrome/36.0.1985.125 Safari/537.36\"                     |358  |\n",
      "|\"Mozilla/5.0 (Windows NT 6.3; WOW64) AppleWebKit/537.36 (KHTML, like Gecko) Chrome/37.0.2062.94 Safari/537.36\"                                 |343  |\n",
      "|Mozilla/5.0 (Windows NT 6.1; Trident/7.0; rv:11.0) like Gecko                                                                                  |339  |\n",
      "|\"Mozilla/5.0 (Macintosh; Intel Mac OS X 10_9_2) AppleWebKit/537.36 (KHTML, like Gecko) Chrome/37.0.2062.94 Safari/537.36\"                      |335  |\n",
      "|Mozilla/5.0 (Macintosh; Intel Mac OS X 10.7; rv:31.0) Gecko/20100101 Firefox/31.0                                                              |326  |\n",
      "|\"Mozilla/5.0 (X11; Linux x86_64) AppleWebKit/537.36 (KHTML, like Gecko) Chrome/35.0.1916.153 Safari/537.36\"                                    |326  |\n",
      "|\"Mozilla/5.0 (Macintosh; Intel Mac OS X 10_9_4) AppleWebKit/537.36 (KHTML, like Gecko) Chrome/35.0.1916.153 Safari/537.36\"                     |297  |\n",
      "|Mozilla/5.0 (Windows NT 6.1; WOW64; rv:32.0) Gecko/20100101 Firefox/32.0                                                                       |294  |\n",
      "|\"Mozilla/5.0 (iPad; CPU OS 7_1_1 like Mac OS X) AppleWebKit/537.51.2 (KHTML, like Gecko) Version/7.0 Mobile/11D201 Safari/9537.53\"             |291  |\n",
      "|\"Mozilla/5.0 (Macintosh; Intel Mac OS X 10_8_5) AppleWebKit/537.77.4 (KHTML, like Gecko) Version/6.1.5 Safari/537.77.4\"                        |276  |\n",
      "|\"Mozilla/5.0 (Windows NT 6.1; WOW64) AppleWebKit/537.36 (KHTML, like Gecko) Chrome/35.0.1916.153 Safari/537.36\"                                |276  |\n",
      "|\"Mozilla/5.0 (Macintosh; Intel Mac OS X 10_10_0) AppleWebKit/537.36 (KHTML, like Gecko) Chrome/36.0.1985.125 Safari/537.36\"                    |272  |\n",
      "|\"Mozilla/5.0 (iPhone; CPU iPhone OS 7_1 like Mac OS X) AppleWebKit/537.51.2 (KHTML, like Gecko) Version/7.0 Mobile/11D167 Safari/9537.53\"      |267  |\n",
      "|Mozilla/5.0 (X11; Ubuntu; Linux x86_64; rv:30.0) Gecko/20100101 Firefox/30.0                                                                   |266  |\n",
      "|Mozilla/5.0 (X11; Ubuntu; Linux i686; rv:31.0) Gecko/20100101 Firefox/31.0                                                                     |264  |\n",
      "|\"Mozilla/5.0 (iPhone; CPU iPhone OS 7_1_2 like Mac OS X) AppleWebKit/537.51.1 (KHTML, like Gecko) GSA/4.1.0.31802 Mobile/11D257 Safari/9537.53\"|259  |\n",
      "|Mozilla/5.0 (Windows NT 6.1; WOW64; rv:24.0) Gecko/20100101 Firefox/24.0                                                                       |254  |\n",
      "|\"Mozilla/5.0 (Macintosh; Intel Mac OS X 10_10_0) AppleWebKit/537.36 (KHTML, like Gecko) Chrome/37.0.2062.94 Safari/537.36\"                     |248  |\n",
      "|\"Mozilla/5.0 (Macintosh; Intel Mac OS X 10_7_5) AppleWebKit/537.77.4 (KHTML, like Gecko) Version/6.1.5 Safari/537.77.4\"                        |247  |\n",
      "|\"Mozilla/5.0 (Macintosh; Intel Mac OS X 10_7_5) AppleWebKit/537.36 (KHTML, like Gecko) Chrome/36.0.1985.143 Safari/537.36\"                     |244  |\n",
      "|\"Mozilla/5.0 (Macintosh; Intel Mac OS X 10_7_5) AppleWebKit/537.36 (KHTML, like Gecko) Chrome/36.0.1985.125 Safari/537.36\"                     |240  |\n",
      "|\"Mozilla/5.0 (Macintosh; Intel Mac OS X 10_9_3) AppleWebKit/537.75.14 (KHTML, like Gecko) Version/7.0.3 Safari/537.75.14\"                      |240  |\n",
      "|\"Mozilla/5.0 (Macintosh; Intel Mac OS X 10_10_0) AppleWebKit/537.36 (KHTML, like Gecko) Chrome/36.0.1985.143 Safari/537.36\"                    |230  |\n",
      "|\"Mozilla/5.0 (Macintosh; Intel Mac OS X 10_9_2) AppleWebKit/537.75.14 (KHTML, like Gecko) Version/7.0.3 Safari/537.75.14\"                      |226  |\n",
      "|\"Mozilla/5.0 (Macintosh; Intel Mac OS X 10_9_2) AppleWebKit/537.74.9 (KHTML, like Gecko) Version/7.0.2 Safari/537.74.9\"                        |225  |\n",
      "|Mozilla/5.0 (Macintosh; Intel Mac OS X 10.9; rv:30.0) Gecko/20100101 Firefox/30.0                                                              |222  |\n",
      "|\"Mozilla/5.0 (X11; Linux x86_64) AppleWebKit/537.36 (KHTML, like Gecko) Ubuntu Chromium/34.0.1847.116 Chrome/34.0.1847.116 Safari/537.36\"      |210  |\n",
      "|Mozilla/5.0 (compatible; MSIE 9.0; Windows NT 6.1; Trident/5.0)                                                                                |199  |\n",
      "|Mozilla/5.0 (Windows NT 6.1; WOW64; rv:29.0) Gecko/20100101 Firefox/29.0                                                                       |182  |\n",
      "|\"Mozilla/5.0 (Macintosh; Intel Mac OS X 10_8_5) AppleWebKit/537.36 (KHTML, like Gecko) Chrome/37.0.2062.94 Safari/537.36\"                      |177  |\n",
      "|Mozilla/5.0 (Windows NT 6.0; rv:31.0) Gecko/20100101 Firefox/31.0                                                                              |168  |\n",
      "|Mozilla/5.0 (compatible; MSIE 10.0; Windows NT 6.2; WOW64; Trident/6.0)                                                                        |162  |\n",
      "|\"Mozilla/5.0 (Macintosh; Intel Mac OS X 10_7_5) AppleWebKit/537.78.2 (KHTML, like Gecko) Version/6.1.6 Safari/537.78.2\"                        |155  |\n",
      "|\"Mozilla/5.0 (Macintosh; Intel Mac OS X 10_9_3) AppleWebKit/537.76.4 (KHTML, like Gecko) Version/7.0.4 Safari/537.76.4\"                        |146  |\n",
      "|\"Mozilla/5.0 (Macintosh; Intel Mac OS X 10_6_8) AppleWebKit/537.36 (KHTML, like Gecko) Chrome/36.0.1985.143 Safari/537.36\"                     |116  |\n",
      "|\"Mozilla/5.0 (Macintosh; Intel Mac OS X 10_10) AppleWebKit/600.1.3 (KHTML, like Gecko) Version/8.0 Safari/600.1.3\"                             |110  |\n",
      "+-----------------------------------------------------------------------------------------------------------------------------------------------+-----+\n",
      "\n"
     ]
    },
    {
     "name": "stderr",
     "output_type": "stream",
     "text": [
      "                                                                                \r"
     ]
    }
   ],
   "source": [
    "for column in ['auth', 'gender', 'level', 'method', 'page', 'status', 'userAgent']:\n",
    "    df.groupBy(column).count().orderBy(col(\"count\").desc()).show(df.count(), truncate=False)"
   ]
  },
  {
   "cell_type": "markdown",
   "metadata": {},
   "source": [
    "## Only keep OS information from 'userAgent'"
   ]
  },
  {
   "cell_type": "code",
   "execution_count": 7,
   "metadata": {},
   "outputs": [],
   "source": [
    "df = df.withColumn('userAgent', \n",
    "                   when(col('userAgent').contains('Mac'), 'Mac')\n",
    "                   .when(col('userAgent').contains('Windows'), 'Windows')\n",
    "                   .when(col('userAgent').contains('Linux'), 'Linux')\n",
    "                   .otherwise('Other'))"
   ]
  },
  {
   "cell_type": "markdown",
   "metadata": {},
   "source": [
    "## Remove unnecessary columns\n",
    "- Both 'auth' and 'page' contain churn (cancelled) data. The only additional info 'auth' provides is whether a user is logged in or out. \n",
    "- The \"firstName\" and \"lastName\" are removed to maintain user privacy. \n",
    "- HTTP 'method' is unlikely to impact churn.\n",
    "- 'artist' and 'song' are too high dimensional. Song will be removed later so avg songs per session can be calculated.\n",
    "- 'location' is also too high domensional, either remove it or create clusters. We will do the former for simplicity."
   ]
  },
  {
   "cell_type": "code",
   "execution_count": 8,
   "metadata": {},
   "outputs": [],
   "source": [
    "df = df.drop(\"auth\", \"firstName\", \"lastName\", \"method\", \"artist\", \"location\")"
   ]
  },
  {
   "cell_type": "markdown",
   "metadata": {},
   "source": [
    "# Exploratory Data Analysis & Cleaning"
   ]
  },
  {
   "cell_type": "code",
   "execution_count": 9,
   "metadata": {},
   "outputs": [],
   "source": [
    "# Register DataFrame as SQL temporary view\n",
    "df.createOrReplaceTempView(\"data\")"
   ]
  },
  {
   "cell_type": "markdown",
   "metadata": {},
   "source": [
    "## Data Exploration: Null values\n",
    "Print the number of null values in each column."
   ]
  },
  {
   "cell_type": "code",
   "execution_count": 10,
   "metadata": {},
   "outputs": [
    {
     "name": "stderr",
     "output_type": "stream",
     "text": [
      "[Stage 47:====================================================>   (17 + 1) / 18]\r"
     ]
    },
    {
     "name": "stdout",
     "output_type": "stream",
     "text": [
      "+----------+------------+-------------------+------------+-----------+----------+------------------+---------------+------------+--------+---------------+------------+\n",
      "|total_rows|gender_nulls|itemInSession_nulls|length_nulls|level_nulls|page_nulls|registration_nulls|sessionId_nulls|status_nulls|ts_nulls|userAgent_nulls|userId_nulls|\n",
      "+----------+------------+-------------------+------------+-----------+----------+------------------+---------------+------------+--------+---------------+------------+\n",
      "|     94150|        2983|                  0|       19627|          0|         0|              2983|              0|           0|       0|              0|           0|\n",
      "+----------+------------+-------------------+------------+-----------+----------+------------------+---------------+------------+--------+---------------+------------+\n",
      "\n"
     ]
    },
    {
     "name": "stderr",
     "output_type": "stream",
     "text": [
      "                                                                                \r"
     ]
    }
   ],
   "source": [
    "null_counts = spark.sql(\"\"\"\n",
    "SELECT \n",
    "    COUNT(*) AS total_rows,\n",
    "    SUM(CASE WHEN gender IS NULL THEN 1 ELSE 0 END) AS gender_nulls,\n",
    "    SUM(CASE WHEN itemInSession IS NULL THEN 1 ELSE 0 END) AS itemInSession_nulls,\n",
    "    SUM(CASE WHEN length IS NULL THEN 1 ELSE 0 END) AS length_nulls,\n",
    "    SUM(CASE WHEN level IS NULL THEN 1 ELSE 0 END) AS level_nulls,\n",
    "    SUM(CASE WHEN page IS NULL THEN 1 ELSE 0 END) AS page_nulls,\n",
    "    SUM(CASE WHEN registration IS NULL THEN 1 ELSE 0 END) AS registration_nulls,\n",
    "    SUM(CASE WHEN sessionId IS NULL THEN 1 ELSE 0 END) AS sessionId_nulls,\n",
    "    SUM(CASE WHEN status IS NULL THEN 1 ELSE 0 END) AS status_nulls,\n",
    "    SUM(CASE WHEN ts IS NULL THEN 1 ELSE 0 END) AS ts_nulls,\n",
    "    SUM(CASE WHEN userAgent IS NULL THEN 1 ELSE 0 END) AS userAgent_nulls,\n",
    "    SUM(CASE WHEN userId IS NULL THEN 1 ELSE 0 END) AS userId_nulls\n",
    "FROM data\n",
    "\"\"\")\n",
    "null_counts.show()\n"
   ]
  },
  {
   "cell_type": "markdown",
   "metadata": {},
   "source": [
    "# Fill missing values\n",
    "Having missing data itself can sometimes be predictive so we will fill the null values to indicate they were missing."
   ]
  },
  {
   "cell_type": "code",
   "execution_count": 11,
   "metadata": {},
   "outputs": [],
   "source": [
    "filled_df = df.na.fill({\n",
    "    \"gender\": \"Missing\",\n",
    "    \"userAgent\": \"Missing\",\n",
    "    \"length\": 0\n",
    "})\n",
    "filled_df.createOrReplaceTempView(\"filled_data\")"
   ]
  },
  {
   "cell_type": "markdown",
   "metadata": {},
   "source": [
    "## Data Cleaning: Non-null and paid users only\n",
    "- Remove all users where userID is null. \n",
    "- Remove all users who are on the free tier and never upgrade but keep all data for users who were on the paid tier at least once. While free tier users can churn by not using the platform anymore, the behaviour may be different between users who are not willing to pay and who have paid at least once. We are also only interested in the churn of paid subscribers."
   ]
  },
  {
   "cell_type": "code",
   "execution_count": 12,
   "metadata": {},
   "outputs": [
    {
     "name": "stderr",
     "output_type": "stream",
     "text": [
      "                                                                                \r"
     ]
    },
    {
     "name": "stdout",
     "output_type": "stream",
     "text": [
      "+------+-------------+---------+-----+-----------+-------------+---------+--------------------+------+-------------+---------+-------+\n",
      "|gender|itemInSession|   length|level|       page| registration|sessionId|                song|status|           ts|userAgent| userId|\n",
      "+------+-------------+---------+-----+-----------+-------------+---------+--------------------+------+-------------+---------+-------+\n",
      "|     M|           71|277.15873| paid|   NextSong|1534386660000|     6370|Horn Concerto No....|   200|1538352003000|      Mac|1222580|\n",
      "|     M|          171|208.29995| paid|   NextSong|1536364639000|    22834|             Believe|   200|1538352035000|  Windows|1467665|\n",
      "|     M|          172|      0.0| paid|  Thumbs Up|1536364639000|    22834|                null|   307|1538352036000|  Windows|1467665|\n",
      "|     M|           43|313.36444| free|   NextSong|1535276001000|    22726|       Further North|   200|1538352127000|      Mac|1189576|\n",
      "|     F|           94|286.53669| paid|   NextSong|1537283153000|    10538|          Breathless|   200|1538352135000|      Mac|1192810|\n",
      "|     F|          225|318.77179| paid|   NextSong|1534915842000|     1225|Lounge Fly (LP Ve...|   200|1538352147000|      Mac|1720473|\n",
      "|     F|           13|297.56036| free|   NextSong|1533697887000|    24745|      Crack A Bottle|   200|1538352166000|  Windows|1432486|\n",
      "|     F|           61|169.29914| paid|   NextSong|1534958216000|    10943|   Frisch und g'sund|   200|1538352180000|    Linux|1720342|\n",
      "|     F|          144|219.66322| paid|   NextSong|1536788636000|     1325|Dog Days Are Over...|   200|1538352207000|  Windows|1122089|\n",
      "|     M|           12|      0.0| free|       Home|1537641426000|     4756|                null|   200|1538352235000|      Mac|1101590|\n",
      "|     M|           31| 355.7873| free|   NextSong|1538069376000|    22483|Thank You (Precio...|   200|1538352256000|  Windows|1465194|\n",
      "|     M|          397|213.02812| paid|   NextSong|1538080987000|    22684|I'm Only Me When ...|   200|1538352287000|  Windows|1843907|\n",
      "|     M|           70| 411.6371| paid|   NextSong|1538305156000|     4869|         Greece 2000|   200|1538352326000|  Windows|1355841|\n",
      "|     M|           27|      0.0| paid|Thumbs Down|1536161540000|    21259|                null|   307|1538352332000|      Mac|1358369|\n",
      "|     M|           25| 286.9024| free|   NextSong|1537259982000|     7534|           Wood Beez|   200|1538352374000|  Windows|1911021|\n",
      "|     F|           12|      0.0| free|       Help|1536761240000|    19434|                null|   200|1538352475000|    Linux|1585800|\n",
      "|     F|          117|      0.0| free|Roll Advert|1525624230000|     7737|                null|   200|1538352481000|  Windows|1001197|\n",
      "|     F|            9|183.53587| paid|   NextSong|1531817572000|    14085|          Dutty Wine|   200|1538352502000|  Windows|1497881|\n",
      "|     M|           49|153.49506| free|   NextSong|1537154878000|     6004|        Gwyneth (Cd)|   200|1538352523000|  Windows|1121796|\n",
      "|     F|          112|235.80689| paid|   NextSong|1536414505000|     4593|I'll Make Love To...|   200|1538352545000|      Mac|1697168|\n",
      "+------+-------------+---------+-----+-----------+-------------+---------+--------------------+------+-------------+---------+-------+\n",
      "only showing top 20 rows\n",
      "\n"
     ]
    },
    {
     "name": "stderr",
     "output_type": "stream",
     "text": [
      "[Stage 57:====================================================>   (17 + 1) / 18]\r"
     ]
    },
    {
     "name": "stdout",
     "output_type": "stream",
     "text": [
      "Total sampled records: 77231\n"
     ]
    },
    {
     "name": "stderr",
     "output_type": "stream",
     "text": [
      "                                                                                \r"
     ]
    }
   ],
   "source": [
    "paid_users = spark.sql(\"\"\"\n",
    "WITH PaidUsers AS (\n",
    "    SELECT DISTINCT userId\n",
    "    FROM filled_data\n",
    "    WHERE userId IS NOT NULL AND level = 'paid'\n",
    ")\n",
    "SELECT filled_data.*\n",
    "FROM filled_data\n",
    "JOIN PaidUsers\n",
    "ON filled_data.userId = PaidUsers.userId\n",
    "\"\"\")\n",
    "\n",
    "paid_users.createOrReplaceTempView(\"paid_users_data\")\n",
    "\n",
    "paid_users.show()\n",
    "print(\"Total sampled records:\", paid_users.count())"
   ]
  },
  {
   "cell_type": "markdown",
   "metadata": {},
   "source": [
    "## Filter out rows where 'registration' is null\n",
    "'registration' is null for a small number of users."
   ]
  },
  {
   "cell_type": "code",
   "execution_count": 13,
   "metadata": {},
   "outputs": [],
   "source": [
    "paid_users = paid_users.filter(col(\"registration\").isNotNull())"
   ]
  },
  {
   "cell_type": "markdown",
   "metadata": {},
   "source": [
    "## Create Target (Churn) Labels\n",
    "Flag users who have a session where page==“Cancellation Confirmation”"
   ]
  },
  {
   "cell_type": "code",
   "execution_count": 14,
   "metadata": {},
   "outputs": [],
   "source": [
    "# # Flag the specific churn event\n",
    "# paid_users = paid_users.withColumn(\"is_churn\", when(col(\"page\") == \"Cancellation Confirmation\", 1).otherwise(0))\n",
    "\n",
    "# # Propagate churn label across all records for each user\n",
    "# windowSpec = Window.partitionBy(\"userId\")\n",
    "# paid_users = paid_users.withColumn(\"churn\", max(\"is_churn\").over(windowSpec))\n",
    "\n",
    "# paid_users = paid_users.drop('is_churn')\n",
    "# paid_users.show()\n"
   ]
  },
  {
   "cell_type": "markdown",
   "metadata": {},
   "source": [
    "## Aggrigate sessionID\n",
    "Useful information maybe total session length, total items in a session, count of each page visited, etc."
   ]
  },
  {
   "cell_type": "code",
   "execution_count": 15,
   "metadata": {},
   "outputs": [
    {
     "name": "stderr",
     "output_type": "stream",
     "text": [
      "[Stage 63:====================================================>   (17 + 1) / 18]\r"
     ]
    },
    {
     "name": "stdout",
     "output_type": "stream",
     "text": [
      "+---------+------+-------------+------+-----+-------------+-------------+---------+-------+-------------+\n",
      "|sessionId|gender|itemInSession|length|level| registration|           ts|userAgent| userId|numberOfSongs|\n",
      "+---------+------+-------------+------+-----+-------------+-------------+---------+-------+-------------+\n",
      "|        9|     M|          368|  1870| paid|1538159495000|1538992511000|      Mac|1693371|            8|\n",
      "|       95|     F|           21|     0| paid|1537149749000|1538517671000|      Mac|1916668|            0|\n",
      "|      111|     M|           67|     0| free|1536032681000|1538682771000|  Windows|1144920|            0|\n",
      "|      116|     F|           67|   489| free|1537142824000|1538499190000|  Windows|1895009|            2|\n",
      "|      136|     M|            9|   288| free|1532450666000|1538417153000|      Mac|1212673|            1|\n",
      "|      139|     F|           25|   363| free|1536642109000|1538412195000|  Windows|1381561|            1|\n",
      "|      158|     M|           19|   189| free|1509854193000|1538517234000|  Windows|1888150|            1|\n",
      "|      177|     M|           68|   637| free|1527476190000|1538545521000|      Mac|1709728|            3|\n",
      "|      179|     M|           88|   378| paid|1535096179000|1539162133000|  Windows|1343125|            2|\n",
      "|      193|     M|          173|  1171| free|1535427277000|1539175212000|      Mac|1334667|            6|\n",
      "|      219|     F|          217|  1506| paid|1535108734000|1538554294000|      Mac|1518089|            4|\n",
      "|      235|     M|           98|   216| paid|1529995579000|1538401082000|  Windows|1038423|            1|\n",
      "|      253|     M|            9|   210| paid|1536396483000|1539123986000|      Mac|1300791|            1|\n",
      "|      254|     M|          376|   916| paid|1537836974000|1538573550000|      Mac|1538560|            4|\n",
      "|      257|     M|          208|  1206| paid|1538188752000|1538519298000|  Windows|1638393|            5|\n",
      "|      275|     M|            7|   640| free|1536977188000|1538421024000|      Mac|1627776|            3|\n",
      "|      278|     F|          318|  1312| free|1523464964000|1538922601000|      Mac|1341329|            5|\n",
      "|      287|     M|            4|   263| paid|1522793334000|1538359854000|      Mac|1782550|            1|\n",
      "|      294|     F|           52|   150| paid|1536830078000|1538441883000|      Mac|1117708|            1|\n",
      "|      304|     M|           33|   417| free|1529954711000|1538446113000|  Windows|1693787|            2|\n",
      "+---------+------+-------------+------+-----+-------------+-------------+---------+-------+-------------+\n",
      "only showing top 20 rows\n",
      "\n"
     ]
    },
    {
     "name": "stderr",
     "output_type": "stream",
     "text": [
      "                                                                                \r"
     ]
    }
   ],
   "source": [
    "df_grouped = paid_users.groupBy(\"sessionId\").agg(\n",
    "    first(\"gender\").alias(\"gender\"),\n",
    "    max(\"itemInSession\").alias(\"itemInSession\"),\n",
    "    sum(\"length\").alias(\"length\"),\n",
    "    first(\"level\").alias(\"level\"),\n",
    "    first(\"registration\").alias(\"registration\"),\n",
    "    min(\"ts\").alias(\"ts\"),\n",
    "    first(\"userAgent\").alias(\"userAgent\"),\n",
    "    first(\"userId\").alias(\"userId\"),\n",
    "    # first(\"churn\").alias(\"churn\"),\n",
    "    count(when(col(\"song\").isNotNull(), True)).alias(\"numberOfSongs\")\n",
    ")\n",
    "\n",
    "# Convert total_length to integer\n",
    "df_grouped = df_grouped.withColumn('length', col('length').cast('integer'))\n",
    "\n",
    "df_grouped.show()"
   ]
  },
  {
   "cell_type": "markdown",
   "metadata": {},
   "source": [
    "## Add features\n",
    "- Average session length & deviation from average.\n",
    "- Total number of sessions\n",
    "- Average songs per session & deviation from average.\n"
   ]
  },
  {
   "cell_type": "code",
   "execution_count": 16,
   "metadata": {},
   "outputs": [
    {
     "name": "stderr",
     "output_type": "stream",
     "text": [
      "[Stage 70:=================================================>      (16 + 2) / 18]\r"
     ]
    },
    {
     "name": "stdout",
     "output_type": "stream",
     "text": [
      "+-------+---------+------+-------------+------+-----+-------------+-------------+---------+-------------+------------------+--------------+---------------------+-------------------------+------------------------+\n",
      "| userId|sessionId|gender|itemInSession|length|level| registration|           ts|userAgent|numberOfSongs|avg_session_length|total_sessions|avg_songs_per_session|deviation_from_avg_length|deviation_from_avg_songs|\n",
      "+-------+---------+------+-------------+------+-----+-------------+-------------+---------+-------------+------------------+--------------+---------------------+-------------------------+------------------------+\n",
      "|1358765|    25864|     M|            2|   229| free|1531826529000|1539231378000|      Mac|            1|               345|             3|   1.3333333333333333|                     -116|    -0.33333333333333326|\n",
      "|1358765|      391|     M|           46|   521| free|1531826529000|1538360210000|      Mac|            2|               345|             3|   1.3333333333333333|                      176|      0.6666666666666667|\n",
      "|1358765|    69417|     M|           18|   286| paid|1531826529000|1539346833000|      Mac|            1|               345|             3|   1.3333333333333333|                      -59|    -0.33333333333333326|\n",
      "|1528396|     1046|     F|           62|  1374| paid|1537302025000|1538425015000|  Windows|            6|              1374|             1|                  6.0|                        0|                     0.0|\n",
      "|1396135|     1615|     F|           43|    77| paid|1532867081000|1538526008000|  Windows|            1|               545|             2|                  2.5|                     -468|                    -1.5|\n",
      "|1396135|    35048|     F|          240|  1013| paid|1532867081000|1538707912000|  Windows|            4|               545|             2|                  2.5|                      468|                     1.5|\n",
      "|1500901|    63435|     M|           49|   263| paid|1536367391000|1539550344000|  Windows|            1|               981|             3|                  3.0|                     -718|                    -2.0|\n",
      "|1500901|    27054|     M|           51|  1374| paid|1536367391000|1538648885000|  Windows|            4|               981|             3|                  3.0|                      393|                     1.0|\n",
      "|1500901|     2873|     M|          182|  1306| paid|1536367391000|1538361808000|  Windows|            4|               981|             3|                  3.0|                      325|                     1.0|\n",
      "|1338783|    57850|     F|          158|   535| paid|1537789139000|1539382897000|      Mac|            2|               402|             4|                  1.5|                      133|                     0.5|\n",
      "|1338783|    29218|     F|           33|     0| free|1537789139000|1538679037000|      Mac|            0|               402|             4|                  1.5|                     -402|                    -1.5|\n",
      "|1338783|     3902|     F|           55|   560| free|1537789139000|1538426452000|      Mac|            3|               402|             4|                  1.5|                      158|                     1.5|\n",
      "|1338783|    44078|     F|           39|   515| paid|1537789139000|1538766580000|      Mac|            1|               402|             4|                  1.5|                      113|                    -0.5|\n",
      "|1351489|     5459|     M|           23|   385| paid|1537020466000|1538359110000|  Windows|            2|               817|             4|                  3.5|                     -432|                    -1.5|\n",
      "|1351489|    77505|     M|           72|   712| paid|1537020466000|1539536659000|  Windows|            3|               817|             4|                  3.5|                     -105|                    -0.5|\n",
      "|1351489|    58852|     M|          193|   949| paid|1537020466000|1539313851000|  Windows|            5|               817|             4|                  3.5|                      132|                     1.5|\n",
      "|1351489|    25587|     M|          198|  1224| paid|1537020466000|1539001942000|  Windows|            4|               817|             4|                  3.5|                      407|                     0.5|\n",
      "|1083324|    66182|     M|           66|  1067| paid|1530667839000|1539603238000|      Mac|            3|               619|             6|   2.1666666666666665|                      448|      0.8333333333333335|\n",
      "|1083324|    46675|     M|          258|  1735| paid|1530667839000|1538871181000|      Mac|            6|               619|             6|   2.1666666666666665|                     1116|      3.8333333333333335|\n",
      "|1083324|    43169|     M|           32|   476| paid|1530667839000|1538727400000|      Mac|            2|               619|             6|   2.1666666666666665|                     -143|    -0.16666666666666652|\n",
      "+-------+---------+------+-------------+------+-----+-------------+-------------+---------+-------------+------------------+--------------+---------------------+-------------------------+------------------------+\n",
      "only showing top 20 rows\n",
      "\n"
     ]
    },
    {
     "name": "stderr",
     "output_type": "stream",
     "text": [
      "                                                                                \r"
     ]
    }
   ],
   "source": [
    "# Calculate total length and number of sessions for average calculation\n",
    "user_session_stats = df_grouped.groupBy(\"userId\").agg(\n",
    "    avg(\"length\").cast('integer').alias(\"avg_session_length\"),\n",
    "    countDistinct(\"sessionId\").alias(\"total_sessions\"),\n",
    "    avg(\"numberOfSongs\").alias(\"avg_songs_per_session\")\n",
    ")\n",
    "\n",
    "# Join back to the main DataFrame\n",
    "df_grouped_fe = df_grouped.join(user_session_stats, \"userId\")\n",
    "\n",
    "df_grouped_fe = df_grouped_fe.withColumn(\"deviation_from_avg_length\",\n",
    "                                   col(\"length\") - col(\"avg_session_length\"))\n",
    "df_grouped_fe = df_grouped_fe.withColumn(\"deviation_from_avg_songs\",\n",
    "                                   col(\"numberOfSongs\") - col(\"avg_songs_per_session\"))\n",
    "\n",
    "df_grouped_fe.show()"
   ]
  },
  {
   "cell_type": "markdown",
   "metadata": {},
   "source": [
    "## Create new column for each page and status"
   ]
  },
  {
   "cell_type": "code",
   "execution_count": 17,
   "metadata": {},
   "outputs": [
    {
     "name": "stderr",
     "output_type": "stream",
     "text": [
      "                                                                                \r"
     ]
    }
   ],
   "source": [
    "# Pivot for the page column\n",
    "page_counts = paid_users.groupBy(\"sessionId\").pivot(\"page\").count().na.fill(0)\n",
    "\n",
    "# Pivot for the status column\n",
    "status_counts = paid_users.groupBy(\"sessionId\").pivot(\"status\").count().na.fill(0)\n"
   ]
  },
  {
   "cell_type": "markdown",
   "metadata": {},
   "source": [
    "## Check that “Submit Downgrade” does not directly lead to cancellations"
   ]
  },
  {
   "cell_type": "code",
   "execution_count": 18,
   "metadata": {},
   "outputs": [
    {
     "name": "stderr",
     "output_type": "stream",
     "text": [
      "[Stage 103:===================================================>   (17 + 1) / 18]\r"
     ]
    },
    {
     "name": "stdout",
     "output_type": "stream",
     "text": [
      "+----------------------+----------------+\n",
      "|Count of Cancellations|Total Downgrades|\n",
      "+----------------------+----------------+\n",
      "|                     0|              14|\n",
      "+----------------------+----------------+\n",
      "\n"
     ]
    },
    {
     "name": "stderr",
     "output_type": "stream",
     "text": [
      "                                                                                \r"
     ]
    }
   ],
   "source": [
    "# Filter to include only sessions with at least one 'Submit Downgrade'\n",
    "downgrade_to_cancel = page_counts.filter(col(\"Submit Downgrade\") > 0)\n",
    "\n",
    "# Group by sessionId, and count the number of 'Cancellation Confirmation'\n",
    "downgrade_to_cancel = downgrade_to_cancel.groupBy(\"sessionId\").agg(\n",
    "    sum(when(col(\"Cancellation Confirmation\") > 0, 1).otherwise(0)).alias(\"Cancellation Occurred\")\n",
    ")\n",
    "\n",
    "# Calculate the total number of cancellations and the total number of sessions with downgrades\n",
    "downgrade_to_cancel_summary = downgrade_to_cancel.select(\n",
    "    count(when(col(\"Cancellation Occurred\") > 0, True)).alias(\"Count of Cancellations\"),\n",
    "    count(\"*\").alias(\"Total Downgrades\")\n",
    ")\n",
    "\n",
    "# Show the results\n",
    "downgrade_to_cancel_summary.show()\n"
   ]
  },
  {
   "cell_type": "markdown",
   "metadata": {},
   "source": [
    "## Join page and status with the original dataset"
   ]
  },
  {
   "cell_type": "code",
   "execution_count": 19,
   "metadata": {},
   "outputs": [
    {
     "name": "stderr",
     "output_type": "stream",
     "text": [
      "24/06/03 07:10:49 WARN package: Truncated the string representation of a plan since it was too large. This behavior can be adjusted by setting 'spark.sql.debug.maxToStringFields'.\n",
      "                                                                                \r"
     ]
    },
    {
     "name": "stdout",
     "output_type": "stream",
     "text": [
      "+---------+-------+------+-------------+------+-----+-------------+-------------+---------+-------------+------------------+--------------+---------------------+-------------------------+------------------------+-----+----------+---------------+------+-------------------------+---------+-----+----+----+------+--------+-----------+-------------+--------+----------------+--------------+-----------+---------+-------+---+---+---+\n",
      "|sessionId| userId|gender|itemInSession|length|level| registration|           ts|userAgent|numberOfSongs|avg_session_length|total_sessions|avg_songs_per_session|deviation_from_avg_length|deviation_from_avg_songs|About|Add Friend|Add to Playlist|Cancel|Cancellation Confirmation|Downgrade|Error|Help|Home|Logout|NextSong|Roll Advert|Save Settings|Settings|Submit Downgrade|Submit Upgrade|Thumbs Down|Thumbs Up|Upgrade|200|307|404|\n",
      "+---------+-------+------+-------------+------+-----+-------------+-------------+---------+-------------+------------------+--------------+---------------------+-------------------------+------------------------+-----+----------+---------------+------+-------------------------+---------+-----+----+----+------+--------+-----------+-------------+--------+----------------+--------------+-----------+---------+-------+---+---+---+\n",
      "|    25864|1358765|     M|            2|   229| free|1531826529000|1539231378000|      Mac|            1|               345|             3|   1.3333333333333333|                     -116|    -0.33333333333333326|    0|         0|              0|     0|                        0|        0|    0|   0|   0|     0|       1|          0|            0|       0|               0|             0|          0|        0|      0|  1|  0|  0|\n",
      "|      391|1358765|     M|           46|   521| free|1531826529000|1538360210000|      Mac|            2|               345|             3|   1.3333333333333333|                      176|      0.6666666666666667|    0|         0|              0|     0|                        0|        0|    0|   0|   0|     0|       2|          0|            0|       0|               0|             0|          0|        0|      0|  2|  0|  0|\n",
      "|    69417|1358765|     M|           18|   286| paid|1531826529000|1539346833000|      Mac|            1|               345|             3|   1.3333333333333333|                      -59|    -0.33333333333333326|    0|         0|              0|     0|                        0|        0|    0|   0|   0|     0|       1|          0|            0|       0|               0|             0|          0|        0|      0|  1|  0|  0|\n",
      "|     1046|1528396|     F|           62|  1374| paid|1537302025000|1538425015000|  Windows|            6|              1374|             1|                  6.0|                        0|                     0.0|    0|         0|              0|     0|                        0|        0|    0|   0|   0|     0|       6|          0|            0|       0|               0|             0|          0|        0|      0|  6|  0|  0|\n",
      "|     1615|1396135|     F|           43|    77| paid|1532867081000|1538526008000|  Windows|            1|               545|             2|                  2.5|                     -468|                    -1.5|    0|         0|              0|     0|                        0|        0|    0|   0|   0|     0|       1|          0|            0|       0|               0|             0|          0|        0|      0|  1|  0|  0|\n",
      "|    35048|1396135|     F|          240|  1013| paid|1532867081000|1538707912000|  Windows|            4|               545|             2|                  2.5|                      468|                     1.5|    0|         0|              0|     0|                        0|        0|    0|   0|   0|     0|       4|          0|            1|       0|               0|             0|          0|        0|      0|  4|  1|  0|\n",
      "|    63435|1500901|     M|           49|   263| paid|1536367391000|1539550344000|  Windows|            1|               981|             3|                  3.0|                     -718|                    -2.0|    0|         0|              0|     0|                        0|        0|    0|   0|   0|     0|       1|          0|            0|       0|               0|             0|          0|        0|      0|  1|  0|  0|\n",
      "|    27054|1500901|     M|           51|  1374| paid|1536367391000|1538648885000|  Windows|            4|               981|             3|                  3.0|                      393|                     1.0|    0|         0|              0|     0|                        0|        0|    0|   0|   0|     0|       4|          0|            0|       0|               0|             0|          0|        0|      0|  4|  0|  0|\n",
      "|     2873|1500901|     M|          182|  1306| paid|1536367391000|1538361808000|  Windows|            4|               981|             3|                  3.0|                      325|                     1.0|    0|         0|              0|     0|                        0|        0|    0|   0|   0|     0|       4|          0|            0|       0|               0|             0|          0|        0|      0|  4|  0|  0|\n",
      "|    57850|1338783|     F|          158|   535| paid|1537789139000|1539382897000|      Mac|            2|               402|             4|                  1.5|                      133|                     0.5|    0|         0|              0|     0|                        0|        0|    0|   0|   0|     0|       2|          0|            0|       0|               0|             0|          0|        0|      0|  2|  0|  0|\n",
      "|    29218|1338783|     F|           33|     0| free|1537789139000|1538679037000|      Mac|            0|               402|             4|                  1.5|                     -402|                    -1.5|    0|         0|              0|     0|                        0|        0|    0|   0|   0|     0|       0|          0|            0|       0|               0|             0|          0|        1|      1|  1|  1|  0|\n",
      "|     3902|1338783|     F|           55|   560| free|1537789139000|1538426452000|      Mac|            3|               402|             4|                  1.5|                      158|                     1.5|    0|         0|              0|     0|                        0|        0|    0|   0|   0|     0|       3|          0|            0|       0|               0|             0|          0|        0|      0|  3|  0|  0|\n",
      "|    44078|1338783|     F|           39|   515| paid|1537789139000|1538766580000|      Mac|            1|               402|             4|                  1.5|                      113|                    -0.5|    0|         0|              0|     0|                        0|        0|    0|   0|   0|     0|       1|          0|            0|       0|               0|             0|          0|        0|      0|  1|  0|  0|\n",
      "|     5459|1351489|     M|           23|   385| paid|1537020466000|1538359110000|  Windows|            2|               817|             4|                  3.5|                     -432|                    -1.5|    0|         0|              0|     0|                        0|        0|    0|   0|   0|     0|       2|          0|            0|       0|               0|             0|          0|        0|      0|  2|  0|  0|\n",
      "|    77505|1351489|     M|           72|   712| paid|1537020466000|1539536659000|  Windows|            3|               817|             4|                  3.5|                     -105|                    -0.5|    0|         0|              0|     0|                        0|        0|    0|   0|   1|     0|       3|          0|            0|       0|               0|             0|          0|        0|      0|  4|  0|  0|\n",
      "|    58852|1351489|     M|          193|   949| paid|1537020466000|1539313851000|  Windows|            5|               817|             4|                  3.5|                      132|                     1.5|    0|         0|              0|     0|                        0|        0|    0|   0|   1|     0|       5|          0|            0|       0|               0|             0|          0|        1|      0|  6|  1|  0|\n",
      "|    25587|1351489|     M|          198|  1224| paid|1537020466000|1539001942000|  Windows|            4|               817|             4|                  3.5|                      407|                     0.5|    0|         0|              1|     0|                        0|        0|    0|   0|   0|     0|       4|          0|            0|       0|               0|             0|          0|        0|      0|  5|  0|  0|\n",
      "|    66182|1083324|     M|           66|  1067| paid|1530667839000|1539603238000|      Mac|            3|               619|             6|   2.1666666666666665|                      448|      0.8333333333333335|    0|         0|              0|     0|                        0|        0|    0|   0|   0|     0|       3|          0|            0|       0|               0|             0|          0|        0|      0|  3|  0|  0|\n",
      "|    46675|1083324|     M|          258|  1735| paid|1530667839000|1538871181000|      Mac|            6|               619|             6|   2.1666666666666665|                     1116|      3.8333333333333335|    0|         0|              0|     0|                        0|        0|    0|   0|   0|     0|       6|          0|            0|       0|               0|             0|          0|        0|      0|  6|  0|  0|\n",
      "|    43169|1083324|     M|           32|   476| paid|1530667839000|1538727400000|      Mac|            2|               619|             6|   2.1666666666666665|                     -143|    -0.16666666666666652|    0|         0|              0|     0|                        0|        0|    0|   0|   0|     0|       2|          0|            0|       0|               0|             0|          0|        0|      0|  2|  0|  0|\n",
      "+---------+-------+------+-------------+------+-----+-------------+-------------+---------+-------------+------------------+--------------+---------------------+-------------------------+------------------------+-----+----------+---------------+------+-------------------------+---------+-----+----+----+------+--------+-----------+-------------+--------+----------------+--------------+-----------+---------+-------+---+---+---+\n",
      "only showing top 20 rows\n",
      "\n"
     ]
    }
   ],
   "source": [
    "# page_counts = page_counts.drop('Cancellation Confirmation')\n",
    "\n",
    "# Join page counts\n",
    "df_grouped_all = df_grouped_fe.join(page_counts, on=\"sessionId\", how=\"left\")\n",
    "\n",
    "# Join status counts\n",
    "df_grouped_all = df_grouped_all.join(status_counts, on=\"sessionId\", how=\"left\")\n",
    "\n",
    "\n",
    "df_grouped_all.show()"
   ]
  },
  {
   "cell_type": "markdown",
   "metadata": {},
   "source": [
    "## Convert UNIX timestamps to readable format\n",
    "Also do time-based analysis to understand usage patterns over time."
   ]
  },
  {
   "cell_type": "code",
   "execution_count": 20,
   "metadata": {},
   "outputs": [
    {
     "name": "stderr",
     "output_type": "stream",
     "text": [
      "                                                                                \r"
     ]
    },
    {
     "name": "stdout",
     "output_type": "stream",
     "text": [
      "+---------+-------+------+-------------+------+-----+---------+-------------+------------------+--------------+---------------------+-------------------------+------------------------+-----+----------+---------------+------+-------------------------+---------+-----+----+----+------+--------+-----------+-------------+--------+----------------+--------------+-----------+---------+-------+---+---+---+-------------------+-------------------+------+----------------+\n",
      "|sessionId| userId|gender|itemInSession|length|level|userAgent|numberOfSongs|avg_session_length|total_sessions|avg_songs_per_session|deviation_from_avg_length|deviation_from_avg_songs|About|Add Friend|Add to Playlist|Cancel|Cancellation Confirmation|Downgrade|Error|Help|Home|Logout|NextSong|Roll Advert|Save Settings|Settings|Submit Downgrade|Submit Upgrade|Thumbs Down|Thumbs Up|Upgrade|200|307|404|  registration_date|      activity_date|tenure|activity_recency|\n",
      "+---------+-------+------+-------------+------+-----+---------+-------------+------------------+--------------+---------------------+-------------------------+------------------------+-----+----------+---------------+------+-------------------------+---------+-----+----+----+------+--------+-----------+-------------+--------+----------------+--------------+-----------+---------+-------+---+---+---+-------------------+-------------------+------+----------------+\n",
      "|    23706|1000025|     M|           17|     0| free|  Windows|            0|               774|             7|   2.7142857142857144|                     -774|     -2.7142857142857144|    0|         0|              0|     0|                        0|        0|    0|   0|   0|     0|       0|          1|            0|       0|               0|             0|          0|        0|      0|  1|  0|  0|2018-07-10 09:30:08|2018-10-02 09:54:54|    84|               0|\n",
      "|    31688|1000025|     M|          430|  1810| free|  Windows|            6|               774|             7|   2.7142857142857144|                     1036|      3.2857142857142856|    0|         0|              1|     0|                        0|        0|    0|   0|   1|     0|       6|          0|            0|       0|               0|             0|          0|        0|      0|  8|  0|  0|2018-07-10 09:30:08|2018-10-02 18:19:14|    84|             504|\n",
      "|    39243|1000025|     M|          160|   973| paid|  Windows|            3|               774|             7|   2.7142857142857144|                      199|      0.2857142857142856|    0|         0|              0|     0|                        0|        0|    0|   0|   0|     0|       3|          0|            0|       0|               0|             0|          0|        0|      0|  3|  0|  0|2018-07-10 09:30:08|2018-10-04 07:56:55|    86|            2257|\n",
      "|    45191|1000025|     M|            0|   350| paid|  Windows|            1|               774|             7|   2.7142857142857144|                     -424|     -1.7142857142857144|    0|         0|              0|     0|                        0|        0|    0|   0|   0|     0|       1|          0|            0|       0|               0|             0|          0|        0|      0|  1|  0|  0|2018-07-10 09:30:08|2018-10-06 22:09:33|    88|            3732|\n",
      "|    51998|1000025|     M|          125|   386| paid|  Windows|            2|               774|             7|   2.7142857142857144|                     -388|     -0.7142857142857144|    0|         0|              0|     0|                        0|        0|    0|   0|   0|     0|       2|          0|            0|       0|               0|             0|          0|        0|      0|  2|  0|  0|2018-07-10 09:30:08|2018-10-07 18:18:02|    89|            1208|\n",
      "|    54645|1000025|     M|            2|   213| paid|  Windows|            1|               774|             7|   2.7142857142857144|                     -561|     -1.7142857142857144|    0|         0|              0|     0|                        0|        0|    0|   0|   0|     0|       1|          0|            0|       0|               0|             0|          0|        0|      0|  1|  0|  0|2018-07-10 09:30:08|2018-10-09 07:57:07|    91|            2259|\n",
      "|    60612|1000025|     M|          134|  1689| paid|  Windows|            6|               774|             7|   2.7142857142857144|                      915|      3.2857142857142856|    0|         0|              0|     0|                        0|        0|    0|   0|   0|     0|       6|          0|            0|       0|               0|             0|          0|        1|      0|  6|  1|  0|2018-07-10 09:30:08|2018-10-09 23:48:46|    91|             951|\n",
      "|    41028|1000083|     M|           41|   195| free|  Windows|            1|               322|             3|   1.3333333333333333|                     -127|    -0.33333333333333326|    0|         0|              0|     0|                        0|        0|    0|   0|   0|     0|       1|          0|            0|       0|               0|             0|          0|        0|      0|  1|  0|  0|2018-09-07 18:01:49|2018-10-08 22:51:56|    31|               0|\n",
      "|    60037|1000083|     M|            2|   250| paid|  Windows|            1|               322|             3|   1.3333333333333333|                      -72|    -0.33333333333333326|    0|         0|              0|     0|                        0|        0|    0|   0|   0|     0|       1|          0|            0|       0|               0|             0|          0|        0|      0|  1|  0|  0|2018-09-07 18:01:49|2018-10-09 07:26:17|    32|             514|\n",
      "|    72494|1000083|     M|           71|   523| paid|  Windows|            2|               322|             3|   1.3333333333333333|                      201|      0.6666666666666667|    0|         1|              0|     0|                        0|        0|    0|   0|   0|     0|       2|          0|            0|       0|               0|             0|          0|        0|      0|  2|  1|  0|2018-09-07 18:01:49|2018-10-12 04:15:29|    35|            4129|\n",
      "|     7584|1000214|     M|           56|   193| paid|  Windows|            1|               429|             5|                  2.0|                     -236|                    -1.0|    0|         0|              0|     0|                        0|        0|    0|   0|   0|     0|       1|          0|            0|       0|               0|             0|          0|        1|      0|  1|  1|  0|2018-09-18 00:37:57|2018-10-03 12:59:52|    15|               0|\n",
      "|    40856|1000214|     M|           22|   469| paid|  Windows|            2|               429|             5|                  2.0|                       40|                     0.0|    0|         0|              0|     0|                        0|        0|    0|   0|   0|     0|       2|          0|            0|       0|               0|             0|          0|        0|      0|  2|  0|  0|2018-09-18 00:37:57|2018-10-05 19:07:57|    17|            3248|\n",
      "|    48617|1000214|     M|          267|   793| paid|  Windows|            4|               429|             5|                  2.0|                      364|                     2.0|    0|         0|              0|     0|                        0|        0|    0|   0|   0|     0|       4|          0|            0|       0|               1|             0|          1|        0|      0|  4|  2|  0|2018-09-18 00:37:57|2018-10-06 07:54:30|    18|             766|\n",
      "|    60385|1000214|     M|           22|   241| free|  Windows|            1|               429|             5|                  2.0|                     -188|                    -1.0|    0|         0|              0|     0|                        0|        0|    0|   0|   0|     0|       1|          0|            0|       0|               0|             0|          0|        0|      0|  1|  0|  0|2018-09-18 00:37:57|2018-10-09 21:25:22|    21|            5130|\n",
      "|    83781|1000214|     M|           67|   453| free|  Windows|            2|               429|             5|                  2.0|                       24|                     0.0|    0|         0|              0|     0|                        0|        0|    0|   0|   0|     0|       2|          0|            0|       0|               0|             0|          0|        0|      0|  2|  0|  0|2018-09-18 00:37:57|2018-10-15 12:44:18|    27|            8118|\n",
      "|    37655|1000248|     F|          387|  1514| paid|  Windows|            7|              1514|             1|                  7.0|                        0|                     0.0|    0|         0|              0|     0|                        0|        0|    0|   0|   0|     0|       7|          0|            0|       0|               0|             0|          0|        0|      0|  7|  0|  0|2018-08-19 23:56:14|2018-10-11 22:08:03|    53|               0|\n",
      "|    18819|1000353|     F|           69|   284| paid|  Windows|            1|               215|             3|                  1.0|                       69|                     0.0|    0|         0|              0|     0|                        0|        0|    0|   0|   0|     0|       1|          0|            0|       0|               0|             0|          0|        0|      0|  1|  0|  0|2018-05-02 11:37:39|2018-10-01 01:40:53|   152|               0|\n",
      "|    25907|1000353|     F|           24|   273| paid|  Windows|            1|               215|             3|                  1.0|                       58|                     0.0|    0|         0|              0|     0|                        0|        0|    0|   0|   0|     0|       1|          0|            0|       0|               0|             0|          0|        0|      0|  1|  0|  0|2018-05-02 11:37:39|2018-10-02 05:29:22|   153|            1668|\n",
      "|    31025|1000353|     F|           13|    88| paid|  Windows|            1|               215|             3|                  1.0|                     -127|                     0.0|    0|         0|              0|     0|                        0|        0|    0|   0|   0|     0|       1|          0|            0|       0|               0|             0|          0|        0|      0|  1|  0|  0|2018-05-02 11:37:39|2018-10-03 01:23:16|   154|            1193|\n",
      "|    26783|1000407|     M|          250|  1561| paid|  Windows|            6|               506|             4|                  2.0|                     1055|                     4.0|    0|         0|              0|     0|                        0|        0|    0|   0|   0|     0|       6|          0|            0|       0|               0|             0|          0|        0|      0|  6|  0|  0|2018-09-19 12:11:24|2018-10-02 17:55:29|    13|               0|\n",
      "+---------+-------+------+-------------+------+-----+---------+-------------+------------------+--------------+---------------------+-------------------------+------------------------+-----+----------+---------------+------+-------------------------+---------+-----+----+----+------+--------+-----------+-------------+--------+----------------+--------------+-----------+---------+-------+---+---+---+-------------------+-------------------+------+----------------+\n",
      "only showing top 20 rows\n",
      "\n"
     ]
    }
   ],
   "source": [
    "# Make date format human-readable \n",
    "df_tenure = df_grouped_all.withColumn('registration_date', from_unixtime(col('registration') / 1000).cast('timestamp'))\n",
    "df_tenure = df_tenure.withColumn('activity_date', from_unixtime(col('ts') / 1000).cast('timestamp'))\n",
    "df_tenure = df_tenure.drop(\"ts\", \"registration\")\n",
    "\n",
    "user_window = Window.partitionBy(\"userId\").orderBy(\"activity_date\")\n",
    "\n",
    "# Calculate tenure in days\n",
    "df_tenure = df_tenure.withColumn('tenure', datediff(to_date(col('activity_date')), to_date(col('registration_date'))))\n",
    "\n",
    "# Calculate activity recency in minutes\n",
    "df_tenure = df_tenure.withColumn('previous_activity_date', lag('activity_date').over(user_window))\n",
    "df_tenure = df_tenure.withColumn('activity_recency', (unix_timestamp('activity_date') - unix_timestamp('previous_activity_date')) / 60)\n",
    "\n",
    "# Convert activity_recency to integer\n",
    "df_tenure = df_tenure.withColumn('activity_recency', col('activity_recency').cast('integer'))\n",
    "\n",
    "# Replace nulls with 0\n",
    "df_tenure = df_tenure.withColumn('activity_recency', coalesce(col('activity_recency'), lit(0)))\n",
    "\n",
    "df_tenure = df_tenure.drop('previous_activity_date')\n",
    "\n",
    "df_tenure.show()"
   ]
  },
  {
   "cell_type": "markdown",
   "metadata": {},
   "source": [
    "## Adjust the churn labels so that the 3 sessions leading up to the actual churn are marked as churn=1\n",
    "- For a given user, the churn column 'Cancellation Confirmation' is 1 for the session that the user churns and 0 for all other sessions. \n",
    "- Churn needs to be predicted ahead of time so preventative measures can be taken.\n",
    "- There is likely a behavioural change that occurs ahead of time that can be used to predict churn. \n",
    "- Here, the 3 sessions leading up to the actual churn date are also labeled as churn for each user."
   ]
  },
  {
   "cell_type": "code",
   "execution_count": 21,
   "metadata": {},
   "outputs": [
    {
     "name": "stderr",
     "output_type": "stream",
     "text": [
      "[Stage 172:===================================================>   (17 + 1) / 18]\r"
     ]
    },
    {
     "name": "stdout",
     "output_type": "stream",
     "text": [
      "+---------+-------+------+-------------+------+-----+---------+-------------+------------------+--------------+---------------------+-------------------------+------------------------+-----+----------+---------------+------+-----+---------+-----+----+----+------+--------+-----------+-------------+--------+----------------+--------------+-----------+---------+-------+---+---+---+-------------------+-------------------+------+----------------+\n",
      "|sessionId| userId|gender|itemInSession|length|level|userAgent|numberOfSongs|avg_session_length|total_sessions|avg_songs_per_session|deviation_from_avg_length|deviation_from_avg_songs|About|Add Friend|Add to Playlist|Cancel|churn|Downgrade|Error|Help|Home|Logout|NextSong|Roll Advert|Save Settings|Settings|Submit Downgrade|Submit Upgrade|Thumbs Down|Thumbs Up|Upgrade|200|307|404|  registration_date|      activity_date|tenure|activity_recency|\n",
      "+---------+-------+------+-------------+------+-----+---------+-------------+------------------+--------------+---------------------+-------------------------+------------------------+-----+----------+---------------+------+-----+---------+-----+----+----+------+--------+-----------+-------------+--------+----------------+--------------+-----------+---------+-------+---+---+---+-------------------+-------------------+------+----------------+\n",
      "|    23706|1000025|     M|           17|     0| free|  Windows|            0|               774|             7|   2.7142857142857144|                     -774|     -2.7142857142857144|    0|         0|              0|     0|    0|        0|    0|   0|   0|     0|       0|          1|            0|       0|               0|             0|          0|        0|      0|  1|  0|  0|2018-07-10 09:30:08|2018-10-02 09:54:54|    84|               0|\n",
      "|    31688|1000025|     M|          430|  1810| free|  Windows|            6|               774|             7|   2.7142857142857144|                     1036|      3.2857142857142856|    0|         0|              1|     0|    0|        0|    0|   0|   1|     0|       6|          0|            0|       0|               0|             0|          0|        0|      0|  8|  0|  0|2018-07-10 09:30:08|2018-10-02 18:19:14|    84|             504|\n",
      "|    39243|1000025|     M|          160|   973| paid|  Windows|            3|               774|             7|   2.7142857142857144|                      199|      0.2857142857142856|    0|         0|              0|     0|    0|        0|    0|   0|   0|     0|       3|          0|            0|       0|               0|             0|          0|        0|      0|  3|  0|  0|2018-07-10 09:30:08|2018-10-04 07:56:55|    86|            2257|\n",
      "|    45191|1000025|     M|            0|   350| paid|  Windows|            1|               774|             7|   2.7142857142857144|                     -424|     -1.7142857142857144|    0|         0|              0|     0|    0|        0|    0|   0|   0|     0|       1|          0|            0|       0|               0|             0|          0|        0|      0|  1|  0|  0|2018-07-10 09:30:08|2018-10-06 22:09:33|    88|            3732|\n",
      "|    51998|1000025|     M|          125|   386| paid|  Windows|            2|               774|             7|   2.7142857142857144|                     -388|     -0.7142857142857144|    0|         0|              0|     0|    0|        0|    0|   0|   0|     0|       2|          0|            0|       0|               0|             0|          0|        0|      0|  2|  0|  0|2018-07-10 09:30:08|2018-10-07 18:18:02|    89|            1208|\n",
      "|    54645|1000025|     M|            2|   213| paid|  Windows|            1|               774|             7|   2.7142857142857144|                     -561|     -1.7142857142857144|    0|         0|              0|     0|    0|        0|    0|   0|   0|     0|       1|          0|            0|       0|               0|             0|          0|        0|      0|  1|  0|  0|2018-07-10 09:30:08|2018-10-09 07:57:07|    91|            2259|\n",
      "|    60612|1000025|     M|          134|  1689| paid|  Windows|            6|               774|             7|   2.7142857142857144|                      915|      3.2857142857142856|    0|         0|              0|     0|    0|        0|    0|   0|   0|     0|       6|          0|            0|       0|               0|             0|          0|        1|      0|  6|  1|  0|2018-07-10 09:30:08|2018-10-09 23:48:46|    91|             951|\n",
      "|    41028|1000083|     M|           41|   195| free|  Windows|            1|               322|             3|   1.3333333333333333|                     -127|    -0.33333333333333326|    0|         0|              0|     0|    0|        0|    0|   0|   0|     0|       1|          0|            0|       0|               0|             0|          0|        0|      0|  1|  0|  0|2018-09-07 18:01:49|2018-10-08 22:51:56|    31|               0|\n",
      "|    60037|1000083|     M|            2|   250| paid|  Windows|            1|               322|             3|   1.3333333333333333|                      -72|    -0.33333333333333326|    0|         0|              0|     0|    0|        0|    0|   0|   0|     0|       1|          0|            0|       0|               0|             0|          0|        0|      0|  1|  0|  0|2018-09-07 18:01:49|2018-10-09 07:26:17|    32|             514|\n",
      "|    72494|1000083|     M|           71|   523| paid|  Windows|            2|               322|             3|   1.3333333333333333|                      201|      0.6666666666666667|    0|         1|              0|     0|    0|        0|    0|   0|   0|     0|       2|          0|            0|       0|               0|             0|          0|        0|      0|  2|  1|  0|2018-09-07 18:01:49|2018-10-12 04:15:29|    35|            4129|\n",
      "|     7584|1000214|     M|           56|   193| paid|  Windows|            1|               429|             5|                  2.0|                     -236|                    -1.0|    0|         0|              0|     0|    0|        0|    0|   0|   0|     0|       1|          0|            0|       0|               0|             0|          0|        1|      0|  1|  1|  0|2018-09-18 00:37:57|2018-10-03 12:59:52|    15|               0|\n",
      "|    40856|1000214|     M|           22|   469| paid|  Windows|            2|               429|             5|                  2.0|                       40|                     0.0|    0|         0|              0|     0|    0|        0|    0|   0|   0|     0|       2|          0|            0|       0|               0|             0|          0|        0|      0|  2|  0|  0|2018-09-18 00:37:57|2018-10-05 19:07:57|    17|            3248|\n",
      "|    48617|1000214|     M|          267|   793| paid|  Windows|            4|               429|             5|                  2.0|                      364|                     2.0|    0|         0|              0|     0|    0|        0|    0|   0|   0|     0|       4|          0|            0|       0|               1|             0|          1|        0|      0|  4|  2|  0|2018-09-18 00:37:57|2018-10-06 07:54:30|    18|             766|\n",
      "|    60385|1000214|     M|           22|   241| free|  Windows|            1|               429|             5|                  2.0|                     -188|                    -1.0|    0|         0|              0|     0|    0|        0|    0|   0|   0|     0|       1|          0|            0|       0|               0|             0|          0|        0|      0|  1|  0|  0|2018-09-18 00:37:57|2018-10-09 21:25:22|    21|            5130|\n",
      "|    83781|1000214|     M|           67|   453| free|  Windows|            2|               429|             5|                  2.0|                       24|                     0.0|    0|         0|              0|     0|    0|        0|    0|   0|   0|     0|       2|          0|            0|       0|               0|             0|          0|        0|      0|  2|  0|  0|2018-09-18 00:37:57|2018-10-15 12:44:18|    27|            8118|\n",
      "|    37655|1000248|     F|          387|  1514| paid|  Windows|            7|              1514|             1|                  7.0|                        0|                     0.0|    0|         0|              0|     0|    0|        0|    0|   0|   0|     0|       7|          0|            0|       0|               0|             0|          0|        0|      0|  7|  0|  0|2018-08-19 23:56:14|2018-10-11 22:08:03|    53|               0|\n",
      "|    18819|1000353|     F|           69|   284| paid|  Windows|            1|               215|             3|                  1.0|                       69|                     0.0|    0|         0|              0|     0|    0|        0|    0|   0|   0|     0|       1|          0|            0|       0|               0|             0|          0|        0|      0|  1|  0|  0|2018-05-02 11:37:39|2018-10-01 01:40:53|   152|               0|\n",
      "|    25907|1000353|     F|           24|   273| paid|  Windows|            1|               215|             3|                  1.0|                       58|                     0.0|    0|         0|              0|     0|    0|        0|    0|   0|   0|     0|       1|          0|            0|       0|               0|             0|          0|        0|      0|  1|  0|  0|2018-05-02 11:37:39|2018-10-02 05:29:22|   153|            1668|\n",
      "|    31025|1000353|     F|           13|    88| paid|  Windows|            1|               215|             3|                  1.0|                     -127|                     0.0|    0|         0|              0|     0|    0|        0|    0|   0|   0|     0|       1|          0|            0|       0|               0|             0|          0|        0|      0|  1|  0|  0|2018-05-02 11:37:39|2018-10-03 01:23:16|   154|            1193|\n",
      "|    26783|1000407|     M|          250|  1561| paid|  Windows|            6|               506|             4|                  2.0|                     1055|                     4.0|    0|         0|              0|     0|    0|        0|    0|   0|   0|     0|       6|          0|            0|       0|               0|             0|          0|        0|      0|  6|  0|  0|2018-09-19 12:11:24|2018-10-02 17:55:29|    13|               0|\n",
      "+---------+-------+------+-------------+------+-----+---------+-------------+------------------+--------------+---------------------+-------------------------+------------------------+-----+----------+---------------+------+-----+---------+-----+----+----+------+--------+-----------+-------------+--------+----------------+--------------+-----------+---------+-------+---+---+---+-------------------+-------------------+------+----------------+\n",
      "only showing top 20 rows\n",
      "\n"
     ]
    },
    {
     "name": "stderr",
     "output_type": "stream",
     "text": [
      "                                                                                \r"
     ]
    }
   ],
   "source": [
    "# Rename churn column\n",
    "df_churn = df_tenure.withColumnRenamed(\"Cancellation Confirmation\", \"churn\")\n",
    "\n",
    "# Create a window partitioned by userId and ordered descending by activity_date\n",
    "windowDesc = Window.partitionBy(\"userId\").orderBy(col(\"activity_date\").desc())\n",
    "\n",
    "# Assuming df has a 'churn' column marked 1 at the actual churn session\n",
    "df_churn = df_churn.withColumn(\"label_1\", lead(\"churn\", 1).over(user_window))\n",
    "df_churn = df_churn.withColumn(\"label_2\", lead(\"churn\", 2).over(user_window))\n",
    "df_churn = df_churn.withColumn(\"label_3\", lead(\"churn\", 3).over(user_window))\n",
    "\n",
    "# Use coalesce to treat nulls as 0 in the churn calculation\n",
    "df_churn = df_churn.withColumn(\"churn\", when(\n",
    "    (col(\"churn\") == 1) | \n",
    "    (coalesce(col(\"label_1\"), lit(0)) == 1) | \n",
    "    (coalesce(col(\"label_2\"), lit(0)) == 1) | \n",
    "    (coalesce(col(\"label_3\"), lit(0)) == 1),\n",
    "    1\n",
    ").otherwise(0))\n",
    "\n",
    "# Clean up temporary columns\n",
    "df_churn = df_churn.drop(\"label_1\", \"label_2\", \"label_3\")\n",
    "\n",
    "df_churn.show()"
   ]
  },
  {
   "cell_type": "markdown",
   "metadata": {},
   "source": [
    "## Check user 1121796 has churn=1 for the last 3 sessions before churn"
   ]
  },
  {
   "cell_type": "code",
   "execution_count": 22,
   "metadata": {},
   "outputs": [
    {
     "name": "stderr",
     "output_type": "stream",
     "text": [
      "                                                                                \r"
     ]
    },
    {
     "name": "stdout",
     "output_type": "stream",
     "text": [
      "+---------+-------+------+-------------+------+-----+---------+-------------+------------------+--------------+---------------------+-------------------------+------------------------+-----+----------+---------------+------+-----+---------+-----+----+----+------+--------+-----------+-------------+--------+----------------+--------------+-----------+---------+-------+---+---+---+-------------------+-------------------+------+----------------+\n",
      "|sessionId| userId|gender|itemInSession|length|level|userAgent|numberOfSongs|avg_session_length|total_sessions|avg_songs_per_session|deviation_from_avg_length|deviation_from_avg_songs|About|Add Friend|Add to Playlist|Cancel|churn|Downgrade|Error|Help|Home|Logout|NextSong|Roll Advert|Save Settings|Settings|Submit Downgrade|Submit Upgrade|Thumbs Down|Thumbs Up|Upgrade|200|307|404|  registration_date|      activity_date|tenure|activity_recency|\n",
      "+---------+-------+------+-------------+------+-----+---------+-------------+------------------+--------------+---------------------+-------------------------+------------------------+-----+----------+---------------+------+-----+---------+-----+----+----+------+--------+-----------+-------------+--------+----------------+--------------+-----------+---------+-------+---+---+---+-------------------+-------------------+------+----------------+\n",
      "|     6004|1121796|     M|           49|   153| free|  Windows|            1|               345|            12|   1.4166666666666667|                     -192|    -0.41666666666666674|    0|         0|              0|     0|    0|        0|    0|   0|   0|     0|       1|          0|            0|       0|               0|             0|          0|        0|      0|  1|  0|  0|2018-09-17 03:27:58|2018-10-01 00:08:43|    14|               0|\n",
      "|    25225|1121796|     M|            1|   293| free|  Windows|            1|               345|            12|   1.4166666666666667|                      -52|    -0.41666666666666674|    0|         0|              0|     0|    0|        0|    0|   0|   0|     0|       1|          0|            0|       0|               0|             0|          0|        0|      0|  1|  0|  0|2018-09-17 03:27:58|2018-10-01 07:00:31|    14|             411|\n",
      "|    26463|1121796|     M|           56|   418| free|  Windows|            2|               345|            12|   1.4166666666666667|                       73|      0.5833333333333333|    0|         0|              0|     0|    0|        0|    0|   0|   0|     0|       2|          0|            0|       0|               0|             0|          0|        0|      0|  2|  0|  0|2018-09-17 03:27:58|2018-10-01 15:33:44|    14|             513|\n",
      "|    28188|1121796|     M|          195|    50| free|  Windows|            1|               345|            12|   1.4166666666666667|                     -295|    -0.41666666666666674|    0|         0|              0|     0|    0|        0|    0|   0|   0|     0|       1|          1|            0|       0|               0|             0|          0|        1|      0|  2|  1|  0|2018-09-17 03:27:58|2018-10-02 06:31:44|    15|             898|\n",
      "|    35121|1121796|     M|          118|   256| free|  Windows|            1|               345|            12|   1.4166666666666667|                      -89|    -0.41666666666666674|    0|         0|              0|     0|    0|        0|    0|   0|   1|     1|       1|          0|            0|       0|               0|             0|          0|        0|      0|  2|  1|  0|2018-09-17 03:27:58|2018-10-03 07:30:38|    16|            1498|\n",
      "|    40991|1121796|     M|           21|     0| free|  Windows|            0|               345|            12|   1.4166666666666667|                     -345|     -1.4166666666666667|    0|         1|              0|     0|    0|        0|    0|   0|   0|     0|       0|          0|            0|       0|               0|             0|          0|        0|      0|  0|  1|  0|2018-09-17 03:27:58|2018-10-04 11:54:09|    17|            1703|\n",
      "|    42321|1121796|     M|           52|  1164| free|  Windows|            3|               345|            12|   1.4166666666666667|                      819|      1.5833333333333333|    0|         0|              0|     0|    0|        0|    0|   0|   0|     0|       3|          0|            0|       0|               0|             0|          0|        0|      0|  3|  0|  0|2018-09-17 03:27:58|2018-10-04 21:14:27|    17|             560|\n",
      "|    47478|1121796|     M|            4|     0| free|  Windows|            0|               345|            12|   1.4166666666666667|                     -345|     -1.4166666666666667|    0|         0|              0|     0|    0|        0|    0|   0|   0|     1|       0|          0|            0|       0|               0|             0|          0|        0|      0|  0|  1|  0|2018-09-17 03:27:58|2018-10-05 19:38:34|    18|            1344|\n",
      "|    50007|1121796|     M|           88|   467| free|  Windows|            2|               345|            12|   1.4166666666666667|                      122|      0.5833333333333333|    0|         0|              0|     0|    0|        0|    0|   0|   0|     0|       2|          0|            0|       0|               0|             0|          0|        0|      0|  2|  0|  0|2018-09-17 03:27:58|2018-10-06 23:45:49|    19|            1687|\n",
      "|    52247|1121796|     M|           72|   591| free|  Windows|            3|               345|            12|   1.4166666666666667|                      246|      1.5833333333333333|    0|         0|              0|     0|    0|        0|    0|   0|   0|     0|       3|          0|            0|       0|               0|             0|          0|        0|      0|  3|  0|  0|2018-09-17 03:27:58|2018-10-07 14:44:12|    20|             898|\n",
      "|    54286|1121796|     M|           19|   215| free|  Windows|            1|               345|            12|   1.4166666666666667|                     -130|    -0.41666666666666674|    0|         0|              0|     0|    0|        0|    0|   0|   0|     0|       1|          0|            0|       0|               0|             0|          0|        0|      0|  1|  0|  0|2018-09-17 03:27:58|2018-10-08 03:23:06|    21|             758|\n",
      "|    58307|1121796|     M|          145|   536| free|  Windows|            2|               345|            12|   1.4166666666666667|                      191|      0.5833333333333333|    0|         0|              0|     0|    0|        0|    0|   0|   0|     0|       2|          0|            0|       0|               0|             0|          0|        0|      0|  2|  0|  0|2018-09-17 03:27:58|2018-10-09 02:52:09|    22|            1409|\n",
      "+---------+-------+------+-------------+------+-----+---------+-------------+------------------+--------------+---------------------+-------------------------+------------------------+-----+----------+---------------+------+-----+---------+-----+----+----+------+--------+-----------+-------------+--------+----------------+--------------+-----------+---------+-------+---+---+---+-------------------+-------------------+------+----------------+\n",
      "\n"
     ]
    }
   ],
   "source": [
    "df_churn_check = df_churn.filter(df_churn.userId == 1121796)\n",
    "df_churn_check.show()"
   ]
  },
  {
   "cell_type": "markdown",
   "metadata": {},
   "source": [
    "## One-hot encoding\n",
    "Convert categorical variables into numerical formats"
   ]
  },
  {
   "cell_type": "code",
   "execution_count": 23,
   "metadata": {},
   "outputs": [
    {
     "name": "stderr",
     "output_type": "stream",
     "text": [
      "                                                                                \r"
     ]
    },
    {
     "name": "stdout",
     "output_type": "stream",
     "text": [
      "+---------+-------+-------------+------+-------------+------------------+--------------+---------------------+-------------------------+------------------------+-----+----------+---------------+------+-----+---------+-----+----+----+------+--------+-----------+-------------+--------+----------------+--------------+-----------+---------+-------+---+---+---+-------------------+-------------------+------+----------------+-------------+-------------+-------------+\n",
      "|sessionId| userId|itemInSession|length|numberOfSongs|avg_session_length|total_sessions|avg_songs_per_session|deviation_from_avg_length|deviation_from_avg_songs|About|Add Friend|Add to Playlist|Cancel|churn|Downgrade|Error|Help|Home|Logout|NextSong|Roll Advert|Save Settings|Settings|Submit Downgrade|Submit Upgrade|Thumbs Down|Thumbs Up|Upgrade|200|307|404|  registration_date|      activity_date|tenure|activity_recency|    genderVec|     levelVec| userAgentVec|\n",
      "+---------+-------+-------------+------+-------------+------------------+--------------+---------------------+-------------------------+------------------------+-----+----------+---------------+------+-----+---------+-----+----+----+------+--------+-----------+-------------+--------+----------------+--------------+-----------+---------+-------+---+---+---+-------------------+-------------------+------+----------------+-------------+-------------+-------------+\n",
      "|    23706|1000025|           17|     0|            0|               774|             7|   2.7142857142857144|                     -774|     -2.7142857142857144|    0|         0|              0|     0|    0|        0|    0|   0|   0|     0|       0|          1|            0|       0|               0|             0|          0|        0|      0|  1|  0|  0|2018-07-10 09:30:08|2018-10-02 09:54:54|    84|               0|(2,[0],[1.0])|(2,[1],[1.0])|(3,[0],[1.0])|\n",
      "|    31688|1000025|          430|  1810|            6|               774|             7|   2.7142857142857144|                     1036|      3.2857142857142856|    0|         0|              1|     0|    0|        0|    0|   0|   1|     0|       6|          0|            0|       0|               0|             0|          0|        0|      0|  8|  0|  0|2018-07-10 09:30:08|2018-10-02 18:19:14|    84|             504|(2,[0],[1.0])|(2,[1],[1.0])|(3,[0],[1.0])|\n",
      "|    39243|1000025|          160|   973|            3|               774|             7|   2.7142857142857144|                      199|      0.2857142857142856|    0|         0|              0|     0|    0|        0|    0|   0|   0|     0|       3|          0|            0|       0|               0|             0|          0|        0|      0|  3|  0|  0|2018-07-10 09:30:08|2018-10-04 07:56:55|    86|            2257|(2,[0],[1.0])|(2,[0],[1.0])|(3,[0],[1.0])|\n",
      "|    45191|1000025|            0|   350|            1|               774|             7|   2.7142857142857144|                     -424|     -1.7142857142857144|    0|         0|              0|     0|    0|        0|    0|   0|   0|     0|       1|          0|            0|       0|               0|             0|          0|        0|      0|  1|  0|  0|2018-07-10 09:30:08|2018-10-06 22:09:33|    88|            3732|(2,[0],[1.0])|(2,[0],[1.0])|(3,[0],[1.0])|\n",
      "|    51998|1000025|          125|   386|            2|               774|             7|   2.7142857142857144|                     -388|     -0.7142857142857144|    0|         0|              0|     0|    0|        0|    0|   0|   0|     0|       2|          0|            0|       0|               0|             0|          0|        0|      0|  2|  0|  0|2018-07-10 09:30:08|2018-10-07 18:18:02|    89|            1208|(2,[0],[1.0])|(2,[0],[1.0])|(3,[0],[1.0])|\n",
      "|    54645|1000025|            2|   213|            1|               774|             7|   2.7142857142857144|                     -561|     -1.7142857142857144|    0|         0|              0|     0|    0|        0|    0|   0|   0|     0|       1|          0|            0|       0|               0|             0|          0|        0|      0|  1|  0|  0|2018-07-10 09:30:08|2018-10-09 07:57:07|    91|            2259|(2,[0],[1.0])|(2,[0],[1.0])|(3,[0],[1.0])|\n",
      "|    60612|1000025|          134|  1689|            6|               774|             7|   2.7142857142857144|                      915|      3.2857142857142856|    0|         0|              0|     0|    0|        0|    0|   0|   0|     0|       6|          0|            0|       0|               0|             0|          0|        1|      0|  6|  1|  0|2018-07-10 09:30:08|2018-10-09 23:48:46|    91|             951|(2,[0],[1.0])|(2,[0],[1.0])|(3,[0],[1.0])|\n",
      "|    41028|1000083|           41|   195|            1|               322|             3|   1.3333333333333333|                     -127|    -0.33333333333333326|    0|         0|              0|     0|    0|        0|    0|   0|   0|     0|       1|          0|            0|       0|               0|             0|          0|        0|      0|  1|  0|  0|2018-09-07 18:01:49|2018-10-08 22:51:56|    31|               0|(2,[0],[1.0])|(2,[1],[1.0])|(3,[0],[1.0])|\n",
      "|    60037|1000083|            2|   250|            1|               322|             3|   1.3333333333333333|                      -72|    -0.33333333333333326|    0|         0|              0|     0|    0|        0|    0|   0|   0|     0|       1|          0|            0|       0|               0|             0|          0|        0|      0|  1|  0|  0|2018-09-07 18:01:49|2018-10-09 07:26:17|    32|             514|(2,[0],[1.0])|(2,[0],[1.0])|(3,[0],[1.0])|\n",
      "|    72494|1000083|           71|   523|            2|               322|             3|   1.3333333333333333|                      201|      0.6666666666666667|    0|         1|              0|     0|    0|        0|    0|   0|   0|     0|       2|          0|            0|       0|               0|             0|          0|        0|      0|  2|  1|  0|2018-09-07 18:01:49|2018-10-12 04:15:29|    35|            4129|(2,[0],[1.0])|(2,[0],[1.0])|(3,[0],[1.0])|\n",
      "|     7584|1000214|           56|   193|            1|               429|             5|                  2.0|                     -236|                    -1.0|    0|         0|              0|     0|    0|        0|    0|   0|   0|     0|       1|          0|            0|       0|               0|             0|          0|        1|      0|  1|  1|  0|2018-09-18 00:37:57|2018-10-03 12:59:52|    15|               0|(2,[0],[1.0])|(2,[0],[1.0])|(3,[0],[1.0])|\n",
      "|    40856|1000214|           22|   469|            2|               429|             5|                  2.0|                       40|                     0.0|    0|         0|              0|     0|    0|        0|    0|   0|   0|     0|       2|          0|            0|       0|               0|             0|          0|        0|      0|  2|  0|  0|2018-09-18 00:37:57|2018-10-05 19:07:57|    17|            3248|(2,[0],[1.0])|(2,[0],[1.0])|(3,[0],[1.0])|\n",
      "|    48617|1000214|          267|   793|            4|               429|             5|                  2.0|                      364|                     2.0|    0|         0|              0|     0|    0|        0|    0|   0|   0|     0|       4|          0|            0|       0|               1|             0|          1|        0|      0|  4|  2|  0|2018-09-18 00:37:57|2018-10-06 07:54:30|    18|             766|(2,[0],[1.0])|(2,[0],[1.0])|(3,[0],[1.0])|\n",
      "|    60385|1000214|           22|   241|            1|               429|             5|                  2.0|                     -188|                    -1.0|    0|         0|              0|     0|    0|        0|    0|   0|   0|     0|       1|          0|            0|       0|               0|             0|          0|        0|      0|  1|  0|  0|2018-09-18 00:37:57|2018-10-09 21:25:22|    21|            5130|(2,[0],[1.0])|(2,[1],[1.0])|(3,[0],[1.0])|\n",
      "|    83781|1000214|           67|   453|            2|               429|             5|                  2.0|                       24|                     0.0|    0|         0|              0|     0|    0|        0|    0|   0|   0|     0|       2|          0|            0|       0|               0|             0|          0|        0|      0|  2|  0|  0|2018-09-18 00:37:57|2018-10-15 12:44:18|    27|            8118|(2,[0],[1.0])|(2,[1],[1.0])|(3,[0],[1.0])|\n",
      "|    37655|1000248|          387|  1514|            7|              1514|             1|                  7.0|                        0|                     0.0|    0|         0|              0|     0|    0|        0|    0|   0|   0|     0|       7|          0|            0|       0|               0|             0|          0|        0|      0|  7|  0|  0|2018-08-19 23:56:14|2018-10-11 22:08:03|    53|               0|(2,[1],[1.0])|(2,[0],[1.0])|(3,[0],[1.0])|\n",
      "|    18819|1000353|           69|   284|            1|               215|             3|                  1.0|                       69|                     0.0|    0|         0|              0|     0|    0|        0|    0|   0|   0|     0|       1|          0|            0|       0|               0|             0|          0|        0|      0|  1|  0|  0|2018-05-02 11:37:39|2018-10-01 01:40:53|   152|               0|(2,[1],[1.0])|(2,[0],[1.0])|(3,[0],[1.0])|\n",
      "|    25907|1000353|           24|   273|            1|               215|             3|                  1.0|                       58|                     0.0|    0|         0|              0|     0|    0|        0|    0|   0|   0|     0|       1|          0|            0|       0|               0|             0|          0|        0|      0|  1|  0|  0|2018-05-02 11:37:39|2018-10-02 05:29:22|   153|            1668|(2,[1],[1.0])|(2,[0],[1.0])|(3,[0],[1.0])|\n",
      "|    31025|1000353|           13|    88|            1|               215|             3|                  1.0|                     -127|                     0.0|    0|         0|              0|     0|    0|        0|    0|   0|   0|     0|       1|          0|            0|       0|               0|             0|          0|        0|      0|  1|  0|  0|2018-05-02 11:37:39|2018-10-03 01:23:16|   154|            1193|(2,[1],[1.0])|(2,[0],[1.0])|(3,[0],[1.0])|\n",
      "|    26783|1000407|          250|  1561|            6|               506|             4|                  2.0|                     1055|                     4.0|    0|         0|              0|     0|    0|        0|    0|   0|   0|     0|       6|          0|            0|       0|               0|             0|          0|        0|      0|  6|  0|  0|2018-09-19 12:11:24|2018-10-02 17:55:29|    13|               0|(2,[0],[1.0])|(2,[0],[1.0])|(3,[0],[1.0])|\n",
      "+---------+-------+-------------+------+-------------+------------------+--------------+---------------------+-------------------------+------------------------+-----+----------+---------------+------+-----+---------+-----+----+----+------+--------+-----------+-------------+--------+----------------+--------------+-----------+---------+-------+---+---+---+-------------------+-------------------+------+----------------+-------------+-------------+-------------+\n",
      "only showing top 20 rows\n",
      "\n"
     ]
    }
   ],
   "source": [
    "# Indexing all categorical columns first\n",
    "origCols = [ \"gender\", \"level\", \"userAgent\"]\n",
    "indexCols = [\"genderIndex\", \"levelIndex\", \"userAgentIndex\"]\n",
    "vecCols=[\"genderVec\", \"levelVec\", \"userAgentVec\"]\n",
    "indexer = StringIndexer(inputCols=origCols, outputCols=indexCols)\n",
    "df_indexed = indexer.fit(df_churn).transform(df_churn)\n",
    "\n",
    "# Applying OneHotEncoder\n",
    "encoder = OneHotEncoder(inputCols=indexCols, outputCols=vecCols, dropLast=False)\n",
    "df_encoded = encoder.fit(df_indexed).transform(df_indexed)\n",
    "\n",
    "allColsToDrop = origCols + indexCols\n",
    "df_encoded = df_encoded.drop(*allColsToDrop)\n",
    "\n",
    "df_encoded.show()"
   ]
  },
  {
   "cell_type": "markdown",
   "metadata": {},
   "source": [
    "## Average Session Interval and Its Standard Deviation\n",
    "- Low average interval between sessions can be a sign that a user enjoys the platform and a low standard deviation shows consistency.\n",
    "- The first entry in activity_recency is zero so this will be ignored. \n",
    "- Users with only one session result in null for the avg and std. The avg is replaces with the global average and std with 0."
   ]
  },
  {
   "cell_type": "code",
   "execution_count": 24,
   "metadata": {},
   "outputs": [
    {
     "name": "stderr",
     "output_type": "stream",
     "text": [
      "                                                                                \r"
     ]
    },
    {
     "name": "stdout",
     "output_type": "stream",
     "text": [
      "+-------+---------+-------------+------+-------------+------------------+--------------+---------------------+-------------------------+------------------------+-----+----------+---------------+------+-----+---------+-----+----+----+------+--------+-----------+-------------+--------+----------------+--------------+-----------+---------+-------+---+---+---+-------------------+-------------------+------+----------------+-------------+-------------+-------------+--------------------+-----------------------+\n",
      "| userId|sessionId|itemInSession|length|numberOfSongs|avg_session_length|total_sessions|avg_songs_per_session|deviation_from_avg_length|deviation_from_avg_songs|About|Add Friend|Add to Playlist|Cancel|churn|Downgrade|Error|Help|Home|Logout|NextSong|Roll Advert|Save Settings|Settings|Submit Downgrade|Submit Upgrade|Thumbs Down|Thumbs Up|Upgrade|200|307|404|  registration_date|      activity_date|tenure|activity_recency|    genderVec|     levelVec| userAgentVec|avg_session_interval|stddev_session_interval|\n",
      "+-------+---------+-------------+------+-------------+------------------+--------------+---------------------+-------------------------+------------------------+-----+----------+---------------+------+-----+---------+-----+----+----+------+--------+-----------+-------------+--------+----------------+--------------+-----------+---------+-------+---+---+---+-------------------+-------------------+------+----------------+-------------+-------------+-------------+--------------------+-----------------------+\n",
      "|1000025|    23706|           17|     0|            0|               774|             7|   2.7142857142857144|                     -774|     -2.7142857142857144|    0|         0|              0|     0|    0|        0|    0|   0|   0|     0|       0|          1|            0|       0|               0|             0|          0|        0|      0|  1|  0|  0|2018-07-10 09:30:08|2018-10-02 09:54:54|    84|               0|(2,[0],[1.0])|(2,[1],[1.0])|(3,[0],[1.0])|              1818.5|     1174.8175603045777|\n",
      "|1000025|    31688|          430|  1810|            6|               774|             7|   2.7142857142857144|                     1036|      3.2857142857142856|    0|         0|              1|     0|    0|        0|    0|   0|   1|     0|       6|          0|            0|       0|               0|             0|          0|        0|      0|  8|  0|  0|2018-07-10 09:30:08|2018-10-02 18:19:14|    84|             504|(2,[0],[1.0])|(2,[1],[1.0])|(3,[0],[1.0])|              1818.5|     1174.8175603045777|\n",
      "|1000025|    39243|          160|   973|            3|               774|             7|   2.7142857142857144|                      199|      0.2857142857142856|    0|         0|              0|     0|    0|        0|    0|   0|   0|     0|       3|          0|            0|       0|               0|             0|          0|        0|      0|  3|  0|  0|2018-07-10 09:30:08|2018-10-04 07:56:55|    86|            2257|(2,[0],[1.0])|(2,[0],[1.0])|(3,[0],[1.0])|              1818.5|     1174.8175603045777|\n",
      "|1000025|    45191|            0|   350|            1|               774|             7|   2.7142857142857144|                     -424|     -1.7142857142857144|    0|         0|              0|     0|    0|        0|    0|   0|   0|     0|       1|          0|            0|       0|               0|             0|          0|        0|      0|  1|  0|  0|2018-07-10 09:30:08|2018-10-06 22:09:33|    88|            3732|(2,[0],[1.0])|(2,[0],[1.0])|(3,[0],[1.0])|              1818.5|     1174.8175603045777|\n",
      "|1000025|    51998|          125|   386|            2|               774|             7|   2.7142857142857144|                     -388|     -0.7142857142857144|    0|         0|              0|     0|    0|        0|    0|   0|   0|     0|       2|          0|            0|       0|               0|             0|          0|        0|      0|  2|  0|  0|2018-07-10 09:30:08|2018-10-07 18:18:02|    89|            1208|(2,[0],[1.0])|(2,[0],[1.0])|(3,[0],[1.0])|              1818.5|     1174.8175603045777|\n",
      "|1000025|    54645|            2|   213|            1|               774|             7|   2.7142857142857144|                     -561|     -1.7142857142857144|    0|         0|              0|     0|    0|        0|    0|   0|   0|     0|       1|          0|            0|       0|               0|             0|          0|        0|      0|  1|  0|  0|2018-07-10 09:30:08|2018-10-09 07:57:07|    91|            2259|(2,[0],[1.0])|(2,[0],[1.0])|(3,[0],[1.0])|              1818.5|     1174.8175603045777|\n",
      "|1000025|    60612|          134|  1689|            6|               774|             7|   2.7142857142857144|                      915|      3.2857142857142856|    0|         0|              0|     0|    0|        0|    0|   0|   0|     0|       6|          0|            0|       0|               0|             0|          0|        1|      0|  6|  1|  0|2018-07-10 09:30:08|2018-10-09 23:48:46|    91|             951|(2,[0],[1.0])|(2,[0],[1.0])|(3,[0],[1.0])|              1818.5|     1174.8175603045777|\n",
      "|1000083|    41028|           41|   195|            1|               322|             3|   1.3333333333333333|                     -127|    -0.33333333333333326|    0|         0|              0|     0|    0|        0|    0|   0|   0|     0|       1|          0|            0|       0|               0|             0|          0|        0|      0|  1|  0|  0|2018-09-07 18:01:49|2018-10-08 22:51:56|    31|               0|(2,[0],[1.0])|(2,[1],[1.0])|(3,[0],[1.0])|              2321.5|     2556.1910139893694|\n",
      "|1000083|    60037|            2|   250|            1|               322|             3|   1.3333333333333333|                      -72|    -0.33333333333333326|    0|         0|              0|     0|    0|        0|    0|   0|   0|     0|       1|          0|            0|       0|               0|             0|          0|        0|      0|  1|  0|  0|2018-09-07 18:01:49|2018-10-09 07:26:17|    32|             514|(2,[0],[1.0])|(2,[0],[1.0])|(3,[0],[1.0])|              2321.5|     2556.1910139893694|\n",
      "|1000083|    72494|           71|   523|            2|               322|             3|   1.3333333333333333|                      201|      0.6666666666666667|    0|         1|              0|     0|    0|        0|    0|   0|   0|     0|       2|          0|            0|       0|               0|             0|          0|        0|      0|  2|  1|  0|2018-09-07 18:01:49|2018-10-12 04:15:29|    35|            4129|(2,[0],[1.0])|(2,[0],[1.0])|(3,[0],[1.0])|              2321.5|     2556.1910139893694|\n",
      "|1000214|     7584|           56|   193|            1|               429|             5|                  2.0|                     -236|                    -1.0|    0|         0|              0|     0|    0|        0|    0|   0|   0|     0|       1|          0|            0|       0|               0|             0|          0|        1|      0|  1|  1|  0|2018-09-18 00:37:57|2018-10-03 12:59:52|    15|               0|(2,[0],[1.0])|(2,[0],[1.0])|(3,[0],[1.0])|              4315.5|     3101.6620813148984|\n",
      "|1000214|    40856|           22|   469|            2|               429|             5|                  2.0|                       40|                     0.0|    0|         0|              0|     0|    0|        0|    0|   0|   0|     0|       2|          0|            0|       0|               0|             0|          0|        0|      0|  2|  0|  0|2018-09-18 00:37:57|2018-10-05 19:07:57|    17|            3248|(2,[0],[1.0])|(2,[0],[1.0])|(3,[0],[1.0])|              4315.5|     3101.6620813148984|\n",
      "|1000214|    48617|          267|   793|            4|               429|             5|                  2.0|                      364|                     2.0|    0|         0|              0|     0|    0|        0|    0|   0|   0|     0|       4|          0|            0|       0|               1|             0|          1|        0|      0|  4|  2|  0|2018-09-18 00:37:57|2018-10-06 07:54:30|    18|             766|(2,[0],[1.0])|(2,[0],[1.0])|(3,[0],[1.0])|              4315.5|     3101.6620813148984|\n",
      "|1000214|    60385|           22|   241|            1|               429|             5|                  2.0|                     -188|                    -1.0|    0|         0|              0|     0|    0|        0|    0|   0|   0|     0|       1|          0|            0|       0|               0|             0|          0|        0|      0|  1|  0|  0|2018-09-18 00:37:57|2018-10-09 21:25:22|    21|            5130|(2,[0],[1.0])|(2,[1],[1.0])|(3,[0],[1.0])|              4315.5|     3101.6620813148984|\n",
      "|1000214|    83781|           67|   453|            2|               429|             5|                  2.0|                       24|                     0.0|    0|         0|              0|     0|    0|        0|    0|   0|   0|     0|       2|          0|            0|       0|               0|             0|          0|        0|      0|  2|  0|  0|2018-09-18 00:37:57|2018-10-15 12:44:18|    27|            8118|(2,[0],[1.0])|(2,[1],[1.0])|(3,[0],[1.0])|              4315.5|     3101.6620813148984|\n",
      "|1000248|    37655|          387|  1514|            7|              1514|             1|                  7.0|                        0|                     0.0|    0|         0|              0|     0|    0|        0|    0|   0|   0|     0|       7|          0|            0|       0|               0|             0|          0|        0|      0|  7|  0|  0|2018-08-19 23:56:14|2018-10-11 22:08:03|    53|               0|(2,[1],[1.0])|(2,[0],[1.0])|(3,[0],[1.0])|  2620.5671847063677|                    0.0|\n",
      "|1000353|    18819|           69|   284|            1|               215|             3|                  1.0|                       69|                     0.0|    0|         0|              0|     0|    0|        0|    0|   0|   0|     0|       1|          0|            0|       0|               0|             0|          0|        0|      0|  1|  0|  0|2018-05-02 11:37:39|2018-10-01 01:40:53|   152|               0|(2,[1],[1.0])|(2,[0],[1.0])|(3,[0],[1.0])|              1430.5|     335.87572106361006|\n",
      "|1000353|    25907|           24|   273|            1|               215|             3|                  1.0|                       58|                     0.0|    0|         0|              0|     0|    0|        0|    0|   0|   0|     0|       1|          0|            0|       0|               0|             0|          0|        0|      0|  1|  0|  0|2018-05-02 11:37:39|2018-10-02 05:29:22|   153|            1668|(2,[1],[1.0])|(2,[0],[1.0])|(3,[0],[1.0])|              1430.5|     335.87572106361006|\n",
      "|1000353|    31025|           13|    88|            1|               215|             3|                  1.0|                     -127|                     0.0|    0|         0|              0|     0|    0|        0|    0|   0|   0|     0|       1|          0|            0|       0|               0|             0|          0|        0|      0|  1|  0|  0|2018-05-02 11:37:39|2018-10-03 01:23:16|   154|            1193|(2,[1],[1.0])|(2,[0],[1.0])|(3,[0],[1.0])|              1430.5|     335.87572106361006|\n",
      "|1000407|    26783|          250|  1561|            6|               506|             4|                  2.0|                     1055|                     4.0|    0|         0|              0|     0|    0|        0|    0|   0|   0|     0|       6|          0|            0|       0|               0|             0|          0|        0|      0|  6|  0|  0|2018-09-19 12:11:24|2018-10-02 17:55:29|    13|               0|(2,[0],[1.0])|(2,[0],[1.0])|(3,[0],[1.0])|   5574.333333333333|      5276.803420000913|\n",
      "+-------+---------+-------------+------+-------------+------------------+--------------+---------------------+-------------------------+------------------------+-----+----------+---------------+------+-----+---------+-----+----+----+------+--------+-----------+-------------+--------+----------------+--------------+-----------+---------+-------+---+---+---+-------------------+-------------------+------+----------------+-------------+-------------+-------------+--------------------+-----------------------+\n",
      "only showing top 20 rows\n",
      "\n"
     ]
    }
   ],
   "source": [
    "# Calculate the average and standard deviation of intervals for each user\n",
    "session_interval_stats = df_encoded.groupBy(\"userId\").agg(\n",
    "    avg(when(col(\"activity_recency\") != 0, col(\"activity_recency\"))).alias(\"avg_session_interval\"),\n",
    "    stddev(when(col(\"activity_recency\") != 0, col(\"activity_recency\"))).alias(\"stddev_session_interval\")\n",
    ")\n",
    "\n",
    "# Join this data back to your main DataFrame\n",
    "df_encoded_fe = df_encoded.join(session_interval_stats, on=\"userId\", how=\"left\")\n",
    "\n",
    "# Calculate the global averages\n",
    "global_avg_interval = df_encoded.filter(col(\"total_sessions\") > 1).agg(\n",
    "    {'activity_recency': 'avg'}\n",
    ").collect()[0][0]\n",
    "\n",
    "# Replace nulls in 'avg_session_interval' with the global average\n",
    "# Replace nulls in 'stddev_session_interval' with 0\n",
    "df_encoded_fe = df_encoded_fe.na.fill({\n",
    "    'avg_session_interval': global_avg_interval,\n",
    "    'stddev_session_interval': 0\n",
    "})\n",
    "\n",
    "df_encoded_fe.show()"
   ]
  },
  {
   "cell_type": "markdown",
   "metadata": {},
   "source": [
    "## Normalise 'length'\n",
    "Normalising 'length' can help identify if a user’s behavior changes significantly from their norm."
   ]
  },
  {
   "cell_type": "code",
   "execution_count": 40,
   "metadata": {},
   "outputs": [
    {
     "name": "stderr",
     "output_type": "stream",
     "text": [
      "                                                                                \r"
     ]
    },
    {
     "name": "stdout",
     "output_type": "stream",
     "text": [
      "+-------+-------------+------+-------------+------------------+--------------+---------------------+-------------------------+------------------------+-----+----------+---------------+------+-----+---------+-----+----+----+------+--------+-----------+-------------+--------+----------------+--------------+-----------+---------+-------+---+---+---+-------------------+-------------------+------+----------------+-------------+-------------+-------------+--------------------+-----------------------+-------------------+\n",
      "| userId|itemInSession|length|numberOfSongs|avg_session_length|total_sessions|avg_songs_per_session|deviation_from_avg_length|deviation_from_avg_songs|About|Add Friend|Add to Playlist|Cancel|churn|Downgrade|Error|Help|Home|Logout|NextSong|Roll Advert|Save Settings|Settings|Submit Downgrade|Submit Upgrade|Thumbs Down|Thumbs Up|Upgrade|200|307|404|  registration_date|      activity_date|tenure|activity_recency|    genderVec|     levelVec| userAgentVec|avg_session_interval|stddev_session_interval|  normalized_length|\n",
      "+-------+-------------+------+-------------+------------------+--------------+---------------------+-------------------------+------------------------+-----+----------+---------------+------+-----+---------+-----+----+----+------+--------+-----------+-------------+--------+----------------+--------------+-----------+---------+-------+---+---+---+-------------------+-------------------+------+----------------+-------------+-------------+-------------+--------------------+-----------------------+-------------------+\n",
      "|1000025|           17|     0|            0|               774|             7|   2.7142857142857144|                     -774|     -2.7142857142857144|    0|         0|              0|     0|    0|        0|    0|   0|   0|     0|       0|          1|            0|       0|               0|             0|          0|        0|      0|  1|  0|  0|2018-07-10 09:30:08|2018-10-02 09:54:54|    84|               0|(2,[0],[1.0])|(2,[1],[1.0])|(3,[0],[1.0])|              1818.5|     1174.8175603045777|                0.0|\n",
      "|1000025|          430|  1810|            6|               774|             7|   2.7142857142857144|                     1036|      3.2857142857142856|    0|         0|              1|     0|    0|        0|    0|   0|   1|     0|       6|          0|            0|       0|               0|             0|          0|        0|      0|  8|  0|  0|2018-07-10 09:30:08|2018-10-02 18:19:14|    84|             504|(2,[0],[1.0])|(2,[1],[1.0])|(3,[0],[1.0])|              1818.5|     1174.8175603045777|  2.338501291989664|\n",
      "|1000025|          160|   973|            3|               774|             7|   2.7142857142857144|                      199|      0.2857142857142856|    0|         0|              0|     0|    0|        0|    0|   0|   0|     0|       3|          0|            0|       0|               0|             0|          0|        0|      0|  3|  0|  0|2018-07-10 09:30:08|2018-10-04 07:56:55|    86|            2257|(2,[0],[1.0])|(2,[0],[1.0])|(3,[0],[1.0])|              1818.5|     1174.8175603045777| 1.2571059431524547|\n",
      "|1000025|            0|   350|            1|               774|             7|   2.7142857142857144|                     -424|     -1.7142857142857144|    0|         0|              0|     0|    0|        0|    0|   0|   0|     0|       1|          0|            0|       0|               0|             0|          0|        0|      0|  1|  0|  0|2018-07-10 09:30:08|2018-10-06 22:09:33|    88|            3732|(2,[0],[1.0])|(2,[0],[1.0])|(3,[0],[1.0])|              1818.5|     1174.8175603045777|0.45219638242894056|\n",
      "|1000025|          125|   386|            2|               774|             7|   2.7142857142857144|                     -388|     -0.7142857142857144|    0|         0|              0|     0|    0|        0|    0|   0|   0|     0|       2|          0|            0|       0|               0|             0|          0|        0|      0|  2|  0|  0|2018-07-10 09:30:08|2018-10-07 18:18:02|    89|            1208|(2,[0],[1.0])|(2,[0],[1.0])|(3,[0],[1.0])|              1818.5|     1174.8175603045777|0.49870801033591733|\n",
      "|1000025|            2|   213|            1|               774|             7|   2.7142857142857144|                     -561|     -1.7142857142857144|    0|         0|              0|     0|    0|        0|    0|   0|   0|     0|       1|          0|            0|       0|               0|             0|          0|        0|      0|  1|  0|  0|2018-07-10 09:30:08|2018-10-09 07:57:07|    91|            2259|(2,[0],[1.0])|(2,[0],[1.0])|(3,[0],[1.0])|              1818.5|     1174.8175603045777| 0.2751937984496124|\n",
      "|1000025|          134|  1689|            6|               774|             7|   2.7142857142857144|                      915|      3.2857142857142856|    0|         0|              0|     0|    0|        0|    0|   0|   0|     0|       6|          0|            0|       0|               0|             0|          0|        1|      0|  6|  1|  0|2018-07-10 09:30:08|2018-10-09 23:48:46|    91|             951|(2,[0],[1.0])|(2,[0],[1.0])|(3,[0],[1.0])|              1818.5|     1174.8175603045777|  2.182170542635659|\n",
      "|1000083|           41|   195|            1|               322|             3|   1.3333333333333333|                     -127|    -0.33333333333333326|    0|         0|              0|     0|    0|        0|    0|   0|   0|     0|       1|          0|            0|       0|               0|             0|          0|        0|      0|  1|  0|  0|2018-09-07 18:01:49|2018-10-08 22:51:56|    31|               0|(2,[0],[1.0])|(2,[1],[1.0])|(3,[0],[1.0])|              2321.5|     2556.1910139893694| 0.6055900621118012|\n",
      "|1000083|            2|   250|            1|               322|             3|   1.3333333333333333|                      -72|    -0.33333333333333326|    0|         0|              0|     0|    0|        0|    0|   0|   0|     0|       1|          0|            0|       0|               0|             0|          0|        0|      0|  1|  0|  0|2018-09-07 18:01:49|2018-10-09 07:26:17|    32|             514|(2,[0],[1.0])|(2,[0],[1.0])|(3,[0],[1.0])|              2321.5|     2556.1910139893694| 0.7763975155279503|\n",
      "|1000083|           71|   523|            2|               322|             3|   1.3333333333333333|                      201|      0.6666666666666667|    0|         1|              0|     0|    0|        0|    0|   0|   0|     0|       2|          0|            0|       0|               0|             0|          0|        0|      0|  2|  1|  0|2018-09-07 18:01:49|2018-10-12 04:15:29|    35|            4129|(2,[0],[1.0])|(2,[0],[1.0])|(3,[0],[1.0])|              2321.5|     2556.1910139893694|  1.624223602484472|\n",
      "|1000214|           56|   193|            1|               429|             5|                  2.0|                     -236|                    -1.0|    0|         0|              0|     0|    0|        0|    0|   0|   0|     0|       1|          0|            0|       0|               0|             0|          0|        1|      0|  1|  1|  0|2018-09-18 00:37:57|2018-10-03 12:59:52|    15|               0|(2,[0],[1.0])|(2,[0],[1.0])|(3,[0],[1.0])|              4315.5|     3101.6620813148984|0.44988344988344986|\n",
      "|1000214|           22|   469|            2|               429|             5|                  2.0|                       40|                     0.0|    0|         0|              0|     0|    0|        0|    0|   0|   0|     0|       2|          0|            0|       0|               0|             0|          0|        0|      0|  2|  0|  0|2018-09-18 00:37:57|2018-10-05 19:07:57|    17|            3248|(2,[0],[1.0])|(2,[0],[1.0])|(3,[0],[1.0])|              4315.5|     3101.6620813148984| 1.0932400932400932|\n",
      "|1000214|          267|   793|            4|               429|             5|                  2.0|                      364|                     2.0|    0|         0|              0|     0|    0|        0|    0|   0|   0|     0|       4|          0|            0|       0|               1|             0|          1|        0|      0|  4|  2|  0|2018-09-18 00:37:57|2018-10-06 07:54:30|    18|             766|(2,[0],[1.0])|(2,[0],[1.0])|(3,[0],[1.0])|              4315.5|     3101.6620813148984| 1.8484848484848484|\n",
      "|1000214|           22|   241|            1|               429|             5|                  2.0|                     -188|                    -1.0|    0|         0|              0|     0|    0|        0|    0|   0|   0|     0|       1|          0|            0|       0|               0|             0|          0|        0|      0|  1|  0|  0|2018-09-18 00:37:57|2018-10-09 21:25:22|    21|            5130|(2,[0],[1.0])|(2,[1],[1.0])|(3,[0],[1.0])|              4315.5|     3101.6620813148984| 0.5617715617715617|\n",
      "|1000214|           67|   453|            2|               429|             5|                  2.0|                       24|                     0.0|    0|         0|              0|     0|    0|        0|    0|   0|   0|     0|       2|          0|            0|       0|               0|             0|          0|        0|      0|  2|  0|  0|2018-09-18 00:37:57|2018-10-15 12:44:18|    27|            8118|(2,[0],[1.0])|(2,[1],[1.0])|(3,[0],[1.0])|              4315.5|     3101.6620813148984|  1.055944055944056|\n",
      "|1000248|          387|  1514|            7|              1514|             1|                  7.0|                        0|                     0.0|    0|         0|              0|     0|    0|        0|    0|   0|   0|     0|       7|          0|            0|       0|               0|             0|          0|        0|      0|  7|  0|  0|2018-08-19 23:56:14|2018-10-11 22:08:03|    53|               0|(2,[1],[1.0])|(2,[0],[1.0])|(3,[0],[1.0])|  2620.5671847063677|                    0.0|                1.0|\n",
      "|1000353|           69|   284|            1|               215|             3|                  1.0|                       69|                     0.0|    0|         0|              0|     0|    0|        0|    0|   0|   0|     0|       1|          0|            0|       0|               0|             0|          0|        0|      0|  1|  0|  0|2018-05-02 11:37:39|2018-10-01 01:40:53|   152|               0|(2,[1],[1.0])|(2,[0],[1.0])|(3,[0],[1.0])|              1430.5|     335.87572106361006| 1.3209302325581396|\n",
      "|1000353|           24|   273|            1|               215|             3|                  1.0|                       58|                     0.0|    0|         0|              0|     0|    0|        0|    0|   0|   0|     0|       1|          0|            0|       0|               0|             0|          0|        0|      0|  1|  0|  0|2018-05-02 11:37:39|2018-10-02 05:29:22|   153|            1668|(2,[1],[1.0])|(2,[0],[1.0])|(3,[0],[1.0])|              1430.5|     335.87572106361006| 1.2697674418604652|\n",
      "|1000353|           13|    88|            1|               215|             3|                  1.0|                     -127|                     0.0|    0|         0|              0|     0|    0|        0|    0|   0|   0|     0|       1|          0|            0|       0|               0|             0|          0|        0|      0|  1|  0|  0|2018-05-02 11:37:39|2018-10-03 01:23:16|   154|            1193|(2,[1],[1.0])|(2,[0],[1.0])|(3,[0],[1.0])|              1430.5|     335.87572106361006|0.40930232558139534|\n",
      "|1000407|          250|  1561|            6|               506|             4|                  2.0|                     1055|                     4.0|    0|         0|              0|     0|    0|        0|    0|   0|   0|     0|       6|          0|            0|       0|               0|             0|          0|        0|      0|  6|  0|  0|2018-09-19 12:11:24|2018-10-02 17:55:29|    13|               0|(2,[0],[1.0])|(2,[0],[1.0])|(3,[0],[1.0])|   5574.333333333333|      5276.803420000913| 3.0849802371541504|\n",
      "+-------+-------------+------+-------------+------------------+--------------+---------------------+-------------------------+------------------------+-----+----------+---------------+------+-----+---------+-----+----+----+------+--------+-----------+-------------+--------+----------------+--------------+-----------+---------+-------+---+---+---+-------------------+-------------------+------+----------------+-------------+-------------+-------------+--------------------+-----------------------+-------------------+\n",
      "only showing top 20 rows\n",
      "\n"
     ]
    }
   ],
   "source": [
    "norm_lengths = df_encoded_fe.drop(\"sessionId\")\n",
    "\n",
    "user_window = Window.partitionBy(\"userId\")\n",
    "\n",
    "# Normalize the session length, handle division by zero/null using when()\n",
    "norm_lengths = norm_lengths.withColumn(\n",
    "    \"normalized_length\",\n",
    "    when(col(\"avg_session_length\") == 0, 0)  # Replace zero division with 0\n",
    "    .otherwise(col(\"length\") / col(\"avg_session_length\"))\n",
    ")\n",
    "\n",
    "# Replace any remaining nulls in 'normalized_length' with a default value, e.g., 0\n",
    "norm_lengths = norm_lengths.na.fill({\"normalized_length\": 0})\n",
    "\n",
    "# Show the results\n",
    "norm_lengths.show()"
   ]
  },
  {
   "cell_type": "markdown",
   "metadata": {},
   "source": [
    "## Feature Scaling\n",
    "\n",
    " models that rely on gradient descent or distance calculations from being skewed by the range of feature values."
   ]
  },
  {
   "cell_type": "markdown",
   "metadata": {},
   "source": [
    "## Train-Test Split:\n",
    "- Ensure that users in the training set do not appear in the test set. This prevents leakage and ensures that the model can generalise to entirely new users."
   ]
  },
  {
   "cell_type": "code",
   "execution_count": 41,
   "metadata": {},
   "outputs": [
    {
     "name": "stderr",
     "output_type": "stream",
     "text": [
      "                                                                                \r"
     ]
    },
    {
     "name": "stdout",
     "output_type": "stream",
     "text": [
      "+-------+-------------+------+-------------+------------------+--------------+---------------------+-------------------------+------------------------+-----+----------+---------------+------+-----+---------+-----+----+----+------+--------+-----------+-------------+--------+----------------+--------------+-----------+---------+-------+---+---+---+-------------------+-------------------+------+----------------+-------------+-------------+-------------+--------------------+-----------------------+-------------------+\n",
      "| userId|itemInSession|length|numberOfSongs|avg_session_length|total_sessions|avg_songs_per_session|deviation_from_avg_length|deviation_from_avg_songs|About|Add Friend|Add to Playlist|Cancel|churn|Downgrade|Error|Help|Home|Logout|NextSong|Roll Advert|Save Settings|Settings|Submit Downgrade|Submit Upgrade|Thumbs Down|Thumbs Up|Upgrade|200|307|404|  registration_date|      activity_date|tenure|activity_recency|    genderVec|     levelVec| userAgentVec|avg_session_interval|stddev_session_interval|  normalized_length|\n",
      "+-------+-------------+------+-------------+------------------+--------------+---------------------+-------------------------+------------------------+-----+----------+---------------+------+-----+---------+-----+----+----+------+--------+-----------+-------------+--------+----------------+--------------+-----------+---------+-------+---+---+---+-------------------+-------------------+------+----------------+-------------+-------------+-------------+--------------------+-----------------------+-------------------+\n",
      "|1000025|           17|     0|            0|               774|             7|   2.7142857142857144|                     -774|     -2.7142857142857144|    0|         0|              0|     0|    0|        0|    0|   0|   0|     0|       0|          1|            0|       0|               0|             0|          0|        0|      0|  1|  0|  0|2018-07-10 09:30:08|2018-10-02 09:54:54|    84|               0|(2,[0],[1.0])|(2,[1],[1.0])|(3,[0],[1.0])|              1818.5|     1174.8175603045777|                0.0|\n",
      "|1000025|          430|  1810|            6|               774|             7|   2.7142857142857144|                     1036|      3.2857142857142856|    0|         0|              1|     0|    0|        0|    0|   0|   1|     0|       6|          0|            0|       0|               0|             0|          0|        0|      0|  8|  0|  0|2018-07-10 09:30:08|2018-10-02 18:19:14|    84|             504|(2,[0],[1.0])|(2,[1],[1.0])|(3,[0],[1.0])|              1818.5|     1174.8175603045777|  2.338501291989664|\n",
      "|1000025|          160|   973|            3|               774|             7|   2.7142857142857144|                      199|      0.2857142857142856|    0|         0|              0|     0|    0|        0|    0|   0|   0|     0|       3|          0|            0|       0|               0|             0|          0|        0|      0|  3|  0|  0|2018-07-10 09:30:08|2018-10-04 07:56:55|    86|            2257|(2,[0],[1.0])|(2,[0],[1.0])|(3,[0],[1.0])|              1818.5|     1174.8175603045777| 1.2571059431524547|\n",
      "|1000025|            0|   350|            1|               774|             7|   2.7142857142857144|                     -424|     -1.7142857142857144|    0|         0|              0|     0|    0|        0|    0|   0|   0|     0|       1|          0|            0|       0|               0|             0|          0|        0|      0|  1|  0|  0|2018-07-10 09:30:08|2018-10-06 22:09:33|    88|            3732|(2,[0],[1.0])|(2,[0],[1.0])|(3,[0],[1.0])|              1818.5|     1174.8175603045777|0.45219638242894056|\n",
      "|1000025|          125|   386|            2|               774|             7|   2.7142857142857144|                     -388|     -0.7142857142857144|    0|         0|              0|     0|    0|        0|    0|   0|   0|     0|       2|          0|            0|       0|               0|             0|          0|        0|      0|  2|  0|  0|2018-07-10 09:30:08|2018-10-07 18:18:02|    89|            1208|(2,[0],[1.0])|(2,[0],[1.0])|(3,[0],[1.0])|              1818.5|     1174.8175603045777|0.49870801033591733|\n",
      "|1000025|            2|   213|            1|               774|             7|   2.7142857142857144|                     -561|     -1.7142857142857144|    0|         0|              0|     0|    0|        0|    0|   0|   0|     0|       1|          0|            0|       0|               0|             0|          0|        0|      0|  1|  0|  0|2018-07-10 09:30:08|2018-10-09 07:57:07|    91|            2259|(2,[0],[1.0])|(2,[0],[1.0])|(3,[0],[1.0])|              1818.5|     1174.8175603045777| 0.2751937984496124|\n",
      "|1000025|          134|  1689|            6|               774|             7|   2.7142857142857144|                      915|      3.2857142857142856|    0|         0|              0|     0|    0|        0|    0|   0|   0|     0|       6|          0|            0|       0|               0|             0|          0|        1|      0|  6|  1|  0|2018-07-10 09:30:08|2018-10-09 23:48:46|    91|             951|(2,[0],[1.0])|(2,[0],[1.0])|(3,[0],[1.0])|              1818.5|     1174.8175603045777|  2.182170542635659|\n",
      "|1000083|           41|   195|            1|               322|             3|   1.3333333333333333|                     -127|    -0.33333333333333326|    0|         0|              0|     0|    0|        0|    0|   0|   0|     0|       1|          0|            0|       0|               0|             0|          0|        0|      0|  1|  0|  0|2018-09-07 18:01:49|2018-10-08 22:51:56|    31|               0|(2,[0],[1.0])|(2,[1],[1.0])|(3,[0],[1.0])|              2321.5|     2556.1910139893694| 0.6055900621118012|\n",
      "|1000083|            2|   250|            1|               322|             3|   1.3333333333333333|                      -72|    -0.33333333333333326|    0|         0|              0|     0|    0|        0|    0|   0|   0|     0|       1|          0|            0|       0|               0|             0|          0|        0|      0|  1|  0|  0|2018-09-07 18:01:49|2018-10-09 07:26:17|    32|             514|(2,[0],[1.0])|(2,[0],[1.0])|(3,[0],[1.0])|              2321.5|     2556.1910139893694| 0.7763975155279503|\n",
      "|1000083|           71|   523|            2|               322|             3|   1.3333333333333333|                      201|      0.6666666666666667|    0|         1|              0|     0|    0|        0|    0|   0|   0|     0|       2|          0|            0|       0|               0|             0|          0|        0|      0|  2|  1|  0|2018-09-07 18:01:49|2018-10-12 04:15:29|    35|            4129|(2,[0],[1.0])|(2,[0],[1.0])|(3,[0],[1.0])|              2321.5|     2556.1910139893694|  1.624223602484472|\n",
      "|1000248|          387|  1514|            7|              1514|             1|                  7.0|                        0|                     0.0|    0|         0|              0|     0|    0|        0|    0|   0|   0|     0|       7|          0|            0|       0|               0|             0|          0|        0|      0|  7|  0|  0|2018-08-19 23:56:14|2018-10-11 22:08:03|    53|               0|(2,[1],[1.0])|(2,[0],[1.0])|(3,[0],[1.0])|  2620.5671847063677|                    0.0|                1.0|\n",
      "|1000353|           69|   284|            1|               215|             3|                  1.0|                       69|                     0.0|    0|         0|              0|     0|    0|        0|    0|   0|   0|     0|       1|          0|            0|       0|               0|             0|          0|        0|      0|  1|  0|  0|2018-05-02 11:37:39|2018-10-01 01:40:53|   152|               0|(2,[1],[1.0])|(2,[0],[1.0])|(3,[0],[1.0])|              1430.5|     335.87572106361006| 1.3209302325581396|\n",
      "|1000353|           24|   273|            1|               215|             3|                  1.0|                       58|                     0.0|    0|         0|              0|     0|    0|        0|    0|   0|   0|     0|       1|          0|            0|       0|               0|             0|          0|        0|      0|  1|  0|  0|2018-05-02 11:37:39|2018-10-02 05:29:22|   153|            1668|(2,[1],[1.0])|(2,[0],[1.0])|(3,[0],[1.0])|              1430.5|     335.87572106361006| 1.2697674418604652|\n",
      "|1000353|           13|    88|            1|               215|             3|                  1.0|                     -127|                     0.0|    0|         0|              0|     0|    0|        0|    0|   0|   0|     0|       1|          0|            0|       0|               0|             0|          0|        0|      0|  1|  0|  0|2018-05-02 11:37:39|2018-10-03 01:23:16|   154|            1193|(2,[1],[1.0])|(2,[0],[1.0])|(3,[0],[1.0])|              1430.5|     335.87572106361006|0.40930232558139534|\n",
      "|1000407|          250|  1561|            6|               506|             4|                  2.0|                     1055|                     4.0|    0|         0|              0|     0|    0|        0|    0|   0|   0|     0|       6|          0|            0|       0|               0|             0|          0|        0|      0|  6|  0|  0|2018-09-19 12:11:24|2018-10-02 17:55:29|    13|               0|(2,[0],[1.0])|(2,[0],[1.0])|(3,[0],[1.0])|   5574.333333333333|      5276.803420000913| 3.0849802371541504|\n",
      "|1000407|          104|     0|            0|               506|             4|                  2.0|                     -506|                    -2.0|    0|         0|              0|     0|    0|        0|    0|   0|   0|     1|       0|          0|            0|       0|               0|             0|          0|        0|      0|  0|  1|  0|2018-09-19 12:11:24|2018-10-10 20:11:54|    21|           11656|(2,[0],[1.0])|(2,[0],[1.0])|(3,[0],[1.0])|   5574.333333333333|      5276.803420000913|                0.0|\n",
      "|1000407|           21|   307|            1|               506|             4|                  2.0|                     -199|                    -1.0|    0|         0|              0|     0|    0|        0|    0|   0|   0|     0|       1|          0|            0|       0|               0|             0|          0|        0|      0|  1|  0|  0|2018-09-19 12:11:24|2018-10-12 09:02:47|    23|            2210|(2,[0],[1.0])|(2,[0],[1.0])|(3,[0],[1.0])|   5574.333333333333|      5276.803420000913| 0.6067193675889329|\n",
      "|1000407|            6|   157|            1|               506|             4|                  2.0|                     -349|                    -1.0|    0|         0|              0|     0|    0|        0|    0|   0|   0|     0|       1|          0|            0|       0|               0|             0|          0|        0|      0|  1|  0|  0|2018-09-19 12:11:24|2018-10-14 08:40:45|    25|            2857|(2,[0],[1.0])|(2,[0],[1.0])|(3,[0],[1.0])|   5574.333333333333|      5276.803420000913| 0.3102766798418972|\n",
      "|1000626|           51|  1151|            3|               296|             8|                1.125|                      855|                   1.875|    0|         0|              0|     0|    0|        0|    0|   0|   0|     0|       3|          0|            0|       0|               0|             0|          0|        0|      0|  3|  0|  0|2018-09-25 14:19:36|2018-10-04 17:16:07|     9|               0|(2,[0],[1.0])|(2,[0],[1.0])|(3,[0],[1.0])|  1764.7142857142858|     1304.4671599655437| 3.8885135135135136|\n",
      "|1000626|           90|     0|            0|               296|             8|                1.125|                     -296|                  -1.125|    0|         0|              1|     0|    0|        0|    0|   0|   0|     0|       0|          0|            0|       0|               0|             0|          0|        0|      0|  1|  0|  0|2018-09-25 14:19:36|2018-10-05 02:47:26|    10|             571|(2,[0],[1.0])|(2,[0],[1.0])|(3,[0],[1.0])|  1764.7142857142858|     1304.4671599655437|                0.0|\n",
      "+-------+-------------+------+-------------+------------------+--------------+---------------------+-------------------------+------------------------+-----+----------+---------------+------+-----+---------+-----+----+----+------+--------+-----------+-------------+--------+----------------+--------------+-----------+---------+-------+---+---+---+-------------------+-------------------+------+----------------+-------------+-------------+-------------+--------------------+-----------------------+-------------------+\n",
      "only showing top 20 rows\n",
      "\n"
     ]
    }
   ],
   "source": [
    "# Ensure users who have at churn=1 in at least one session are only included in teh churned_users data\n",
    "user_churn_status = norm_lengths.groupBy(\"userId\").agg(max(\"churn\").alias(\"churn\"))\n",
    "\n",
    "# Now split this into churned and non-churned DataFrames\n",
    "churned_users = user_churn_status.filter(col(\"churn\") == 1).select(\"userId\")\n",
    "non_churned_users = user_churn_status.filter(col(\"churn\") == 0).select(\"userId\")\n",
    "\n",
    "# Perform stratified split for both churned and non-churned users\n",
    "train_churned, test_churned = churned_users.randomSplit([0.8, 0.2], seed=42)\n",
    "train_non_churned, test_non_churned = non_churned_users.randomSplit([0.8, 0.2], seed=42)\n",
    "\n",
    "# Combine training and testing datasets\n",
    "train_users = train_churned.union(train_non_churned)\n",
    "test_users = test_churned.union(test_non_churned)\n",
    "\n",
    "# Join back to the original data\n",
    "train_df = norm_lengths.join(train_users, [\"userId\"], \"inner\")\n",
    "test_df = norm_lengths.join(test_users, [\"userId\"], \"inner\")\n",
    "\n",
    "# # Optionally, show some results to verify the distribution and split\n",
    "train_df.show()\n",
    "# test_df.show()"
   ]
  },
  {
   "cell_type": "markdown",
   "metadata": {},
   "source": [
    "## Training\n",
    "### Data\n",
    "- There is a class imbalance in the original dataset where the positive class, churn=1, is underrepresented.\n",
    "- The initial split into train and test data keeps the same class ratio as the original dataset.\n",
    "### Training data\n",
    "- Oversampling churn=1 and undersampling churn=0 could be used to improve performance (e.g. SMOTEEN).\n",
    "- Use models that can handle class imbalance better, e.g. Random Forests or XGBoost which focuses on samples that are difficult to classify (i.e. minority classes)\n",
    "### Test data\n",
    "- Test data should reflect the true distribution of classes to ensure the model’s performance metrics are realistic when using real-world data.\n",
    "### Metrics\n",
    "- Accuracy is misleading for imbalanced datasets. Evaluate using Precision, Recall, F1-Score, ROC-AUC, and Precision-Recall curves. \n",
    "### Models\n",
    "- Some algorithms have ways of dealing with class imbalance (e.g. Naive Bayes, XGBoost) while some dont (e.g. Logistic Regression).\n",
    "- Multiple algorithms will be tested using default hyperparameters to see which deals with this dataset best. \n",
    "- Methods such as SMOTEEN maybe used if necessary.\n",
    "- Using the best performing algorithm, feature dimensionality reduction will be used (e.g recursive feature elimination)\n",
    "- Using the best subset of features, hyperparameter tuning using gridsearch will be conducted.\n",
    "- The final model will be tested on the test data.\n",
    "### Deliverable\n",
    "- We want to save money by identifying a user who is about to churn under the assumption that it is more costly to obtain a new user than retain an existing user.\n",
    "- A balance will need to be met between correctly predicting a user will churn (TPR) and incorrectly predicting they will churn when they wont (FPR) as TPR and FPR go up and down together.\n",
    "- We will estimate how much money will be saved at each TPR threshold on the ROC curve to balance TPR and FPR."
   ]
  },
  {
   "cell_type": "code",
   "execution_count": 42,
   "metadata": {},
   "outputs": [
    {
     "name": "stderr",
     "output_type": "stream",
     "text": [
      "                                                                                \r"
     ]
    },
    {
     "name": "stdout",
     "output_type": "stream",
     "text": [
      "+-------+-------------+------+-------------+------------------+--------------+---------------------+-------------------------+------------------------+-----+----------+---------------+------+-----+---------+-----+----+----+------+--------+-----------+-------------+--------+----------------+--------------+-----------+---------+-------+---+---+---+-------------------+-------------------+------+----------------+-------------+-------------+-------------+--------------------+-----------------------+-------------------+\n",
      "| userId|itemInSession|length|numberOfSongs|avg_session_length|total_sessions|avg_songs_per_session|deviation_from_avg_length|deviation_from_avg_songs|About|Add Friend|Add to Playlist|Cancel|churn|Downgrade|Error|Help|Home|Logout|NextSong|Roll Advert|Save Settings|Settings|Submit Downgrade|Submit Upgrade|Thumbs Down|Thumbs Up|Upgrade|200|307|404|  registration_date|      activity_date|tenure|activity_recency|    genderVec|     levelVec| userAgentVec|avg_session_interval|stddev_session_interval|  normalized_length|\n",
      "+-------+-------------+------+-------------+------------------+--------------+---------------------+-------------------------+------------------------+-----+----------+---------------+------+-----+---------+-----+----+----+------+--------+-----------+-------------+--------+----------------+--------------+-----------+---------+-------+---+---+---+-------------------+-------------------+------+----------------+-------------+-------------+-------------+--------------------+-----------------------+-------------------+\n",
      "|1002749|            7|     0|            0|               332|             4|                 1.25|                     -332|                   -1.25|    0|         0|              0|     0|    0|        0|    0|   0|   0|     0|       0|          1|            0|       0|               0|             0|          0|        0|      0|  1|  0|  0|2018-09-10 01:32:33|2018-10-03 17:07:32|    23|               0|(2,[0],[1.0])|(2,[1],[1.0])|(3,[1],[1.0])|   5656.333333333333|      1374.213350733187|                0.0|\n",
      "|1002749|           29|   326|            1|               332|             4|                 1.25|                       -6|                   -0.25|    0|         0|              0|     0|    0|        0|    0|   0|   0|     0|       1|          0|            0|       0|               0|             0|          0|        0|      0|  1|  0|  0|2018-09-10 01:32:33|2018-10-07 04:33:42|    27|            5006|(2,[0],[1.0])|(2,[0],[1.0])|(3,[1],[1.0])|   5656.333333333333|      1374.213350733187| 0.9819277108433735|\n",
      "|1002749|           16|   467|            2|               332|             4|                 1.25|                      135|                    0.75|    0|         0|              0|     0|    0|        0|    0|   0|   0|     0|       2|          0|            0|       0|               0|             0|          0|        0|      0|  2|  0|  0|2018-09-10 01:32:33|2018-10-10 11:21:51|    30|            4728|(2,[0],[1.0])|(2,[0],[1.0])|(3,[1],[1.0])|   5656.333333333333|      1374.213350733187| 1.4066265060240963|\n",
      "|1002749|          134|   535|            2|               332|             4|                 1.25|                      203|                    0.75|    0|         0|              0|     0|    0|        0|    0|   0|   0|     0|       2|          0|            0|       0|               0|             0|          0|        0|      0|  2|  0|  0|2018-09-10 01:32:33|2018-10-15 11:57:11|    35|            7235|(2,[0],[1.0])|(2,[0],[1.0])|(3,[1],[1.0])|   5656.333333333333|      1374.213350733187| 1.6114457831325302|\n",
      "|1024348|           24|   228|            1|               522|             6|   2.1666666666666665|                     -294|     -1.1666666666666665|    0|         0|              0|     0|    0|        0|    0|   0|   0|     0|       1|          0|            0|       0|               0|             0|          0|        0|      0|  1|  0|  0|2018-08-11 12:25:31|2018-10-01 20:54:33|    51|               0|(2,[1],[1.0])|(2,[0],[1.0])|(3,[1],[1.0])|              2777.2|     2292.2586459647177| 0.4367816091954023|\n",
      "|1024348|           26|   208|            1|               522|             6|   2.1666666666666665|                     -314|     -1.1666666666666665|    0|         0|              0|     0|    0|        0|    0|   0|   0|     0|       1|          0|            0|       0|               0|             0|          0|        0|      0|  1|  0|  0|2018-08-11 12:25:31|2018-10-02 20:18:54|    52|            1404|(2,[1],[1.0])|(2,[0],[1.0])|(3,[1],[1.0])|              2777.2|     2292.2586459647177|0.39846743295019155|\n",
      "|1024348|          170|  1084|            4|               522|             6|   2.1666666666666665|                      562|      1.8333333333333335|    0|         0|              0|     0|    0|        0|    0|   0|   0|     0|       4|          0|            0|       0|               0|             0|          0|        0|      0|  4|  0|  0|2018-08-11 12:25:31|2018-10-03 19:57:43|    53|            1418|(2,[1],[1.0])|(2,[0],[1.0])|(3,[1],[1.0])|              2777.2|     2292.2586459647177| 2.0766283524904217|\n",
      "|1024348|           64|   851|            4|               522|             6|   2.1666666666666665|                      329|      1.8333333333333335|    0|         0|              0|     0|    0|        0|    0|   0|   0|     0|       4|          0|            0|       0|               0|             0|          0|        0|      0|  4|  0|  0|2018-08-11 12:25:31|2018-10-04 18:15:02|    54|            1337|(2,[1],[1.0])|(2,[0],[1.0])|(3,[1],[1.0])|              2777.2|     2292.2586459647177| 1.6302681992337165|\n",
      "|1024348|          100|   761|            3|               522|             6|   2.1666666666666665|                      239|      0.8333333333333335|    0|         0|              0|     0|    0|        0|    0|   0|   0|     0|       3|          0|            0|       0|               0|             0|          0|        0|      0|  3|  0|  0|2018-08-11 12:25:31|2018-10-09 09:22:04|    59|            6667|(2,[1],[1.0])|(2,[0],[1.0])|(3,[1],[1.0])|              2777.2|     2292.2586459647177| 1.4578544061302683|\n",
      "|1024348|          118|     0|            0|               522|             6|   2.1666666666666665|                     -522|     -2.1666666666666665|    0|         0|              0|     0|    0|        1|    0|   0|   0|     0|       0|          0|            0|       0|               0|             0|          0|        1|      0|  1|  1|  0|2018-08-11 12:25:31|2018-10-11 12:23:00|    61|            3060|(2,[1],[1.0])|(2,[0],[1.0])|(3,[1],[1.0])|              2777.2|     2292.2586459647177|                0.0|\n",
      "|1029067|           23|   743|            2|               582|             7|    2.142857142857143|                      161|     -0.1428571428571428|    0|         0|              0|     0|    0|        0|    0|   0|   0|     0|       2|          0|            0|       0|               0|             0|          0|        0|      0|  2|  0|  0|2018-09-26 01:11:12|2018-10-01 04:56:38|     5|               0|(2,[1],[1.0])|(2,[0],[1.0])|(3,[1],[1.0])|              3432.5|     2726.6288893063534| 1.2766323024054982|\n",
      "|1029067|          211|   532|            2|               582|             7|    2.142857142857143|                      -50|     -0.1428571428571428|    0|         0|              0|     0|    0|        0|    0|   0|   0|     0|       2|          0|            0|       0|               0|             0|          0|        0|      0|  2|  0|  0|2018-09-26 01:11:12|2018-10-02 19:06:13|     6|            2289|(2,[1],[1.0])|(2,[0],[1.0])|(3,[1],[1.0])|              3432.5|     2726.6288893063534| 0.9140893470790378|\n",
      "|1029067|           34|   452|            2|               582|             7|    2.142857142857143|                     -130|     -0.1428571428571428|    0|         0|              0|     0|    0|        0|    0|   0|   0|     0|       2|          0|            0|       0|               0|             0|          0|        0|      0|  2|  0|  0|2018-09-26 01:11:12|2018-10-03 12:30:46|     7|            1044|(2,[1],[1.0])|(2,[0],[1.0])|(3,[1],[1.0])|              3432.5|     2726.6288893063534| 0.7766323024054983|\n",
      "|1029067|          146|  1687|            6|               582|             7|    2.142857142857143|                     1105|       3.857142857142857|    0|         0|              0|     0|    0|        0|    0|   0|   0|     0|       6|          0|            0|       0|               0|             0|          0|        0|      0|  6|  0|  0|2018-09-26 01:11:12|2018-10-04 16:48:27|     8|            1697|(2,[1],[1.0])|(2,[1],[1.0])|(3,[1],[1.0])|              3432.5|     2726.6288893063534| 2.8986254295532645|\n",
      "|1029067|            3|     0|            0|               582|             7|    2.142857142857143|                     -582|      -2.142857142857143|    0|         0|              0|     0|    0|        0|    0|   1|   0|     0|       0|          0|            0|       0|               0|             0|          0|        0|      0|  1|  0|  0|2018-09-26 01:11:12|2018-10-10 16:38:34|    14|            8630|(2,[1],[1.0])|(2,[1],[1.0])|(3,[1],[1.0])|              3432.5|     2726.6288893063534|                0.0|\n",
      "|1029067|           28|   443|            2|               582|             7|    2.142857142857143|                     -139|     -0.1428571428571428|    0|         0|              0|     0|    0|        0|    0|   0|   0|     0|       2|          0|            0|       0|               0|             0|          0|        0|      0|  2|  0|  0|2018-09-26 01:11:12|2018-10-12 22:10:27|    16|            3211|(2,[1],[1.0])|(2,[1],[1.0])|(3,[1],[1.0])|              3432.5|     2726.6288893063534|  0.761168384879725|\n",
      "|1029067|            5|   218|            1|               582|             7|    2.142857142857143|                     -364|     -1.1428571428571428|    0|         0|              0|     0|    0|        0|    0|   0|   0|     0|       1|          0|            0|       0|               0|             0|          0|        0|      0|  1|  0|  0|2018-09-26 01:11:12|2018-10-15 12:15:04|    19|            3724|(2,[1],[1.0])|(2,[1],[1.0])|(3,[1],[1.0])|              3432.5|     2726.6288893063534| 0.3745704467353952|\n",
      "|1037650|            4|   459|            1|               422|             2|                  1.5|                       37|                    -0.5|    0|         0|              0|     0|    1|        0|    0|   0|   0|     0|       1|          0|            0|       0|               0|             0|          0|        0|      0|  1|  0|  0|2018-08-09 03:49:09|2018-10-02 01:23:45|    54|               0|(2,[1],[1.0])|(2,[1],[1.0])|(3,[0],[1.0])|               623.0|                    0.0| 1.0876777251184835|\n",
      "|1037650|          242|   386|            2|               422|             2|                  1.5|                      -36|                     0.5|    0|         0|              2|     0|    1|        0|    0|   0|   0|     0|       2|          0|            0|       0|               0|             0|          0|        0|      0|  5|  0|  0|2018-08-09 03:49:09|2018-10-02 11:47:43|    54|             623|(2,[1],[1.0])|(2,[0],[1.0])|(3,[0],[1.0])|               623.0|                    0.0| 0.9146919431279621|\n",
      "|1057440|          120|   758|            2|               558|             3|                  2.0|                      200|                     0.0|    0|         0|              0|     0|    0|        0|    0|   0|   0|     0|       2|          0|            0|       0|               0|             0|          0|        0|      0|  2|  0|  0|2018-09-24 22:40:46|2018-10-02 17:44:03|     8|               0|(2,[1],[1.0])|(2,[0],[1.0])|(3,[1],[1.0])|              8055.5|      7930.202551007131| 1.3584229390681004|\n",
      "+-------+-------------+------+-------------+------------------+--------------+---------------------+-------------------------+------------------------+-----+----------+---------------+------+-----+---------+-----+----+----+------+--------+-----------+-------------+--------+----------------+--------------+-----------+---------+-------+---+---+---+-------------------+-------------------+------+----------------+-------------+-------------+-------------+--------------------+-----------------------+-------------------+\n",
      "only showing top 20 rows\n",
      "\n"
     ]
    },
    {
     "name": "stderr",
     "output_type": "stream",
     "text": [
      "[Stage 965:==========================================>            (14 + 4) / 18]\r"
     ]
    },
    {
     "name": "stdout",
     "output_type": "stream",
     "text": [
      "Total sampled records: 447\n"
     ]
    },
    {
     "name": "stderr",
     "output_type": "stream",
     "text": [
      "                                                                                \r"
     ]
    }
   ],
   "source": [
    "# Calculate churn status per user\n",
    "user_churn_status = norm_lengths.groupBy(\"userId\").agg(max(\"churn\").alias(\"churn\"))\n",
    "\n",
    "# DataFrame of users who have churned at least once\n",
    "churned_users = user_churn_status.filter(col(\"churn\") == 1).select(\"userId\")\n",
    "\n",
    "# Select 10 random users from all users\n",
    "random_users = user_churn_status.sample(False, 0.1).limit(100).select(\"userId\")\n",
    "\n",
    "# Union the churned users with the randomly selected users\n",
    "combined_users = churned_users.union(random_users).distinct()\n",
    "\n",
    "# Join back to the original data to create a new training DataFrame\n",
    "training_df = norm_lengths.join(combined_users, \"userId\", \"inner\")\n",
    "\n",
    "# Show the resulting DataFrame to verify\n",
    "training_df.show()\n",
    "print(\"Total sampled records:\", training_df.count())"
   ]
  },
  {
   "cell_type": "code",
   "execution_count": 30,
   "metadata": {},
   "outputs": [],
   "source": [
    "# from pyspark.sql.functions import col, monotonically_increasing_id\n",
    "# from pyspark.sql import DataFrame\n",
    "# import numpy as np\n",
    "\n",
    "def custom_stratified_cross_val(df_scv: DataFrame, k: int, seed: int = 42):\n",
    "    # Mark users as churned if any of their sessions are marked as churned\n",
    "    user_churn_status = df_scv.groupBy(\"userId\").agg(max(\"churn\").alias(\"churn\"))\n",
    "    \n",
    "    # Split users into churned and non-churned\n",
    "    churned_users = user_churn_status.filter(col(\"churn\") == 1).select(\"userId\")\n",
    "    non_churned_users = user_churn_status.filter(col(\"churn\") == 0).select(\"userId\")\n",
    "    \n",
    "    # Assign each user to a fold\n",
    "    churned_users = churned_users.withColumn('fold', (monotonically_increasing_id() % k))\n",
    "    non_churned_users = non_churned_users.withColumn('fold', (monotonically_increasing_id() % k))\n",
    "    \n",
    "    # Union and join back to the original data\n",
    "    users_fold = churned_users.union(non_churned_users)\n",
    "    df_scv = df_scv.join(users_fold, on='userId', how='inner')\n",
    "    \n",
    "    # Generate folds\n",
    "    folds = [df_scv.filter(col('fold') == i).drop('fold') for i in range(k)]\n",
    "    \n",
    "    return folds\n"
   ]
  },
  {
   "cell_type": "code",
   "execution_count": 43,
   "metadata": {},
   "outputs": [
    {
     "name": "stderr",
     "output_type": "stream",
     "text": [
      "                                                                                \r"
     ]
    },
    {
     "name": "stdout",
     "output_type": "stream",
     "text": [
      "+------+-------------+------+-------------+------------------+--------------+---------------------+-------------------------+------------------------+-----+----------+---------------+------+-----+---------+-----+----+----+------+--------+-----------+-------------+--------+----------------+--------------+-----------+---------+-------+---+---+---+-----------------+-------------+------+----------------+---------+--------+------------+--------------------+-----------------------+-----------------+\n",
      "|userId|itemInSession|length|numberOfSongs|avg_session_length|total_sessions|avg_songs_per_session|deviation_from_avg_length|deviation_from_avg_songs|About|Add Friend|Add to Playlist|Cancel|churn|Downgrade|Error|Help|Home|Logout|NextSong|Roll Advert|Save Settings|Settings|Submit Downgrade|Submit Upgrade|Thumbs Down|Thumbs Up|Upgrade|200|307|404|registration_date|activity_date|tenure|activity_recency|genderVec|levelVec|userAgentVec|avg_session_interval|stddev_session_interval|normalized_length|\n",
      "+------+-------------+------+-------------+------------------+--------------+---------------------+-------------------------+------------------------+-----+----------+---------------+------+-----+---------+-----+----+----+------+--------+-----------+-------------+--------+----------------+--------------+-----------+---------+-------+---+---+---+-----------------+-------------+------+----------------+---------+--------+------------+--------------------+-----------------------+-----------------+\n",
      "|     0|            0|     0|            0|                 0|             0|                    0|                        0|                       0|    0|         0|              0|     0|    0|        0|    0|   0|   0|     0|       0|          0|            0|       0|               0|             0|          0|        0|      0|  0|  0|  0|                0|            0|     0|               0|        0|       0|           0|                   0|                      0|                0|\n",
      "+------+-------------+------+-------------+------------------+--------------+---------------------+-------------------------+------------------------+-----+----------+---------------+------+-----+---------+-----+----+----+------+--------+-----------+-------------+--------+----------------+--------------+-----------+---------+-------+---+---+---+-----------------+-------------+------+----------------+---------+--------+------------+--------------------+-----------------------+-----------------+\n",
      "\n"
     ]
    }
   ],
   "source": [
    "# Creating an expression that counts nulls across all columns\n",
    "null_counts = [count(when(col(c).isNull(), c)).alias(c) for c in training_df.columns]\n",
    "\n",
    "# Applying the aggregation to get the count of nulls for each column\n",
    "df_nulls = training_df.agg(*null_counts)\n",
    "\n",
    "# Show the results\n",
    "df_nulls.show()"
   ]
  },
  {
   "cell_type": "markdown",
   "metadata": {},
   "source": [
    "## Model Selection\n",
    "- Model comparison using AUC-ROC which evaluates how well the model can distinguish classes and is good when dealing with imbalanced datasets."
   ]
  },
  {
   "cell_type": "code",
   "execution_count": 46,
   "metadata": {},
   "outputs": [
    {
     "name": "stderr",
     "output_type": "stream",
     "text": [
      "                                                                                \r"
     ]
    },
    {
     "name": "stdout",
     "output_type": "stream",
     "text": [
      "LogisticRegression fold=0 auc=0.705993840322198 f1=0.8967554351417433\n"
     ]
    },
    {
     "name": "stderr",
     "output_type": "stream",
     "text": [
      "                                                                                \r"
     ]
    },
    {
     "name": "stdout",
     "output_type": "stream",
     "text": [
      "LogisticRegression fold=1 auc=0.5112481857764886 f1=0.8708222126560484\n"
     ]
    },
    {
     "name": "stderr",
     "output_type": "stream",
     "text": [
      "                                                                                \r"
     ]
    },
    {
     "name": "stdout",
     "output_type": "stream",
     "text": [
      "RandomForestClassifier fold=0 auc=0.49834162520729686 f1=0.8604562008817329\n"
     ]
    },
    {
     "name": "stderr",
     "output_type": "stream",
     "text": [
      "                                                                                \r"
     ]
    },
    {
     "name": "stdout",
     "output_type": "stream",
     "text": [
      "RandomForestClassifier fold=1 auc=0.6362481857764877 f1=0.8960994560994563\n",
      "Results for LogisticRegression:\n",
      "  Average AUC: 0.6086210130493432\n",
      "  Average F1 Score: 0.8837888238988958\n",
      "Results for RandomForestClassifier:\n",
      "  Average AUC: 0.5672949054918923\n",
      "  Average F1 Score: 0.8782778284905945\n"
     ]
    }
   ],
   "source": [
    "folds = custom_stratified_cross_val(training_df, k=2)\n",
    "\n",
    "# Feature processing stages\n",
    "assembler = VectorAssembler(\n",
    "    inputCols=[col for col in training_df.columns if col not in [\"userId\", \"churn\", \"registration_date\", \"activity_date\"]],\n",
    "    outputCol=\"features_unscaled\")\n",
    "\n",
    "scaler = StandardScaler(inputCol=\"features_unscaled\", outputCol=\"features\", withStd=True, withMean=True)\n",
    "\n",
    "classifiers = {\n",
    "    \"LogisticRegression\": LogisticRegression(featuresCol='features', labelCol='churn'),\n",
    "    \"RandomForestClassifier\": RandomForestClassifier(featuresCol='features', labelCol='churn', numTrees=10),\n",
    "    # \"DecisionTreeClassifier\": DecisionTreeClassifier(featuresCol='features', labelCol='churn'),\n",
    "    # \"GradientBoostedTrees\": GBTClassifier(featuresCol='features', labelCol='churn'),\n",
    "    # \"NaiveBayes\": NaiveBayes(featuresCol='features', labelCol='churn'),\n",
    "    # \"SupportVectorMachine\": LinearSVC(featuresCol='features', labelCol='churn')\n",
    "}\n",
    "\n",
    "# Evaluation metrics\n",
    "auc_evaluator = BinaryClassificationEvaluator(labelCol='churn', metricName='areaUnderROC')\n",
    "f1_evaluator = MulticlassClassificationEvaluator(labelCol='churn', metricName='f1')\n",
    "\n",
    "results = {}\n",
    "\n",
    "# Perform cross-validation for each classifier\n",
    "for name, classifier in classifiers.items():\n",
    "    pipeline = Pipeline(stages=[assembler, scaler, classifier])\n",
    "    auc_metrics = []\n",
    "    f1_metrics = []\n",
    "    \n",
    "    for i in range(len(folds)):\n",
    "        cv_train = [folds[j] for j in range(len(folds)) if j != i]\n",
    "        cv_test = folds[i]\n",
    "        \n",
    "        # Combine training folds\n",
    "        df_cv_train = cv_train[0]\n",
    "        for fold in cv_train[1:]:\n",
    "            df_cv_train = df_cv_train.union(fold)\n",
    "        \n",
    "        # Fit the pipeline on the training set\n",
    "        model = pipeline.fit(df_cv_train)\n",
    "        \n",
    "        # Make predictions on the test set\n",
    "        predictions = model.transform(cv_test)\n",
    "        \n",
    "        # Evaluate the model\n",
    "        auc = auc_evaluator.evaluate(predictions)\n",
    "        f1 = f1_evaluator.evaluate(predictions)\n",
    "        \n",
    "        # Store metrics\n",
    "        auc_metrics.append(auc)\n",
    "        f1_metrics.append(f1)\n",
    "\n",
    "        print(f\"{name} fold={i} auc={auc} f1={f1}\")\n",
    "    \n",
    "    # Calculate average metrics\n",
    "    average_auc = __builtins__.sum(auc_metrics) / len(auc_metrics)\n",
    "    average_f1 = __builtins__.sum(f1_metrics) / len(f1_metrics)\n",
    "    \n",
    "    # Store results\n",
    "    results[name] = {\n",
    "        \"Average AUC\": average_auc,\n",
    "        \"Average F1 Score\": average_f1\n",
    "    }\n",
    "\n",
    "# Print results\n",
    "for model_name, metrics in results.items():\n",
    "    print(f\"Results for {model_name}:\")\n",
    "    for metric_name, value in metrics.items():\n",
    "        print(f\"  {metric_name}: {value}\")"
   ]
  }
 ],
 "metadata": {
  "kernelspec": {
   "display_name": "Python 3",
   "language": "python",
   "name": "python3"
  },
  "language_info": {
   "codemirror_mode": {
    "name": "ipython",
    "version": 3
   },
   "file_extension": ".py",
   "mimetype": "text/x-python",
   "name": "python",
   "nbconvert_exporter": "python",
   "pygments_lexer": "ipython3",
   "version": "3.10.6"
  }
 },
 "nbformat": 4,
 "nbformat_minor": 2
}
