{
 "cells": [
  {
   "cell_type": "code",
   "execution_count": 1,
   "metadata": {},
   "outputs": [],
   "source": [
    "from pyspark.sql import SparkSession\n",
    "from pyspark.ml import Pipeline\n",
    "from pyspark.sql.functions import sum, when, col, count, from_unixtime, date_format, regexp_replace, datediff, lag, to_date, unix_timestamp, coalesce, lit, avg, max\n",
    "from pyspark.ml.feature import VectorAssembler, StringIndexer, OneHotEncoder, StandardScaler\n",
    "from pyspark.sql.window import Window\n"
   ]
  },
  {
   "cell_type": "markdown",
   "metadata": {},
   "source": [
    "## Create a spark session"
   ]
  },
  {
   "cell_type": "code",
   "execution_count": 2,
   "metadata": {},
   "outputs": [
    {
     "name": "stderr",
     "output_type": "stream",
     "text": [
      "Setting default log level to \"WARN\".\n",
      "To adjust logging level use sc.setLogLevel(newLevel). For SparkR, use setLogLevel(newLevel).\n",
      "24/06/02 01:31:20 WARN NativeCodeLoader: Unable to load native-hadoop library for your platform... using builtin-java classes where applicable\n"
     ]
    }
   ],
   "source": [
    "spark = SparkSession.builder \\\n",
    "    .appName(\"Sparkify Data Analysis\") \\\n",
    "    .getOrCreate()"
   ]
  },
  {
   "cell_type": "markdown",
   "metadata": {},
   "source": [
    "# Read and show data"
   ]
  },
  {
   "cell_type": "code",
   "execution_count": 3,
   "metadata": {},
   "outputs": [
    {
     "name": "stderr",
     "output_type": "stream",
     "text": [
      "                                                                                \r"
     ]
    },
    {
     "name": "stdout",
     "output_type": "stream",
     "text": [
      "+--------------------+---------+---------+------+-------------+----------+---------+-----+--------------------+------+---------------+-------------+---------+--------------------+------+-------------+--------------------+-------+\n",
      "|              artist|     auth|firstName|gender|itemInSession|  lastName|   length|level|            location|method|           page| registration|sessionId|                song|status|           ts|           userAgent| userId|\n",
      "+--------------------+---------+---------+------+-------------+----------+---------+-----+--------------------+------+---------------+-------------+---------+--------------------+------+-------------+--------------------+-------+\n",
      "|                null|Logged In|  Anthony|     M|           12|      Diaz|     null| paid|New York-Newark-J...|   GET|          Error|1538045178000|    11807|                null|   404|1538352013000|\"Mozilla/5.0 (Mac...|1507202|\n",
      "|           Metallica|Logged In|   Olivia|     F|          115|   Johnson|466.54649| paid|Lansing-East Lans...|   PUT|       NextSong|1536933045000|    19352|  The Unforgiven III|   200|1538352064000|Mozilla/5.0 (Maci...|1809275|\n",
      "|  Across Five Aprils|Logged In|  Brianna|     F|           18|   Frazier|267.57179| paid|New York-Newark-J...|   PUT|       NextSong|1537834485000|     7336|Car Wrecks And Pl...|   200|1538352090000|\"Mozilla/5.0 (Mac...|1368556|\n",
      "|            Frumpies|Logged In|   Summer|     F|           30| Alexander|134.47791| free|         Jackson, MS|   PUT|       NextSong|1538294709000|    10091|          Fuck Kitty|   200|1538352165000|\"Mozilla/5.0 (Win...|1605957|\n",
      "|Usher Featuring L...|Logged In|   Xavier|     M|            8| Hernandez|250.38322| free|San Jose-Sunnyval...|   PUT|       NextSong|1536723661000|    23230|               Yeah!|   200|1538352182000|\"Mozilla/5.0 (Mac...|1121552|\n",
      "|             Fonseca|Logged In|  Brayden|     M|            7|    Martin|239.25506| free|Spokane-Spokane V...|   PUT|       NextSong|1535789345000|    22698|         Hace Tiempo|   200|1538352209000|Mozilla/5.0 (Maci...|1277353|\n",
      "|           Matisyahu|Logged In|    Brodi|     M|           50|      Bray|288.60036| paid|Atlanta-Sandy Spr...|   PUT|       NextSong|1538066378000|     3749|King Without A Crown|   200|1538352212000|\"Mozilla/5.0 (iPh...|1820270|\n",
      "| John Michael Talbot|Logged In|   Nariah|     F|            9|     Weber| 94.45832| free|Allentown-Bethleh...|   PUT|       NextSong|1538293400000|    22160|            Nocturne|   200|1538352216000|\"Mozilla/5.0 (Win...|1961645|\n",
      "|        3 Doors Down|Logged In|    Jason|     M|          121|     Clark| 260.0224| paid|Bremerton-Silverd...|   PUT|       NextSong|1536706498000|    14689|       When I'm Gone|   200|1538352246000|Mozilla/5.0 (Wind...|1428726|\n",
      "|             Rihanna|Logged In|     Jose|     M|           21|     Clark|267.49342| paid|San Francisco-Oak...|   PUT|       NextSong|1537901578000|    10743|Don't Stop The Music|   200|1538352266000|\"Mozilla/5.0 (Win...|1221413|\n",
      "|       Justin Bieber|Logged In|   Anjana|     F|          136|    Cooper|256.78322| paid|           Chico, CA|   PUT|       NextSong|1529179750000|     6366|       Favorite Girl|   200|1538352273000|Mozilla/5.0 (Wind...|1833842|\n",
      "|Ms. Dynamite / Ky...|Logged In|    Tyler|     M|           18|    Reilly|202.21342| free|Houston-The Woodl...|   PUT|       NextSong|1532107433000|    12952|      Seed Will Grow|   200|1538352304000|\"Mozilla/5.0 (iPh...|1822046|\n",
      "|     Michael Jackson|Logged In|   Lucero|     F|            1|    Thomas|216.55465| free|       Rochester, NY|   PUT|       NextSong|1536565459000|    19440|She's Out Of My Life|   200|1538352416000|\"Mozilla/5.0 (Win...|1874810|\n",
      "|     Blue Foundation|Logged In|    Kirby|     M|          324|    Taylor|302.13179| paid|Olympia-Tumwater, WA|   PUT|       NextSong|1533518845000|    12635|        Eyes On Fire|   200|1538352441000|Mozilla/5.0 (X11;...|1033900|\n",
      "|         Erik Hassle|Logged In|  Adelynn|     F|           94|     Floyd|206.15791| free|          Tupelo, MS|   PUT|       NextSong|1530424650000|     9633|    Isn't It Obvious|   200|1538352479000|\"Mozilla/5.0 (Mac...|1790475|\n",
      "|                null|Logged In|  Anthony|     M|           15|      Diaz|     null| paid|New York-Newark-J...|   PUT|Add to Playlist|1538045178000|    11807|                null|   200|1538352481000|\"Mozilla/5.0 (Mac...|1507202|\n",
      "|                 ATB|Logged In|  Manuela|     F|           21|Montgomery| 191.7122| paid|Phoenix-Mesa-Scot...|   PUT|       NextSong|1538009199000|     5958|         Rising Moon|   200|1538352487000|\"Mozilla/5.0 (Mac...|1137339|\n",
      "|Eminem / Dr. Dre ...|Logged In|     Lyla|     F|           22|  Mitchell|  297.482| free|         Shelton, WA|   PUT|       NextSong|1531905777000|    19612|      Crack A Bottle|   200|1538352496000|Mozilla/5.0 (Wind...|1104184|\n",
      "|                null|Logged In|Alexander|     M|          183|    Murphy|     null| paid|          Peoria, IL|   GET|           Home|1535971709000|     2828|                null|   200|1538352542000|\"Mozilla/5.0 (Win...|1410808|\n",
      "|          The Smiths|Logged In|      Ava|     F|           14|    Hanson| 182.7522| free|Phoenix-Mesa-Scot...|   PUT|       NextSong|1537558053000|     1893|A Rush And A Push...|   200|1538352589000|Mozilla/5.0 (Wind...|1418529|\n",
      "+--------------------+---------+---------+------+-------------+----------+---------+-----+--------------------+------+---------------+-------------+---------+--------------------+------+-------------+--------------------+-------+\n",
      "only showing top 20 rows\n",
      "\n"
     ]
    }
   ],
   "source": [
    "# Path to your JSON file\n",
    "json_path = \"/app/data/sparkify_event_data.json\"\n",
    "\n",
    "# Read the JSON data into a DataFrame\n",
    "df_full = spark.read.json(json_path)\n",
    "\n",
    "# Sample 10% of the data randomly without replacement\n",
    "fraction = 0.02\n",
    "df = df_full.sample(False, fraction)\n",
    "\n",
    "# Use the sampled data for quick tests or analysis\n",
    "df.show()"
   ]
  },
  {
   "cell_type": "markdown",
   "metadata": {},
   "source": [
    "## Print data schema"
   ]
  },
  {
   "cell_type": "code",
   "execution_count": 4,
   "metadata": {},
   "outputs": [
    {
     "name": "stdout",
     "output_type": "stream",
     "text": [
      "root\n",
      " |-- artist: string (nullable = true)\n",
      " |-- auth: string (nullable = true)\n",
      " |-- firstName: string (nullable = true)\n",
      " |-- gender: string (nullable = true)\n",
      " |-- itemInSession: long (nullable = true)\n",
      " |-- lastName: string (nullable = true)\n",
      " |-- length: double (nullable = true)\n",
      " |-- level: string (nullable = true)\n",
      " |-- location: string (nullable = true)\n",
      " |-- method: string (nullable = true)\n",
      " |-- page: string (nullable = true)\n",
      " |-- registration: long (nullable = true)\n",
      " |-- sessionId: long (nullable = true)\n",
      " |-- song: string (nullable = true)\n",
      " |-- status: long (nullable = true)\n",
      " |-- ts: long (nullable = true)\n",
      " |-- userAgent: string (nullable = true)\n",
      " |-- userId: string (nullable = true)\n",
      "\n"
     ]
    },
    {
     "name": "stderr",
     "output_type": "stream",
     "text": [
      "[Stage 2:=====================================================>   (17 + 1) / 18]\r"
     ]
    },
    {
     "name": "stdout",
     "output_type": "stream",
     "text": [
      "Total sampled records: 94787\n"
     ]
    },
    {
     "name": "stderr",
     "output_type": "stream",
     "text": [
      "                                                                                \r"
     ]
    }
   ],
   "source": [
    "df.printSchema()\n",
    "print(\"Total sampled records:\", df.count())"
   ]
  },
  {
   "cell_type": "markdown",
   "metadata": {},
   "source": [
    "## Frequency of values in categorical columns"
   ]
  },
  {
   "cell_type": "code",
   "execution_count": 5,
   "metadata": {},
   "outputs": [
    {
     "name": "stderr",
     "output_type": "stream",
     "text": [
      "                                                                                \r"
     ]
    },
    {
     "name": "stdout",
     "output_type": "stream",
     "text": [
      "+----------+-----+\n",
      "|auth      |count|\n",
      "+----------+-----+\n",
      "|Logged In |91672|\n",
      "|Logged Out|3092 |\n",
      "|Cancelled |13   |\n",
      "|Guest     |10   |\n",
      "+----------+-----+\n",
      "\n"
     ]
    },
    {
     "name": "stderr",
     "output_type": "stream",
     "text": [
      "                                                                                \r"
     ]
    },
    {
     "name": "stdout",
     "output_type": "stream",
     "text": [
      "+------+-----+\n",
      "|gender|count|\n",
      "+------+-----+\n",
      "|M     |48155|\n",
      "|F     |43530|\n",
      "|null  |3102 |\n",
      "+------+-----+\n",
      "\n"
     ]
    },
    {
     "name": "stderr",
     "output_type": "stream",
     "text": [
      "                                                                                \r"
     ]
    },
    {
     "name": "stdout",
     "output_type": "stream",
     "text": [
      "+-----+-----+\n",
      "|level|count|\n",
      "+-----+-----+\n",
      "|paid |65718|\n",
      "|free |29069|\n",
      "+-----+-----+\n",
      "\n"
     ]
    },
    {
     "name": "stderr",
     "output_type": "stream",
     "text": [
      "                                                                                \r"
     ]
    },
    {
     "name": "stdout",
     "output_type": "stream",
     "text": [
      "+------+-----+\n",
      "|method|count|\n",
      "+------+-----+\n",
      "|PUT   |85369|\n",
      "|GET   |9418 |\n",
      "+------+-----+\n",
      "\n"
     ]
    },
    {
     "name": "stderr",
     "output_type": "stream",
     "text": [
      "                                                                                \r"
     ]
    },
    {
     "name": "stdout",
     "output_type": "stream",
     "text": [
      "+-------------------------+-----+\n",
      "|page                     |count|\n",
      "+-------------------------+-----+\n",
      "|NextSong                 |74829|\n",
      "|Home                     |5100 |\n",
      "|Thumbs Up                |3794 |\n",
      "|Add to Playlist          |2137 |\n",
      "|Roll Advert              |1788 |\n",
      "|Add Friend               |1349 |\n",
      "|Login                    |1162 |\n",
      "|Logout                   |1123 |\n",
      "|Thumbs Down              |775  |\n",
      "|Downgrade                |635  |\n",
      "|Help                     |606  |\n",
      "|Settings                 |549  |\n",
      "|About                    |349  |\n",
      "|Upgrade                  |290  |\n",
      "|Save Settings            |98   |\n",
      "|Error                    |87   |\n",
      "|Submit Upgrade           |76   |\n",
      "|Submit Downgrade         |15   |\n",
      "|Cancellation Confirmation|13   |\n",
      "|Cancel                   |9    |\n",
      "|Submit Registration      |2    |\n",
      "|Register                 |1    |\n",
      "+-------------------------+-----+\n",
      "\n"
     ]
    },
    {
     "name": "stderr",
     "output_type": "stream",
     "text": [
      "                                                                                \r"
     ]
    },
    {
     "name": "stdout",
     "output_type": "stream",
     "text": [
      "+------+-----+\n",
      "|status|count|\n",
      "+------+-----+\n",
      "|200   |86297|\n",
      "|307   |8403 |\n",
      "|404   |87   |\n",
      "+------+-----+\n",
      "\n"
     ]
    },
    {
     "name": "stderr",
     "output_type": "stream",
     "text": [
      "[Stage 44:====================================================>   (17 + 1) / 18]\r"
     ]
    },
    {
     "name": "stdout",
     "output_type": "stream",
     "text": [
      "+-----------------------------------------------------------------------------------------------------------------------------------------------+-----+\n",
      "|userAgent                                                                                                                                      |count|\n",
      "+-----------------------------------------------------------------------------------------------------------------------------------------------+-----+\n",
      "|\"Mozilla/5.0 (Windows NT 6.1; WOW64) AppleWebKit/537.36 (KHTML, like Gecko) Chrome/36.0.1985.143 Safari/537.36\"                                |8696 |\n",
      "|Mozilla/5.0 (Windows NT 6.1; WOW64; rv:31.0) Gecko/20100101 Firefox/31.0                                                                       |6964 |\n",
      "|\"Mozilla/5.0 (Windows NT 6.1; WOW64) AppleWebKit/537.36 (KHTML, like Gecko) Chrome/36.0.1985.125 Safari/537.36\"                                |5620 |\n",
      "|\"Mozilla/5.0 (Macintosh; Intel Mac OS X 10_9_4) AppleWebKit/537.36 (KHTML, like Gecko) Chrome/36.0.1985.143 Safari/537.36\"                     |5592 |\n",
      "|\"Mozilla/5.0 (Macintosh; Intel Mac OS X 10_9_4) AppleWebKit/537.78.2 (KHTML, like Gecko) Version/7.0.6 Safari/537.78.2\"                        |4965 |\n",
      "|\"Mozilla/5.0 (Macintosh; Intel Mac OS X 10_9_4) AppleWebKit/537.36 (KHTML, like Gecko) Chrome/36.0.1985.125 Safari/537.36\"                     |4444 |\n",
      "|\"Mozilla/5.0 (Macintosh; Intel Mac OS X 10_9_4) AppleWebKit/537.77.4 (KHTML, like Gecko) Version/7.0.5 Safari/537.77.4\"                        |4387 |\n",
      "|Mozilla/5.0 (Macintosh; Intel Mac OS X 10.9; rv:31.0) Gecko/20100101 Firefox/31.0                                                              |3906 |\n",
      "|\"Mozilla/5.0 (Macintosh; Intel Mac OS X 10_9_4) AppleWebKit/537.36 (KHTML, like Gecko) Chrome/37.0.2062.94 Safari/537.36\"                      |3697 |\n",
      "|\"Mozilla/5.0 (Windows NT 6.3; WOW64) AppleWebKit/537.36 (KHTML, like Gecko) Chrome/36.0.1985.143 Safari/537.36\"                                |3155 |\n",
      "|null                                                                                                                                           |3102 |\n",
      "|\"Mozilla/5.0 (Windows NT 6.3; WOW64) AppleWebKit/537.36 (KHTML, like Gecko) Chrome/36.0.1985.125 Safari/537.36\"                                |2217 |\n",
      "|Mozilla/5.0 (Windows NT 6.1; WOW64; Trident/7.0; rv:11.0) like Gecko                                                                           |2126 |\n",
      "|Mozilla/5.0 (Windows NT 6.3; WOW64; rv:31.0) Gecko/20100101 Firefox/31.0                                                                       |2083 |\n",
      "|\"Mozilla/5.0 (iPhone; CPU iPhone OS 7_1_2 like Mac OS X) AppleWebKit/537.51.2 (KHTML, like Gecko) Version/7.0 Mobile/11D257 Safari/9537.53\"    |2032 |\n",
      "|\"Mozilla/5.0 (Windows NT 6.1) AppleWebKit/537.36 (KHTML, like Gecko) Chrome/36.0.1985.143 Safari/537.36\"                                       |1794 |\n",
      "|Mozilla/5.0 (X11; Ubuntu; Linux x86_64; rv:31.0) Gecko/20100101 Firefox/31.0                                                                   |1520 |\n",
      "|Mozilla/5.0 (Windows NT 6.1; rv:31.0) Gecko/20100101 Firefox/31.0                                                                              |1136 |\n",
      "|\"Mozilla/5.0 (Windows NT 6.1) AppleWebKit/537.36 (KHTML, like Gecko) Chrome/36.0.1985.125 Safari/537.36\"                                       |1050 |\n",
      "|\"Mozilla/5.0 (iPad; CPU OS 7_1_2 like Mac OS X) AppleWebKit/537.51.2 (KHTML, like Gecko) Version/7.0 Mobile/11D257 Safari/9537.53\"             |1043 |\n",
      "|\"Mozilla/5.0 (X11; Linux x86_64) AppleWebKit/537.36 (KHTML, like Gecko) Chrome/36.0.1985.125 Safari/537.36\"                                    |851  |\n",
      "|\"Mozilla/5.0 (X11; Linux x86_64) AppleWebKit/537.36 (KHTML, like Gecko) Chrome/36.0.1985.143 Safari/537.36\"                                    |844  |\n",
      "|\"Mozilla/5.0 (Windows NT 6.1; WOW64) AppleWebKit/537.36 (KHTML, like Gecko) Chrome/37.0.2062.103 Safari/537.36\"                                |823  |\n",
      "|Mozilla/5.0 (Windows NT 5.1; rv:31.0) Gecko/20100101 Firefox/31.0                                                                              |780  |\n",
      "|Mozilla/5.0 (Windows NT 6.3; WOW64; Trident/7.0; rv:11.0) like Gecko                                                                           |779  |\n",
      "|\"Mozilla/5.0 (iPhone; CPU iPhone OS 7_1_1 like Mac OS X) AppleWebKit/537.51.2 (KHTML, like Gecko) Version/7.0 Mobile/11D201 Safari/9537.53\"    |660  |\n",
      "|\"Mozilla/5.0 (Windows NT 6.1; WOW64) AppleWebKit/537.36 (KHTML, like Gecko) Chrome/37.0.2062.94 Safari/537.36\"                                 |648  |\n",
      "|\"Mozilla/5.0 (Windows NT 6.2; WOW64) AppleWebKit/537.36 (KHTML, like Gecko) Chrome/36.0.1985.143 Safari/537.36\"                                |630  |\n",
      "|\"Mozilla/5.0 (Macintosh; Intel Mac OS X 10_6_8) AppleWebKit/534.59.10 (KHTML, like Gecko) Version/5.1.9 Safari/534.59.10\"                      |613  |\n",
      "|\"Mozilla/5.0 (Macintosh; Intel Mac OS X 10_9_3) AppleWebKit/537.36 (KHTML, like Gecko) Chrome/36.0.1985.125 Safari/537.36\"                     |612  |\n",
      "|Mozilla/5.0 (Macintosh; Intel Mac OS X 10.8; rv:31.0) Gecko/20100101 Firefox/31.0                                                              |575  |\n",
      "|\"Mozilla/5.0 (X11; Linux x86_64) AppleWebKit/537.36 (KHTML, like Gecko) Ubuntu Chromium/36.0.1985.125 Chrome/36.0.1985.125 Safari/537.36\"      |545  |\n",
      "|Mozilla/5.0 (X11; Linux x86_64; rv:31.0) Gecko/20100101 Firefox/31.0                                                                           |517  |\n",
      "|Mozilla/5.0 (Windows NT 6.2; WOW64; rv:31.0) Gecko/20100101 Firefox/31.0                                                                       |513  |\n",
      "|Mozilla/5.0 (Windows NT 6.1; WOW64; rv:30.0) Gecko/20100101 Firefox/30.0                                                                       |486  |\n",
      "|\"Mozilla/5.0 (Macintosh; Intel Mac OS X 10_10) AppleWebKit/600.1.8 (KHTML, like Gecko) Version/8.0 Safari/600.1.8\"                             |479  |\n",
      "|\"Mozilla/5.0 (Windows NT 5.1) AppleWebKit/537.36 (KHTML, like Gecko) Chrome/36.0.1985.143 Safari/537.36\"                                       |477  |\n",
      "|\"Mozilla/5.0 (Windows NT 6.2; WOW64) AppleWebKit/537.36 (KHTML, like Gecko) Chrome/36.0.1985.125 Safari/537.36\"                                |470  |\n",
      "|\"Mozilla/5.0 (X11; Linux x86_64) AppleWebKit/537.36 (KHTML, like Gecko) Chrome/37.0.2062.94 Safari/537.36\"                                     |468  |\n",
      "|\"Mozilla/5.0 (Macintosh; Intel Mac OS X 10_8_5) AppleWebKit/537.36 (KHTML, like Gecko) Chrome/36.0.1985.125 Safari/537.36\"                     |463  |\n",
      "|\"Mozilla/5.0 (Macintosh; Intel Mac OS X 10_8_5) AppleWebKit/537.36 (KHTML, like Gecko) Chrome/36.0.1985.143 Safari/537.36\"                     |453  |\n",
      "|\"Mozilla/5.0 (Macintosh; Intel Mac OS X 10_9_2) AppleWebKit/537.36 (KHTML, like Gecko) Chrome/36.0.1985.143 Safari/537.36\"                     |449  |\n",
      "|\"Mozilla/5.0 (Windows NT 5.1) AppleWebKit/537.36 (KHTML, like Gecko) Chrome/36.0.1985.125 Safari/537.36\"                                       |446  |\n",
      "|Mozilla/5.0 (Macintosh; Intel Mac OS X 10.6; rv:31.0) Gecko/20100101 Firefox/31.0                                                              |440  |\n",
      "|Mozilla/5.0 (compatible; MSIE 10.0; Windows NT 6.1; WOW64; Trident/6.0)                                                                        |439  |\n",
      "|\"Mozilla/5.0 (Windows NT 6.1; WOW64) AppleWebKit/537.36 (KHTML, like Gecko) Chrome/37.0.2062.102 Safari/537.36\"                                |425  |\n",
      "|Mozilla/5.0 (compatible; MSIE 9.0; Windows NT 6.1; WOW64; Trident/5.0)                                                                         |413  |\n",
      "|\"Mozilla/5.0 (Macintosh; Intel Mac OS X 10_9_3) AppleWebKit/537.36 (KHTML, like Gecko) Chrome/37.0.2062.94 Safari/537.36\"                      |377  |\n",
      "|Mozilla/5.0 (Windows NT 6.1; Trident/7.0; rv:11.0) like Gecko                                                                                  |366  |\n",
      "|Mozilla/5.0 (Macintosh; Intel Mac OS X 10.7; rv:31.0) Gecko/20100101 Firefox/31.0                                                              |364  |\n",
      "|\"Mozilla/5.0 (Macintosh; Intel Mac OS X 10_9_2) AppleWebKit/537.36 (KHTML, like Gecko) Chrome/36.0.1985.125 Safari/537.36\"                     |355  |\n",
      "|\"Mozilla/5.0 (Macintosh; Intel Mac OS X 10_9_2) AppleWebKit/537.36 (KHTML, like Gecko) Chrome/37.0.2062.94 Safari/537.36\"                      |342  |\n",
      "|\"Mozilla/5.0 (Windows NT 6.3; WOW64) AppleWebKit/537.36 (KHTML, like Gecko) Chrome/37.0.2062.94 Safari/537.36\"                                 |340  |\n",
      "|\"Mozilla/5.0 (Macintosh; Intel Mac OS X 10_10) AppleWebKit/538.46 (KHTML, like Gecko) Version/8.0 Safari/538.46\"                               |338  |\n",
      "|\"Mozilla/5.0 (Macintosh; Intel Mac OS X 10_9_3) AppleWebKit/537.36 (KHTML, like Gecko) Chrome/36.0.1985.143 Safari/537.36\"                     |335  |\n",
      "|\"Mozilla/5.0 (X11; Linux x86_64) AppleWebKit/537.36 (KHTML, like Gecko) Chrome/35.0.1916.153 Safari/537.36\"                                    |334  |\n",
      "|\"Mozilla/5.0 (iPad; CPU OS 7_1_1 like Mac OS X) AppleWebKit/537.51.2 (KHTML, like Gecko) Version/7.0 Mobile/11D201 Safari/9537.53\"             |324  |\n",
      "|\"Mozilla/5.0 (iPhone; CPU iPhone OS 7_1 like Mac OS X) AppleWebKit/537.51.2 (KHTML, like Gecko) Version/7.0 Mobile/11D167 Safari/9537.53\"      |315  |\n",
      "|\"Mozilla/5.0 (Windows NT 6.1; WOW64) AppleWebKit/537.36 (KHTML, like Gecko) Chrome/35.0.1916.153 Safari/537.36\"                                |295  |\n",
      "|\"Mozilla/5.0 (Macintosh; Intel Mac OS X 10_9_3) AppleWebKit/537.75.14 (KHTML, like Gecko) Version/7.0.3 Safari/537.75.14\"                      |278  |\n",
      "|Mozilla/5.0 (Windows NT 6.1; WOW64; rv:32.0) Gecko/20100101 Firefox/32.0                                                                       |276  |\n",
      "|\"Mozilla/5.0 (Macintosh; Intel Mac OS X 10_9_4) AppleWebKit/537.36 (KHTML, like Gecko) Chrome/35.0.1916.153 Safari/537.36\"                     |273  |\n",
      "|\"Mozilla/5.0 (Macintosh; Intel Mac OS X 10_7_5) AppleWebKit/537.77.4 (KHTML, like Gecko) Version/6.1.5 Safari/537.77.4\"                        |273  |\n",
      "|\"Mozilla/5.0 (Macintosh; Intel Mac OS X 10_8_5) AppleWebKit/537.77.4 (KHTML, like Gecko) Version/6.1.5 Safari/537.77.4\"                        |269  |\n",
      "|\"Mozilla/5.0 (Macintosh; Intel Mac OS X 10_10_0) AppleWebKit/537.36 (KHTML, like Gecko) Chrome/36.0.1985.125 Safari/537.36\"                    |267  |\n",
      "|Mozilla/5.0 (compatible; MSIE 9.0; Windows NT 6.1; Trident/5.0)                                                                                |240  |\n",
      "|\"Mozilla/5.0 (Macintosh; Intel Mac OS X 10_10_0) AppleWebKit/537.36 (KHTML, like Gecko) Chrome/36.0.1985.143 Safari/537.36\"                    |239  |\n",
      "|\"Mozilla/5.0 (Macintosh; Intel Mac OS X 10_9_2) AppleWebKit/537.75.14 (KHTML, like Gecko) Version/7.0.3 Safari/537.75.14\"                      |238  |\n",
      "|\"Mozilla/5.0 (Macintosh; Intel Mac OS X 10_10_0) AppleWebKit/537.36 (KHTML, like Gecko) Chrome/37.0.2062.94 Safari/537.36\"                     |238  |\n",
      "|\"Mozilla/5.0 (Macintosh; Intel Mac OS X 10_7_5) AppleWebKit/537.36 (KHTML, like Gecko) Chrome/36.0.1985.143 Safari/537.36\"                     |236  |\n",
      "|\"Mozilla/5.0 (Macintosh; Intel Mac OS X 10_7_5) AppleWebKit/537.36 (KHTML, like Gecko) Chrome/36.0.1985.125 Safari/537.36\"                     |235  |\n",
      "|Mozilla/5.0 (X11; Ubuntu; Linux i686; rv:31.0) Gecko/20100101 Firefox/31.0                                                                     |230  |\n",
      "|\"Mozilla/5.0 (iPhone; CPU iPhone OS 7_1_2 like Mac OS X) AppleWebKit/537.51.1 (KHTML, like Gecko) GSA/4.1.0.31802 Mobile/11D257 Safari/9537.53\"|229  |\n",
      "|Mozilla/5.0 (Macintosh; Intel Mac OS X 10.9; rv:30.0) Gecko/20100101 Firefox/30.0                                                              |226  |\n",
      "|Mozilla/5.0 (X11; Ubuntu; Linux x86_64; rv:30.0) Gecko/20100101 Firefox/30.0                                                                   |218  |\n",
      "|\"Mozilla/5.0 (X11; Linux x86_64) AppleWebKit/537.36 (KHTML, like Gecko) Ubuntu Chromium/34.0.1847.116 Chrome/34.0.1847.116 Safari/537.36\"      |211  |\n",
      "|\"Mozilla/5.0 (Macintosh; Intel Mac OS X 10_9_2) AppleWebKit/537.74.9 (KHTML, like Gecko) Version/7.0.2 Safari/537.74.9\"                        |205  |\n",
      "|Mozilla/5.0 (Windows NT 6.1; WOW64; rv:29.0) Gecko/20100101 Firefox/29.0                                                                       |191  |\n",
      "|Mozilla/5.0 (Windows NT 6.0; rv:31.0) Gecko/20100101 Firefox/31.0                                                                              |183  |\n",
      "|\"Mozilla/5.0 (Macintosh; Intel Mac OS X 10_9_3) AppleWebKit/537.76.4 (KHTML, like Gecko) Version/7.0.4 Safari/537.76.4\"                        |183  |\n",
      "|Mozilla/5.0 (Windows NT 6.1; WOW64; rv:24.0) Gecko/20100101 Firefox/24.0                                                                       |183  |\n",
      "|\"Mozilla/5.0 (Macintosh; Intel Mac OS X 10_7_5) AppleWebKit/537.78.2 (KHTML, like Gecko) Version/6.1.6 Safari/537.78.2\"                        |181  |\n",
      "|\"Mozilla/5.0 (Macintosh; Intel Mac OS X 10_8_5) AppleWebKit/537.36 (KHTML, like Gecko) Chrome/37.0.2062.94 Safari/537.36\"                      |175  |\n",
      "|Mozilla/5.0 (compatible; MSIE 10.0; Windows NT 6.2; WOW64; Trident/6.0)                                                                        |149  |\n",
      "|\"Mozilla/5.0 (Macintosh; Intel Mac OS X 10_10) AppleWebKit/600.1.3 (KHTML, like Gecko) Version/8.0 Safari/600.1.3\"                             |129  |\n",
      "|\"Mozilla/5.0 (Macintosh; Intel Mac OS X 10_6_8) AppleWebKit/537.36 (KHTML, like Gecko) Chrome/36.0.1985.143 Safari/537.36\"                     |120  |\n",
      "+-----------------------------------------------------------------------------------------------------------------------------------------------+-----+\n",
      "\n"
     ]
    },
    {
     "name": "stderr",
     "output_type": "stream",
     "text": [
      "                                                                                \r"
     ]
    }
   ],
   "source": [
    "for column in ['auth', 'gender', 'level', 'method', 'page', 'status', 'userAgent']:\n",
    "    df.groupBy(column).count().orderBy(col(\"count\").desc()).show(df.count(), truncate=False)"
   ]
  },
  {
   "cell_type": "markdown",
   "metadata": {},
   "source": [
    "## Remove unnecessary columns\n",
    "Both 'auth' and 'page' contain churn (cancelled) data. The only additional info 'auth' provides is whether a user is logged in or out. rThe \"firstName\" and \"lastName\" are removed to maintain user privacy. HTTP 'method' is unlikely to impact churn."
   ]
  },
  {
   "cell_type": "code",
   "execution_count": 6,
   "metadata": {},
   "outputs": [],
   "source": [
    "# Remove two columns\n",
    "df = df.drop(\"auth\", \"firstName\", \"lastName\", \"method\")"
   ]
  },
  {
   "cell_type": "markdown",
   "metadata": {},
   "source": [
    "# Exploratory Data Analysis & Cleaning"
   ]
  },
  {
   "cell_type": "code",
   "execution_count": 7,
   "metadata": {},
   "outputs": [],
   "source": [
    "# Register DataFrame as SQL temporary view\n",
    "df.createOrReplaceTempView(\"data\")"
   ]
  },
  {
   "cell_type": "markdown",
   "metadata": {},
   "source": [
    "## Data Exploration: Null values\n",
    "Print the number of null values in each column."
   ]
  },
  {
   "cell_type": "code",
   "execution_count": 8,
   "metadata": {},
   "outputs": [
    {
     "name": "stderr",
     "output_type": "stream",
     "text": [
      "[Stage 47:====================================================>   (17 + 1) / 18]\r"
     ]
    },
    {
     "name": "stdout",
     "output_type": "stream",
     "text": [
      "+----------+------------+------------+-------------------+------------+-----------+--------------+----------+------------------+---------------+----------+------------+--------+---------------+------------+\n",
      "|total_rows|artist_nulls|gender_nulls|itemInSession_nulls|length_nulls|level_nulls|location_nulls|page_nulls|registration_nulls|sessionId_nulls|song_nulls|status_nulls|ts_nulls|userAgent_nulls|userId_nulls|\n",
      "+----------+------------+------------+-------------------+------------+-----------+--------------+----------+------------------+---------------+----------+------------+--------+---------------+------------+\n",
      "|     94787|       19958|        3102|                  0|       19958|          0|          3102|         0|              3102|              0|     19958|           0|       0|           3102|           0|\n",
      "+----------+------------+------------+-------------------+------------+-----------+--------------+----------+------------------+---------------+----------+------------+--------+---------------+------------+\n",
      "\n"
     ]
    },
    {
     "name": "stderr",
     "output_type": "stream",
     "text": [
      "                                                                                \r"
     ]
    }
   ],
   "source": [
    "null_counts = spark.sql(\"\"\"\n",
    "SELECT \n",
    "    COUNT(*) AS total_rows,\n",
    "    SUM(CASE WHEN artist IS NULL THEN 1 ELSE 0 END) AS artist_nulls,\n",
    "    SUM(CASE WHEN gender IS NULL THEN 1 ELSE 0 END) AS gender_nulls,\n",
    "    SUM(CASE WHEN itemInSession IS NULL THEN 1 ELSE 0 END) AS itemInSession_nulls,\n",
    "    SUM(CASE WHEN length IS NULL THEN 1 ELSE 0 END) AS length_nulls,\n",
    "    SUM(CASE WHEN level IS NULL THEN 1 ELSE 0 END) AS level_nulls,\n",
    "    SUM(CASE WHEN location IS NULL THEN 1 ELSE 0 END) AS location_nulls,\n",
    "    SUM(CASE WHEN page IS NULL THEN 1 ELSE 0 END) AS page_nulls,\n",
    "    SUM(CASE WHEN registration IS NULL THEN 1 ELSE 0 END) AS registration_nulls,\n",
    "    SUM(CASE WHEN sessionId IS NULL THEN 1 ELSE 0 END) AS sessionId_nulls,\n",
    "    SUM(CASE WHEN song IS NULL THEN 1 ELSE 0 END) AS song_nulls,\n",
    "    SUM(CASE WHEN status IS NULL THEN 1 ELSE 0 END) AS status_nulls,\n",
    "    SUM(CASE WHEN ts IS NULL THEN 1 ELSE 0 END) AS ts_nulls,\n",
    "    SUM(CASE WHEN userAgent IS NULL THEN 1 ELSE 0 END) AS userAgent_nulls,\n",
    "    SUM(CASE WHEN userId IS NULL THEN 1 ELSE 0 END) AS userId_nulls\n",
    "FROM data\n",
    "\"\"\")\n",
    "null_counts.show()\n"
   ]
  },
  {
   "cell_type": "markdown",
   "metadata": {},
   "source": [
    "# Fill missing values\n",
    "Having missing data itself can sometimes be predictive so we will fill the null values to indicate they were missing."
   ]
  },
  {
   "cell_type": "code",
   "execution_count": 9,
   "metadata": {},
   "outputs": [],
   "source": [
    "filled_df = df.na.fill({\n",
    "    \"gender\": \"Missing\",\n",
    "    \"location\": \"Missing\",\n",
    "    \"registration\": \"Missing\",\n",
    "    \"userAgent\": \"Missing\",\n",
    "    \"artist\": \"Non-Song Activity\",\n",
    "    \"song\": \"Non-Song Activity\",\n",
    "    \"length\": 0\n",
    "})\n",
    "filled_df.createOrReplaceTempView(\"filled_data\")"
   ]
  },
  {
   "cell_type": "markdown",
   "metadata": {},
   "source": [
    "## Data Cleaning: Non-null and paid users only\n",
    "- Remove all users where userID is null. \n",
    "- Remove all users who are on the free tier and never upgrade but keep all data for users who were on the paid tier at least once. While free tier users can churn by not using the platform anymore, the behaviour may be different between users who are not willing to pay and who have paid at least once. We are also only interested in the churn of paid subscribers."
   ]
  },
  {
   "cell_type": "code",
   "execution_count": 10,
   "metadata": {},
   "outputs": [
    {
     "name": "stderr",
     "output_type": "stream",
     "text": [
      "                                                                                \r"
     ]
    },
    {
     "name": "stdout",
     "output_type": "stream",
     "text": [
      "+--------------------+------+-------------+---------+-----+--------------------+---------------+-------------+---------+--------------------+------+-------------+--------------------+-------+\n",
      "|              artist|gender|itemInSession|   length|level|            location|           page| registration|sessionId|                song|status|           ts|           userAgent| userId|\n",
      "+--------------------+------+-------------+---------+-----+--------------------+---------------+-------------+---------+--------------------+------+-------------+--------------------+-------+\n",
      "|   Non-Song Activity|     M|           12|      0.0| paid|New York-Newark-J...|          Error|1538045178000|    11807|   Non-Song Activity|   404|1538352013000|\"Mozilla/5.0 (Mac...|1507202|\n",
      "|           Metallica|     F|          115|466.54649| paid|Lansing-East Lans...|       NextSong|1536933045000|    19352|  The Unforgiven III|   200|1538352064000|Mozilla/5.0 (Maci...|1809275|\n",
      "|  Across Five Aprils|     F|           18|267.57179| paid|New York-Newark-J...|       NextSong|1537834485000|     7336|Car Wrecks And Pl...|   200|1538352090000|\"Mozilla/5.0 (Mac...|1368556|\n",
      "|Usher Featuring L...|     M|            8|250.38322| free|San Jose-Sunnyval...|       NextSong|1536723661000|    23230|               Yeah!|   200|1538352182000|\"Mozilla/5.0 (Mac...|1121552|\n",
      "|           Matisyahu|     M|           50|288.60036| paid|Atlanta-Sandy Spr...|       NextSong|1538066378000|     3749|King Without A Crown|   200|1538352212000|\"Mozilla/5.0 (iPh...|1820270|\n",
      "| John Michael Talbot|     F|            9| 94.45832| free|Allentown-Bethleh...|       NextSong|1538293400000|    22160|            Nocturne|   200|1538352216000|\"Mozilla/5.0 (Win...|1961645|\n",
      "|        3 Doors Down|     M|          121| 260.0224| paid|Bremerton-Silverd...|       NextSong|1536706498000|    14689|       When I'm Gone|   200|1538352246000|Mozilla/5.0 (Wind...|1428726|\n",
      "|             Rihanna|     M|           21|267.49342| paid|San Francisco-Oak...|       NextSong|1537901578000|    10743|Don't Stop The Music|   200|1538352266000|\"Mozilla/5.0 (Win...|1221413|\n",
      "|       Justin Bieber|     F|          136|256.78322| paid|           Chico, CA|       NextSong|1529179750000|     6366|       Favorite Girl|   200|1538352273000|Mozilla/5.0 (Wind...|1833842|\n",
      "|Ms. Dynamite / Ky...|     M|           18|202.21342| free|Houston-The Woodl...|       NextSong|1532107433000|    12952|      Seed Will Grow|   200|1538352304000|\"Mozilla/5.0 (iPh...|1822046|\n",
      "|     Blue Foundation|     M|          324|302.13179| paid|Olympia-Tumwater, WA|       NextSong|1533518845000|    12635|        Eyes On Fire|   200|1538352441000|Mozilla/5.0 (X11;...|1033900|\n",
      "|   Non-Song Activity|     M|           15|      0.0| paid|New York-Newark-J...|Add to Playlist|1538045178000|    11807|   Non-Song Activity|   200|1538352481000|\"Mozilla/5.0 (Mac...|1507202|\n",
      "|                 ATB|     F|           21| 191.7122| paid|Phoenix-Mesa-Scot...|       NextSong|1538009199000|     5958|         Rising Moon|   200|1538352487000|\"Mozilla/5.0 (Mac...|1137339|\n",
      "|Eminem / Dr. Dre ...|     F|           22|  297.482| free|         Shelton, WA|       NextSong|1531905777000|    19612|      Crack A Bottle|   200|1538352496000|Mozilla/5.0 (Wind...|1104184|\n",
      "|   Non-Song Activity|     M|          183|      0.0| paid|          Peoria, IL|           Home|1535971709000|     2828|   Non-Song Activity|   200|1538352542000|\"Mozilla/5.0 (Win...|1410808|\n",
      "|          The Smiths|     F|           14| 182.7522| free|Phoenix-Mesa-Scot...|       NextSong|1537558053000|     1893|A Rush And A Push...|   200|1538352589000|Mozilla/5.0 (Wind...|1418529|\n",
      "|        Nickel Creek|     M|          164|149.81179| paid|Dallas-Fort Worth...|       NextSong|1536148152000|     4183|             The Fox|   200|1538352616000|\"Mozilla/5.0 (Win...|1334216|\n",
      "|   Non-Song Activity|     F|          110|      0.0| paid|Kingsport-Bristol...|           Home|1537281033000|    21943|   Non-Song Activity|   200|1538352617000|Mozilla/5.0 (comp...|1434741|\n",
      "|   Non-Song Activity|     F|           26|      0.0| paid|Houston-The Woodl...|         Logout|1536139498000|     3322|   Non-Song Activity|   307|1538352622000|\"Mozilla/5.0 (Win...|1074641|\n",
      "|                NOFX|     F|           83|115.40853| paid|Washington-Arling...|       NextSong|1535289372000|    21932|          A 200 Club|   200|1538352645000|Mozilla/5.0 (Maci...|1621017|\n",
      "+--------------------+------+-------------+---------+-----+--------------------+---------------+-------------+---------+--------------------+------+-------------+--------------------+-------+\n",
      "only showing top 20 rows\n",
      "\n"
     ]
    },
    {
     "name": "stderr",
     "output_type": "stream",
     "text": [
      "[Stage 57:====================================================>   (17 + 1) / 18]\r"
     ]
    },
    {
     "name": "stdout",
     "output_type": "stream",
     "text": [
      "Total sampled records: 77588\n"
     ]
    },
    {
     "name": "stderr",
     "output_type": "stream",
     "text": [
      "                                                                                \r"
     ]
    }
   ],
   "source": [
    "paid_users = spark.sql(\"\"\"\n",
    "WITH PaidUsers AS (\n",
    "    SELECT DISTINCT userId\n",
    "    FROM filled_data\n",
    "    WHERE userId IS NOT NULL AND level = 'paid'\n",
    ")\n",
    "SELECT filled_data.*\n",
    "FROM filled_data\n",
    "JOIN PaidUsers\n",
    "ON filled_data.userId = PaidUsers.userId\n",
    "\"\"\")\n",
    "\n",
    "paid_users.createOrReplaceTempView(\"paid_users_data\")\n",
    "\n",
    "paid_users.show()\n",
    "print(\"Total sampled records:\", paid_users.count())"
   ]
  },
  {
   "cell_type": "markdown",
   "metadata": {},
   "source": [
    "## Convert UNIX timestamps to readable format\n",
    "Also do time-based analysis to understand usage patterns over time."
   ]
  },
  {
   "cell_type": "code",
   "execution_count": 11,
   "metadata": {},
   "outputs": [
    {
     "name": "stderr",
     "output_type": "stream",
     "text": [
      "[Stage 63:====================================================>   (17 + 1) / 18]\r"
     ]
    },
    {
     "name": "stdout",
     "output_type": "stream",
     "text": [
      "+--------------------+------+-------------+---------+-----+--------------------+--------------+---------+--------------------+------+--------------------+-------+-------------------+-------------------+------+------------------+\n",
      "|              artist|gender|itemInSession|   length|level|            location|          page|sessionId|                song|status|           userAgent| userId|  registration_date|      activity_date|tenure|  activity_recency|\n",
      "+--------------------+------+-------------+---------+-----+--------------------+--------------+---------+--------------------+------+--------------------+-------+-------------------+-------------------+------+------------------+\n",
      "|          Ron Carter|     F|           59|497.13587| paid|   Wichita Falls, TX|      NextSong|    18819| I CAN'T GET STARTED|   200|\"Mozilla/5.0 (Win...|1000353|2018-05-02 11:37:39|2018-10-01 00:58:31|   152|               0.0|\n",
      "|   Non-Song Activity|     F|           23|      0.0| paid|   Wichita Falls, TX|   Thumbs Down|    25907|   Non-Song Activity|   307|\"Mozilla/5.0 (Win...|1000353|2018-05-02 11:37:39|2018-10-02 05:25:53|   153|1707.3666666666666|\n",
      "|          John Mayer|     F|           50|245.60281| paid|   Wichita Falls, TX|      NextSong|    31025|             Gravity|   200|\"Mozilla/5.0 (Win...|1000353|2018-05-02 11:37:39|2018-10-03 03:08:11|   154|            1302.3|\n",
      "|Usher featuring w...|     M|           23|395.72853| paid|Washington-Arling...|      NextSong|    30538|                 OMG|   200|\"Mozilla/5.0 (Mac...|1001129|2018-08-25 10:13:19|2018-10-03 17:43:11|    39|               0.0|\n",
      "|              Hybrid|     M|           20| 294.1122| paid|Washington-Arling...|      NextSong|    38362|          Every Word|   200|\"Mozilla/5.0 (Mac...|1001129|2018-08-25 10:13:19|2018-10-05 10:56:51|    41|2473.6666666666665|\n",
      "|    Hollywood Undead|     M|           73| 174.2624| paid|Washington-Arling...|      NextSong|    38362|    Dove And Grenade|   200|\"Mozilla/5.0 (Mac...|1001129|2018-08-25 10:13:19|2018-10-05 13:51:19|    41|174.46666666666667|\n",
      "|   Non-Song Activity|     F|           49|      0.0| free|San Francisco-Oak...|Submit Upgrade|    25185|   Non-Song Activity|   307|\"Mozilla/5.0 (Win...|1001163|2018-08-04 22:13:52|2018-10-01 16:44:51|    58|               0.0|\n",
      "|            BjÃÂ¶rk|     F|          111|348.57751| paid|San Francisco-Oak...|      NextSong|    25185|                Undo|   200|\"Mozilla/5.0 (Win...|1001163|2018-08-04 22:13:52|2018-10-01 20:48:50|    58|243.98333333333332|\n",
      "|   Christopher Cross|     F|          194| 257.4624| paid|San Francisco-Oak...|      NextSong|    25185|All Right (Album ...|   200|\"Mozilla/5.0 (Win...|1001163|2018-08-04 22:13:52|2018-10-02 01:26:28|    59| 277.6333333333333|\n",
      "| Stone Temple Pilots|     F|           45|174.75873| paid|San Francisco-Oak...|      NextSong|    30729|Vasoline(LP Version)|   200|\"Mozilla/5.0 (Win...|1001163|2018-08-04 22:13:52|2018-10-04 16:01:35|    61| 3755.116666666667|\n",
      "|    The Decemberists|     F|           66|142.21016| paid|Sacramento--Rosev...|      NextSong|    11506|            Sunshine|   200|\"Mozilla/5.0 (Mac...|1001607|2018-09-20 06:26:48|2018-10-02 23:58:04|    12|               0.0|\n",
      "|   Non-Song Activity|     F|          183|      0.0| paid|Sacramento--Rosev...|    Add Friend|    11506|   Non-Song Activity|   307|\"Mozilla/5.0 (Mac...|1001607|2018-09-20 06:26:48|2018-10-03 06:15:25|    13|            377.35|\n",
      "|   Non-Song Activity|     F|          190|      0.0| paid|Sacramento--Rosev...|    Add Friend|    11506|   Non-Song Activity|   307|\"Mozilla/5.0 (Mac...|1001607|2018-09-20 06:26:48|2018-10-03 06:32:07|    13|              16.7|\n",
      "|   Animal Collective|     F|           22|110.70649| paid|Sacramento--Rosev...|      NextSong|    36208|  My Favorite Colors|   200|\"Mozilla/5.0 (Mac...|1001607|2018-09-20 06:26:48|2018-10-03 17:45:03|    13| 672.9333333333333|\n",
      "|   Non-Song Activity|     F|           25|      0.0| paid|Sacramento--Rosev...|     Downgrade|    38682|   Non-Song Activity|   200|\"Mozilla/5.0 (Mac...|1001607|2018-09-20 06:26:48|2018-10-04 09:26:42|    14|            941.65|\n",
      "|Thievery Corporation|     F|          121|312.99873| paid|Sacramento--Rosev...|      NextSong|    38682|Exilio (Rewound b...|   200|\"Mozilla/5.0 (Mac...|1001607|2018-09-20 06:26:48|2018-10-04 15:33:10|    14|366.46666666666664|\n",
      "|       Jorge Ben Jor|     F|           71|215.69261| paid|Sacramento--Rosev...|      NextSong|    42772|Filho Maravilha (...|   200|\"Mozilla/5.0 (Mac...|1001607|2018-09-20 06:26:48|2018-10-05 22:47:40|    15|            1874.5|\n",
      "|A Place to Bury S...|     F|          197|219.42812| paid|Sacramento--Rosev...|      NextSong|    42772|             Breathe|   200|\"Mozilla/5.0 (Mac...|1001607|2018-09-20 06:26:48|2018-10-06 06:50:53|    16|483.21666666666664|\n",
      "|            Rocazino|     F|          222|241.03138| paid|Sacramento--Rosev...|      NextSong|    42772|      En For Alle...|   200|\"Mozilla/5.0 (Mac...|1001607|2018-09-20 06:26:48|2018-10-06 08:24:12|    16| 93.31666666666666|\n",
      "|         Rick Astley|     F|          227|211.69587| paid|Sacramento--Rosev...|      NextSong|    42772|Never Gonna Give ...|   200|\"Mozilla/5.0 (Mac...|1001607|2018-09-20 06:26:48|2018-10-06 08:39:28|    16|15.266666666666667|\n",
      "+--------------------+------+-------------+---------+-----+--------------------+--------------+---------+--------------------+------+--------------------+-------+-------------------+-------------------+------+------------------+\n",
      "only showing top 20 rows\n",
      "\n"
     ]
    },
    {
     "name": "stderr",
     "output_type": "stream",
     "text": [
      "                                                                                \r"
     ]
    }
   ],
   "source": [
    "# Make date format human-readable \n",
    "paid_users = paid_users.withColumn('registration_date', from_unixtime(col('registration') / 1000).cast('timestamp'))\n",
    "paid_users = paid_users.withColumn('activity_date', from_unixtime(col('ts') / 1000).cast('timestamp'))\n",
    "paid_users = paid_users.drop(\"ts\", \"registration\")\n",
    "\n",
    "user_window = Window.partitionBy(\"userId\").orderBy(\"activity_date\")\n",
    "\n",
    "# Calculate tenure in days\n",
    "paid_users = paid_users.withColumn('tenure', datediff(to_date(col('activity_date')), to_date(col('registration_date'))))\n",
    "\n",
    "# Calculate activity recency in minutes\n",
    "paid_users = paid_users.withColumn('previous_activity_date', lag('activity_date').over(user_window))\n",
    "paid_users = paid_users.withColumn('activity_recency', (unix_timestamp('activity_date') - unix_timestamp('previous_activity_date')) / 60)\n",
    "\n",
    "# Replace nulls with 0\n",
    "paid_users = paid_users.withColumn('activity_recency', coalesce(col('activity_recency'), lit(0)))\n",
    "\n",
    "paid_users = paid_users.drop('previous_activity_date')\n",
    "\n",
    "paid_users.show()"
   ]
  },
  {
   "cell_type": "markdown",
   "metadata": {},
   "source": [
    "## Create Churn Labels:\n",
    "Flag users who have a session where page==“Cancellation Confirmation”"
   ]
  },
  {
   "cell_type": "code",
   "execution_count": 12,
   "metadata": {},
   "outputs": [
    {
     "name": "stderr",
     "output_type": "stream",
     "text": [
      "[Stage 69:====================================================>   (17 + 1) / 18]\r"
     ]
    },
    {
     "name": "stdout",
     "output_type": "stream",
     "text": [
      "+--------------------+------+-------------+---------+-----+--------------------+--------------+---------+--------------------+------+--------------------+-------+-------------------+-------------------+------+------------------+-----+\n",
      "|              artist|gender|itemInSession|   length|level|            location|          page|sessionId|                song|status|           userAgent| userId|  registration_date|      activity_date|tenure|  activity_recency|churn|\n",
      "+--------------------+------+-------------+---------+-----+--------------------+--------------+---------+--------------------+------+--------------------+-------+-------------------+-------------------+------+------------------+-----+\n",
      "|          Ron Carter|     F|           59|497.13587| paid|   Wichita Falls, TX|      NextSong|    18819| I CAN'T GET STARTED|   200|\"Mozilla/5.0 (Win...|1000353|2018-05-02 11:37:39|2018-10-01 00:58:31|   152|               0.0|    0|\n",
      "|   Non-Song Activity|     F|           23|      0.0| paid|   Wichita Falls, TX|   Thumbs Down|    25907|   Non-Song Activity|   307|\"Mozilla/5.0 (Win...|1000353|2018-05-02 11:37:39|2018-10-02 05:25:53|   153|1707.3666666666666|    0|\n",
      "|          John Mayer|     F|           50|245.60281| paid|   Wichita Falls, TX|      NextSong|    31025|             Gravity|   200|\"Mozilla/5.0 (Win...|1000353|2018-05-02 11:37:39|2018-10-03 03:08:11|   154|            1302.3|    0|\n",
      "|Usher featuring w...|     M|           23|395.72853| paid|Washington-Arling...|      NextSong|    30538|                 OMG|   200|\"Mozilla/5.0 (Mac...|1001129|2018-08-25 10:13:19|2018-10-03 17:43:11|    39|               0.0|    0|\n",
      "|              Hybrid|     M|           20| 294.1122| paid|Washington-Arling...|      NextSong|    38362|          Every Word|   200|\"Mozilla/5.0 (Mac...|1001129|2018-08-25 10:13:19|2018-10-05 10:56:51|    41|2473.6666666666665|    0|\n",
      "|    Hollywood Undead|     M|           73| 174.2624| paid|Washington-Arling...|      NextSong|    38362|    Dove And Grenade|   200|\"Mozilla/5.0 (Mac...|1001129|2018-08-25 10:13:19|2018-10-05 13:51:19|    41|174.46666666666667|    0|\n",
      "|   Non-Song Activity|     F|           49|      0.0| free|San Francisco-Oak...|Submit Upgrade|    25185|   Non-Song Activity|   307|\"Mozilla/5.0 (Win...|1001163|2018-08-04 22:13:52|2018-10-01 16:44:51|    58|               0.0|    0|\n",
      "|            BjÃÂ¶rk|     F|          111|348.57751| paid|San Francisco-Oak...|      NextSong|    25185|                Undo|   200|\"Mozilla/5.0 (Win...|1001163|2018-08-04 22:13:52|2018-10-01 20:48:50|    58|243.98333333333332|    0|\n",
      "|   Christopher Cross|     F|          194| 257.4624| paid|San Francisco-Oak...|      NextSong|    25185|All Right (Album ...|   200|\"Mozilla/5.0 (Win...|1001163|2018-08-04 22:13:52|2018-10-02 01:26:28|    59| 277.6333333333333|    0|\n",
      "| Stone Temple Pilots|     F|           45|174.75873| paid|San Francisco-Oak...|      NextSong|    30729|Vasoline(LP Version)|   200|\"Mozilla/5.0 (Win...|1001163|2018-08-04 22:13:52|2018-10-04 16:01:35|    61| 3755.116666666667|    0|\n",
      "|    The Decemberists|     F|           66|142.21016| paid|Sacramento--Rosev...|      NextSong|    11506|            Sunshine|   200|\"Mozilla/5.0 (Mac...|1001607|2018-09-20 06:26:48|2018-10-02 23:58:04|    12|               0.0|    0|\n",
      "|   Non-Song Activity|     F|          183|      0.0| paid|Sacramento--Rosev...|    Add Friend|    11506|   Non-Song Activity|   307|\"Mozilla/5.0 (Mac...|1001607|2018-09-20 06:26:48|2018-10-03 06:15:25|    13|            377.35|    0|\n",
      "|   Non-Song Activity|     F|          190|      0.0| paid|Sacramento--Rosev...|    Add Friend|    11506|   Non-Song Activity|   307|\"Mozilla/5.0 (Mac...|1001607|2018-09-20 06:26:48|2018-10-03 06:32:07|    13|              16.7|    0|\n",
      "|   Animal Collective|     F|           22|110.70649| paid|Sacramento--Rosev...|      NextSong|    36208|  My Favorite Colors|   200|\"Mozilla/5.0 (Mac...|1001607|2018-09-20 06:26:48|2018-10-03 17:45:03|    13| 672.9333333333333|    0|\n",
      "|   Non-Song Activity|     F|           25|      0.0| paid|Sacramento--Rosev...|     Downgrade|    38682|   Non-Song Activity|   200|\"Mozilla/5.0 (Mac...|1001607|2018-09-20 06:26:48|2018-10-04 09:26:42|    14|            941.65|    0|\n",
      "|Thievery Corporation|     F|          121|312.99873| paid|Sacramento--Rosev...|      NextSong|    38682|Exilio (Rewound b...|   200|\"Mozilla/5.0 (Mac...|1001607|2018-09-20 06:26:48|2018-10-04 15:33:10|    14|366.46666666666664|    0|\n",
      "|       Jorge Ben Jor|     F|           71|215.69261| paid|Sacramento--Rosev...|      NextSong|    42772|Filho Maravilha (...|   200|\"Mozilla/5.0 (Mac...|1001607|2018-09-20 06:26:48|2018-10-05 22:47:40|    15|            1874.5|    0|\n",
      "|A Place to Bury S...|     F|          197|219.42812| paid|Sacramento--Rosev...|      NextSong|    42772|             Breathe|   200|\"Mozilla/5.0 (Mac...|1001607|2018-09-20 06:26:48|2018-10-06 06:50:53|    16|483.21666666666664|    0|\n",
      "|            Rocazino|     F|          222|241.03138| paid|Sacramento--Rosev...|      NextSong|    42772|      En For Alle...|   200|\"Mozilla/5.0 (Mac...|1001607|2018-09-20 06:26:48|2018-10-06 08:24:12|    16| 93.31666666666666|    0|\n",
      "|         Rick Astley|     F|          227|211.69587| paid|Sacramento--Rosev...|      NextSong|    42772|Never Gonna Give ...|   200|\"Mozilla/5.0 (Mac...|1001607|2018-09-20 06:26:48|2018-10-06 08:39:28|    16|15.266666666666667|    0|\n",
      "+--------------------+------+-------------+---------+-----+--------------------+--------------+---------+--------------------+------+--------------------+-------+-------------------+-------------------+------+------------------+-----+\n",
      "only showing top 20 rows\n",
      "\n"
     ]
    },
    {
     "name": "stderr",
     "output_type": "stream",
     "text": [
      "                                                                                \r"
     ]
    }
   ],
   "source": [
    "# Flag the specific churn event\n",
    "paid_users = paid_users.withColumn(\"is_churn\", when(col(\"page\") == \"Cancellation Confirmation\", 1).otherwise(0))\n",
    "\n",
    "# Propagate churn label across all records for each user\n",
    "windowSpec = Window.partitionBy(\"userId\")\n",
    "paid_users = paid_users.withColumn(\"churn\", max(\"is_churn\").over(windowSpec))\n",
    "\n",
    "paid_users = paid_users.drop('is_churn')\n",
    "paid_users.show()\n"
   ]
  },
  {
   "cell_type": "markdown",
   "metadata": {},
   "source": [
    "## One-hot encoding\n",
    "Convert categorical variables into numerical formats"
   ]
  },
  {
   "cell_type": "code",
   "execution_count": 22,
   "metadata": {},
   "outputs": [
    {
     "name": "stderr",
     "output_type": "stream",
     "text": [
      "[Stage 171:===================================================>   (17 + 1) / 18]\r"
     ]
    },
    {
     "name": "stdout",
     "output_type": "stream",
     "text": [
      "+-------------+---------+---------+-------+-------------------+-------------------+------+------------------+-----+--------------------+-------------+-------------+-----------------+---------------+--------------------+-------------+---------------+\n",
      "|itemInSession|   length|sessionId| userId|  registration_date|      activity_date|tenure|  activity_recency|churn|           artistVec|    genderVec|     levelVec|      locationVec|        pageVec|             songVec|    statusVec|   userAgentVec|\n",
      "+-------------+---------+---------+-------+-------------------+-------------------+------+------------------+-----+--------------------+-------------+-------------+-----------------+---------------+--------------------+-------------+---------------+\n",
      "|           59|497.13587|    18819|1000353|2018-05-02 11:37:39|2018-10-01 00:58:31|   152|               0.0|    0| (10685,[157],[1.0])|(3,[1],[1.0])|(2,[0],[1.0])|(685,[405],[1.0])| (22,[0],[1.0])|  (27244,[39],[1.0])|(3,[0],[1.0])|(86,[29],[1.0])|\n",
      "|           23|      0.0|    25907|1000353|2018-05-02 11:37:39|2018-10-02 05:25:53|   153|1707.3666666666666|    0|   (10685,[0],[1.0])|(3,[1],[1.0])|(2,[0],[1.0])|(685,[405],[1.0])| (22,[9],[1.0])|   (27244,[0],[1.0])|(3,[1],[1.0])|(86,[29],[1.0])|\n",
      "|           50|245.60281|    31025|1000353|2018-05-02 11:37:39|2018-10-03 03:08:11|   154|            1302.3|    0|  (10685,[24],[1.0])|(3,[1],[1.0])|(2,[0],[1.0])|(685,[405],[1.0])| (22,[0],[1.0])| (27244,[218],[1.0])|(3,[0],[1.0])|(86,[29],[1.0])|\n",
      "|           23|395.72853|    30538|1001129|2018-08-25 10:13:19|2018-10-03 17:43:11|    39|               0.0|    0|  (10685,[83],[1.0])|(3,[0],[1.0])|(2,[0],[1.0])|  (685,[6],[1.0])| (22,[0],[1.0])|  (27244,[20],[1.0])|(3,[0],[1.0])|(86,[54],[1.0])|\n",
      "|           20| 294.1122|    38362|1001129|2018-08-25 10:13:19|2018-10-05 10:56:51|    41|2473.6666666666665|    0| (10685,[945],[1.0])|(3,[0],[1.0])|(2,[0],[1.0])|  (685,[6],[1.0])| (22,[0],[1.0])|(27244,[6202],[1.0])|(3,[0],[1.0])|(86,[54],[1.0])|\n",
      "|           73| 174.2624|    38362|1001129|2018-08-25 10:13:19|2018-10-05 13:51:19|    41|174.46666666666667|    0| (10685,[175],[1.0])|(3,[0],[1.0])|(2,[0],[1.0])|  (685,[6],[1.0])| (22,[0],[1.0])|(27244,[6075],[1.0])|(3,[0],[1.0])|(86,[54],[1.0])|\n",
      "|           49|      0.0|    25185|1001163|2018-08-04 22:13:52|2018-10-01 16:44:51|    58|               0.0|    0|   (10685,[0],[1.0])|(3,[1],[1.0])|(2,[1],[1.0])| (685,[10],[1.0])|(22,[16],[1.0])|   (27244,[0],[1.0])|(3,[1],[1.0])| (86,[0],[1.0])|\n",
      "|          111|348.57751|    25185|1001163|2018-08-04 22:13:52|2018-10-01 20:48:50|    58|243.98333333333332|    0|   (10685,[7],[1.0])|(3,[1],[1.0])|(2,[0],[1.0])| (685,[10],[1.0])| (22,[0],[1.0])|   (27244,[2],[1.0])|(3,[0],[1.0])| (86,[0],[1.0])|\n",
      "|          194| 257.4624|    25185|1001163|2018-08-04 22:13:52|2018-10-02 01:26:28|    59| 277.6333333333333|    0|(10685,[4471],[1.0])|(3,[1],[1.0])|(2,[0],[1.0])| (685,[10],[1.0])| (22,[0],[1.0])|(27244,[10170],[1...|(3,[0],[1.0])| (86,[0],[1.0])|\n",
      "|           45|174.75873|    30729|1001163|2018-08-04 22:13:52|2018-10-04 16:01:35|    61| 3755.116666666667|    0| (10685,[181],[1.0])|(3,[1],[1.0])|(2,[0],[1.0])| (685,[10],[1.0])| (22,[0],[1.0])|(27244,[25864],[1...|(3,[0],[1.0])| (86,[0],[1.0])|\n",
      "|           66|142.21016|    11506|1001607|2018-09-20 06:26:48|2018-10-02 23:58:04|    12|               0.0|    0|  (10685,[87],[1.0])|(3,[1],[1.0])|(2,[0],[1.0])| (685,[23],[1.0])| (22,[0],[1.0])|(27244,[4726],[1.0])|(3,[0],[1.0])|(86,[62],[1.0])|\n",
      "|          183|      0.0|    11506|1001607|2018-09-20 06:26:48|2018-10-03 06:15:25|    13|            377.35|    0|   (10685,[0],[1.0])|(3,[1],[1.0])|(2,[0],[1.0])| (685,[23],[1.0])| (22,[5],[1.0])|   (27244,[0],[1.0])|(3,[1],[1.0])|(86,[62],[1.0])|\n",
      "|          190|      0.0|    11506|1001607|2018-09-20 06:26:48|2018-10-03 06:32:07|    13|              16.7|    0|   (10685,[0],[1.0])|(3,[1],[1.0])|(2,[0],[1.0])| (685,[23],[1.0])| (22,[5],[1.0])|   (27244,[0],[1.0])|(3,[1],[1.0])|(86,[62],[1.0])|\n",
      "|           22|110.70649|    36208|1001607|2018-09-20 06:26:48|2018-10-03 17:45:03|    13| 672.9333333333333|    0| (10685,[204],[1.0])|(3,[1],[1.0])|(2,[0],[1.0])| (685,[23],[1.0])| (22,[0],[1.0])|(27244,[19475],[1...|(3,[0],[1.0])|(86,[62],[1.0])|\n",
      "|           25|      0.0|    38682|1001607|2018-09-20 06:26:48|2018-10-04 09:26:42|    14|            941.65|    0|   (10685,[0],[1.0])|(3,[1],[1.0])|(2,[0],[1.0])| (685,[23],[1.0])| (22,[8],[1.0])|   (27244,[0],[1.0])|(3,[0],[1.0])|(86,[62],[1.0])|\n",
      "|          121|312.99873|    38682|1001607|2018-09-20 06:26:48|2018-10-04 15:33:10|    14|366.46666666666664|    0| (10685,[230],[1.0])|(3,[1],[1.0])|(2,[0],[1.0])| (685,[23],[1.0])| (22,[0],[1.0])|(27244,[14207],[1...|(3,[0],[1.0])|(86,[62],[1.0])|\n",
      "|           71|215.69261|    42772|1001607|2018-09-20 06:26:48|2018-10-05 22:47:40|    15|            1874.5|    0|(10685,[8068],[1.0])|(3,[1],[1.0])|(2,[0],[1.0])| (685,[23],[1.0])| (22,[0],[1.0])|(27244,[14433],[1...|(3,[0],[1.0])|(86,[62],[1.0])|\n",
      "|          197|219.42812|    42772|1001607|2018-09-20 06:26:48|2018-10-06 06:50:53|    16|483.21666666666664|    0|(10685,[2153],[1.0])|(3,[1],[1.0])|(2,[0],[1.0])| (685,[23],[1.0])| (22,[0],[1.0])|  (27244,[43],[1.0])|(3,[0],[1.0])|(86,[62],[1.0])|\n",
      "|          222|241.03138|    42772|1001607|2018-09-20 06:26:48|2018-10-06 08:24:12|    16| 93.31666666666666|    0|(10685,[9416],[1.0])|(3,[1],[1.0])|(2,[0],[1.0])| (685,[23],[1.0])| (22,[0],[1.0])|(27244,[13938],[1...|(3,[0],[1.0])|(86,[62],[1.0])|\n",
      "|          227|211.69587|    42772|1001607|2018-09-20 06:26:48|2018-10-06 08:39:28|    16|15.266666666666667|    0|(10685,[1781],[1.0])|(3,[1],[1.0])|(2,[0],[1.0])| (685,[23],[1.0])| (22,[0],[1.0])|(27244,[4340],[1.0])|(3,[0],[1.0])|(86,[62],[1.0])|\n",
      "+-------------+---------+---------+-------+-------------------+-------------------+------+------------------+-----+--------------------+-------------+-------------+-----------------+---------------+--------------------+-------------+---------------+\n",
      "only showing top 20 rows\n",
      "\n"
     ]
    },
    {
     "name": "stderr",
     "output_type": "stream",
     "text": [
      "24/06/02 01:51:39 WARN DAGScheduler: Broadcasting large task binary with size 1822.1 KiB\n",
      "                                                                                \r"
     ]
    }
   ],
   "source": [
    "# Indexing all categorical columns first\n",
    "origCols = [\"artist\", \"gender\", \"level\", \"location\", \"page\", \"song\", \"status\", \"userAgent\"]\n",
    "indexCols = [\"artistIndex\", \"genderIndex\", \"levelIndex\", \"locationIndex\", \"pageIndex\", \"songIndex\", \"statusIndex\", \"userAgentIndex\"]\n",
    "vecCols=[\"artistVec\", \"genderVec\", \"levelVec\", \"locationVec\", \"pageVec\", \"songVec\", \"statusVec\", \"userAgentVec\"]\n",
    "indexer = StringIndexer(inputCols=origCols, outputCols=indexCols)\n",
    "df_indexed = indexer.fit(paid_users).transform(paid_users)\n",
    "\n",
    "# Applying OneHotEncoder\n",
    "encoder = OneHotEncoder(inputCols=indexCols, outputCols=vecCols, dropLast=False)\n",
    "df_encoded = encoder.fit(df_indexed).transform(df_indexed)\n",
    "\n",
    "allColsToDrop = origCols + indexCols\n",
    "df_encoded = df_encoded.drop(*allColsToDrop)\n",
    "\n",
    "df_encoded.show()"
   ]
  },
  {
   "cell_type": "markdown",
   "metadata": {},
   "source": [
    "The dimensionality of \"artistVec\", \"songVec\", \"locationVec\", \"userAgentVec\" are very high. While they may provide additional information that aids learning, we will remove them to reduce the dimansionality of the problem."
   ]
  },
  {
   "cell_type": "code",
   "execution_count": 23,
   "metadata": {},
   "outputs": [
    {
     "name": "stderr",
     "output_type": "stream",
     "text": [
      "[Stage 177:===================================================>   (17 + 1) / 18]\r"
     ]
    },
    {
     "name": "stdout",
     "output_type": "stream",
     "text": [
      "+-------------+---------+---------+-------+-------------------+-------------------+------+------------------+-----+-------------+-------------+---------------+-------------+\n",
      "|itemInSession|   length|sessionId| userId|  registration_date|      activity_date|tenure|  activity_recency|churn|    genderVec|     levelVec|        pageVec|    statusVec|\n",
      "+-------------+---------+---------+-------+-------------------+-------------------+------+------------------+-----+-------------+-------------+---------------+-------------+\n",
      "|           59|497.13587|    18819|1000353|2018-05-02 11:37:39|2018-10-01 00:58:31|   152|               0.0|    0|(3,[1],[1.0])|(2,[0],[1.0])| (22,[0],[1.0])|(3,[0],[1.0])|\n",
      "|           23|      0.0|    25907|1000353|2018-05-02 11:37:39|2018-10-02 05:25:53|   153|1707.3666666666666|    0|(3,[1],[1.0])|(2,[0],[1.0])| (22,[9],[1.0])|(3,[1],[1.0])|\n",
      "|           50|245.60281|    31025|1000353|2018-05-02 11:37:39|2018-10-03 03:08:11|   154|            1302.3|    0|(3,[1],[1.0])|(2,[0],[1.0])| (22,[0],[1.0])|(3,[0],[1.0])|\n",
      "|           23|395.72853|    30538|1001129|2018-08-25 10:13:19|2018-10-03 17:43:11|    39|               0.0|    0|(3,[0],[1.0])|(2,[0],[1.0])| (22,[0],[1.0])|(3,[0],[1.0])|\n",
      "|           20| 294.1122|    38362|1001129|2018-08-25 10:13:19|2018-10-05 10:56:51|    41|2473.6666666666665|    0|(3,[0],[1.0])|(2,[0],[1.0])| (22,[0],[1.0])|(3,[0],[1.0])|\n",
      "|           73| 174.2624|    38362|1001129|2018-08-25 10:13:19|2018-10-05 13:51:19|    41|174.46666666666667|    0|(3,[0],[1.0])|(2,[0],[1.0])| (22,[0],[1.0])|(3,[0],[1.0])|\n",
      "|           49|      0.0|    25185|1001163|2018-08-04 22:13:52|2018-10-01 16:44:51|    58|               0.0|    0|(3,[1],[1.0])|(2,[1],[1.0])|(22,[16],[1.0])|(3,[1],[1.0])|\n",
      "|          111|348.57751|    25185|1001163|2018-08-04 22:13:52|2018-10-01 20:48:50|    58|243.98333333333332|    0|(3,[1],[1.0])|(2,[0],[1.0])| (22,[0],[1.0])|(3,[0],[1.0])|\n",
      "|          194| 257.4624|    25185|1001163|2018-08-04 22:13:52|2018-10-02 01:26:28|    59| 277.6333333333333|    0|(3,[1],[1.0])|(2,[0],[1.0])| (22,[0],[1.0])|(3,[0],[1.0])|\n",
      "|           45|174.75873|    30729|1001163|2018-08-04 22:13:52|2018-10-04 16:01:35|    61| 3755.116666666667|    0|(3,[1],[1.0])|(2,[0],[1.0])| (22,[0],[1.0])|(3,[0],[1.0])|\n",
      "|           66|142.21016|    11506|1001607|2018-09-20 06:26:48|2018-10-02 23:58:04|    12|               0.0|    0|(3,[1],[1.0])|(2,[0],[1.0])| (22,[0],[1.0])|(3,[0],[1.0])|\n",
      "|          183|      0.0|    11506|1001607|2018-09-20 06:26:48|2018-10-03 06:15:25|    13|            377.35|    0|(3,[1],[1.0])|(2,[0],[1.0])| (22,[5],[1.0])|(3,[1],[1.0])|\n",
      "|          190|      0.0|    11506|1001607|2018-09-20 06:26:48|2018-10-03 06:32:07|    13|              16.7|    0|(3,[1],[1.0])|(2,[0],[1.0])| (22,[5],[1.0])|(3,[1],[1.0])|\n",
      "|           22|110.70649|    36208|1001607|2018-09-20 06:26:48|2018-10-03 17:45:03|    13| 672.9333333333333|    0|(3,[1],[1.0])|(2,[0],[1.0])| (22,[0],[1.0])|(3,[0],[1.0])|\n",
      "|           25|      0.0|    38682|1001607|2018-09-20 06:26:48|2018-10-04 09:26:42|    14|            941.65|    0|(3,[1],[1.0])|(2,[0],[1.0])| (22,[8],[1.0])|(3,[0],[1.0])|\n",
      "|          121|312.99873|    38682|1001607|2018-09-20 06:26:48|2018-10-04 15:33:10|    14|366.46666666666664|    0|(3,[1],[1.0])|(2,[0],[1.0])| (22,[0],[1.0])|(3,[0],[1.0])|\n",
      "|           71|215.69261|    42772|1001607|2018-09-20 06:26:48|2018-10-05 22:47:40|    15|            1874.5|    0|(3,[1],[1.0])|(2,[0],[1.0])| (22,[0],[1.0])|(3,[0],[1.0])|\n",
      "|          197|219.42812|    42772|1001607|2018-09-20 06:26:48|2018-10-06 06:50:53|    16|483.21666666666664|    0|(3,[1],[1.0])|(2,[0],[1.0])| (22,[0],[1.0])|(3,[0],[1.0])|\n",
      "|          222|241.03138|    42772|1001607|2018-09-20 06:26:48|2018-10-06 08:24:12|    16| 93.31666666666666|    0|(3,[1],[1.0])|(2,[0],[1.0])| (22,[0],[1.0])|(3,[0],[1.0])|\n",
      "|          227|211.69587|    42772|1001607|2018-09-20 06:26:48|2018-10-06 08:39:28|    16|15.266666666666667|    0|(3,[1],[1.0])|(2,[0],[1.0])| (22,[0],[1.0])|(3,[0],[1.0])|\n",
      "+-------------+---------+---------+-------+-------------------+-------------------+------+------------------+-----+-------------+-------------+---------------+-------------+\n",
      "only showing top 20 rows\n",
      "\n"
     ]
    },
    {
     "name": "stderr",
     "output_type": "stream",
     "text": [
      "                                                                                \r"
     ]
    }
   ],
   "source": [
    "df_final = df_encoded.drop(\"artistVec\", \"songVec\", \"locationVec\", \"userAgentVec\")\n",
    "\n",
    "df_final.show()"
   ]
  },
  {
   "cell_type": "markdown",
   "metadata": {},
   "source": [
    "## Normalise 'length'\n",
    "Normalising 'length' can help identify if a user’s behavior changes significantly from their norm."
   ]
  },
  {
   "cell_type": "code",
   "execution_count": 25,
   "metadata": {},
   "outputs": [
    {
     "name": "stderr",
     "output_type": "stream",
     "text": [
      "[Stage 198:===================================================>   (17 + 1) / 18]\r"
     ]
    },
    {
     "name": "stdout",
     "output_type": "stream",
     "text": [
      "+-------------+---------+---------+-------+-------------------+-------------------+------+------------------+-----+-------------+-------------+---------------+-------------+------------------+\n",
      "|itemInSession|   length|sessionId| userId|  registration_date|      activity_date|tenure|  activity_recency|churn|    genderVec|     levelVec|        pageVec|    statusVec| normalized_length|\n",
      "+-------------+---------+---------+-------+-------------------+-------------------+------+------------------+-----+-------------+-------------+---------------+-------------+------------------+\n",
      "|           59|497.13587|    18819|1000353|2018-05-02 11:37:39|2018-10-01 00:58:31|   152|               0.0|    0|(3,[1],[1.0])|(2,[0],[1.0])| (22,[0],[1.0])|(3,[0],[1.0])|2.0079843020966672|\n",
      "|           23|      0.0|    25907|1000353|2018-05-02 11:37:39|2018-10-02 05:25:53|   153|1707.3666666666666|    0|(3,[1],[1.0])|(2,[0],[1.0])| (22,[9],[1.0])|(3,[1],[1.0])|               0.0|\n",
      "|           50|245.60281|    31025|1000353|2018-05-02 11:37:39|2018-10-03 03:08:11|   154|            1302.3|    0|(3,[1],[1.0])|(2,[0],[1.0])| (22,[0],[1.0])|(3,[0],[1.0])|0.9920156979033325|\n",
      "|           23|395.72853|    30538|1001129|2018-08-25 10:13:19|2018-10-03 17:43:11|    39|               0.0|    0|(3,[0],[1.0])|(2,[0],[1.0])| (22,[0],[1.0])|(3,[0],[1.0])| 1.373893403209869|\n",
      "|           20| 294.1122|    38362|1001129|2018-08-25 10:13:19|2018-10-05 10:56:51|    41|2473.6666666666665|    0|(3,[0],[1.0])|(2,[0],[1.0])| (22,[0],[1.0])|(3,[0],[1.0])|1.0211010345489662|\n",
      "|           73| 174.2624|    38362|1001129|2018-08-25 10:13:19|2018-10-05 13:51:19|    41|174.46666666666667|    0|(3,[0],[1.0])|(2,[0],[1.0])| (22,[0],[1.0])|(3,[0],[1.0])|0.6050055622411644|\n",
      "|           49|      0.0|    25185|1001163|2018-08-04 22:13:52|2018-10-01 16:44:51|    58|               0.0|    0|(3,[1],[1.0])|(2,[1],[1.0])|(22,[16],[1.0])|(3,[1],[1.0])|               0.0|\n",
      "|          111|348.57751|    25185|1001163|2018-08-04 22:13:52|2018-10-01 20:48:50|    58|243.98333333333332|    0|(3,[1],[1.0])|(2,[0],[1.0])| (22,[0],[1.0])|(3,[0],[1.0])|1.7857485509964517|\n",
      "|          194| 257.4624|    25185|1001163|2018-08-04 22:13:52|2018-10-02 01:26:28|    59| 277.6333333333333|    0|(3,[1],[1.0])|(2,[0],[1.0])| (22,[0],[1.0])|(3,[0],[1.0])| 1.318969510500172|\n",
      "|           45|174.75873|    30729|1001163|2018-08-04 22:13:52|2018-10-04 16:01:35|    61| 3755.116666666667|    0|(3,[1],[1.0])|(2,[0],[1.0])| (22,[0],[1.0])|(3,[0],[1.0])|0.8952819385033766|\n",
      "|           66|142.21016|    11506|1001607|2018-09-20 06:26:48|2018-10-02 23:58:04|    12|               0.0|    0|(3,[1],[1.0])|(2,[0],[1.0])| (22,[0],[1.0])|(3,[0],[1.0])|1.0087386441220625|\n",
      "|          183|      0.0|    11506|1001607|2018-09-20 06:26:48|2018-10-03 06:15:25|    13|            377.35|    0|(3,[1],[1.0])|(2,[0],[1.0])| (22,[5],[1.0])|(3,[1],[1.0])|               0.0|\n",
      "|          190|      0.0|    11506|1001607|2018-09-20 06:26:48|2018-10-03 06:32:07|    13|              16.7|    0|(3,[1],[1.0])|(2,[0],[1.0])| (22,[5],[1.0])|(3,[1],[1.0])|               0.0|\n",
      "|           22|110.70649|    36208|1001607|2018-09-20 06:26:48|2018-10-03 17:45:03|    13| 672.9333333333333|    0|(3,[1],[1.0])|(2,[0],[1.0])| (22,[0],[1.0])|(3,[0],[1.0])|0.7852738131938862|\n",
      "|           25|      0.0|    38682|1001607|2018-09-20 06:26:48|2018-10-04 09:26:42|    14|            941.65|    0|(3,[1],[1.0])|(2,[0],[1.0])| (22,[8],[1.0])|(3,[0],[1.0])|               0.0|\n",
      "|          121|312.99873|    38682|1001607|2018-09-20 06:26:48|2018-10-04 15:33:10|    14|366.46666666666664|    0|(3,[1],[1.0])|(2,[0],[1.0])| (22,[0],[1.0])|(3,[0],[1.0])| 2.220192386480175|\n",
      "|           71|215.69261|    42772|1001607|2018-09-20 06:26:48|2018-10-05 22:47:40|    15|            1874.5|    0|(3,[1],[1.0])|(2,[0],[1.0])| (22,[0],[1.0])|(3,[0],[1.0])|1.5299713533727042|\n",
      "|          197|219.42812|    42772|1001607|2018-09-20 06:26:48|2018-10-06 06:50:53|    16|483.21666666666664|    0|(3,[1],[1.0])|(2,[0],[1.0])| (22,[0],[1.0])|(3,[0],[1.0])|1.5564684284938095|\n",
      "|          222|241.03138|    42772|1001607|2018-09-20 06:26:48|2018-10-06 08:24:12|    16| 93.31666666666666|    0|(3,[1],[1.0])|(2,[0],[1.0])| (22,[0],[1.0])|(3,[0],[1.0])|1.7097067287742986|\n",
      "|          227|211.69587|    42772|1001607|2018-09-20 06:26:48|2018-10-06 08:39:28|    16|15.266666666666667|    0|(3,[1],[1.0])|(2,[0],[1.0])| (22,[0],[1.0])|(3,[0],[1.0])|1.5016212967487022|\n",
      "+-------------+---------+---------+-------+-------------------+-------------------+------+------------------+-----+-------------+-------------+---------------+-------------+------------------+\n",
      "only showing top 20 rows\n",
      "\n"
     ]
    },
    {
     "name": "stderr",
     "output_type": "stream",
     "text": [
      "                                                                                \r"
     ]
    }
   ],
   "source": [
    "user_window = Window.partitionBy(\"userId\")\n",
    "\n",
    "# Calculate the average session length per user and normalise individual session lengths\n",
    "norm_lengths = df_final.withColumn(\"avg_session_length\", avg(\"length\").over(user_window))\n",
    "norm_lengths = norm_lengths.withColumn(\"normalized_length\", col(\"length\") / col(\"avg_session_length\"))\n",
    "norm_lengths = norm_lengths.drop(\"avg_session_length\")\n",
    "norm_lengths.show()"
   ]
  },
  {
   "cell_type": "markdown",
   "metadata": {},
   "source": [
    "## Feature Scaling\n",
    "\n",
    " models that rely on gradient descent or distance calculations from being skewed by the range of feature values."
   ]
  },
  {
   "cell_type": "markdown",
   "metadata": {},
   "source": [
    "## User Segmentation\n",
    "Cluster analysis to segment users, e.g. based on activity patterns, device, or other features."
   ]
  },
  {
   "cell_type": "markdown",
   "metadata": {},
   "source": [
    "- normalise all cols?\n",
    "- Session metrics: average session length, total number of sessions, average songs per session, and total listening time\n"
   ]
  },
  {
   "cell_type": "markdown",
   "metadata": {},
   "source": [
    "## Train-Test Split:\n",
    "Ensure that users in the training set do not appear in the test set. This prevents leakage and ensures that the model can generalise to entirely new users."
   ]
  },
  {
   "cell_type": "code",
   "execution_count": 26,
   "metadata": {},
   "outputs": [
    {
     "name": "stderr",
     "output_type": "stream",
     "text": [
      "                                                                                \r"
     ]
    },
    {
     "name": "stdout",
     "output_type": "stream",
     "text": [
      "+-------+-------------+---------+---------+-------------------+-------------------+------+------------------+-----+-------------+-------------+---------------+-------------+------------------+\n",
      "| userId|itemInSession|   length|sessionId|  registration_date|      activity_date|tenure|  activity_recency|churn|    genderVec|     levelVec|        pageVec|    statusVec| normalized_length|\n",
      "+-------+-------------+---------+---------+-------------------+-------------------+------+------------------+-----+-------------+-------------+---------------+-------------+------------------+\n",
      "|1000353|           59|497.13587|    18819|2018-05-02 11:37:39|2018-10-01 00:58:31|   152|               0.0|    0|(3,[1],[1.0])|(2,[0],[1.0])| (22,[0],[1.0])|(3,[0],[1.0])|2.0079843020966672|\n",
      "|1000353|           23|      0.0|    25907|2018-05-02 11:37:39|2018-10-02 05:25:53|   153|1707.3666666666666|    0|(3,[1],[1.0])|(2,[0],[1.0])| (22,[9],[1.0])|(3,[1],[1.0])|               0.0|\n",
      "|1000353|           50|245.60281|    31025|2018-05-02 11:37:39|2018-10-03 03:08:11|   154|            1302.3|    0|(3,[1],[1.0])|(2,[0],[1.0])| (22,[0],[1.0])|(3,[0],[1.0])|0.9920156979033325|\n",
      "|1001129|           23|395.72853|    30538|2018-08-25 10:13:19|2018-10-03 17:43:11|    39|               0.0|    0|(3,[0],[1.0])|(2,[0],[1.0])| (22,[0],[1.0])|(3,[0],[1.0])| 1.373893403209869|\n",
      "|1001129|           20| 294.1122|    38362|2018-08-25 10:13:19|2018-10-05 10:56:51|    41|2473.6666666666665|    0|(3,[0],[1.0])|(2,[0],[1.0])| (22,[0],[1.0])|(3,[0],[1.0])|1.0211010345489662|\n",
      "|1001129|           73| 174.2624|    38362|2018-08-25 10:13:19|2018-10-05 13:51:19|    41|174.46666666666667|    0|(3,[0],[1.0])|(2,[0],[1.0])| (22,[0],[1.0])|(3,[0],[1.0])|0.6050055622411644|\n",
      "|1001163|           49|      0.0|    25185|2018-08-04 22:13:52|2018-10-01 16:44:51|    58|               0.0|    0|(3,[1],[1.0])|(2,[1],[1.0])|(22,[16],[1.0])|(3,[1],[1.0])|               0.0|\n",
      "|1001163|          111|348.57751|    25185|2018-08-04 22:13:52|2018-10-01 20:48:50|    58|243.98333333333332|    0|(3,[1],[1.0])|(2,[0],[1.0])| (22,[0],[1.0])|(3,[0],[1.0])|1.7857485509964517|\n",
      "|1001163|          194| 257.4624|    25185|2018-08-04 22:13:52|2018-10-02 01:26:28|    59| 277.6333333333333|    0|(3,[1],[1.0])|(2,[0],[1.0])| (22,[0],[1.0])|(3,[0],[1.0])| 1.318969510500172|\n",
      "|1001163|           45|174.75873|    30729|2018-08-04 22:13:52|2018-10-04 16:01:35|    61| 3755.116666666667|    0|(3,[1],[1.0])|(2,[0],[1.0])| (22,[0],[1.0])|(3,[0],[1.0])|0.8952819385033766|\n",
      "|1001759|           42|395.33669|     7365|2018-09-19 17:08:33|2018-10-11 10:58:20|    22|               0.0|    0|(3,[0],[1.0])|(2,[0],[1.0])| (22,[0],[1.0])|(3,[0],[1.0])| 1.154958811777167|\n",
      "|1001759|           66|289.25342|     7365|2018-09-19 17:08:33|2018-10-11 12:21:57|    22| 83.61666666666666|    0|(3,[0],[1.0])|(2,[0],[1.0])| (22,[0],[1.0])|(3,[0],[1.0])|0.8450411882228331|\n",
      "|1002185|           14|      0.0|    25097|2018-09-24 04:06:43|2018-10-01 23:36:42|     7|               0.0|    0|(3,[1],[1.0])|(2,[0],[1.0])| (22,[2],[1.0])|(3,[1],[1.0])|               0.0|\n",
      "|1002185|           64|181.60281|    25097|2018-09-24 04:06:43|2018-10-02 02:49:15|     8|            192.55|    0|(3,[1],[1.0])|(2,[0],[1.0])| (22,[0],[1.0])|(3,[0],[1.0])|0.9029364953810299|\n",
      "|1002185|           72|      0.0|    25097|2018-09-24 04:06:43|2018-10-02 03:14:00|     8|             24.75|    0|(3,[1],[1.0])|(2,[0],[1.0])| (22,[2],[1.0])|(3,[1],[1.0])|               0.0|\n",
      "|1002185|           87|257.85424|    25097|2018-09-24 04:06:43|2018-10-02 04:12:16|     8|58.266666666666666|    0|(3,[1],[1.0])|(2,[0],[1.0])| (22,[0],[1.0])|(3,[0],[1.0])|1.2820616805694744|\n",
      "|1002185|            4|265.76934|    30622|2018-09-24 04:06:43|2018-10-03 03:18:02|     9|1385.7666666666667|    0|(3,[1],[1.0])|(2,[0],[1.0])| (22,[0],[1.0])|(3,[0],[1.0])|1.3214158769863162|\n",
      "|1002185|           39|266.21342|    30622|2018-09-24 04:06:43|2018-10-03 05:34:59|     9|            136.95|    0|(3,[1],[1.0])|(2,[0],[1.0])| (22,[0],[1.0])|(3,[0],[1.0])|1.3236238606561108|\n",
      "|1002185|           60|217.15546|    30622|2018-09-24 04:06:43|2018-10-03 06:45:36|     9| 70.61666666666666|    0|(3,[1],[1.0])|(2,[0],[1.0])| (22,[0],[1.0])|(3,[0],[1.0])|1.0797057050232617|\n",
      "|1002185|           11|245.34159|    36745|2018-09-24 04:06:43|2018-10-04 08:35:05|    10|1549.4833333333333|    0|(3,[1],[1.0])|(2,[0],[1.0])| (22,[0],[1.0])|(3,[0],[1.0])|1.2198482801329424|\n",
      "+-------+-------------+---------+---------+-------------------+-------------------+------+------------------+-----+-------------+-------------+---------------+-------------+------------------+\n",
      "only showing top 20 rows\n",
      "\n"
     ]
    },
    {
     "name": "stderr",
     "output_type": "stream",
     "text": [
      "[Stage 214:================================================>      (16 + 2) / 18]\r"
     ]
    },
    {
     "name": "stdout",
     "output_type": "stream",
     "text": [
      "+-------+-------------+---------+---------+-------------------+-------------------+------+------------------+-----+-------------+-------------+---------------+-------------+------------------+\n",
      "| userId|itemInSession|   length|sessionId|  registration_date|      activity_date|tenure|  activity_recency|churn|    genderVec|     levelVec|        pageVec|    statusVec| normalized_length|\n",
      "+-------+-------------+---------+---------+-------------------+-------------------+------+------------------+-----+-------------+-------------+---------------+-------------+------------------+\n",
      "|1001607|           66|142.21016|    11506|2018-09-20 06:26:48|2018-10-02 23:58:04|    12|               0.0|    0|(3,[1],[1.0])|(2,[0],[1.0])| (22,[0],[1.0])|(3,[0],[1.0])|1.0087386441220625|\n",
      "|1001607|          183|      0.0|    11506|2018-09-20 06:26:48|2018-10-03 06:15:25|    13|            377.35|    0|(3,[1],[1.0])|(2,[0],[1.0])| (22,[5],[1.0])|(3,[1],[1.0])|               0.0|\n",
      "|1001607|          190|      0.0|    11506|2018-09-20 06:26:48|2018-10-03 06:32:07|    13|              16.7|    0|(3,[1],[1.0])|(2,[0],[1.0])| (22,[5],[1.0])|(3,[1],[1.0])|               0.0|\n",
      "|1001607|           22|110.70649|    36208|2018-09-20 06:26:48|2018-10-03 17:45:03|    13| 672.9333333333333|    0|(3,[1],[1.0])|(2,[0],[1.0])| (22,[0],[1.0])|(3,[0],[1.0])|0.7852738131938862|\n",
      "|1001607|           25|      0.0|    38682|2018-09-20 06:26:48|2018-10-04 09:26:42|    14|            941.65|    0|(3,[1],[1.0])|(2,[0],[1.0])| (22,[8],[1.0])|(3,[0],[1.0])|               0.0|\n",
      "|1001607|          121|312.99873|    38682|2018-09-20 06:26:48|2018-10-04 15:33:10|    14|366.46666666666664|    0|(3,[1],[1.0])|(2,[0],[1.0])| (22,[0],[1.0])|(3,[0],[1.0])| 2.220192386480175|\n",
      "|1001607|           71|215.69261|    42772|2018-09-20 06:26:48|2018-10-05 22:47:40|    15|            1874.5|    0|(3,[1],[1.0])|(2,[0],[1.0])| (22,[0],[1.0])|(3,[0],[1.0])|1.5299713533727042|\n",
      "|1001607|          197|219.42812|    42772|2018-09-20 06:26:48|2018-10-06 06:50:53|    16|483.21666666666664|    0|(3,[1],[1.0])|(2,[0],[1.0])| (22,[0],[1.0])|(3,[0],[1.0])|1.5564684284938095|\n",
      "|1001607|          222|241.03138|    42772|2018-09-20 06:26:48|2018-10-06 08:24:12|    16| 93.31666666666666|    0|(3,[1],[1.0])|(2,[0],[1.0])| (22,[0],[1.0])|(3,[0],[1.0])|1.7097067287742986|\n",
      "|1001607|          227|211.69587|    42772|2018-09-20 06:26:48|2018-10-06 08:39:28|    16|15.266666666666667|    0|(3,[1],[1.0])|(2,[0],[1.0])| (22,[0],[1.0])|(3,[0],[1.0])|1.5016212967487022|\n",
      "|1001607|           17|237.97506|    50431|2018-09-20 06:26:48|2018-10-09 17:40:33|    19| 4861.083333333333|    0|(3,[1],[1.0])|(2,[0],[1.0])| (22,[0],[1.0])|(3,[0],[1.0])|1.6880273488143638|\n",
      "|1001607|           89|      0.0|    62382|2018-09-20 06:26:48|2018-10-10 20:13:59|    20|1593.4333333333334|    0|(3,[1],[1.0])|(2,[1],[1.0])| (22,[2],[1.0])|(3,[1],[1.0])|               0.0|\n",
      "|1004316|           70| 306.6771|    23846|2018-09-27 16:04:04|2018-10-04 14:13:59|     7|               0.0|    0|(3,[0],[1.0])|(2,[1],[1.0])| (22,[0],[1.0])|(3,[0],[1.0])|1.3029967653950834|\n",
      "|1004316|           81|      0.0|    23846|2018-09-27 16:04:04|2018-10-04 14:59:46|     7| 45.78333333333333|    0|(3,[0],[1.0])|(2,[1],[1.0])|(22,[13],[1.0])|(3,[0],[1.0])|               0.0|\n",
      "|1004316|           29|414.24934|    42683|2018-09-27 16:04:04|2018-10-07 19:22:49|    10|           4583.05|    0|(3,[0],[1.0])|(2,[1],[1.0])| (22,[0],[1.0])|(3,[0],[1.0])|1.7600451748338828|\n",
      "|1004316|           74|235.54567|    42683|2018-09-27 16:04:04|2018-10-07 21:47:03|    10|144.23333333333332|    0|(3,[0],[1.0])|(2,[1],[1.0])| (22,[0],[1.0])|(3,[0],[1.0])|1.0007765369922232|\n",
      "|1004316|           40| 220.3424|    54566|2018-09-27 16:04:04|2018-10-09 22:45:43|    12|2938.6666666666665|    0|(3,[0],[1.0])|(2,[0],[1.0])| (22,[0],[1.0])|(3,[0],[1.0])|0.9361815227788107|\n",
      "|1005347|          104|290.11546|    24270|2018-06-12 16:42:31|2018-10-04 15:05:07|   114|               0.0|    0|(3,[1],[1.0])|(2,[0],[1.0])| (22,[0],[1.0])|(3,[0],[1.0])|1.8938125377773538|\n",
      "|1005347|           10| 54.41261|    43439|2018-06-12 16:42:31|2018-10-04 21:30:22|   114|            385.25|    0|(3,[1],[1.0])|(2,[0],[1.0])| (22,[0],[1.0])|(3,[0],[1.0])|0.3551940425070399|\n",
      "|1005347|           52|178.31138|    43439|2018-06-12 16:42:31|2018-10-05 00:12:24|   115|162.03333333333333|    0|(3,[1],[1.0])|(2,[0],[1.0])| (22,[0],[1.0])|(3,[0],[1.0])|1.1639790829223031|\n",
      "+-------+-------------+---------+---------+-------------------+-------------------+------+------------------+-----+-------------+-------------+---------------+-------------+------------------+\n",
      "only showing top 20 rows\n",
      "\n"
     ]
    },
    {
     "name": "stderr",
     "output_type": "stream",
     "text": [
      "                                                                                \r"
     ]
    }
   ],
   "source": [
    "# Calculate proportions of churned and non-churned users\n",
    "churned_users = norm_lengths.filter(col(\"churn\") == 1).select(\"userId\").distinct()\n",
    "non_churned_users = norm_lengths.filter(col(\"churn\") == 0).select(\"userId\").distinct()\n",
    "\n",
    "# Perform the split\n",
    "train_churned, test_churned = churned_users.randomSplit([0.8, 0.2], seed=42)\n",
    "train_non_churned, test_non_churned = non_churned_users.randomSplit([0.8, 0.2], seed=42)\n",
    "\n",
    "# Combine splits\n",
    "train_users = train_churned.union(train_non_churned)\n",
    "test_users = test_churned.union(test_non_churned)\n",
    "\n",
    "# Join back to the original data\n",
    "train_df = norm_lengths.join(train_users, on=\"userId\", how=\"inner\")\n",
    "test_df = norm_lengths.join(test_users, on=\"userId\", how=\"inner\")\n",
    "\n",
    "train_df.show()\n",
    "test_df.show()"
   ]
  },
  {
   "cell_type": "code",
   "execution_count": 27,
   "metadata": {},
   "outputs": [
    {
     "name": "stderr",
     "output_type": "stream",
     "text": [
      "                                                                                \r"
     ]
    },
    {
     "name": "stdout",
     "output_type": "stream",
     "text": [
      "+------+\n",
      "|userId|\n",
      "+------+\n",
      "+------+\n",
      "\n"
     ]
    },
    {
     "name": "stderr",
     "output_type": "stream",
     "text": [
      "[Stage 246:===================================================>   (17 + 1) / 18]\r"
     ]
    },
    {
     "name": "stdout",
     "output_type": "stream",
     "text": [
      "Number of userIds in both train and test sets: 0\n"
     ]
    },
    {
     "name": "stderr",
     "output_type": "stream",
     "text": [
      "                                                                                \r"
     ]
    }
   ],
   "source": [
    "# Select distinct userIds from both datasets\n",
    "train_user_ids = train_df.select(\"userId\").distinct()\n",
    "test_user_ids = test_df.select(\"userId\").distinct()\n",
    "\n",
    "# Find intersection of userIds in both train and test datasets\n",
    "common_user_ids = train_user_ids.intersect(test_user_ids)\n",
    "\n",
    "# Show the userIds that appear in both the train and test sets\n",
    "common_user_ids.show()\n",
    "\n",
    "# Count the number of common userIds\n",
    "common_count = common_user_ids.count()\n",
    "print(f\"Number of userIds in both train and test sets: {common_count}\")"
   ]
  },
  {
   "cell_type": "markdown",
   "metadata": {},
   "source": [
    "- paid vs free"
   ]
  },
  {
   "cell_type": "markdown",
   "metadata": {},
   "source": [
    "next\n",
    "- balance dataset (equal churn vs not churn samples)\n",
    "- models: train-test split, test different models (ML algs that can handle sparse vectors: Logistic Regression, SVM, NB, Decision Trees)\n",
    "- model hyperparam tuning, feature selection (recursive feature elimination (RFE), model-based importance metrics)\n",
    "- final train\n",
    "- ROC-AUC with diff thresholds"
   ]
  }
 ],
 "metadata": {
  "kernelspec": {
   "display_name": "Python 3",
   "language": "python",
   "name": "python3"
  },
  "language_info": {
   "codemirror_mode": {
    "name": "ipython",
    "version": 3
   },
   "file_extension": ".py",
   "mimetype": "text/x-python",
   "name": "python",
   "nbconvert_exporter": "python",
   "pygments_lexer": "ipython3",
   "version": "3.10.6"
  }
 },
 "nbformat": 4,
 "nbformat_minor": 2
}
